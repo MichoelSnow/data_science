{
 "cells": [
  {
   "cell_type": "code",
   "execution_count": 1,
   "metadata": {},
   "outputs": [],
   "source": [
    "import pandas as pd\n",
    "import base64\n",
    "import numpy as np\n",
    "import cv2\n",
    "from skimage import transform\n",
    "import io\n",
    "from PIL import Image\n",
    "import os\n",
    "\n",
    "pd.options.display.max_colwidth=100"
   ]
  },
  {
   "cell_type": "code",
   "execution_count": 2,
   "metadata": {},
   "outputs": [],
   "source": [
    "PATH = '/home/msnow/msceleb/'"
   ]
  },
  {
   "cell_type": "code",
   "execution_count": 3,
   "metadata": {},
   "outputs": [
    {
     "data": {
      "text/html": [
       "<div>\n",
       "<style scoped>\n",
       "    .dataframe tbody tr th:only-of-type {\n",
       "        vertical-align: middle;\n",
       "    }\n",
       "\n",
       "    .dataframe tbody tr th {\n",
       "        vertical-align: top;\n",
       "    }\n",
       "\n",
       "    .dataframe thead th {\n",
       "        text-align: right;\n",
       "    }\n",
       "</style>\n",
       "<table border=\"1\" class=\"dataframe\">\n",
       "  <thead>\n",
       "    <tr style=\"text-align: right;\">\n",
       "      <th></th>\n",
       "      <th>MID</th>\n",
       "      <th>name</th>\n",
       "      <th>short</th>\n",
       "    </tr>\n",
       "  </thead>\n",
       "  <tbody>\n",
       "    <tr>\n",
       "      <th>0</th>\n",
       "      <td>m.01008l47</td>\n",
       "      <td>Patrick Cummins@en</td>\n",
       "      <td>Patrick_Cummins</td>\n",
       "    </tr>\n",
       "    <tr>\n",
       "      <th>1</th>\n",
       "      <td>m.01008l96</td>\n",
       "      <td>Mohamed Guessous@en</td>\n",
       "      <td>Mohamed_Guessous</td>\n",
       "    </tr>\n",
       "    <tr>\n",
       "      <th>2</th>\n",
       "      <td>m.01008lnk</td>\n",
       "      <td>Tsvetta Kaleynska@en</td>\n",
       "      <td>Tsvetta_Kaleynska</td>\n",
       "    </tr>\n",
       "    <tr>\n",
       "      <th>3</th>\n",
       "      <td>m.01008lp2</td>\n",
       "      <td>Caio Henrique Siqueira Sanchez@en</td>\n",
       "      <td>Caio_Henrique_Siqueira_Sanchez</td>\n",
       "    </tr>\n",
       "    <tr>\n",
       "      <th>4</th>\n",
       "      <td>m.01008nqj</td>\n",
       "      <td>Julio Ríos Gallego@en</td>\n",
       "      <td>Julio_Ríos_Gallego</td>\n",
       "    </tr>\n",
       "  </tbody>\n",
       "</table>\n",
       "</div>"
      ],
      "text/plain": [
       "          MID                               name  \\\n",
       "0  m.01008l47                 Patrick Cummins@en   \n",
       "1  m.01008l96                Mohamed Guessous@en   \n",
       "2  m.01008lnk               Tsvetta Kaleynska@en   \n",
       "3  m.01008lp2  Caio Henrique Siqueira Sanchez@en   \n",
       "4  m.01008nqj              Julio Ríos Gallego@en   \n",
       "\n",
       "                            short  \n",
       "0                 Patrick_Cummins  \n",
       "1                Mohamed_Guessous  \n",
       "2               Tsvetta_Kaleynska  \n",
       "3  Caio_Henrique_Siqueira_Sanchez  \n",
       "4              Julio_Ríos_Gallego  "
      ]
     },
     "execution_count": 3,
     "metadata": {},
     "output_type": "execute_result"
    }
   ],
   "source": [
    "df_names_en = pd.read_feather(f'{PATH}df_names_feather')\n",
    "df_names_en.head()"
   ]
  },
  {
   "cell_type": "code",
   "execution_count": 3,
   "metadata": {},
   "outputs": [
    {
     "data": {
      "text/html": [
       "<div>\n",
       "<style scoped>\n",
       "    .dataframe tbody tr th:only-of-type {\n",
       "        vertical-align: middle;\n",
       "    }\n",
       "\n",
       "    .dataframe tbody tr th {\n",
       "        vertical-align: top;\n",
       "    }\n",
       "\n",
       "    .dataframe thead th {\n",
       "        text-align: right;\n",
       "    }\n",
       "</style>\n",
       "<table border=\"1\" class=\"dataframe\">\n",
       "  <thead>\n",
       "    <tr style=\"text-align: right;\">\n",
       "      <th></th>\n",
       "      <th>MID</th>\n",
       "      <th>name</th>\n",
       "    </tr>\n",
       "  </thead>\n",
       "  <tbody>\n",
       "    <tr>\n",
       "      <th>0</th>\n",
       "      <td>m.01008l47</td>\n",
       "      <td>Patrick Cummins@en</td>\n",
       "    </tr>\n",
       "    <tr>\n",
       "      <th>1</th>\n",
       "      <td>m.01008l96</td>\n",
       "      <td>Mohamed Guessous@en</td>\n",
       "    </tr>\n",
       "    <tr>\n",
       "      <th>2</th>\n",
       "      <td>m.01008lnk</td>\n",
       "      <td>Tsvetta Kaleynska@en</td>\n",
       "    </tr>\n",
       "    <tr>\n",
       "      <th>3</th>\n",
       "      <td>m.01008lp2</td>\n",
       "      <td>Caio Henrique Siqueira Sanchez@en</td>\n",
       "    </tr>\n",
       "    <tr>\n",
       "      <th>4</th>\n",
       "      <td>m.01008nqj</td>\n",
       "      <td>Julio Ríos Gallego@en</td>\n",
       "    </tr>\n",
       "  </tbody>\n",
       "</table>\n",
       "</div>"
      ],
      "text/plain": [
       "          MID                               name\n",
       "0  m.01008l47                 Patrick Cummins@en\n",
       "1  m.01008l96                Mohamed Guessous@en\n",
       "2  m.01008lnk               Tsvetta Kaleynska@en\n",
       "3  m.01008lp2  Caio Henrique Siqueira Sanchez@en\n",
       "4  m.01008nqj              Julio Ríos Gallego@en"
      ]
     },
     "execution_count": 3,
     "metadata": {},
     "output_type": "execute_result"
    }
   ],
   "source": [
    "# df_names = pd.read_table(f'{PATH}Top1M_MidList.Name.tsv', names=['MID','name'], delimiter='\\t')\n",
    "# df_names_en = df_names.loc[df_names.name.str.contains('@en$'),:].reset_index(drop=True)\n",
    "# df_names_en['short'] = df_names_en.name.str.replace('@en','')\n",
    "# df_names_en.short = df_names_en.short.str.replace(' ','_')\n",
    "# # df_names_en.to_feather(f'{PATH}df_names_feather')\n",
    "# df_names_en.head()"
   ]
  },
  {
   "cell_type": "code",
   "execution_count": 4,
   "metadata": {},
   "outputs": [
    {
     "data": {
      "text/html": [
       "<div>\n",
       "<style scoped>\n",
       "    .dataframe tbody tr th:only-of-type {\n",
       "        vertical-align: middle;\n",
       "    }\n",
       "\n",
       "    .dataframe tbody tr th {\n",
       "        vertical-align: top;\n",
       "    }\n",
       "\n",
       "    .dataframe thead th {\n",
       "        text-align: right;\n",
       "    }\n",
       "</style>\n",
       "<table border=\"1\" class=\"dataframe\">\n",
       "  <thead>\n",
       "    <tr style=\"text-align: right;\">\n",
       "      <th></th>\n",
       "      <th>MID</th>\n",
       "      <th>url</th>\n",
       "      <th>faceid</th>\n",
       "      <th>face_data</th>\n",
       "    </tr>\n",
       "  </thead>\n",
       "  <tbody>\n",
       "    <tr>\n",
       "      <th>0</th>\n",
       "      <td>m.0107_f</td>\n",
       "      <td>http://getbeatmadrid.files.wordpress.com/2013/01/magic-alex.jpg</td>\n",
       "      <td>FaceId-0</td>\n",
       "      <td>/9j/4AAQSkZJRgABAQEAYABgAAD/2wBDAAQCAwMDAgQDAwMEBAQEBQkGBQUFBQsICAYJDQsNDQ0LDAwOEBQRDg8TDwwMEhgS...</td>\n",
       "    </tr>\n",
       "    <tr>\n",
       "      <th>1</th>\n",
       "      <td>m.0107_f</td>\n",
       "      <td>http://1.bp.blogspot.com/-HNFIL7eKdNs/TxnlvZvisvI/AAAAAAAAANE/AsNempI4Efc/s1600/magicalex.jpg</td>\n",
       "      <td>FaceId-0</td>\n",
       "      <td>/9j/4AAQSkZJRgABAQEAYABgAAD/2wBDAAQCAwMDAgQDAwMEBAQEBQkGBQUFBQsICAYJDQsNDQ0LDAwOEBQRDg8TDwwMEhgS...</td>\n",
       "    </tr>\n",
       "    <tr>\n",
       "      <th>2</th>\n",
       "      <td>m.0107_f</td>\n",
       "      <td>http://www.magicalex.cz/wp-content/gallery/kouzla/magic_alex.jpg</td>\n",
       "      <td>FaceId-0</td>\n",
       "      <td>/9j/4AAQSkZJRgABAQEAYABgAAD/2wBDAAQCAwMDAgQDAwMEBAQEBQkGBQUFBQsICAYJDQsNDQ0LDAwOEBQRDg8TDwwMEhgS...</td>\n",
       "    </tr>\n",
       "    <tr>\n",
       "      <th>3</th>\n",
       "      <td>m.0107_f</td>\n",
       "      <td>http://2.bp.blogspot.com/_71dhc6LM1i4/SBSPDqHtjPI/AAAAAAAAAVg/rFWbkmqfo2Q/s200/magic_alex.jpg</td>\n",
       "      <td>FaceId-0</td>\n",
       "      <td>/9j/4AAQSkZJRgABAQEAYABgAAD/2wBDAAQCAwMDAgQDAwMEBAQEBQkGBQUFBQsICAYJDQsNDQ0LDAwOEBQRDg8TDwwMEhgS...</td>\n",
       "    </tr>\n",
       "    <tr>\n",
       "      <th>4</th>\n",
       "      <td>m.0107_f</td>\n",
       "      <td>http://www.magicalex.cz/wp-content/uploads/2013/02/Magic-Alex-foto-2013.jpg</td>\n",
       "      <td>FaceId-0</td>\n",
       "      <td>/9j/4AAQSkZJRgABAQEAYABgAAD/2wBDAAQCAwMDAgQDAwMEBAQEBQkGBQUFBQsICAYJDQsNDQ0LDAwOEBQRDg8TDwwMEhgS...</td>\n",
       "    </tr>\n",
       "  </tbody>\n",
       "</table>\n",
       "</div>"
      ],
      "text/plain": [
       "        MID  \\\n",
       "0  m.0107_f   \n",
       "1  m.0107_f   \n",
       "2  m.0107_f   \n",
       "3  m.0107_f   \n",
       "4  m.0107_f   \n",
       "\n",
       "                                                                                             url  \\\n",
       "0                                http://getbeatmadrid.files.wordpress.com/2013/01/magic-alex.jpg   \n",
       "1  http://1.bp.blogspot.com/-HNFIL7eKdNs/TxnlvZvisvI/AAAAAAAAANE/AsNempI4Efc/s1600/magicalex.jpg   \n",
       "2                               http://www.magicalex.cz/wp-content/gallery/kouzla/magic_alex.jpg   \n",
       "3  http://2.bp.blogspot.com/_71dhc6LM1i4/SBSPDqHtjPI/AAAAAAAAAVg/rFWbkmqfo2Q/s200/magic_alex.jpg   \n",
       "4                    http://www.magicalex.cz/wp-content/uploads/2013/02/Magic-Alex-foto-2013.jpg   \n",
       "\n",
       "     faceid  \\\n",
       "0  FaceId-0   \n",
       "1  FaceId-0   \n",
       "2  FaceId-0   \n",
       "3  FaceId-0   \n",
       "4  FaceId-0   \n",
       "\n",
       "                                                                                             face_data  \n",
       "0  /9j/4AAQSkZJRgABAQEAYABgAAD/2wBDAAQCAwMDAgQDAwMEBAQEBQkGBQUFBQsICAYJDQsNDQ0LDAwOEBQRDg8TDwwMEhgS...  \n",
       "1  /9j/4AAQSkZJRgABAQEAYABgAAD/2wBDAAQCAwMDAgQDAwMEBAQEBQkGBQUFBQsICAYJDQsNDQ0LDAwOEBQRDg8TDwwMEhgS...  \n",
       "2  /9j/4AAQSkZJRgABAQEAYABgAAD/2wBDAAQCAwMDAgQDAwMEBAQEBQkGBQUFBQsICAYJDQsNDQ0LDAwOEBQRDg8TDwwMEhgS...  \n",
       "3  /9j/4AAQSkZJRgABAQEAYABgAAD/2wBDAAQCAwMDAgQDAwMEBAQEBQkGBQUFBQsICAYJDQsNDQ0LDAwOEBQRDg8TDwwMEhgS...  \n",
       "4  /9j/4AAQSkZJRgABAQEAYABgAAD/2wBDAAQCAwMDAgQDAwMEBAQEBQkGBQUFBQsICAYJDQsNDQ0LDAwOEBQRDg8TDwwMEhgS...  "
      ]
     },
     "execution_count": 4,
     "metadata": {},
     "output_type": "execute_result"
    }
   ],
   "source": [
    "df = pd.read_csv(f'{PATH}df_images.csv')\n",
    "# df = pd.read_table(f'{PATH}FaceImageCroppedWithOutAlignment.tsv', nrows=1058604, delimiter='\\t', names=['MID','rank','url','page_url','faceid','FaceRectangle','face_data'])\n",
    "# df.drop(columns=['rank','page_url','FaceRectangle'], inplace=True)\n",
    "# # df.to_csv(f'{PATH}df_images.csv',index=False)\n",
    "df.head()"
   ]
  },
  {
   "cell_type": "code",
   "execution_count": 7,
   "metadata": {
    "scrolled": false
   },
   "outputs": [],
   "source": [
    "# df = pd.read_table(f'{PATH}FaceImageCroppedWithOutAlignment.tsv', nrows=1058604, skiprows=0, delimiter='\\t', names=['MID','rank','url','page_url','faceid','FaceRectangle','face_data'])\n",
    "# df.head()"
   ]
  },
  {
   "cell_type": "code",
   "execution_count": 5,
   "metadata": {},
   "outputs": [
    {
     "data": {
      "text/html": [
       "<div>\n",
       "<style scoped>\n",
       "    .dataframe tbody tr th:only-of-type {\n",
       "        vertical-align: middle;\n",
       "    }\n",
       "\n",
       "    .dataframe tbody tr th {\n",
       "        vertical-align: top;\n",
       "    }\n",
       "\n",
       "    .dataframe thead th {\n",
       "        text-align: right;\n",
       "    }\n",
       "</style>\n",
       "<table border=\"1\" class=\"dataframe\">\n",
       "  <thead>\n",
       "    <tr style=\"text-align: right;\">\n",
       "      <th></th>\n",
       "      <th>MID</th>\n",
       "      <th>url</th>\n",
       "      <th>faceid</th>\n",
       "      <th>face_data</th>\n",
       "      <th>name</th>\n",
       "      <th>short</th>\n",
       "    </tr>\n",
       "  </thead>\n",
       "  <tbody>\n",
       "    <tr>\n",
       "      <th>0</th>\n",
       "      <td>m.0107_f</td>\n",
       "      <td>http://getbeatmadrid.files.wordpress.com/2013/01/magic-alex.jpg</td>\n",
       "      <td>FaceId-0</td>\n",
       "      <td>/9j/4AAQSkZJRgABAQEAYABgAAD/2wBDAAQCAwMDAgQDAwMEBAQEBQkGBQUFBQsICAYJDQsNDQ0LDAwOEBQRDg8TDwwMEhgS...</td>\n",
       "      <td>Magic Alex@en</td>\n",
       "      <td>Magic_Alex</td>\n",
       "    </tr>\n",
       "    <tr>\n",
       "      <th>1</th>\n",
       "      <td>m.0107_f</td>\n",
       "      <td>http://1.bp.blogspot.com/-HNFIL7eKdNs/TxnlvZvisvI/AAAAAAAAANE/AsNempI4Efc/s1600/magicalex.jpg</td>\n",
       "      <td>FaceId-0</td>\n",
       "      <td>/9j/4AAQSkZJRgABAQEAYABgAAD/2wBDAAQCAwMDAgQDAwMEBAQEBQkGBQUFBQsICAYJDQsNDQ0LDAwOEBQRDg8TDwwMEhgS...</td>\n",
       "      <td>Magic Alex@en</td>\n",
       "      <td>Magic_Alex</td>\n",
       "    </tr>\n",
       "    <tr>\n",
       "      <th>2</th>\n",
       "      <td>m.0107_f</td>\n",
       "      <td>http://www.magicalex.cz/wp-content/gallery/kouzla/magic_alex.jpg</td>\n",
       "      <td>FaceId-0</td>\n",
       "      <td>/9j/4AAQSkZJRgABAQEAYABgAAD/2wBDAAQCAwMDAgQDAwMEBAQEBQkGBQUFBQsICAYJDQsNDQ0LDAwOEBQRDg8TDwwMEhgS...</td>\n",
       "      <td>Magic Alex@en</td>\n",
       "      <td>Magic_Alex</td>\n",
       "    </tr>\n",
       "    <tr>\n",
       "      <th>3</th>\n",
       "      <td>m.0107_f</td>\n",
       "      <td>http://2.bp.blogspot.com/_71dhc6LM1i4/SBSPDqHtjPI/AAAAAAAAAVg/rFWbkmqfo2Q/s200/magic_alex.jpg</td>\n",
       "      <td>FaceId-0</td>\n",
       "      <td>/9j/4AAQSkZJRgABAQEAYABgAAD/2wBDAAQCAwMDAgQDAwMEBAQEBQkGBQUFBQsICAYJDQsNDQ0LDAwOEBQRDg8TDwwMEhgS...</td>\n",
       "      <td>Magic Alex@en</td>\n",
       "      <td>Magic_Alex</td>\n",
       "    </tr>\n",
       "    <tr>\n",
       "      <th>4</th>\n",
       "      <td>m.0107_f</td>\n",
       "      <td>http://www.magicalex.cz/wp-content/uploads/2013/02/Magic-Alex-foto-2013.jpg</td>\n",
       "      <td>FaceId-0</td>\n",
       "      <td>/9j/4AAQSkZJRgABAQEAYABgAAD/2wBDAAQCAwMDAgQDAwMEBAQEBQkGBQUFBQsICAYJDQsNDQ0LDAwOEBQRDg8TDwwMEhgS...</td>\n",
       "      <td>Magic Alex@en</td>\n",
       "      <td>Magic_Alex</td>\n",
       "    </tr>\n",
       "  </tbody>\n",
       "</table>\n",
       "</div>"
      ],
      "text/plain": [
       "        MID  \\\n",
       "0  m.0107_f   \n",
       "1  m.0107_f   \n",
       "2  m.0107_f   \n",
       "3  m.0107_f   \n",
       "4  m.0107_f   \n",
       "\n",
       "                                                                                             url  \\\n",
       "0                                http://getbeatmadrid.files.wordpress.com/2013/01/magic-alex.jpg   \n",
       "1  http://1.bp.blogspot.com/-HNFIL7eKdNs/TxnlvZvisvI/AAAAAAAAANE/AsNempI4Efc/s1600/magicalex.jpg   \n",
       "2                               http://www.magicalex.cz/wp-content/gallery/kouzla/magic_alex.jpg   \n",
       "3  http://2.bp.blogspot.com/_71dhc6LM1i4/SBSPDqHtjPI/AAAAAAAAAVg/rFWbkmqfo2Q/s200/magic_alex.jpg   \n",
       "4                    http://www.magicalex.cz/wp-content/uploads/2013/02/Magic-Alex-foto-2013.jpg   \n",
       "\n",
       "     faceid  \\\n",
       "0  FaceId-0   \n",
       "1  FaceId-0   \n",
       "2  FaceId-0   \n",
       "3  FaceId-0   \n",
       "4  FaceId-0   \n",
       "\n",
       "                                                                                             face_data  \\\n",
       "0  /9j/4AAQSkZJRgABAQEAYABgAAD/2wBDAAQCAwMDAgQDAwMEBAQEBQkGBQUFBQsICAYJDQsNDQ0LDAwOEBQRDg8TDwwMEhgS...   \n",
       "1  /9j/4AAQSkZJRgABAQEAYABgAAD/2wBDAAQCAwMDAgQDAwMEBAQEBQkGBQUFBQsICAYJDQsNDQ0LDAwOEBQRDg8TDwwMEhgS...   \n",
       "2  /9j/4AAQSkZJRgABAQEAYABgAAD/2wBDAAQCAwMDAgQDAwMEBAQEBQkGBQUFBQsICAYJDQsNDQ0LDAwOEBQRDg8TDwwMEhgS...   \n",
       "3  /9j/4AAQSkZJRgABAQEAYABgAAD/2wBDAAQCAwMDAgQDAwMEBAQEBQkGBQUFBQsICAYJDQsNDQ0LDAwOEBQRDg8TDwwMEhgS...   \n",
       "4  /9j/4AAQSkZJRgABAQEAYABgAAD/2wBDAAQCAwMDAgQDAwMEBAQEBQkGBQUFBQsICAYJDQsNDQ0LDAwOEBQRDg8TDwwMEhgS...   \n",
       "\n",
       "            name       short  \n",
       "0  Magic Alex@en  Magic_Alex  \n",
       "1  Magic Alex@en  Magic_Alex  \n",
       "2  Magic Alex@en  Magic_Alex  \n",
       "3  Magic Alex@en  Magic_Alex  \n",
       "4  Magic Alex@en  Magic_Alex  "
      ]
     },
     "execution_count": 5,
     "metadata": {},
     "output_type": "execute_result"
    }
   ],
   "source": [
    "df_merge = df.merge(df_names_en,how='left')\n",
    "df_merge.head()"
   ]
  },
  {
   "cell_type": "markdown",
   "metadata": {},
   "source": [
    "remove all photos with more than one face in them"
   ]
  },
  {
   "cell_type": "code",
   "execution_count": 6,
   "metadata": {},
   "outputs": [
    {
     "data": {
      "text/plain": [
       "0.8597464207579038"
      ]
     },
     "execution_count": 6,
     "metadata": {},
     "output_type": "execute_result"
    }
   ],
   "source": [
    "multi_face = df_merge.loc[df_merge.faceid!='FaceId-0','url']\n",
    "multi_face = multi_face.unique().tolist()\n",
    "df_merge_one = df_merge.loc[~df_merge.url.isin(multi_face),:]\n",
    "df_merge_one.shape[0]/df_merge.shape[0]"
   ]
  },
  {
   "cell_type": "code",
   "execution_count": 8,
   "metadata": {},
   "outputs": [
    {
     "name": "stderr",
     "output_type": "stream",
     "text": [
      "/home/msnow/miniconda3/lib/python3.6/site-packages/ipykernel_launcher.py:1: SettingWithCopyWarning: \n",
      "A value is trying to be set on a copy of a slice from a DataFrame.\n",
      "Try using .loc[row_indexer,col_indexer] = value instead\n",
      "\n",
      "See the caveats in the documentation: http://pandas.pydata.org/pandas-docs/stable/indexing.html#indexing-view-versus-copy\n",
      "  \"\"\"Entry point for launching an IPython kernel.\n",
      "/home/msnow/miniconda3/lib/python3.6/site-packages/ipykernel_launcher.py:2: SettingWithCopyWarning: \n",
      "A value is trying to be set on a copy of a slice from a DataFrame.\n",
      "Try using .loc[row_indexer,col_indexer] = value instead\n",
      "\n",
      "See the caveats in the documentation: http://pandas.pydata.org/pandas-docs/stable/indexing.html#indexing-view-versus-copy\n",
      "  \n"
     ]
    },
    {
     "data": {
      "text/html": [
       "<div>\n",
       "<style scoped>\n",
       "    .dataframe tbody tr th:only-of-type {\n",
       "        vertical-align: middle;\n",
       "    }\n",
       "\n",
       "    .dataframe tbody tr th {\n",
       "        vertical-align: top;\n",
       "    }\n",
       "\n",
       "    .dataframe thead th {\n",
       "        text-align: right;\n",
       "    }\n",
       "</style>\n",
       "<table border=\"1\" class=\"dataframe\">\n",
       "  <thead>\n",
       "    <tr style=\"text-align: right;\">\n",
       "      <th></th>\n",
       "      <th>MID</th>\n",
       "      <th>url</th>\n",
       "      <th>faceid</th>\n",
       "      <th>face_data</th>\n",
       "      <th>name</th>\n",
       "      <th>short</th>\n",
       "      <th>name_ct</th>\n",
       "      <th>save_nm</th>\n",
       "    </tr>\n",
       "  </thead>\n",
       "  <tbody>\n",
       "    <tr>\n",
       "      <th>0</th>\n",
       "      <td>m.0107_f</td>\n",
       "      <td>http://getbeatmadrid.files.wordpress.com/2013/01/magic-alex.jpg</td>\n",
       "      <td>FaceId-0</td>\n",
       "      <td>/9j/4AAQSkZJRgABAQEAYABgAAD/2wBDAAQCAwMDAgQDAwMEBAQEBQkGBQUFBQsICAYJDQsNDQ0LDAwOEBQRDg8TDwwMEhgS...</td>\n",
       "      <td>Magic Alex@en</td>\n",
       "      <td>Magic_Alex</td>\n",
       "      <td>0</td>\n",
       "      <td>Magic_Alex-0000</td>\n",
       "    </tr>\n",
       "    <tr>\n",
       "      <th>1</th>\n",
       "      <td>m.0107_f</td>\n",
       "      <td>http://1.bp.blogspot.com/-HNFIL7eKdNs/TxnlvZvisvI/AAAAAAAAANE/AsNempI4Efc/s1600/magicalex.jpg</td>\n",
       "      <td>FaceId-0</td>\n",
       "      <td>/9j/4AAQSkZJRgABAQEAYABgAAD/2wBDAAQCAwMDAgQDAwMEBAQEBQkGBQUFBQsICAYJDQsNDQ0LDAwOEBQRDg8TDwwMEhgS...</td>\n",
       "      <td>Magic Alex@en</td>\n",
       "      <td>Magic_Alex</td>\n",
       "      <td>1</td>\n",
       "      <td>Magic_Alex-0001</td>\n",
       "    </tr>\n",
       "    <tr>\n",
       "      <th>2</th>\n",
       "      <td>m.0107_f</td>\n",
       "      <td>http://www.magicalex.cz/wp-content/gallery/kouzla/magic_alex.jpg</td>\n",
       "      <td>FaceId-0</td>\n",
       "      <td>/9j/4AAQSkZJRgABAQEAYABgAAD/2wBDAAQCAwMDAgQDAwMEBAQEBQkGBQUFBQsICAYJDQsNDQ0LDAwOEBQRDg8TDwwMEhgS...</td>\n",
       "      <td>Magic Alex@en</td>\n",
       "      <td>Magic_Alex</td>\n",
       "      <td>2</td>\n",
       "      <td>Magic_Alex-0002</td>\n",
       "    </tr>\n",
       "    <tr>\n",
       "      <th>3</th>\n",
       "      <td>m.0107_f</td>\n",
       "      <td>http://2.bp.blogspot.com/_71dhc6LM1i4/SBSPDqHtjPI/AAAAAAAAAVg/rFWbkmqfo2Q/s200/magic_alex.jpg</td>\n",
       "      <td>FaceId-0</td>\n",
       "      <td>/9j/4AAQSkZJRgABAQEAYABgAAD/2wBDAAQCAwMDAgQDAwMEBAQEBQkGBQUFBQsICAYJDQsNDQ0LDAwOEBQRDg8TDwwMEhgS...</td>\n",
       "      <td>Magic Alex@en</td>\n",
       "      <td>Magic_Alex</td>\n",
       "      <td>3</td>\n",
       "      <td>Magic_Alex-0003</td>\n",
       "    </tr>\n",
       "    <tr>\n",
       "      <th>4</th>\n",
       "      <td>m.0107_f</td>\n",
       "      <td>http://www.magicalex.cz/wp-content/uploads/2013/02/Magic-Alex-foto-2013.jpg</td>\n",
       "      <td>FaceId-0</td>\n",
       "      <td>/9j/4AAQSkZJRgABAQEAYABgAAD/2wBDAAQCAwMDAgQDAwMEBAQEBQkGBQUFBQsICAYJDQsNDQ0LDAwOEBQRDg8TDwwMEhgS...</td>\n",
       "      <td>Magic Alex@en</td>\n",
       "      <td>Magic_Alex</td>\n",
       "      <td>4</td>\n",
       "      <td>Magic_Alex-0004</td>\n",
       "    </tr>\n",
       "  </tbody>\n",
       "</table>\n",
       "</div>"
      ],
      "text/plain": [
       "        MID  \\\n",
       "0  m.0107_f   \n",
       "1  m.0107_f   \n",
       "2  m.0107_f   \n",
       "3  m.0107_f   \n",
       "4  m.0107_f   \n",
       "\n",
       "                                                                                             url  \\\n",
       "0                                http://getbeatmadrid.files.wordpress.com/2013/01/magic-alex.jpg   \n",
       "1  http://1.bp.blogspot.com/-HNFIL7eKdNs/TxnlvZvisvI/AAAAAAAAANE/AsNempI4Efc/s1600/magicalex.jpg   \n",
       "2                               http://www.magicalex.cz/wp-content/gallery/kouzla/magic_alex.jpg   \n",
       "3  http://2.bp.blogspot.com/_71dhc6LM1i4/SBSPDqHtjPI/AAAAAAAAAVg/rFWbkmqfo2Q/s200/magic_alex.jpg   \n",
       "4                    http://www.magicalex.cz/wp-content/uploads/2013/02/Magic-Alex-foto-2013.jpg   \n",
       "\n",
       "     faceid  \\\n",
       "0  FaceId-0   \n",
       "1  FaceId-0   \n",
       "2  FaceId-0   \n",
       "3  FaceId-0   \n",
       "4  FaceId-0   \n",
       "\n",
       "                                                                                             face_data  \\\n",
       "0  /9j/4AAQSkZJRgABAQEAYABgAAD/2wBDAAQCAwMDAgQDAwMEBAQEBQkGBQUFBQsICAYJDQsNDQ0LDAwOEBQRDg8TDwwMEhgS...   \n",
       "1  /9j/4AAQSkZJRgABAQEAYABgAAD/2wBDAAQCAwMDAgQDAwMEBAQEBQkGBQUFBQsICAYJDQsNDQ0LDAwOEBQRDg8TDwwMEhgS...   \n",
       "2  /9j/4AAQSkZJRgABAQEAYABgAAD/2wBDAAQCAwMDAgQDAwMEBAQEBQkGBQUFBQsICAYJDQsNDQ0LDAwOEBQRDg8TDwwMEhgS...   \n",
       "3  /9j/4AAQSkZJRgABAQEAYABgAAD/2wBDAAQCAwMDAgQDAwMEBAQEBQkGBQUFBQsICAYJDQsNDQ0LDAwOEBQRDg8TDwwMEhgS...   \n",
       "4  /9j/4AAQSkZJRgABAQEAYABgAAD/2wBDAAQCAwMDAgQDAwMEBAQEBQkGBQUFBQsICAYJDQsNDQ0LDAwOEBQRDg8TDwwMEhgS...   \n",
       "\n",
       "            name       short  name_ct          save_nm  \n",
       "0  Magic Alex@en  Magic_Alex        0  Magic_Alex-0000  \n",
       "1  Magic Alex@en  Magic_Alex        1  Magic_Alex-0001  \n",
       "2  Magic Alex@en  Magic_Alex        2  Magic_Alex-0002  \n",
       "3  Magic Alex@en  Magic_Alex        3  Magic_Alex-0003  \n",
       "4  Magic Alex@en  Magic_Alex        4  Magic_Alex-0004  "
      ]
     },
     "execution_count": 8,
     "metadata": {},
     "output_type": "execute_result"
    }
   ],
   "source": [
    "df_merge_one['name_ct'] = df_merge_one.groupby('MID').cumcount()\n",
    "df_merge_one['save_nm'] = df_merge_one.short + '-' + df_merge_one.name_ct.astype(str).str.zfill(4)\n",
    "df_merge_one.head()"
   ]
  },
  {
   "cell_type": "code",
   "execution_count": 9,
   "metadata": {},
   "outputs": [
    {
     "data": {
      "text/plain": [
       "(890870, 8)"
      ]
     },
     "execution_count": 9,
     "metadata": {},
     "output_type": "execute_result"
    }
   ],
   "source": [
    "many_ct = df_merge_one.loc[df_merge_one.name_ct==30,'MID'].tolist()\n",
    "df_many = df_merge_one.loc[df_merge_one.MID.isin(many_ct),:]\n",
    "df_many.shape"
   ]
  },
  {
   "cell_type": "code",
   "execution_count": 29,
   "metadata": {},
   "outputs": [],
   "source": [
    "for i,v in df_many.iterrows():\n",
    "    savePath = os.path.join(PATH,'images',f'{v.save_nm}.jpg')\n",
    "    with open(savePath, 'wb') as f:\n",
    "        f.write(base64.b64decode(v.face_data))  "
   ]
  },
  {
   "cell_type": "code",
   "execution_count": 12,
   "metadata": {},
   "outputs": [],
   "source": [
    "df_save = df_many.loc[:,['MID','url','short','name_ct','save_nm']]\n",
    "df_save.to_csv(f'{PATH}msceleb_img_ref.csv',index=False)"
   ]
  },
  {
   "cell_type": "code",
   "execution_count": 37,
   "metadata": {},
   "outputs": [
    {
     "ename": "FileNotFoundError",
     "evalue": "[Errno 2] No such file or directory: '/home/msnow/msceleb/images/Joint_POW/MIA_Accounting_Command_000.jpg'",
     "output_type": "error",
     "traceback": [
      "\u001b[0;31m---------------------------------------------------------------------------\u001b[0m",
      "\u001b[0;31mFileNotFoundError\u001b[0m                         Traceback (most recent call last)",
      "\u001b[0;32m<ipython-input-37-1f10fa597563>\u001b[0m in \u001b[0;36m<module>\u001b[0;34m()\u001b[0m\n\u001b[1;32m      9\u001b[0m     \u001b[0mname_ct_str\u001b[0m \u001b[0;34m=\u001b[0m \u001b[0mstr\u001b[0m\u001b[0;34m(\u001b[0m\u001b[0mname_ct\u001b[0m\u001b[0;34m)\u001b[0m\u001b[0;34m.\u001b[0m\u001b[0mzfill\u001b[0m\u001b[0;34m(\u001b[0m\u001b[0;36m3\u001b[0m\u001b[0;34m)\u001b[0m\u001b[0;34m\u001b[0m\u001b[0m\n\u001b[1;32m     10\u001b[0m     \u001b[0msavePath\u001b[0m \u001b[0;34m=\u001b[0m \u001b[0mos\u001b[0m\u001b[0;34m.\u001b[0m\u001b[0mpath\u001b[0m\u001b[0;34m.\u001b[0m\u001b[0mjoin\u001b[0m\u001b[0;34m(\u001b[0m\u001b[0mPATH\u001b[0m\u001b[0;34m,\u001b[0m\u001b[0;34m'images'\u001b[0m\u001b[0;34m,\u001b[0m\u001b[0;34mf'{v.short}_{name_ct_str}.jpg'\u001b[0m\u001b[0;34m)\u001b[0m\u001b[0;34m\u001b[0m\u001b[0m\n\u001b[0;32m---> 11\u001b[0;31m     \u001b[0;32mwith\u001b[0m \u001b[0mopen\u001b[0m\u001b[0;34m(\u001b[0m\u001b[0msavePath\u001b[0m\u001b[0;34m,\u001b[0m \u001b[0;34m'wb'\u001b[0m\u001b[0;34m)\u001b[0m \u001b[0;32mas\u001b[0m \u001b[0mf\u001b[0m\u001b[0;34m:\u001b[0m\u001b[0;34m\u001b[0m\u001b[0m\n\u001b[0m\u001b[1;32m     12\u001b[0m         \u001b[0mf\u001b[0m\u001b[0;34m.\u001b[0m\u001b[0mwrite\u001b[0m\u001b[0;34m(\u001b[0m\u001b[0mbase64\u001b[0m\u001b[0;34m.\u001b[0m\u001b[0mb64decode\u001b[0m\u001b[0;34m(\u001b[0m\u001b[0mv\u001b[0m\u001b[0;34m.\u001b[0m\u001b[0mface_data\u001b[0m\u001b[0;34m)\u001b[0m\u001b[0;34m)\u001b[0m\u001b[0;34m\u001b[0m\u001b[0m\n",
      "\u001b[0;31mFileNotFoundError\u001b[0m: [Errno 2] No such file or directory: '/home/msnow/msceleb/images/Joint_POW/MIA_Accounting_Command_000.jpg'"
     ]
    }
   ],
   "source": [
    "curr_name =''\n",
    "name_ct = 0\n",
    "for i,v in df_merge_one.iterrows():\n",
    "    if v.short != curr_name:\n",
    "        name_ct = 0\n",
    "        curr_name = v.short\n",
    "    else:\n",
    "        name_ct += 1\n",
    "    name_ct_str = str(name_ct).zfill(3)\n",
    "    savePath = os.path.join(PATH,'images',f'{v.short}_{name_ct_str}.jpg')\n",
    "    with open(savePath, 'wb') as f:\n",
    "        f.write(base64.b64decode(v.face_data))   "
   ]
  },
  {
   "cell_type": "code",
   "execution_count": 64,
   "metadata": {},
   "outputs": [
    {
     "data": {
      "text/plain": [
       "'6-FaceId-0.jpg'"
      ]
     },
     "execution_count": 64,
     "metadata": {},
     "output_type": "execute_result"
    }
   ],
   "source": [
    "row_num=1000\n",
    "row = df.iloc[row_num,:]\n",
    "MID, imgSearchRank, faceID, data = row[0], row[1], row[4], base64.b64decode(row[6])\n",
    "savePath = \"{}-{}.jpg\".format(imgSearchRank, faceID)\n",
    "with open(savePath, 'wb') as f:\n",
    "    f.write(data)\n",
    "savePath"
   ]
  },
  {
   "cell_type": "markdown",
   "metadata": {},
   "source": [
    "<img src = '6-FaceId-0.jpg'>"
   ]
  },
  {
   "cell_type": "markdown",
   "metadata": {},
   "source": [
    "# Correct for name counting at the beginning and end of every file"
   ]
  },
  {
   "cell_type": "code",
   "execution_count": 75,
   "metadata": {},
   "outputs": [
    {
     "data": {
      "text/html": [
       "<div>\n",
       "<style scoped>\n",
       "    .dataframe tbody tr th:only-of-type {\n",
       "        vertical-align: middle;\n",
       "    }\n",
       "\n",
       "    .dataframe tbody tr th {\n",
       "        vertical-align: top;\n",
       "    }\n",
       "\n",
       "    .dataframe thead th {\n",
       "        text-align: right;\n",
       "    }\n",
       "</style>\n",
       "<table border=\"1\" class=\"dataframe\">\n",
       "  <thead>\n",
       "    <tr style=\"text-align: right;\">\n",
       "      <th></th>\n",
       "      <th>MID</th>\n",
       "      <th>rank</th>\n",
       "      <th>url</th>\n",
       "      <th>page_url</th>\n",
       "      <th>faceid</th>\n",
       "      <th>FaceRectangle</th>\n",
       "      <th>face_data</th>\n",
       "    </tr>\n",
       "  </thead>\n",
       "  <tbody>\n",
       "    <tr>\n",
       "      <th>0</th>\n",
       "      <td>m.025xdd6</td>\n",
       "      <td>33</td>\n",
       "      <td>http://celebrityink.eu/image/cache/data/3847F-1000x1000.jpg</td>\n",
       "      <td>http://filmvz.com/nude/nude-celebrity-videos-of-beatie-edney-in-highlander-rainpow.htm</td>\n",
       "      <td>FaceId-0</td>\n",
       "      <td>TDeJPpLt/D4yCAw/VeNFPw==</td>\n",
       "      <td>/9j/4AAQSkZJRgABAQEAYABgAAD/2wBDAAQCAwMDAgQDAwMEBAQEBQkGBQUFBQsICAYJDQsNDQ0LDAwOEBQRDg8TDwwMEhgS...</td>\n",
       "    </tr>\n",
       "    <tr>\n",
       "      <th>1</th>\n",
       "      <td>m.025xdd6</td>\n",
       "      <td>34</td>\n",
       "      <td>http://i11.photobucket.com/albums/a176/Skylover_MadCollectorZ/for%20trade-sell/non-star%20wars/1...</td>\n",
       "      <td>http://photobucket.com/images/Beatie%20Edney%20-%20Heather%20MacLeod%20(Duncan%20McLeod%20wife%2...</td>\n",
       "      <td>FaceId-0</td>\n",
       "      <td>RUTEPqNwfT61gS4/rkfxPg==</td>\n",
       "      <td>/9j/4AAQSkZJRgABAQEAYABgAAD/2wBDAAQCAwMDAgQDAwMEBAQEBQkGBQUFBQsICAYJDQsNDQ0LDAwOEBQRDg8TDwwMEhgS...</td>\n",
       "    </tr>\n",
       "    <tr>\n",
       "      <th>2</th>\n",
       "      <td>m.025xdd6</td>\n",
       "      <td>35</td>\n",
       "      <td>http://cdn.cinemur.fr/persons/media/original/beatie-edney_15297_5220dc4cdd5ec.jpg</td>\n",
       "      <td>http://cinemur.fr/personnes/beatie-edney-15297</td>\n",
       "      <td>FaceId-0</td>\n",
       "      <td>AICcPloFxj4AABQ/SHFfPw==</td>\n",
       "      <td>/9j/4AAQSkZJRgABAQEAYABgAAD/2wBDAAQCAwMDAgQDAwMEBAQEBQkGBQUFBQsICAYJDQsNDQ0LDAwOEBQRDg8TDwwMEhgS...</td>\n",
       "    </tr>\n",
       "    <tr>\n",
       "      <th>3</th>\n",
       "      <td>m.025xdd6</td>\n",
       "      <td>36</td>\n",
       "      <td>http://media.mademan.com/chickipedia/uploaded_photos/6/6a/Beatie_Edney-stunning-before-soft-skin...</td>\n",
       "      <td>http://filmvz.com/nude/nude-celebs-beatie-edney-english-celebrities-emma-bunton-gets.htm</td>\n",
       "      <td>FaceId-0</td>\n",
       "      <td>gQqoPj40lj5hCzY/sT4UPw==</td>\n",
       "      <td>/9j/4AAQSkZJRgABAQEAYABgAAD/2wBDAAQCAwMDAgQDAwMEBAQEBQkGBQUFBQsICAYJDQsNDQ0LDAwOEBQRDg8TDwwMEhgS...</td>\n",
       "    </tr>\n",
       "    <tr>\n",
       "      <th>4</th>\n",
       "      <td>m.025xdd6</td>\n",
       "      <td>37</td>\n",
       "      <td>http://media.mademan.com/chickipedia/uploaded_photos/5/5c/Beatie_Edney-young-babe-skin-eyes-chic...</td>\n",
       "      <td>http://www.mademan.com/chickipedia/beatie-edney/photosgallery/Beatie_Edney-young-babe-skin-eyes-...</td>\n",
       "      <td>FaceId-0</td>\n",
       "      <td>08+cPg68qD648yI/7gEOPw==</td>\n",
       "      <td>/9j/4AAQSkZJRgABAQEAYABgAAD/2wBDAAQCAwMDAgQDAwMEBAQEBQkGBQUFBQsICAYJDQsNDQ0LDAwOEBQRDg8TDwwMEhgS...</td>\n",
       "    </tr>\n",
       "  </tbody>\n",
       "</table>\n",
       "</div>"
      ],
      "text/plain": [
       "         MID  rank  \\\n",
       "0  m.025xdd6    33   \n",
       "1  m.025xdd6    34   \n",
       "2  m.025xdd6    35   \n",
       "3  m.025xdd6    36   \n",
       "4  m.025xdd6    37   \n",
       "\n",
       "                                                                                                   url  \\\n",
       "0                                          http://celebrityink.eu/image/cache/data/3847F-1000x1000.jpg   \n",
       "1  http://i11.photobucket.com/albums/a176/Skylover_MadCollectorZ/for%20trade-sell/non-star%20wars/1...   \n",
       "2                    http://cdn.cinemur.fr/persons/media/original/beatie-edney_15297_5220dc4cdd5ec.jpg   \n",
       "3  http://media.mademan.com/chickipedia/uploaded_photos/6/6a/Beatie_Edney-stunning-before-soft-skin...   \n",
       "4  http://media.mademan.com/chickipedia/uploaded_photos/5/5c/Beatie_Edney-young-babe-skin-eyes-chic...   \n",
       "\n",
       "                                                                                              page_url  \\\n",
       "0               http://filmvz.com/nude/nude-celebrity-videos-of-beatie-edney-in-highlander-rainpow.htm   \n",
       "1  http://photobucket.com/images/Beatie%20Edney%20-%20Heather%20MacLeod%20(Duncan%20McLeod%20wife%2...   \n",
       "2                                                       http://cinemur.fr/personnes/beatie-edney-15297   \n",
       "3             http://filmvz.com/nude/nude-celebs-beatie-edney-english-celebrities-emma-bunton-gets.htm   \n",
       "4  http://www.mademan.com/chickipedia/beatie-edney/photosgallery/Beatie_Edney-young-babe-skin-eyes-...   \n",
       "\n",
       "     faceid             FaceRectangle  \\\n",
       "0  FaceId-0  TDeJPpLt/D4yCAw/VeNFPw==   \n",
       "1  FaceId-0  RUTEPqNwfT61gS4/rkfxPg==   \n",
       "2  FaceId-0  AICcPloFxj4AABQ/SHFfPw==   \n",
       "3  FaceId-0  gQqoPj40lj5hCzY/sT4UPw==   \n",
       "4  FaceId-0  08+cPg68qD648yI/7gEOPw==   \n",
       "\n",
       "                                                                                             face_data  \n",
       "0  /9j/4AAQSkZJRgABAQEAYABgAAD/2wBDAAQCAwMDAgQDAwMEBAQEBQkGBQUFBQsICAYJDQsNDQ0LDAwOEBQRDg8TDwwMEhgS...  \n",
       "1  /9j/4AAQSkZJRgABAQEAYABgAAD/2wBDAAQCAwMDAgQDAwMEBAQEBQkGBQUFBQsICAYJDQsNDQ0LDAwOEBQRDg8TDwwMEhgS...  \n",
       "2  /9j/4AAQSkZJRgABAQEAYABgAAD/2wBDAAQCAwMDAgQDAwMEBAQEBQkGBQUFBQsICAYJDQsNDQ0LDAwOEBQRDg8TDwwMEhgS...  \n",
       "3  /9j/4AAQSkZJRgABAQEAYABgAAD/2wBDAAQCAwMDAgQDAwMEBAQEBQkGBQUFBQsICAYJDQsNDQ0LDAwOEBQRDg8TDwwMEhgS...  \n",
       "4  /9j/4AAQSkZJRgABAQEAYABgAAD/2wBDAAQCAwMDAgQDAwMEBAQEBQkGBQUFBQsICAYJDQsNDQ0LDAwOEBQRDg8TDwwMEhgS...  "
      ]
     },
     "execution_count": 75,
     "metadata": {},
     "output_type": "execute_result"
    }
   ],
   "source": [
    "df_short = pd.read_table(f'{PATH}FaceImageCroppedWithOutAlignment.tsv', nrows=2*10**3, skiprows=(10**6 - 10**3), delimiter='\\t', names=['MID','rank','url','page_url','faceid','FaceRectangle','face_data'])\n",
    "df_short.head()"
   ]
  },
  {
   "cell_type": "markdown",
   "metadata": {},
   "source": [
    "Remove first and last person for list"
   ]
  },
  {
   "cell_type": "code",
   "execution_count": 76,
   "metadata": {},
   "outputs": [
    {
     "data": {
      "text/plain": [
       "(1911, 7)"
      ]
     },
     "execution_count": 76,
     "metadata": {},
     "output_type": "execute_result"
    }
   ],
   "source": [
    "MID_ignore = [df_short.MID[0], df_short.MID[df_short.shape[0]-1]]\n",
    "df_short = df_short.loc[~df_short.MID.isin(MID_ignore),:]\n",
    "df_short.shape"
   ]
  },
  {
   "cell_type": "code",
   "execution_count": 77,
   "metadata": {},
   "outputs": [
    {
     "data": {
      "text/plain": [
       "0.7760334903192047"
      ]
     },
     "execution_count": 77,
     "metadata": {},
     "output_type": "execute_result"
    }
   ],
   "source": [
    "df_merge = df_short.merge(df_names_en,how='left')\n",
    "multi_face = df_merge.loc[df_merge.faceid!='FaceId-0','url']\n",
    "multi_face = multi_face.unique().tolist()\n",
    "df_merge_one = df_merge.loc[~df_merge.url.isin(multi_face),:]\n",
    "df_merge_one.shape[0]/df_merge.shape[0]"
   ]
  },
  {
   "cell_type": "code",
   "execution_count": 78,
   "metadata": {},
   "outputs": [],
   "source": [
    "curr_name =''\n",
    "name_ct = 0\n",
    "for i,v in df_merge_one.iterrows():\n",
    "    if v.short != curr_name:\n",
    "        name_ct = 0\n",
    "        curr_name = v.short\n",
    "    else:\n",
    "        name_ct += 1\n",
    "    name_ct_str = str(name_ct).zfill(3)\n",
    "    savePath = os.path.join(PATH,'images',f'{v.short}_{name_ct_str}.jpg')\n",
    "    with open(savePath, 'wb') as f:\n",
    "        f.write(base64.b64decode(v.face_data)) "
   ]
  },
  {
   "cell_type": "markdown",
   "metadata": {},
   "source": [
    "# Create a list of all the names"
   ]
  },
  {
   "cell_type": "code",
   "execution_count": null,
   "metadata": {},
   "outputs": [],
   "source": [
    "1058604"
   ]
  },
  {
   "cell_type": "code",
   "execution_count": 10,
   "metadata": {},
   "outputs": [
    {
     "data": {
      "text/html": [
       "<div>\n",
       "<style scoped>\n",
       "    .dataframe tbody tr th:only-of-type {\n",
       "        vertical-align: middle;\n",
       "    }\n",
       "\n",
       "    .dataframe tbody tr th {\n",
       "        vertical-align: top;\n",
       "    }\n",
       "\n",
       "    .dataframe thead th {\n",
       "        text-align: right;\n",
       "    }\n",
       "</style>\n",
       "<table border=\"1\" class=\"dataframe\">\n",
       "  <thead>\n",
       "    <tr style=\"text-align: right;\">\n",
       "      <th></th>\n",
       "      <th>MID</th>\n",
       "      <th>url</th>\n",
       "      <th>faceid</th>\n",
       "    </tr>\n",
       "  </thead>\n",
       "  <tbody>\n",
       "    <tr>\n",
       "      <th>0</th>\n",
       "      <td>m.01ptrmd</td>\n",
       "      <td>http://4.bp.blogspot.com/-XxC7Cwnk9r0/U3eMGs7ulAI/AAAAAAAA-2g/DzdjAdzjQAU/s1600/Vico+C+-+Histori...</td>\n",
       "      <td>FaceId-0</td>\n",
       "    </tr>\n",
       "    <tr>\n",
       "      <th>1</th>\n",
       "      <td>m.01ptrmd</td>\n",
       "      <td>http://www.caratulas.com/caratulas/V/vico_c/vico_c-greatest_hits-Interior_Frontal.jpg</td>\n",
       "      <td>FaceId-0</td>\n",
       "    </tr>\n",
       "    <tr>\n",
       "      <th>2</th>\n",
       "      <td>m.01ptrmd</td>\n",
       "      <td>http://www.caratulas.com/caratulas/V/vico_c/vico_c-greatest_hits-Interior_Frontal.jpg</td>\n",
       "      <td>FaceId-1</td>\n",
       "    </tr>\n",
       "    <tr>\n",
       "      <th>3</th>\n",
       "      <td>m.01ptrmd</td>\n",
       "      <td>http://i.ytimg.com/vi/eo5SqSPlFIE/hqdefault.jpg</td>\n",
       "      <td>FaceId-0</td>\n",
       "    </tr>\n",
       "    <tr>\n",
       "      <th>4</th>\n",
       "      <td>m.01ptrmd</td>\n",
       "      <td>http://s1.evcdn.com/images/edpborder500/I0-001/001/721/212-5.jpeg_/vico-c-12.jpeg</td>\n",
       "      <td>FaceId-0</td>\n",
       "    </tr>\n",
       "  </tbody>\n",
       "</table>\n",
       "</div>"
      ],
      "text/plain": [
       "         MID  \\\n",
       "0  m.01ptrmd   \n",
       "1  m.01ptrmd   \n",
       "2  m.01ptrmd   \n",
       "3  m.01ptrmd   \n",
       "4  m.01ptrmd   \n",
       "\n",
       "                                                                                                   url  \\\n",
       "0  http://4.bp.blogspot.com/-XxC7Cwnk9r0/U3eMGs7ulAI/AAAAAAAA-2g/DzdjAdzjQAU/s1600/Vico+C+-+Histori...   \n",
       "1                http://www.caratulas.com/caratulas/V/vico_c/vico_c-greatest_hits-Interior_Frontal.jpg   \n",
       "2                http://www.caratulas.com/caratulas/V/vico_c/vico_c-greatest_hits-Interior_Frontal.jpg   \n",
       "3                                                      http://i.ytimg.com/vi/eo5SqSPlFIE/hqdefault.jpg   \n",
       "4                    http://s1.evcdn.com/images/edpborder500/I0-001/001/721/212-5.jpeg_/vico-c-12.jpeg   \n",
       "\n",
       "     faceid  \n",
       "0  FaceId-0  \n",
       "1  FaceId-0  \n",
       "2  FaceId-1  \n",
       "3  FaceId-0  \n",
       "4  FaceId-0  "
      ]
     },
     "execution_count": 10,
     "metadata": {},
     "output_type": "execute_result"
    }
   ],
   "source": [
    "df_nrw2 = pd.read_table(f'{PATH}FaceImageCroppedWithOutAlignment.tsv', nrows=(5*10**5+58604), skiprows=5*10**5, delimiter='\\t', names=['MID','url','faceid'],usecols=[0,2,4])\n",
    "df_nrw2.head()"
   ]
  },
  {
   "cell_type": "code",
   "execution_count": 26,
   "metadata": {},
   "outputs": [
    {
     "data": {
      "text/html": [
       "<div>\n",
       "<style scoped>\n",
       "    .dataframe tbody tr th:only-of-type {\n",
       "        vertical-align: middle;\n",
       "    }\n",
       "\n",
       "    .dataframe tbody tr th {\n",
       "        vertical-align: top;\n",
       "    }\n",
       "\n",
       "    .dataframe thead th {\n",
       "        text-align: right;\n",
       "    }\n",
       "</style>\n",
       "<table border=\"1\" class=\"dataframe\">\n",
       "  <thead>\n",
       "    <tr style=\"text-align: right;\">\n",
       "      <th></th>\n",
       "      <th>MID</th>\n",
       "      <th>url</th>\n",
       "      <th>faceid</th>\n",
       "      <th>name</th>\n",
       "      <th>short</th>\n",
       "    </tr>\n",
       "  </thead>\n",
       "  <tbody>\n",
       "    <tr>\n",
       "      <th>0</th>\n",
       "      <td>m.01ptrmd</td>\n",
       "      <td>http://4.bp.blogspot.com/-XxC7Cwnk9r0/U3eMGs7ulAI/AAAAAAAA-2g/DzdjAdzjQAU/s1600/Vico+C+-+Histori...</td>\n",
       "      <td>FaceId-0</td>\n",
       "      <td>Vico C@en</td>\n",
       "      <td>Vico_C</td>\n",
       "    </tr>\n",
       "    <tr>\n",
       "      <th>1</th>\n",
       "      <td>m.01ptrmd</td>\n",
       "      <td>http://www.caratulas.com/caratulas/V/vico_c/vico_c-greatest_hits-Interior_Frontal.jpg</td>\n",
       "      <td>FaceId-0</td>\n",
       "      <td>Vico C@en</td>\n",
       "      <td>Vico_C</td>\n",
       "    </tr>\n",
       "    <tr>\n",
       "      <th>2</th>\n",
       "      <td>m.01ptrmd</td>\n",
       "      <td>http://www.caratulas.com/caratulas/V/vico_c/vico_c-greatest_hits-Interior_Frontal.jpg</td>\n",
       "      <td>FaceId-1</td>\n",
       "      <td>Vico C@en</td>\n",
       "      <td>Vico_C</td>\n",
       "    </tr>\n",
       "    <tr>\n",
       "      <th>3</th>\n",
       "      <td>m.01ptrmd</td>\n",
       "      <td>http://i.ytimg.com/vi/eo5SqSPlFIE/hqdefault.jpg</td>\n",
       "      <td>FaceId-0</td>\n",
       "      <td>Vico C@en</td>\n",
       "      <td>Vico_C</td>\n",
       "    </tr>\n",
       "    <tr>\n",
       "      <th>4</th>\n",
       "      <td>m.01ptrmd</td>\n",
       "      <td>http://s1.evcdn.com/images/edpborder500/I0-001/001/721/212-5.jpeg_/vico-c-12.jpeg</td>\n",
       "      <td>FaceId-0</td>\n",
       "      <td>Vico C@en</td>\n",
       "      <td>Vico_C</td>\n",
       "    </tr>\n",
       "  </tbody>\n",
       "</table>\n",
       "</div>"
      ],
      "text/plain": [
       "         MID  \\\n",
       "0  m.01ptrmd   \n",
       "1  m.01ptrmd   \n",
       "2  m.01ptrmd   \n",
       "3  m.01ptrmd   \n",
       "4  m.01ptrmd   \n",
       "\n",
       "                                                                                                   url  \\\n",
       "0  http://4.bp.blogspot.com/-XxC7Cwnk9r0/U3eMGs7ulAI/AAAAAAAA-2g/DzdjAdzjQAU/s1600/Vico+C+-+Histori...   \n",
       "1                http://www.caratulas.com/caratulas/V/vico_c/vico_c-greatest_hits-Interior_Frontal.jpg   \n",
       "2                http://www.caratulas.com/caratulas/V/vico_c/vico_c-greatest_hits-Interior_Frontal.jpg   \n",
       "3                                                      http://i.ytimg.com/vi/eo5SqSPlFIE/hqdefault.jpg   \n",
       "4                    http://s1.evcdn.com/images/edpborder500/I0-001/001/721/212-5.jpeg_/vico-c-12.jpeg   \n",
       "\n",
       "     faceid       name   short  \n",
       "0  FaceId-0  Vico C@en  Vico_C  \n",
       "1  FaceId-0  Vico C@en  Vico_C  \n",
       "2  FaceId-1  Vico C@en  Vico_C  \n",
       "3  FaceId-0  Vico C@en  Vico_C  \n",
       "4  FaceId-0  Vico C@en  Vico_C  "
      ]
     },
     "execution_count": 26,
     "metadata": {},
     "output_type": "execute_result"
    }
   ],
   "source": [
    "df_merge2 = df_nrw2.merge(df_names_en,how='left')\n",
    "df_merge2.head()"
   ]
  },
  {
   "cell_type": "code",
   "execution_count": 27,
   "metadata": {},
   "outputs": [
    {
     "data": {
      "text/plain": [
       "0.8447104745787575"
      ]
     },
     "execution_count": 27,
     "metadata": {},
     "output_type": "execute_result"
    }
   ],
   "source": [
    "multi_face = df_merge2.loc[df_merge2.faceid!='FaceId-0','url']\n",
    "multi_face = multi_face.unique().tolist()\n",
    "df_merge_one2 = df_merge2.loc[~df_merge2.url.isin(multi_face),:]\n",
    "df_merge_one2.shape[0]/df_merge2.shape[0]"
   ]
  },
  {
   "cell_type": "code",
   "execution_count": 28,
   "metadata": {},
   "outputs": [
    {
     "data": {
      "text/plain": [
       "(472194, 5)"
      ]
     },
     "execution_count": 28,
     "metadata": {},
     "output_type": "execute_result"
    }
   ],
   "source": [
    "df_merge_one2.shape"
   ]
  },
  {
   "cell_type": "code",
   "execution_count": 34,
   "metadata": {},
   "outputs": [],
   "source": [
    "nm_ct_vct2 = nm_ct_vct"
   ]
  },
  {
   "cell_type": "code",
   "execution_count": 39,
   "metadata": {},
   "outputs": [],
   "source": [
    "nm_ct = -1\n",
    "cur_nm = ''\n",
    "# nm_ct_vct = []\n",
    "for i,v in df_merge_one2.iterrows():\n",
    "    if v.short == cur_nm:\n",
    "        nm_ct += 1\n",
    "    else:\n",
    "        cur_nm = v.short\n",
    "        nm_ct = 0\n",
    "    nm_ct_vct.append(nm_ct)"
   ]
  },
  {
   "cell_type": "code",
   "execution_count": 35,
   "metadata": {},
   "outputs": [
    {
     "data": {
      "text/plain": [
       "910946"
      ]
     },
     "execution_count": 35,
     "metadata": {},
     "output_type": "execute_result"
    }
   ],
   "source": [
    "df_merge_one.shape[0] + df_merge_one2.shape[0]"
   ]
  },
  {
   "cell_type": "code",
   "execution_count": 40,
   "metadata": {},
   "outputs": [
    {
     "data": {
      "text/plain": [
       "910946"
      ]
     },
     "execution_count": 40,
     "metadata": {},
     "output_type": "execute_result"
    }
   ],
   "source": [
    "len(nm_ct_vct)"
   ]
  },
  {
   "cell_type": "code",
   "execution_count": 24,
   "metadata": {
    "scrolled": false
   },
   "outputs": [
    {
     "data": {
      "text/plain": [
       "431644"
      ]
     },
     "execution_count": 24,
     "metadata": {},
     "output_type": "execute_result"
    }
   ],
   "source": [
    "len(nm_ct_vct)"
   ]
  },
  {
   "cell_type": "code",
   "execution_count": 41,
   "metadata": {},
   "outputs": [
    {
     "data": {
      "text/plain": [
       "(910946, 6)"
      ]
     },
     "execution_count": 41,
     "metadata": {},
     "output_type": "execute_result"
    }
   ],
   "source": [
    "df_merge_comb = df_merge_one.append(df_merge_one2, ignore_index=True)\n",
    "df_merge_comb['name_ct'] = nm_ct_vct\n",
    "df_merge_comb.shape"
   ]
  },
  {
   "cell_type": "code",
   "execution_count": 43,
   "metadata": {},
   "outputs": [
    {
     "data": {
      "text/html": [
       "<div>\n",
       "<style scoped>\n",
       "    .dataframe tbody tr th:only-of-type {\n",
       "        vertical-align: middle;\n",
       "    }\n",
       "\n",
       "    .dataframe tbody tr th {\n",
       "        vertical-align: top;\n",
       "    }\n",
       "\n",
       "    .dataframe thead th {\n",
       "        text-align: right;\n",
       "    }\n",
       "</style>\n",
       "<table border=\"1\" class=\"dataframe\">\n",
       "  <thead>\n",
       "    <tr style=\"text-align: right;\">\n",
       "      <th></th>\n",
       "      <th>MID</th>\n",
       "      <th>url</th>\n",
       "      <th>short</th>\n",
       "      <th>name_ct</th>\n",
       "    </tr>\n",
       "  </thead>\n",
       "  <tbody>\n",
       "    <tr>\n",
       "      <th>0</th>\n",
       "      <td>m.0107_f</td>\n",
       "      <td>http://getbeatmadrid.files.wordpress.com/2013/01/magic-alex.jpg</td>\n",
       "      <td>Magic_Alex</td>\n",
       "      <td>0</td>\n",
       "    </tr>\n",
       "    <tr>\n",
       "      <th>1</th>\n",
       "      <td>m.0107_f</td>\n",
       "      <td>http://1.bp.blogspot.com/-HNFIL7eKdNs/TxnlvZvisvI/AAAAAAAAANE/AsNempI4Efc/s1600/magicalex.jpg</td>\n",
       "      <td>Magic_Alex</td>\n",
       "      <td>1</td>\n",
       "    </tr>\n",
       "    <tr>\n",
       "      <th>2</th>\n",
       "      <td>m.0107_f</td>\n",
       "      <td>http://www.magicalex.cz/wp-content/gallery/kouzla/magic_alex.jpg</td>\n",
       "      <td>Magic_Alex</td>\n",
       "      <td>2</td>\n",
       "    </tr>\n",
       "    <tr>\n",
       "      <th>3</th>\n",
       "      <td>m.0107_f</td>\n",
       "      <td>http://2.bp.blogspot.com/_71dhc6LM1i4/SBSPDqHtjPI/AAAAAAAAAVg/rFWbkmqfo2Q/s200/magic_alex.jpg</td>\n",
       "      <td>Magic_Alex</td>\n",
       "      <td>3</td>\n",
       "    </tr>\n",
       "    <tr>\n",
       "      <th>4</th>\n",
       "      <td>m.0107_f</td>\n",
       "      <td>http://www.magicalex.cz/wp-content/uploads/2013/02/Magic-Alex-foto-2013.jpg</td>\n",
       "      <td>Magic_Alex</td>\n",
       "      <td>4</td>\n",
       "    </tr>\n",
       "  </tbody>\n",
       "</table>\n",
       "</div>"
      ],
      "text/plain": [
       "        MID  \\\n",
       "0  m.0107_f   \n",
       "1  m.0107_f   \n",
       "2  m.0107_f   \n",
       "3  m.0107_f   \n",
       "4  m.0107_f   \n",
       "\n",
       "                                                                                             url  \\\n",
       "0                                http://getbeatmadrid.files.wordpress.com/2013/01/magic-alex.jpg   \n",
       "1  http://1.bp.blogspot.com/-HNFIL7eKdNs/TxnlvZvisvI/AAAAAAAAANE/AsNempI4Efc/s1600/magicalex.jpg   \n",
       "2                               http://www.magicalex.cz/wp-content/gallery/kouzla/magic_alex.jpg   \n",
       "3  http://2.bp.blogspot.com/_71dhc6LM1i4/SBSPDqHtjPI/AAAAAAAAAVg/rFWbkmqfo2Q/s200/magic_alex.jpg   \n",
       "4                    http://www.magicalex.cz/wp-content/uploads/2013/02/Magic-Alex-foto-2013.jpg   \n",
       "\n",
       "        short  name_ct  \n",
       "0  Magic_Alex        0  \n",
       "1  Magic_Alex        1  \n",
       "2  Magic_Alex        2  \n",
       "3  Magic_Alex        3  \n",
       "4  Magic_Alex        4  "
      ]
     },
     "execution_count": 43,
     "metadata": {},
     "output_type": "execute_result"
    }
   ],
   "source": [
    "df_merge_comb.drop(columns=['faceid','name'],inplace=True)\n",
    "df_merge_comb.head()"
   ]
  },
  {
   "cell_type": "code",
   "execution_count": 82,
   "metadata": {},
   "outputs": [],
   "source": [
    "df_merge_comb['name_ct'] = df_merge_comb.groupby('MID').cumcount()"
   ]
  },
  {
   "cell_type": "code",
   "execution_count": 84,
   "metadata": {},
   "outputs": [],
   "source": [
    "df_merge_comb.to_csv(f'{PATH}img_files.csv',index=False)"
   ]
  },
  {
   "cell_type": "code",
   "execution_count": 88,
   "metadata": {},
   "outputs": [
    {
     "data": {
      "text/plain": [
       "0"
      ]
     },
     "execution_count": 88,
     "metadata": {},
     "output_type": "execute_result"
    }
   ],
   "source": [
    "(df_merge_comb.short=='Scott_Baio-GB').sum()"
   ]
  }
 ],
 "metadata": {
  "kernelspec": {
   "display_name": "Python 3",
   "language": "python",
   "name": "python3"
  },
  "language_info": {
   "codemirror_mode": {
    "name": "ipython",
    "version": 3
   },
   "file_extension": ".py",
   "mimetype": "text/x-python",
   "name": "python",
   "nbconvert_exporter": "python",
   "pygments_lexer": "ipython3",
   "version": "3.6.4"
  }
 },
 "nbformat": 4,
 "nbformat_minor": 2
}
