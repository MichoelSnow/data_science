{
 "cells": [
  {
   "cell_type": "code",
   "execution_count": 11,
   "metadata": {
    "ExecuteTime": {
     "end_time": "2019-04-25T17:33:51.257419Z",
     "start_time": "2019-04-25T17:33:51.249717Z"
    }
   },
   "outputs": [],
   "source": [
    "def par_check(s):\n",
    "    pr_cnt = 0\n",
    "    for idx in s:\n",
    "        if idx == '(':\n",
    "            pr_cnt += 1\n",
    "        elif idx == ')':\n",
    "            pr_cnt -= 1\n",
    "            if pr_cnt < 0:\n",
    "                raise IndexError('you have too many close parentheses')\n",
    "    if pr_cnt == 0:\n",
    "        print('This is a valid string')\n",
    "    else:\n",
    "        raise IndexError('you have too many open parentheses')\n",
    "    "
   ]
  },
  {
   "cell_type": "code",
   "execution_count": 12,
   "metadata": {
    "ExecuteTime": {
     "end_time": "2019-04-25T17:33:52.775380Z",
     "start_time": "2019-04-25T17:33:52.760443Z"
    },
    "scrolled": true
   },
   "outputs": [
    {
     "ename": "IndexError",
     "evalue": "you have too many open parentheses",
     "output_type": "error",
     "traceback": [
      "\u001b[0;31m---------------------------------------------------------------------------\u001b[0m",
      "\u001b[0;31mIndexError\u001b[0m                                Traceback (most recent call last)",
      "\u001b[0;32m<ipython-input-12-21a7eb4cf1a5>\u001b[0m in \u001b[0;36m<module>\u001b[0;34m\u001b[0m\n\u001b[1;32m      1\u001b[0m \u001b[0ms\u001b[0m \u001b[0;34m=\u001b[0m \u001b[0;34m'(()'\u001b[0m\u001b[0;34m\u001b[0m\u001b[0;34m\u001b[0m\u001b[0m\n\u001b[0;32m----> 2\u001b[0;31m \u001b[0mpar_check\u001b[0m\u001b[0;34m(\u001b[0m\u001b[0ms\u001b[0m\u001b[0;34m)\u001b[0m\u001b[0;34m\u001b[0m\u001b[0;34m\u001b[0m\u001b[0m\n\u001b[0m",
      "\u001b[0;32m<ipython-input-11-fba1aeb52327>\u001b[0m in \u001b[0;36mpar_check\u001b[0;34m(s)\u001b[0m\n\u001b[1;32m     11\u001b[0m         \u001b[0mprint\u001b[0m\u001b[0;34m(\u001b[0m\u001b[0;34m'This is a valid string'\u001b[0m\u001b[0;34m)\u001b[0m\u001b[0;34m\u001b[0m\u001b[0;34m\u001b[0m\u001b[0m\n\u001b[1;32m     12\u001b[0m     \u001b[0;32melse\u001b[0m\u001b[0;34m:\u001b[0m\u001b[0;34m\u001b[0m\u001b[0;34m\u001b[0m\u001b[0m\n\u001b[0;32m---> 13\u001b[0;31m         \u001b[0;32mraise\u001b[0m \u001b[0mIndexError\u001b[0m\u001b[0;34m(\u001b[0m\u001b[0;34m'you have too many open parentheses'\u001b[0m\u001b[0;34m)\u001b[0m\u001b[0;34m\u001b[0m\u001b[0;34m\u001b[0m\u001b[0m\n\u001b[0m\u001b[1;32m     14\u001b[0m \u001b[0;34m\u001b[0m\u001b[0m\n",
      "\u001b[0;31mIndexError\u001b[0m: you have too many open parentheses"
     ]
    }
   ],
   "source": [
    "s = '(()'\n",
    "par_check(s)"
   ]
  },
  {
   "cell_type": "code",
   "execution_count": 13,
   "metadata": {
    "ExecuteTime": {
     "end_time": "2019-04-25T17:41:36.663035Z",
     "start_time": "2019-04-25T17:41:36.653023Z"
    }
   },
   "outputs": [],
   "source": [
    "def closure_check(s):\n",
    "    clos_str = ''\n",
    "    for idx in s:\n",
    "        if idx == '(':\n",
    "            clos_str += ')'\n",
    "        elif idx == '{':\n",
    "            clos_str += '}'\n",
    "        elif idx == '[':\n",
    "            clos_str += ']'\n",
    "        elif idx in [')', ']', '}'] :\n",
    "            if clos_str[-1] == idx:\n",
    "                clos_str = clos_str[:-1]\n",
    "            else:\n",
    "                raise IndexError(f'ERROR you did something wrong')\n",
    "    if len(clos_str) == 0:\n",
    "        print(' valid string')\n",
    "    else:\n",
    "        raise IndexError(f'ERROR you have too many open closures')"
   ]
  },
  {
   "cell_type": "code",
   "execution_count": 18,
   "metadata": {
    "ExecuteTime": {
     "end_time": "2019-04-25T17:42:34.822251Z",
     "start_time": "2019-04-25T17:42:34.817163Z"
    }
   },
   "outputs": [
    {
     "name": "stdout",
     "output_type": "stream",
     "text": [
      " valid string\n"
     ]
    }
   ],
   "source": [
    "s = '{()(){[]{{[[[[(((())))]]]]}}}([[]])}'\n",
    "closure_check(s)"
   ]
  }
 ],
 "metadata": {
  "kernelspec": {
   "display_name": "Python 3",
   "language": "python",
   "name": "python3"
  },
  "language_info": {
   "codemirror_mode": {
    "name": "ipython",
    "version": 3
   },
   "file_extension": ".py",
   "mimetype": "text/x-python",
   "name": "python",
   "nbconvert_exporter": "python",
   "pygments_lexer": "ipython3",
   "version": "3.6.8"
  }
 },
 "nbformat": 4,
 "nbformat_minor": 2
}
