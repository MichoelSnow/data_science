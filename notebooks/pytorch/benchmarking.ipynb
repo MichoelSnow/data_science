{
 "cells": [
  {
   "cell_type": "markdown",
   "metadata": {},
   "source": [
    "# Imports, Data Downloads and Paths"
   ]
  },
  {
   "cell_type": "code",
   "execution_count": null,
   "metadata": {},
   "outputs": [],
   "source": [
    "from fastai.conv_learner import *\n",
    "from fastai.plots import *\n",
    "from fastai.other.planet import f2"
   ]
  },
  {
   "cell_type": "code",
   "execution_count": null,
   "metadata": {},
   "outputs": [],
   "source": [
    "PATH = '/home/msnow/data/planet/'\n",
    "!ls {PATH}"
   ]
  },
  {
   "cell_type": "markdown",
   "metadata": {},
   "source": [
    "# Multi-label models for Planet dataset"
   ]
  },
  {
   "cell_type": "code",
   "execution_count": null,
   "metadata": {},
   "outputs": [],
   "source": [
    "metrics=[f2]\n",
    "f_model = resnet34"
   ]
  },
  {
   "cell_type": "code",
   "execution_count": null,
   "metadata": {},
   "outputs": [],
   "source": [
    "label_csv = f'{PATH}train_v2.csv'\n",
    "n = len(list(open(label_csv)))-1\n",
    "val_idxs = get_cv_idxs(n)"
   ]
  },
  {
   "cell_type": "code",
   "execution_count": null,
   "metadata": {},
   "outputs": [],
   "source": [
    "def get_data(sz, bs):\n",
    "    tfms = tfms_from_model(f_model, sz, aug_tfms=transforms_top_down, max_zoom=1.05)\n",
    "    return ImageClassifierData.from_csv(PATH, 'train-jpg', label_csv, bs, tfms=tfms,\n",
    "                    suffix='.jpg', val_idxs=val_idxs, test_name='test-jpg')"
   ]
  },
  {
   "cell_type": "markdown",
   "metadata": {},
   "source": [
    "## Set the sz of the images and the batch size"
   ]
  },
  {
   "cell_type": "code",
   "execution_count": null,
   "metadata": {},
   "outputs": [],
   "source": [
    "sz = 64\n",
    "bs = 64\n",
    "data = get_data(sz, bs)"
   ]
  },
  {
   "cell_type": "markdown",
   "metadata": {},
   "source": [
    "Reduce the images to match the size you want, so that the nn doesn't have to do it on the fly"
   ]
  },
  {
   "cell_type": "code",
   "execution_count": null,
   "metadata": {},
   "outputs": [],
   "source": [
    "datasz = data.resize(int(sz*1.3), 'tmp')"
   ]
  },
  {
   "cell_type": "markdown",
   "metadata": {},
   "source": [
    "## All layers besides for the input and final layers are frozen"
   ]
  },
  {
   "cell_type": "code",
   "execution_count": null,
   "metadata": {},
   "outputs": [],
   "source": [
    "bs_range = [16, 32, 64, 128, 256]\n",
    "epoch_ct = [1, 2]\n",
    "sz_range = [32, 64, 128, 256]\n",
    "for bs in bs_range:\n",
    "    for sz in sz_range:\n",
    "        data = get_data(sz, bs)\n",
    "        datasz = data.resize(int(sz*1.3), 'tmp')\n",
    "        for epochs in epoch_ct:\n",
    "            learn1 = ConvLearner.pretrained(f_model, datasz, metrics=metrics)\n",
    "            lr = 0.2\n",
    "            print(f'epochs: {epochs}, image size: {sz}, batch size: {bs}')\n",
    "            %time learn1.fit(lr, 1, cycle_len=1)"
   ]
  },
  {
   "cell_type": "code",
   "execution_count": null,
   "metadata": {},
   "outputs": [],
   "source": [
    "learn1 = ConvLearner.pretrained(f_model, datasz, metrics=metrics)\n",
    "lr = 0.2\n",
    "%time learn1.fit(lr, 1, cycle_len=1)"
   ]
  },
  {
   "cell_type": "code",
   "execution_count": null,
   "metadata": {},
   "outputs": [],
   "source": [
    "learn1 = ConvLearner.pretrained(f_model, datasz, metrics=metrics)\n",
    "lr = 0.2\n",
    "%time learn1.fit(lr, 2, cycle_len=1)"
   ]
  },
  {
   "cell_type": "markdown",
   "metadata": {},
   "source": [
    "## Unfreeze all the layers and use variable learning rates"
   ]
  },
  {
   "cell_type": "code",
   "execution_count": null,
   "metadata": {},
   "outputs": [],
   "source": [
    "learn2 = ConvLearner.pretrained(f_model, datasz, metrics=metrics)\n",
    "lrs = np.array([lr/9,lr/3,lr])\n",
    "learn2.unfreeze()\n",
    "%time learn2.fit(lrs, 1, cycle_len=1)"
   ]
  },
  {
   "cell_type": "code",
   "execution_count": null,
   "metadata": {},
   "outputs": [],
   "source": [
    "learn2 = ConvLearner.pretrained(f_model, datasz, metrics=metrics)\n",
    "lrs = np.array([lr/9,lr/3,lr])\n",
    "learn2.unfreeze()\n",
    "%time learn2.fit(lrs, 2, cycle_len=1)"
   ]
  }
 ],
 "metadata": {
  "kernelspec": {
   "display_name": "Python 3",
   "language": "python",
   "name": "python3"
  },
  "language_info": {
   "codemirror_mode": {
    "name": "ipython",
    "version": 3
   },
   "file_extension": ".py",
   "mimetype": "text/x-python",
   "name": "python",
   "nbconvert_exporter": "python",
   "pygments_lexer": "ipython3",
   "version": "3.6.4"
  }
 },
 "nbformat": 4,
 "nbformat_minor": 2
}
