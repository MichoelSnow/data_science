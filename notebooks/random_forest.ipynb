{
 "cells": [
  {
   "cell_type": "markdown",
   "metadata": {
    "heading_collapsed": true
   },
   "source": [
    "# Imports and Paths"
   ]
  },
  {
   "cell_type": "code",
   "execution_count": 1,
   "metadata": {
    "hidden": true
   },
   "outputs": [],
   "source": [
    "import os\n",
    "# import pandas as pd\n",
    "import sys\n",
    "# import numpy as np\n",
    "from sklearn.ensemble import *"
   ]
  },
  {
   "cell_type": "code",
   "execution_count": 2,
   "metadata": {
    "hidden": true
   },
   "outputs": [],
   "source": [
    "%load_ext autoreload\n",
    "%autoreload 2"
   ]
  },
  {
   "cell_type": "code",
   "execution_count": 5,
   "metadata": {
    "hidden": true
   },
   "outputs": [],
   "source": [
    "PATH_base = '/home/bj/git/data_science/'\n",
    "PATH_bd = '/data/blue_book/'\n",
    "PATH_func = PATH_base + 'src/'"
   ]
  },
  {
   "cell_type": "code",
   "execution_count": 3,
   "metadata": {
    "hidden": true
   },
   "outputs": [],
   "source": [
    "if os.name == 'nt':\n",
    "    PATH_base = 'E:\\\\GitHub\\\\data_science\\\\'\n",
    "    PATH_bd = 'E:\\\\GitHub\\\\data_science\\\\data\\\\uncompressed\\\\blue_book_for_bulldozers\\\\'\n",
    "    PATH_func = 'E:\\\\GitHub\\\\data_science\\\\src\\\\'\n",
    "elif os.name == 'posix':\n",
    "    PATH_base = '/home/msnow/git/data_science/'\n",
    "    PATH_bd = '/data/msnow/data_science/blue_book_for_bulldozers/'\n",
    "    PATH_func = PATH_base + 'src/'"
   ]
  },
  {
   "cell_type": "code",
   "execution_count": 6,
   "metadata": {
    "hidden": true
   },
   "outputs": [],
   "source": [
    "sys.path.append(PATH_func)"
   ]
  },
  {
   "cell_type": "code",
   "execution_count": 8,
   "metadata": {
    "hidden": true
   },
   "outputs": [],
   "source": [
    "from features.imports import *\n",
    "from features.utilities import *\n",
    "from features.fastai import *\n"
   ]
  },
  {
   "cell_type": "code",
   "execution_count": 10,
   "metadata": {
    "hidden": true,
    "scrolled": false
   },
   "outputs": [
    {
     "name": "stdout",
     "output_type": "stream",
     "text": [
      " Volume in drive E is Storage\n",
      " Volume Serial Number is D098-4C8A\n",
      "\n",
      " Directory of E:\\GitHub\\data_science\\data\\uncompressed\\blue_book_for_bulldozers\n",
      "\n",
      "03/24/2018  04:37 PM    <DIR>          .\n",
      "03/24/2018  04:37 PM    <DIR>          ..\n",
      "01/24/2013  09:08 PM       116,403,970 Train.csv\n",
      "01/24/2013  07:11 PM         3,318,969 Valid.csv\n",
      "               2 File(s)    119,722,939 bytes\n",
      "               2 Dir(s)  1,852,864,679,936 bytes free\n"
     ]
    }
   ],
   "source": [
    "%ls ..\\\\data\\\\uncompressed\\\\blue_book_for_bulldozers\\\\"
   ]
  },
  {
   "cell_type": "markdown",
   "metadata": {},
   "source": [
    "# Initial Data Munging"
   ]
  },
  {
   "cell_type": "markdown",
   "metadata": {},
   "source": [
    "This dataset is from the kaggle competition [Blue Book for Bulldozers](https://www.kaggle.com/c/bluebook-for-bulldozers).  "
   ]
  },
  {
   "cell_type": "code",
   "execution_count": 23,
   "metadata": {},
   "outputs": [],
   "source": [
    "df_raw = pd.read_csv(f'{PATH_bd}Train.csv', low_memory=False, parse_dates=[\"saledate\"],nrows=50000)"
   ]
  },
  {
   "cell_type": "code",
   "execution_count": 10,
   "metadata": {},
   "outputs": [],
   "source": [
    "# df_raw.to_feather(f'{PATH_bd}bulldozer_raw')\n",
    "# df_orig = df_raw.copy()\n",
    "# df_raw = df_orig"
   ]
  },
  {
   "cell_type": "code",
   "execution_count": 11,
   "metadata": {
    "scrolled": true
   },
   "outputs": [
    {
     "data": {
      "text/html": [
       "<div>\n",
       "<style scoped>\n",
       "    .dataframe tbody tr th:only-of-type {\n",
       "        vertical-align: middle;\n",
       "    }\n",
       "\n",
       "    .dataframe tbody tr th {\n",
       "        vertical-align: top;\n",
       "    }\n",
       "\n",
       "    .dataframe thead th {\n",
       "        text-align: right;\n",
       "    }\n",
       "</style>\n",
       "<table border=\"1\" class=\"dataframe\">\n",
       "  <thead>\n",
       "    <tr style=\"text-align: right;\">\n",
       "      <th></th>\n",
       "      <th>0</th>\n",
       "      <th>1</th>\n",
       "      <th>2</th>\n",
       "      <th>3</th>\n",
       "      <th>4</th>\n",
       "    </tr>\n",
       "  </thead>\n",
       "  <tbody>\n",
       "    <tr>\n",
       "      <th>SalesID</th>\n",
       "      <td>1139246</td>\n",
       "      <td>1139248</td>\n",
       "      <td>1139249</td>\n",
       "      <td>1139251</td>\n",
       "      <td>1139253</td>\n",
       "    </tr>\n",
       "    <tr>\n",
       "      <th>SalePrice</th>\n",
       "      <td>66000</td>\n",
       "      <td>57000</td>\n",
       "      <td>10000</td>\n",
       "      <td>38500</td>\n",
       "      <td>11000</td>\n",
       "    </tr>\n",
       "    <tr>\n",
       "      <th>MachineID</th>\n",
       "      <td>999089</td>\n",
       "      <td>117657</td>\n",
       "      <td>434808</td>\n",
       "      <td>1026470</td>\n",
       "      <td>1057373</td>\n",
       "    </tr>\n",
       "    <tr>\n",
       "      <th>ModelID</th>\n",
       "      <td>3157</td>\n",
       "      <td>77</td>\n",
       "      <td>7009</td>\n",
       "      <td>332</td>\n",
       "      <td>17311</td>\n",
       "    </tr>\n",
       "    <tr>\n",
       "      <th>datasource</th>\n",
       "      <td>121</td>\n",
       "      <td>121</td>\n",
       "      <td>121</td>\n",
       "      <td>121</td>\n",
       "      <td>121</td>\n",
       "    </tr>\n",
       "    <tr>\n",
       "      <th>auctioneerID</th>\n",
       "      <td>3</td>\n",
       "      <td>3</td>\n",
       "      <td>3</td>\n",
       "      <td>3</td>\n",
       "      <td>3</td>\n",
       "    </tr>\n",
       "    <tr>\n",
       "      <th>YearMade</th>\n",
       "      <td>2004</td>\n",
       "      <td>1996</td>\n",
       "      <td>2001</td>\n",
       "      <td>2001</td>\n",
       "      <td>2007</td>\n",
       "    </tr>\n",
       "    <tr>\n",
       "      <th>MachineHoursCurrentMeter</th>\n",
       "      <td>68</td>\n",
       "      <td>4640</td>\n",
       "      <td>2838</td>\n",
       "      <td>3486</td>\n",
       "      <td>722</td>\n",
       "    </tr>\n",
       "    <tr>\n",
       "      <th>UsageBand</th>\n",
       "      <td>Low</td>\n",
       "      <td>Low</td>\n",
       "      <td>High</td>\n",
       "      <td>High</td>\n",
       "      <td>Medium</td>\n",
       "    </tr>\n",
       "    <tr>\n",
       "      <th>saledate</th>\n",
       "      <td>2006-11-16 00:00:00</td>\n",
       "      <td>2004-03-26 00:00:00</td>\n",
       "      <td>2004-02-26 00:00:00</td>\n",
       "      <td>2011-05-19 00:00:00</td>\n",
       "      <td>2009-07-23 00:00:00</td>\n",
       "    </tr>\n",
       "    <tr>\n",
       "      <th>fiModelDesc</th>\n",
       "      <td>521D</td>\n",
       "      <td>950FII</td>\n",
       "      <td>226</td>\n",
       "      <td>PC120-6E</td>\n",
       "      <td>S175</td>\n",
       "    </tr>\n",
       "    <tr>\n",
       "      <th>fiBaseModel</th>\n",
       "      <td>521</td>\n",
       "      <td>950</td>\n",
       "      <td>226</td>\n",
       "      <td>PC120</td>\n",
       "      <td>S175</td>\n",
       "    </tr>\n",
       "    <tr>\n",
       "      <th>fiSecondaryDesc</th>\n",
       "      <td>D</td>\n",
       "      <td>F</td>\n",
       "      <td>NaN</td>\n",
       "      <td>NaN</td>\n",
       "      <td>NaN</td>\n",
       "    </tr>\n",
       "    <tr>\n",
       "      <th>fiModelSeries</th>\n",
       "      <td>NaN</td>\n",
       "      <td>II</td>\n",
       "      <td>NaN</td>\n",
       "      <td>-6E</td>\n",
       "      <td>NaN</td>\n",
       "    </tr>\n",
       "    <tr>\n",
       "      <th>fiModelDescriptor</th>\n",
       "      <td>NaN</td>\n",
       "      <td>NaN</td>\n",
       "      <td>NaN</td>\n",
       "      <td>NaN</td>\n",
       "      <td>NaN</td>\n",
       "    </tr>\n",
       "    <tr>\n",
       "      <th>ProductSize</th>\n",
       "      <td>NaN</td>\n",
       "      <td>Medium</td>\n",
       "      <td>NaN</td>\n",
       "      <td>Small</td>\n",
       "      <td>NaN</td>\n",
       "    </tr>\n",
       "    <tr>\n",
       "      <th>fiProductClassDesc</th>\n",
       "      <td>Wheel Loader - 110.0 to 120.0 Horsepower</td>\n",
       "      <td>Wheel Loader - 150.0 to 175.0 Horsepower</td>\n",
       "      <td>Skid Steer Loader - 1351.0 to 1601.0 Lb Operat...</td>\n",
       "      <td>Hydraulic Excavator, Track - 12.0 to 14.0 Metr...</td>\n",
       "      <td>Skid Steer Loader - 1601.0 to 1751.0 Lb Operat...</td>\n",
       "    </tr>\n",
       "    <tr>\n",
       "      <th>state</th>\n",
       "      <td>Alabama</td>\n",
       "      <td>North Carolina</td>\n",
       "      <td>New York</td>\n",
       "      <td>Texas</td>\n",
       "      <td>New York</td>\n",
       "    </tr>\n",
       "    <tr>\n",
       "      <th>ProductGroup</th>\n",
       "      <td>WL</td>\n",
       "      <td>WL</td>\n",
       "      <td>SSL</td>\n",
       "      <td>TEX</td>\n",
       "      <td>SSL</td>\n",
       "    </tr>\n",
       "    <tr>\n",
       "      <th>ProductGroupDesc</th>\n",
       "      <td>Wheel Loader</td>\n",
       "      <td>Wheel Loader</td>\n",
       "      <td>Skid Steer Loaders</td>\n",
       "      <td>Track Excavators</td>\n",
       "      <td>Skid Steer Loaders</td>\n",
       "    </tr>\n",
       "    <tr>\n",
       "      <th>Drive_System</th>\n",
       "      <td>NaN</td>\n",
       "      <td>NaN</td>\n",
       "      <td>NaN</td>\n",
       "      <td>NaN</td>\n",
       "      <td>NaN</td>\n",
       "    </tr>\n",
       "    <tr>\n",
       "      <th>Enclosure</th>\n",
       "      <td>EROPS w AC</td>\n",
       "      <td>EROPS w AC</td>\n",
       "      <td>OROPS</td>\n",
       "      <td>EROPS w AC</td>\n",
       "      <td>EROPS</td>\n",
       "    </tr>\n",
       "    <tr>\n",
       "      <th>Forks</th>\n",
       "      <td>None or Unspecified</td>\n",
       "      <td>None or Unspecified</td>\n",
       "      <td>None or Unspecified</td>\n",
       "      <td>NaN</td>\n",
       "      <td>None or Unspecified</td>\n",
       "    </tr>\n",
       "    <tr>\n",
       "      <th>Pad_Type</th>\n",
       "      <td>NaN</td>\n",
       "      <td>NaN</td>\n",
       "      <td>NaN</td>\n",
       "      <td>NaN</td>\n",
       "      <td>NaN</td>\n",
       "    </tr>\n",
       "    <tr>\n",
       "      <th>Ride_Control</th>\n",
       "      <td>None or Unspecified</td>\n",
       "      <td>None or Unspecified</td>\n",
       "      <td>NaN</td>\n",
       "      <td>NaN</td>\n",
       "      <td>NaN</td>\n",
       "    </tr>\n",
       "    <tr>\n",
       "      <th>Stick</th>\n",
       "      <td>NaN</td>\n",
       "      <td>NaN</td>\n",
       "      <td>NaN</td>\n",
       "      <td>NaN</td>\n",
       "      <td>NaN</td>\n",
       "    </tr>\n",
       "    <tr>\n",
       "      <th>Transmission</th>\n",
       "      <td>NaN</td>\n",
       "      <td>NaN</td>\n",
       "      <td>NaN</td>\n",
       "      <td>NaN</td>\n",
       "      <td>NaN</td>\n",
       "    </tr>\n",
       "    <tr>\n",
       "      <th>Turbocharged</th>\n",
       "      <td>NaN</td>\n",
       "      <td>NaN</td>\n",
       "      <td>NaN</td>\n",
       "      <td>NaN</td>\n",
       "      <td>NaN</td>\n",
       "    </tr>\n",
       "    <tr>\n",
       "      <th>Blade_Extension</th>\n",
       "      <td>NaN</td>\n",
       "      <td>NaN</td>\n",
       "      <td>NaN</td>\n",
       "      <td>NaN</td>\n",
       "      <td>NaN</td>\n",
       "    </tr>\n",
       "    <tr>\n",
       "      <th>Blade_Width</th>\n",
       "      <td>NaN</td>\n",
       "      <td>NaN</td>\n",
       "      <td>NaN</td>\n",
       "      <td>NaN</td>\n",
       "      <td>NaN</td>\n",
       "    </tr>\n",
       "    <tr>\n",
       "      <th>Enclosure_Type</th>\n",
       "      <td>NaN</td>\n",
       "      <td>NaN</td>\n",
       "      <td>NaN</td>\n",
       "      <td>NaN</td>\n",
       "      <td>NaN</td>\n",
       "    </tr>\n",
       "    <tr>\n",
       "      <th>Engine_Horsepower</th>\n",
       "      <td>NaN</td>\n",
       "      <td>NaN</td>\n",
       "      <td>NaN</td>\n",
       "      <td>NaN</td>\n",
       "      <td>NaN</td>\n",
       "    </tr>\n",
       "    <tr>\n",
       "      <th>Hydraulics</th>\n",
       "      <td>2 Valve</td>\n",
       "      <td>2 Valve</td>\n",
       "      <td>Auxiliary</td>\n",
       "      <td>2 Valve</td>\n",
       "      <td>Auxiliary</td>\n",
       "    </tr>\n",
       "    <tr>\n",
       "      <th>Pushblock</th>\n",
       "      <td>NaN</td>\n",
       "      <td>NaN</td>\n",
       "      <td>NaN</td>\n",
       "      <td>NaN</td>\n",
       "      <td>NaN</td>\n",
       "    </tr>\n",
       "    <tr>\n",
       "      <th>Ripper</th>\n",
       "      <td>NaN</td>\n",
       "      <td>NaN</td>\n",
       "      <td>NaN</td>\n",
       "      <td>NaN</td>\n",
       "      <td>NaN</td>\n",
       "    </tr>\n",
       "    <tr>\n",
       "      <th>Scarifier</th>\n",
       "      <td>NaN</td>\n",
       "      <td>NaN</td>\n",
       "      <td>NaN</td>\n",
       "      <td>NaN</td>\n",
       "      <td>NaN</td>\n",
       "    </tr>\n",
       "    <tr>\n",
       "      <th>Tip_Control</th>\n",
       "      <td>NaN</td>\n",
       "      <td>NaN</td>\n",
       "      <td>NaN</td>\n",
       "      <td>NaN</td>\n",
       "      <td>NaN</td>\n",
       "    </tr>\n",
       "    <tr>\n",
       "      <th>Tire_Size</th>\n",
       "      <td>None or Unspecified</td>\n",
       "      <td>23.5</td>\n",
       "      <td>NaN</td>\n",
       "      <td>NaN</td>\n",
       "      <td>NaN</td>\n",
       "    </tr>\n",
       "    <tr>\n",
       "      <th>Coupler</th>\n",
       "      <td>None or Unspecified</td>\n",
       "      <td>None or Unspecified</td>\n",
       "      <td>None or Unspecified</td>\n",
       "      <td>None or Unspecified</td>\n",
       "      <td>None or Unspecified</td>\n",
       "    </tr>\n",
       "    <tr>\n",
       "      <th>Coupler_System</th>\n",
       "      <td>NaN</td>\n",
       "      <td>NaN</td>\n",
       "      <td>None or Unspecified</td>\n",
       "      <td>NaN</td>\n",
       "      <td>None or Unspecified</td>\n",
       "    </tr>\n",
       "    <tr>\n",
       "      <th>Grouser_Tracks</th>\n",
       "      <td>NaN</td>\n",
       "      <td>NaN</td>\n",
       "      <td>None or Unspecified</td>\n",
       "      <td>NaN</td>\n",
       "      <td>None or Unspecified</td>\n",
       "    </tr>\n",
       "    <tr>\n",
       "      <th>Hydraulics_Flow</th>\n",
       "      <td>NaN</td>\n",
       "      <td>NaN</td>\n",
       "      <td>Standard</td>\n",
       "      <td>NaN</td>\n",
       "      <td>Standard</td>\n",
       "    </tr>\n",
       "    <tr>\n",
       "      <th>Track_Type</th>\n",
       "      <td>NaN</td>\n",
       "      <td>NaN</td>\n",
       "      <td>NaN</td>\n",
       "      <td>NaN</td>\n",
       "      <td>NaN</td>\n",
       "    </tr>\n",
       "    <tr>\n",
       "      <th>Undercarriage_Pad_Width</th>\n",
       "      <td>NaN</td>\n",
       "      <td>NaN</td>\n",
       "      <td>NaN</td>\n",
       "      <td>NaN</td>\n",
       "      <td>NaN</td>\n",
       "    </tr>\n",
       "    <tr>\n",
       "      <th>Stick_Length</th>\n",
       "      <td>NaN</td>\n",
       "      <td>NaN</td>\n",
       "      <td>NaN</td>\n",
       "      <td>NaN</td>\n",
       "      <td>NaN</td>\n",
       "    </tr>\n",
       "    <tr>\n",
       "      <th>Thumb</th>\n",
       "      <td>NaN</td>\n",
       "      <td>NaN</td>\n",
       "      <td>NaN</td>\n",
       "      <td>NaN</td>\n",
       "      <td>NaN</td>\n",
       "    </tr>\n",
       "    <tr>\n",
       "      <th>Pattern_Changer</th>\n",
       "      <td>NaN</td>\n",
       "      <td>NaN</td>\n",
       "      <td>NaN</td>\n",
       "      <td>NaN</td>\n",
       "      <td>NaN</td>\n",
       "    </tr>\n",
       "    <tr>\n",
       "      <th>Grouser_Type</th>\n",
       "      <td>NaN</td>\n",
       "      <td>NaN</td>\n",
       "      <td>NaN</td>\n",
       "      <td>NaN</td>\n",
       "      <td>NaN</td>\n",
       "    </tr>\n",
       "    <tr>\n",
       "      <th>Backhoe_Mounting</th>\n",
       "      <td>NaN</td>\n",
       "      <td>NaN</td>\n",
       "      <td>NaN</td>\n",
       "      <td>NaN</td>\n",
       "      <td>NaN</td>\n",
       "    </tr>\n",
       "    <tr>\n",
       "      <th>Blade_Type</th>\n",
       "      <td>NaN</td>\n",
       "      <td>NaN</td>\n",
       "      <td>NaN</td>\n",
       "      <td>NaN</td>\n",
       "      <td>NaN</td>\n",
       "    </tr>\n",
       "    <tr>\n",
       "      <th>Travel_Controls</th>\n",
       "      <td>NaN</td>\n",
       "      <td>NaN</td>\n",
       "      <td>NaN</td>\n",
       "      <td>NaN</td>\n",
       "      <td>NaN</td>\n",
       "    </tr>\n",
       "    <tr>\n",
       "      <th>Differential_Type</th>\n",
       "      <td>Standard</td>\n",
       "      <td>Standard</td>\n",
       "      <td>NaN</td>\n",
       "      <td>NaN</td>\n",
       "      <td>NaN</td>\n",
       "    </tr>\n",
       "    <tr>\n",
       "      <th>Steering_Controls</th>\n",
       "      <td>Conventional</td>\n",
       "      <td>Conventional</td>\n",
       "      <td>NaN</td>\n",
       "      <td>NaN</td>\n",
       "      <td>NaN</td>\n",
       "    </tr>\n",
       "  </tbody>\n",
       "</table>\n",
       "</div>"
      ],
      "text/plain": [
       "                                                                 0  \\\n",
       "SalesID                                                    1139246   \n",
       "SalePrice                                                    66000   \n",
       "MachineID                                                   999089   \n",
       "ModelID                                                       3157   \n",
       "datasource                                                     121   \n",
       "auctioneerID                                                     3   \n",
       "YearMade                                                      2004   \n",
       "MachineHoursCurrentMeter                                        68   \n",
       "UsageBand                                                      Low   \n",
       "saledate                                       2006-11-16 00:00:00   \n",
       "fiModelDesc                                                   521D   \n",
       "fiBaseModel                                                    521   \n",
       "fiSecondaryDesc                                                  D   \n",
       "fiModelSeries                                                  NaN   \n",
       "fiModelDescriptor                                              NaN   \n",
       "ProductSize                                                    NaN   \n",
       "fiProductClassDesc        Wheel Loader - 110.0 to 120.0 Horsepower   \n",
       "state                                                      Alabama   \n",
       "ProductGroup                                                    WL   \n",
       "ProductGroupDesc                                      Wheel Loader   \n",
       "Drive_System                                                   NaN   \n",
       "Enclosure                                               EROPS w AC   \n",
       "Forks                                          None or Unspecified   \n",
       "Pad_Type                                                       NaN   \n",
       "Ride_Control                                   None or Unspecified   \n",
       "Stick                                                          NaN   \n",
       "Transmission                                                   NaN   \n",
       "Turbocharged                                                   NaN   \n",
       "Blade_Extension                                                NaN   \n",
       "Blade_Width                                                    NaN   \n",
       "Enclosure_Type                                                 NaN   \n",
       "Engine_Horsepower                                              NaN   \n",
       "Hydraulics                                                 2 Valve   \n",
       "Pushblock                                                      NaN   \n",
       "Ripper                                                         NaN   \n",
       "Scarifier                                                      NaN   \n",
       "Tip_Control                                                    NaN   \n",
       "Tire_Size                                      None or Unspecified   \n",
       "Coupler                                        None or Unspecified   \n",
       "Coupler_System                                                 NaN   \n",
       "Grouser_Tracks                                                 NaN   \n",
       "Hydraulics_Flow                                                NaN   \n",
       "Track_Type                                                     NaN   \n",
       "Undercarriage_Pad_Width                                        NaN   \n",
       "Stick_Length                                                   NaN   \n",
       "Thumb                                                          NaN   \n",
       "Pattern_Changer                                                NaN   \n",
       "Grouser_Type                                                   NaN   \n",
       "Backhoe_Mounting                                               NaN   \n",
       "Blade_Type                                                     NaN   \n",
       "Travel_Controls                                                NaN   \n",
       "Differential_Type                                         Standard   \n",
       "Steering_Controls                                     Conventional   \n",
       "\n",
       "                                                                 1  \\\n",
       "SalesID                                                    1139248   \n",
       "SalePrice                                                    57000   \n",
       "MachineID                                                   117657   \n",
       "ModelID                                                         77   \n",
       "datasource                                                     121   \n",
       "auctioneerID                                                     3   \n",
       "YearMade                                                      1996   \n",
       "MachineHoursCurrentMeter                                      4640   \n",
       "UsageBand                                                      Low   \n",
       "saledate                                       2004-03-26 00:00:00   \n",
       "fiModelDesc                                                 950FII   \n",
       "fiBaseModel                                                    950   \n",
       "fiSecondaryDesc                                                  F   \n",
       "fiModelSeries                                                   II   \n",
       "fiModelDescriptor                                              NaN   \n",
       "ProductSize                                                 Medium   \n",
       "fiProductClassDesc        Wheel Loader - 150.0 to 175.0 Horsepower   \n",
       "state                                               North Carolina   \n",
       "ProductGroup                                                    WL   \n",
       "ProductGroupDesc                                      Wheel Loader   \n",
       "Drive_System                                                   NaN   \n",
       "Enclosure                                               EROPS w AC   \n",
       "Forks                                          None or Unspecified   \n",
       "Pad_Type                                                       NaN   \n",
       "Ride_Control                                   None or Unspecified   \n",
       "Stick                                                          NaN   \n",
       "Transmission                                                   NaN   \n",
       "Turbocharged                                                   NaN   \n",
       "Blade_Extension                                                NaN   \n",
       "Blade_Width                                                    NaN   \n",
       "Enclosure_Type                                                 NaN   \n",
       "Engine_Horsepower                                              NaN   \n",
       "Hydraulics                                                 2 Valve   \n",
       "Pushblock                                                      NaN   \n",
       "Ripper                                                         NaN   \n",
       "Scarifier                                                      NaN   \n",
       "Tip_Control                                                    NaN   \n",
       "Tire_Size                                                     23.5   \n",
       "Coupler                                        None or Unspecified   \n",
       "Coupler_System                                                 NaN   \n",
       "Grouser_Tracks                                                 NaN   \n",
       "Hydraulics_Flow                                                NaN   \n",
       "Track_Type                                                     NaN   \n",
       "Undercarriage_Pad_Width                                        NaN   \n",
       "Stick_Length                                                   NaN   \n",
       "Thumb                                                          NaN   \n",
       "Pattern_Changer                                                NaN   \n",
       "Grouser_Type                                                   NaN   \n",
       "Backhoe_Mounting                                               NaN   \n",
       "Blade_Type                                                     NaN   \n",
       "Travel_Controls                                                NaN   \n",
       "Differential_Type                                         Standard   \n",
       "Steering_Controls                                     Conventional   \n",
       "\n",
       "                                                                          2  \\\n",
       "SalesID                                                             1139249   \n",
       "SalePrice                                                             10000   \n",
       "MachineID                                                            434808   \n",
       "ModelID                                                                7009   \n",
       "datasource                                                              121   \n",
       "auctioneerID                                                              3   \n",
       "YearMade                                                               2001   \n",
       "MachineHoursCurrentMeter                                               2838   \n",
       "UsageBand                                                              High   \n",
       "saledate                                                2004-02-26 00:00:00   \n",
       "fiModelDesc                                                             226   \n",
       "fiBaseModel                                                             226   \n",
       "fiSecondaryDesc                                                         NaN   \n",
       "fiModelSeries                                                           NaN   \n",
       "fiModelDescriptor                                                       NaN   \n",
       "ProductSize                                                             NaN   \n",
       "fiProductClassDesc        Skid Steer Loader - 1351.0 to 1601.0 Lb Operat...   \n",
       "state                                                              New York   \n",
       "ProductGroup                                                            SSL   \n",
       "ProductGroupDesc                                         Skid Steer Loaders   \n",
       "Drive_System                                                            NaN   \n",
       "Enclosure                                                             OROPS   \n",
       "Forks                                                   None or Unspecified   \n",
       "Pad_Type                                                                NaN   \n",
       "Ride_Control                                                            NaN   \n",
       "Stick                                                                   NaN   \n",
       "Transmission                                                            NaN   \n",
       "Turbocharged                                                            NaN   \n",
       "Blade_Extension                                                         NaN   \n",
       "Blade_Width                                                             NaN   \n",
       "Enclosure_Type                                                          NaN   \n",
       "Engine_Horsepower                                                       NaN   \n",
       "Hydraulics                                                        Auxiliary   \n",
       "Pushblock                                                               NaN   \n",
       "Ripper                                                                  NaN   \n",
       "Scarifier                                                               NaN   \n",
       "Tip_Control                                                             NaN   \n",
       "Tire_Size                                                               NaN   \n",
       "Coupler                                                 None or Unspecified   \n",
       "Coupler_System                                          None or Unspecified   \n",
       "Grouser_Tracks                                          None or Unspecified   \n",
       "Hydraulics_Flow                                                    Standard   \n",
       "Track_Type                                                              NaN   \n",
       "Undercarriage_Pad_Width                                                 NaN   \n",
       "Stick_Length                                                            NaN   \n",
       "Thumb                                                                   NaN   \n",
       "Pattern_Changer                                                         NaN   \n",
       "Grouser_Type                                                            NaN   \n",
       "Backhoe_Mounting                                                        NaN   \n",
       "Blade_Type                                                              NaN   \n",
       "Travel_Controls                                                         NaN   \n",
       "Differential_Type                                                       NaN   \n",
       "Steering_Controls                                                       NaN   \n",
       "\n",
       "                                                                          3  \\\n",
       "SalesID                                                             1139251   \n",
       "SalePrice                                                             38500   \n",
       "MachineID                                                           1026470   \n",
       "ModelID                                                                 332   \n",
       "datasource                                                              121   \n",
       "auctioneerID                                                              3   \n",
       "YearMade                                                               2001   \n",
       "MachineHoursCurrentMeter                                               3486   \n",
       "UsageBand                                                              High   \n",
       "saledate                                                2011-05-19 00:00:00   \n",
       "fiModelDesc                                                        PC120-6E   \n",
       "fiBaseModel                                                           PC120   \n",
       "fiSecondaryDesc                                                         NaN   \n",
       "fiModelSeries                                                           -6E   \n",
       "fiModelDescriptor                                                       NaN   \n",
       "ProductSize                                                           Small   \n",
       "fiProductClassDesc        Hydraulic Excavator, Track - 12.0 to 14.0 Metr...   \n",
       "state                                                                 Texas   \n",
       "ProductGroup                                                            TEX   \n",
       "ProductGroupDesc                                           Track Excavators   \n",
       "Drive_System                                                            NaN   \n",
       "Enclosure                                                        EROPS w AC   \n",
       "Forks                                                                   NaN   \n",
       "Pad_Type                                                                NaN   \n",
       "Ride_Control                                                            NaN   \n",
       "Stick                                                                   NaN   \n",
       "Transmission                                                            NaN   \n",
       "Turbocharged                                                            NaN   \n",
       "Blade_Extension                                                         NaN   \n",
       "Blade_Width                                                             NaN   \n",
       "Enclosure_Type                                                          NaN   \n",
       "Engine_Horsepower                                                       NaN   \n",
       "Hydraulics                                                          2 Valve   \n",
       "Pushblock                                                               NaN   \n",
       "Ripper                                                                  NaN   \n",
       "Scarifier                                                               NaN   \n",
       "Tip_Control                                                             NaN   \n",
       "Tire_Size                                                               NaN   \n",
       "Coupler                                                 None or Unspecified   \n",
       "Coupler_System                                                          NaN   \n",
       "Grouser_Tracks                                                          NaN   \n",
       "Hydraulics_Flow                                                         NaN   \n",
       "Track_Type                                                              NaN   \n",
       "Undercarriage_Pad_Width                                                 NaN   \n",
       "Stick_Length                                                            NaN   \n",
       "Thumb                                                                   NaN   \n",
       "Pattern_Changer                                                         NaN   \n",
       "Grouser_Type                                                            NaN   \n",
       "Backhoe_Mounting                                                        NaN   \n",
       "Blade_Type                                                              NaN   \n",
       "Travel_Controls                                                         NaN   \n",
       "Differential_Type                                                       NaN   \n",
       "Steering_Controls                                                       NaN   \n",
       "\n",
       "                                                                          4  \n",
       "SalesID                                                             1139253  \n",
       "SalePrice                                                             11000  \n",
       "MachineID                                                           1057373  \n",
       "ModelID                                                               17311  \n",
       "datasource                                                              121  \n",
       "auctioneerID                                                              3  \n",
       "YearMade                                                               2007  \n",
       "MachineHoursCurrentMeter                                                722  \n",
       "UsageBand                                                            Medium  \n",
       "saledate                                                2009-07-23 00:00:00  \n",
       "fiModelDesc                                                            S175  \n",
       "fiBaseModel                                                            S175  \n",
       "fiSecondaryDesc                                                         NaN  \n",
       "fiModelSeries                                                           NaN  \n",
       "fiModelDescriptor                                                       NaN  \n",
       "ProductSize                                                             NaN  \n",
       "fiProductClassDesc        Skid Steer Loader - 1601.0 to 1751.0 Lb Operat...  \n",
       "state                                                              New York  \n",
       "ProductGroup                                                            SSL  \n",
       "ProductGroupDesc                                         Skid Steer Loaders  \n",
       "Drive_System                                                            NaN  \n",
       "Enclosure                                                             EROPS  \n",
       "Forks                                                   None or Unspecified  \n",
       "Pad_Type                                                                NaN  \n",
       "Ride_Control                                                            NaN  \n",
       "Stick                                                                   NaN  \n",
       "Transmission                                                            NaN  \n",
       "Turbocharged                                                            NaN  \n",
       "Blade_Extension                                                         NaN  \n",
       "Blade_Width                                                             NaN  \n",
       "Enclosure_Type                                                          NaN  \n",
       "Engine_Horsepower                                                       NaN  \n",
       "Hydraulics                                                        Auxiliary  \n",
       "Pushblock                                                               NaN  \n",
       "Ripper                                                                  NaN  \n",
       "Scarifier                                                               NaN  \n",
       "Tip_Control                                                             NaN  \n",
       "Tire_Size                                                               NaN  \n",
       "Coupler                                                 None or Unspecified  \n",
       "Coupler_System                                          None or Unspecified  \n",
       "Grouser_Tracks                                          None or Unspecified  \n",
       "Hydraulics_Flow                                                    Standard  \n",
       "Track_Type                                                              NaN  \n",
       "Undercarriage_Pad_Width                                                 NaN  \n",
       "Stick_Length                                                            NaN  \n",
       "Thumb                                                                   NaN  \n",
       "Pattern_Changer                                                         NaN  \n",
       "Grouser_Type                                                            NaN  \n",
       "Backhoe_Mounting                                                        NaN  \n",
       "Blade_Type                                                              NaN  \n",
       "Travel_Controls                                                         NaN  \n",
       "Differential_Type                                                       NaN  \n",
       "Steering_Controls                                                       NaN  "
      ]
     },
     "metadata": {},
     "output_type": "display_data"
    }
   ],
   "source": [
    "display_some(df_raw.head().T,80,10)"
   ]
  },
  {
   "cell_type": "markdown",
   "metadata": {
    "heading_collapsed": true
   },
   "source": [
    "## Metrics"
   ]
  },
  {
   "cell_type": "markdown",
   "metadata": {
    "hidden": true
   },
   "source": [
    "In this competition, the goal is to predict the SalePrice and the metric used is the root mean squared log error (RMSLE).  Therefore, I will convert the SalePrice column into the log of the SalePrice"
   ]
  },
  {
   "cell_type": "code",
   "execution_count": 24,
   "metadata": {
    "hidden": true
   },
   "outputs": [],
   "source": [
    "df_raw.SalePrice = np.log(df_raw.SalePrice)"
   ]
  },
  {
   "cell_type": "markdown",
   "metadata": {
    "heading_collapsed": true
   },
   "source": [
    "## Splitting Datetime"
   ]
  },
  {
   "cell_type": "markdown",
   "metadata": {
    "hidden": true
   },
   "source": [
    "Split the dattime column `saledate` into multiple columns containing integer components of the datetime, e.g., year, month, day, day of week, weekend"
   ]
  },
  {
   "cell_type": "code",
   "execution_count": 25,
   "metadata": {
    "hidden": true
   },
   "outputs": [],
   "source": [
    "add_datepart(df_raw, 'saledate')"
   ]
  },
  {
   "cell_type": "markdown",
   "metadata": {},
   "source": [
    "## Convert Strings to Integer Categorical "
   ]
  },
  {
   "cell_type": "markdown",
   "metadata": {},
   "source": [
    "Convert all columns with string values to integer categorical variables"
   ]
  },
  {
   "cell_type": "code",
   "execution_count": 26,
   "metadata": {},
   "outputs": [],
   "source": [
    "train_cats(df_raw)"
   ]
  },
  {
   "cell_type": "code",
   "execution_count": 27,
   "metadata": {
    "scrolled": false
   },
   "outputs": [
    {
     "data": {
      "text/plain": [
       "Index(['High', 'Low', 'Medium'], dtype='object')"
      ]
     },
     "execution_count": 27,
     "metadata": {},
     "output_type": "execute_result"
    }
   ],
   "source": [
    "df_raw.UsageBand.cat.categories"
   ]
  },
  {
   "cell_type": "markdown",
   "metadata": {},
   "source": [
    "When there is ordinality in the strings you can assign the categorical integer values to share that order"
   ]
  },
  {
   "cell_type": "code",
   "execution_count": 28,
   "metadata": {},
   "outputs": [],
   "source": [
    "df_codes = df_raw.UsageBand.cat.codes\n",
    "df_raw.UsageBand.cat.set_categories(['High', 'Medium', 'Low'], ordered=True, inplace=True)"
   ]
  },
  {
   "cell_type": "code",
   "execution_count": 29,
   "metadata": {
    "scrolled": false
   },
   "outputs": [
    {
     "data": {
      "text/html": [
       "<div>\n",
       "<style scoped>\n",
       "    .dataframe tbody tr th:only-of-type {\n",
       "        vertical-align: middle;\n",
       "    }\n",
       "\n",
       "    .dataframe tbody tr th {\n",
       "        vertical-align: top;\n",
       "    }\n",
       "\n",
       "    .dataframe thead th {\n",
       "        text-align: right;\n",
       "    }\n",
       "</style>\n",
       "<table border=\"1\" class=\"dataframe\">\n",
       "  <thead>\n",
       "    <tr style=\"text-align: right;\">\n",
       "      <th></th>\n",
       "      <th>Ordered</th>\n",
       "      <th>Raw</th>\n",
       "      <th>Unordered</th>\n",
       "    </tr>\n",
       "  </thead>\n",
       "  <tbody>\n",
       "    <tr>\n",
       "      <th>0</th>\n",
       "      <td>2</td>\n",
       "      <td>Low</td>\n",
       "      <td>1</td>\n",
       "    </tr>\n",
       "    <tr>\n",
       "      <th>1</th>\n",
       "      <td>2</td>\n",
       "      <td>Low</td>\n",
       "      <td>1</td>\n",
       "    </tr>\n",
       "    <tr>\n",
       "      <th>2</th>\n",
       "      <td>0</td>\n",
       "      <td>High</td>\n",
       "      <td>0</td>\n",
       "    </tr>\n",
       "    <tr>\n",
       "      <th>3</th>\n",
       "      <td>0</td>\n",
       "      <td>High</td>\n",
       "      <td>0</td>\n",
       "    </tr>\n",
       "    <tr>\n",
       "      <th>4</th>\n",
       "      <td>1</td>\n",
       "      <td>Medium</td>\n",
       "      <td>2</td>\n",
       "    </tr>\n",
       "  </tbody>\n",
       "</table>\n",
       "</div>"
      ],
      "text/plain": [
       "   Ordered     Raw  Unordered\n",
       "0        2     Low          1\n",
       "1        2     Low          1\n",
       "2        0    High          0\n",
       "3        0    High          0\n",
       "4        1  Medium          2"
      ]
     },
     "execution_count": 29,
     "metadata": {},
     "output_type": "execute_result"
    }
   ],
   "source": [
    "df_UsageBand_cat = pd.DataFrame({'Raw':df_raw.UsageBand, 'Unordered':df_codes, 'Ordered':df_raw.UsageBand.cat.codes})\n",
    "df_UsageBand_cat.head()"
   ]
  },
  {
   "cell_type": "code",
   "execution_count": 30,
   "metadata": {},
   "outputs": [],
   "source": [
    "df, y, na_dict = proc_df(df_raw, 'SalePrice')"
   ]
  },
  {
   "cell_type": "markdown",
   "metadata": {
    "heading_collapsed": true
   },
   "source": [
    "## Save to/Load from Feather"
   ]
  },
  {
   "cell_type": "code",
   "execution_count": 6,
   "metadata": {
    "hidden": true
   },
   "outputs": [],
   "source": [
    "# df_raw.to_feather(f'{PATH_base}\\\\data\\\\interim\\\\bulldozer')\n",
    "df_raw = pd.read_feather(f'{PATH_base}\\\\data\\\\interim\\\\bulldozer')"
   ]
  },
  {
   "cell_type": "markdown",
   "metadata": {},
   "source": [
    "# Random Forest"
   ]
  },
  {
   "cell_type": "markdown",
   "metadata": {},
   "source": [
    "## $r^2$ and RMSE"
   ]
  },
  {
   "cell_type": "code",
   "execution_count": 31,
   "metadata": {},
   "outputs": [
    {
     "data": {
      "text/plain": [
       "0.9824105402447549"
      ]
     },
     "execution_count": 31,
     "metadata": {},
     "output_type": "execute_result"
    }
   ],
   "source": [
    "m = RandomForestRegressor(n_jobs=-1)\n",
    "m.fit(df, y)\n",
    "m.score(df, y)"
   ]
  },
  {
   "cell_type": "markdown",
   "metadata": {},
   "source": [
    "This score is the $r^2$ which is defined as :\n",
    "\n",
    "$$r^2 = 1-\\dfrac{SS_{res}}{SS_{tot}}  = 1-\\dfrac{\\sum\\limits_i\\left(y_i-f_i\\right)^2}{\\sum\\limits_i\\left(y_i-\\bar{y}\\right)^2}$$\n",
    "\n",
    "where $y_i$ is the true output, $f_i$ is the model output and $\\bar{y}$ is the mean true output.  Intepretation of different $r^2$ values is as follows\n",
    "  1. $r^2 = 1$ means that the model perfectly predicts the output\n",
    "  1. $r^2 = 0$ means the model does no better than predicting the output using the mean output, i.e., $\\bar{y}$\n",
    "  1. $1 > r^2 > 0 $ means that the model is better than simply using the mean ouptut\n",
    "  1. $r^2 < 0$ means that the model is worse than just using the mean output as a predictor\n",
    " \n",
    "However, $r^2$ by itself, is not a good metric as an overfit model will have an $r^2$ close to 1 for the training set, but would do much worse on a test set. "
   ]
  },
  {
   "cell_type": "markdown",
   "metadata": {},
   "source": [
    "To overcome the issue of overfitting, we can split the data into a training and validation set; using the training set to build the model and the validation set to test how good the model does on a different set of data."
   ]
  },
  {
   "cell_type": "code",
   "execution_count": 32,
   "metadata": {},
   "outputs": [
    {
     "data": {
      "text/plain": [
       "((38000, 65), (38000,), (12000, 65))"
      ]
     },
     "execution_count": 32,
     "metadata": {},
     "output_type": "execute_result"
    }
   ],
   "source": [
    "n_trn = len(df)-12000\n",
    "X_train, X_valid = split_train_val(df,trn_amount=n_trn)\n",
    "y_train, y_valid = split_train_val(y,trn_amount=n_trn)\n",
    "\n",
    "X_train.shape, y_train.shape, X_valid.shape"
   ]
  },
  {
   "cell_type": "code",
   "execution_count": 33,
   "metadata": {
    "scrolled": false
   },
   "outputs": [
    {
     "name": "stdout",
     "output_type": "stream",
     "text": [
      "Training rmse: 0.09349769556571906\n",
      "Validation rmse: 0.0688803687875353\n",
      "Training Score: 0.9834323702372217\n",
      "Validation Score: 0.9718148732063945\n"
     ]
    }
   ],
   "source": [
    "train_rmse = custom_RFscore(m, X_train, y_train)\n",
    "valid_rmse = custom_RFscore(m, X_valid, y_valid) \n",
    "train_score = m.score(X_train, y_train)\n",
    "valid_score = m.score(X_valid, y_valid)\n",
    "print(f'Training rmse: {train_rmse}')\n",
    "print(f'Validation rmse: {valid_rmse}')\n",
    "print(f'Training Score: {train_score}')\n",
    "print(f'Validation Score: {valid_score}')"
   ]
  },
  {
   "cell_type": "markdown",
   "metadata": {},
   "source": [
    "## Speeding Things Up"
   ]
  },
  {
   "cell_type": "code",
   "execution_count": 34,
   "metadata": {},
   "outputs": [],
   "source": [
    "df_trn, y_trn, nas = proc_df(df_raw, 'SalePrice', subset=30000, na_dict=na_dict)\n",
    "X_train, _ = split_train_val(df_trn, trn_amount=20000)\n",
    "y_train, _ = split_train_val(y_trn, trn_amount=20000)"
   ]
  },
  {
   "cell_type": "code",
   "execution_count": 35,
   "metadata": {},
   "outputs": [],
   "source": [
    "m = RandomForestRegressor(n_jobs=-1);\n",
    "m.fit(X_train, y_train);"
   ]
  },
  {
   "cell_type": "code",
   "execution_count": 36,
   "metadata": {},
   "outputs": [
    {
     "name": "stdout",
     "output_type": "stream",
     "text": [
      "Training rmse: 0.09821146385156575\n",
      "Validation rmse: 0.1408816580112238\n",
      "Training Score: 0.9781615564366094\n",
      "Validation Score: 0.8820934386314245\n"
     ]
    }
   ],
   "source": [
    "train_rmse = custom_RFscore(m, X_train, y_train)\n",
    "valid_rmse = custom_RFscore(m, X_valid, y_valid) \n",
    "train_score = m.score(X_train, y_train)\n",
    "valid_score = m.score(X_valid, y_valid)\n",
    "print(f'Training rmse: {train_rmse}')\n",
    "print(f'Validation rmse: {valid_rmse}')\n",
    "print(f'Training Score: {train_score}')\n",
    "print(f'Validation Score: {valid_score}')"
   ]
  },
  {
   "cell_type": "code",
   "execution_count": 37,
   "metadata": {},
   "outputs": [],
   "source": [
    "def print_custom_RFscore():\n",
    "    train_rmse = custom_RFscore(m, X_train, y_train)\n",
    "    valid_rmse = custom_RFscore(m, X_valid, y_valid) \n",
    "    train_score = m.score(X_train, y_train)\n",
    "    valid_score = m.score(X_valid, y_valid)\n",
    "    print(f'Training rmse: {train_rmse}')\n",
    "    print(f'Validation rmse: {valid_rmse}')\n",
    "    print(f'Training Score: {train_score}')\n",
    "    print(f'Validation Score: {valid_score}')"
   ]
  },
  {
   "cell_type": "markdown",
   "metadata": {},
   "source": [
    "## Single Tree"
   ]
  },
  {
   "cell_type": "code",
   "execution_count": 49,
   "metadata": {},
   "outputs": [
    {
     "name": "stdout",
     "output_type": "stream",
     "text": [
      "Training rmse: 0.4597788411499347\n",
      "Validation rmse: 0.3319100874784081\n",
      "Training Score: 0.521375113006602\n",
      "Validation Score: 0.34555979942643605\n"
     ]
    }
   ],
   "source": [
    "m = RandomForestRegressor(n_estimators=1, max_depth=3, bootstrap=False, n_jobs=-1)\n",
    "m.fit(X_train, y_train)\n",
    "print_custom_RFscore()"
   ]
  },
  {
   "cell_type": "code",
   "execution_count": 53,
   "metadata": {},
   "outputs": [
    {
     "data": {
      "text/plain": [
       "{'criterion': 'mse',\n",
       " 'max_depth': 3,\n",
       " 'max_features': 'auto',\n",
       " 'max_leaf_nodes': None,\n",
       " 'min_impurity_decrease': 0.0,\n",
       " 'min_impurity_split': None,\n",
       " 'min_samples_leaf': 1,\n",
       " 'min_samples_split': 2,\n",
       " 'min_weight_fraction_leaf': 0.0,\n",
       " 'presort': False,\n",
       " 'random_state': 925932642,\n",
       " 'splitter': 'best'}"
      ]
     },
     "execution_count": 53,
     "metadata": {},
     "output_type": "execute_result"
    }
   ],
   "source": [
    "export_graphviz(m.estimators_[0],out_file=None,feature_names=df_trn.columns,filled=True,"
   ]
  },
  {
   "cell_type": "code",
   "execution_count": 39,
   "metadata": {
    "scrolled": false
   },
   "outputs": [
    {
     "data": {
      "image/svg+xml": [
       "<?xml version=\"1.0\" encoding=\"UTF-8\" standalone=\"no\"?>\n",
       "<!DOCTYPE svg PUBLIC \"-//W3C//DTD SVG 1.1//EN\"\n",
       " \"http://www.w3.org/Graphics/SVG/1.1/DTD/svg11.dtd\">\n",
       "<!-- Generated by graphviz version 2.40.1 (20161225.0304)\n",
       " -->\n",
       "<!-- Title: Tree Pages: 1 -->\n",
       "<svg width=\"720pt\" height=\"434pt\"\n",
       " viewBox=\"0.00 0.00 720.00 434.49\" xmlns=\"http://www.w3.org/2000/svg\" xmlns:xlink=\"http://www.w3.org/1999/xlink\">\n",
       "<g id=\"graph0\" class=\"graph\" transform=\"scale(.7787 .7787) rotate(0) translate(4 554)\">\n",
       "<title>Tree</title>\n",
       "<polygon fill=\"#ffffff\" stroke=\"transparent\" points=\"-4,4 -4,-554 920.6667,-554 920.6667,4 -4,4\"/>\n",
       "<!-- 0 -->\n",
       "<g id=\"node1\" class=\"node\">\n",
       "<title>0</title>\n",
       "<polygon fill=\"#e58139\" fill-opacity=\"0.600000\" stroke=\"#000000\" points=\"167.6667,-336.5 27.6667,-336.5 27.6667,-268.5 167.6667,-268.5 167.6667,-336.5\"/>\n",
       "<text text-anchor=\"start\" x=\"35.6667\" y=\"-321.3\" font-family=\"Times,serif\" font-size=\"14.00\" fill=\"#000000\">Coupler_System ≤ 0.5</text>\n",
       "<text text-anchor=\"start\" x=\"62.6667\" y=\"-306.3\" font-family=\"Times,serif\" font-size=\"14.00\" fill=\"#000000\">mse = 0.442</text>\n",
       "<text text-anchor=\"start\" x=\"50.6667\" y=\"-291.3\" font-family=\"Times,serif\" font-size=\"14.00\" fill=\"#000000\">samples = 20000</text>\n",
       "<text text-anchor=\"start\" x=\"59.6667\" y=\"-276.3\" font-family=\"Times,serif\" font-size=\"14.00\" fill=\"#000000\">value = 9.941</text>\n",
       "</g>\n",
       "<!-- 1 -->\n",
       "<g id=\"node2\" class=\"node\">\n",
       "<title>1</title>\n",
       "<polygon fill=\"#e58139\" fill-opacity=\"0.690196\" stroke=\"#000000\" points=\"401.6667,-372.5 273.6667,-372.5 273.6667,-304.5 401.6667,-304.5 401.6667,-372.5\"/>\n",
       "<text text-anchor=\"start\" x=\"281.6667\" y=\"-357.3\" font-family=\"Times,serif\" font-size=\"14.00\" fill=\"#000000\">YearMade ≤ 1995.5</text>\n",
       "<text text-anchor=\"start\" x=\"302.6667\" y=\"-342.3\" font-family=\"Times,serif\" font-size=\"14.00\" fill=\"#000000\">mse = 0.386</text>\n",
       "<text text-anchor=\"start\" x=\"290.6667\" y=\"-327.3\" font-family=\"Times,serif\" font-size=\"14.00\" fill=\"#000000\">samples = 16380</text>\n",
       "<text text-anchor=\"start\" x=\"296.1667\" y=\"-312.3\" font-family=\"Times,serif\" font-size=\"14.00\" fill=\"#000000\">value = 10.093</text>\n",
       "</g>\n",
       "<!-- 0&#45;&gt;1 -->\n",
       "<g id=\"edge1\" class=\"edge\">\n",
       "<title>0&#45;&gt;1</title>\n",
       "<path fill=\"none\" stroke=\"#000000\" d=\"M167.7298,-313.0095C197.6875,-317.5031 232.6991,-322.7549 263.1322,-327.3198\"/>\n",
       "<polygon fill=\"#000000\" stroke=\"#000000\" points=\"262.855,-330.8173 273.2636,-328.8395 263.8934,-323.8948 262.855,-330.8173\"/>\n",
       "<text text-anchor=\"middle\" x=\"253.1592\" y=\"-339.9993\" font-family=\"Times,serif\" font-size=\"14.00\" fill=\"#000000\">True</text>\n",
       "</g>\n",
       "<!-- 8 -->\n",
       "<g id=\"node9\" class=\"node\">\n",
       "<title>8</title>\n",
       "<polygon fill=\"#e58139\" fill-opacity=\"0.200000\" stroke=\"#000000\" points=\"404.6667,-245.5 270.6667,-245.5 270.6667,-177.5 404.6667,-177.5 404.6667,-245.5\"/>\n",
       "<text text-anchor=\"start\" x=\"278.6667\" y=\"-230.3\" font-family=\"Times,serif\" font-size=\"14.00\" fill=\"#000000\">fiModelDesc ≤ 147.5</text>\n",
       "<text text-anchor=\"start\" x=\"302.6667\" y=\"-215.3\" font-family=\"Times,serif\" font-size=\"14.00\" fill=\"#000000\">mse = 0.113</text>\n",
       "<text text-anchor=\"start\" x=\"293.6667\" y=\"-200.3\" font-family=\"Times,serif\" font-size=\"14.00\" fill=\"#000000\">samples = 3620</text>\n",
       "<text text-anchor=\"start\" x=\"299.6667\" y=\"-185.3\" font-family=\"Times,serif\" font-size=\"14.00\" fill=\"#000000\">value = 9.252</text>\n",
       "</g>\n",
       "<!-- 0&#45;&gt;8 -->\n",
       "<g id=\"edge8\" class=\"edge\">\n",
       "<title>0&#45;&gt;8</title>\n",
       "<path fill=\"none\" stroke=\"#000000\" d=\"M167.7298,-275.9344C196.9439,-264.8574 230.9639,-251.9581 260.8574,-240.6235\"/>\n",
       "<polygon fill=\"#000000\" stroke=\"#000000\" points=\"262.2973,-243.8208 270.4068,-237.0027 259.8155,-237.2755 262.2973,-243.8208\"/>\n",
       "<text text-anchor=\"middle\" x=\"247.6101\" y=\"-223.0407\" font-family=\"Times,serif\" font-size=\"14.00\" fill=\"#000000\">False</text>\n",
       "</g>\n",
       "<!-- 2 -->\n",
       "<g id=\"node3\" class=\"node\">\n",
       "<title>2</title>\n",
       "<polygon fill=\"#e58139\" fill-opacity=\"0.513725\" stroke=\"#000000\" points=\"665.6667,-486.5 537.6667,-486.5 537.6667,-418.5 665.6667,-418.5 665.6667,-486.5\"/>\n",
       "<text text-anchor=\"start\" x=\"545.6667\" y=\"-471.3\" font-family=\"Times,serif\" font-size=\"14.00\" fill=\"#000000\">Drive_System ≤ 3.5</text>\n",
       "<text text-anchor=\"start\" x=\"566.6667\" y=\"-456.3\" font-family=\"Times,serif\" font-size=\"14.00\" fill=\"#000000\">mse = 0.254</text>\n",
       "<text text-anchor=\"start\" x=\"557.6667\" y=\"-441.3\" font-family=\"Times,serif\" font-size=\"14.00\" fill=\"#000000\">samples = 8169</text>\n",
       "<text text-anchor=\"start\" x=\"563.6667\" y=\"-426.3\" font-family=\"Times,serif\" font-size=\"14.00\" fill=\"#000000\">value = 9.789</text>\n",
       "</g>\n",
       "<!-- 1&#45;&gt;2 -->\n",
       "<g id=\"edge2\" class=\"edge\">\n",
       "<title>1&#45;&gt;2</title>\n",
       "<path fill=\"none\" stroke=\"#000000\" d=\"M401.9107,-366.2418C440.0614,-382.7159 488.572,-403.6637 528.234,-420.7905\"/>\n",
       "<polygon fill=\"#000000\" stroke=\"#000000\" points=\"527.0243,-424.0804 537.5925,-424.8316 529.7994,-417.654 527.0243,-424.0804\"/>\n",
       "</g>\n",
       "<!-- 5 -->\n",
       "<g id=\"node6\" class=\"node\">\n",
       "<title>5</title>\n",
       "<polygon fill=\"#e58139\" fill-opacity=\"0.866667\" stroke=\"#000000\" points=\"683.1667,-372.5 520.1667,-372.5 520.1667,-304.5 683.1667,-304.5 683.1667,-372.5\"/>\n",
       "<text text-anchor=\"start\" x=\"528.1667\" y=\"-357.3\" font-family=\"Times,serif\" font-size=\"14.00\" fill=\"#000000\">fiProductClassDesc ≤ 13.5</text>\n",
       "<text text-anchor=\"start\" x=\"566.6667\" y=\"-342.3\" font-family=\"Times,serif\" font-size=\"14.00\" fill=\"#000000\">mse = 0.335</text>\n",
       "<text text-anchor=\"start\" x=\"557.6667\" y=\"-327.3\" font-family=\"Times,serif\" font-size=\"14.00\" fill=\"#000000\">samples = 8211</text>\n",
       "<text text-anchor=\"start\" x=\"560.1667\" y=\"-312.3\" font-family=\"Times,serif\" font-size=\"14.00\" fill=\"#000000\">value = 10.395</text>\n",
       "</g>\n",
       "<!-- 1&#45;&gt;5 -->\n",
       "<g id=\"edge5\" class=\"edge\">\n",
       "<title>1&#45;&gt;5</title>\n",
       "<path fill=\"none\" stroke=\"#000000\" d=\"M401.9107,-338.5C434.2777,-338.5 474.1015,-338.5 509.6523,-338.5\"/>\n",
       "<polygon fill=\"#000000\" stroke=\"#000000\" points=\"510.0441,-342.0001 520.0441,-338.5 510.0441,-335.0001 510.0441,-342.0001\"/>\n",
       "</g>\n",
       "<!-- 3 -->\n",
       "<g id=\"node4\" class=\"node\">\n",
       "<title>3</title>\n",
       "<polygon fill=\"#e58139\" fill-opacity=\"0.615686\" stroke=\"#000000\" points=\"896.6667,-550 792.6667,-550 792.6667,-497 896.6667,-497 896.6667,-550\"/>\n",
       "<text text-anchor=\"start\" x=\"809.6667\" y=\"-534.8\" font-family=\"Times,serif\" font-size=\"14.00\" fill=\"#000000\">mse = 0.298</text>\n",
       "<text text-anchor=\"start\" x=\"800.6667\" y=\"-519.8\" font-family=\"Times,serif\" font-size=\"14.00\" fill=\"#000000\">samples = 4514</text>\n",
       "<text text-anchor=\"start\" x=\"806.6667\" y=\"-504.8\" font-family=\"Times,serif\" font-size=\"14.00\" fill=\"#000000\">value = 9.968</text>\n",
       "</g>\n",
       "<!-- 2&#45;&gt;3 -->\n",
       "<g id=\"edge3\" class=\"edge\">\n",
       "<title>2&#45;&gt;3</title>\n",
       "<path fill=\"none\" stroke=\"#000000\" d=\"M665.8299,-471.2473C701.9466,-481.7999 746.8335,-494.915 782.602,-505.3659\"/>\n",
       "<polygon fill=\"#000000\" stroke=\"#000000\" points=\"781.8536,-508.7935 792.4339,-508.2386 783.8168,-502.0744 781.8536,-508.7935\"/>\n",
       "</g>\n",
       "<!-- 4 -->\n",
       "<g id=\"node5\" class=\"node\">\n",
       "<title>4</title>\n",
       "<polygon fill=\"#e58139\" fill-opacity=\"0.384314\" stroke=\"#000000\" points=\"896.6667,-479 792.6667,-479 792.6667,-426 896.6667,-426 896.6667,-479\"/>\n",
       "<text text-anchor=\"start\" x=\"809.6667\" y=\"-463.8\" font-family=\"Times,serif\" font-size=\"14.00\" fill=\"#000000\">mse = 0.112</text>\n",
       "<text text-anchor=\"start\" x=\"800.6667\" y=\"-448.8\" font-family=\"Times,serif\" font-size=\"14.00\" fill=\"#000000\">samples = 3655</text>\n",
       "<text text-anchor=\"start\" x=\"806.6667\" y=\"-433.8\" font-family=\"Times,serif\" font-size=\"14.00\" fill=\"#000000\">value = 9.568</text>\n",
       "</g>\n",
       "<!-- 2&#45;&gt;4 -->\n",
       "<g id=\"edge4\" class=\"edge\">\n",
       "<title>2&#45;&gt;4</title>\n",
       "<path fill=\"none\" stroke=\"#000000\" d=\"M665.8299,-452.5C701.7922,-452.5 746.45,-452.5 782.143,-452.5\"/>\n",
       "<polygon fill=\"#000000\" stroke=\"#000000\" points=\"782.4339,-456.0001 792.4339,-452.5 782.4339,-449.0001 782.4339,-456.0001\"/>\n",
       "</g>\n",
       "<!-- 6 -->\n",
       "<g id=\"node7\" class=\"node\">\n",
       "<title>6</title>\n",
       "<polygon fill=\"#e58139\" fill-opacity=\"0.690196\" stroke=\"#000000\" points=\"896.6667,-408 792.6667,-408 792.6667,-355 896.6667,-355 896.6667,-408\"/>\n",
       "<text text-anchor=\"start\" x=\"809.6667\" y=\"-392.8\" font-family=\"Times,serif\" font-size=\"14.00\" fill=\"#000000\">mse = 0.171</text>\n",
       "<text text-anchor=\"start\" x=\"800.6667\" y=\"-377.8\" font-family=\"Times,serif\" font-size=\"14.00\" fill=\"#000000\">samples = 3584</text>\n",
       "<text text-anchor=\"start\" x=\"803.1667\" y=\"-362.8\" font-family=\"Times,serif\" font-size=\"14.00\" fill=\"#000000\">value = 10.097</text>\n",
       "</g>\n",
       "<!-- 5&#45;&gt;6 -->\n",
       "<g id=\"edge6\" class=\"edge\">\n",
       "<title>5&#45;&gt;6</title>\n",
       "<path fill=\"none\" stroke=\"#000000\" d=\"M683.2581,-352.938C715.7136,-358.6811 752.4429,-365.1806 782.6564,-370.527\"/>\n",
       "<polygon fill=\"#000000\" stroke=\"#000000\" points=\"782.1803,-373.997 792.6373,-372.2932 783.4001,-367.1041 782.1803,-373.997\"/>\n",
       "</g>\n",
       "<!-- 7 -->\n",
       "<g id=\"node8\" class=\"node\">\n",
       "<title>7</title>\n",
       "<polygon fill=\"#e58139\" stroke=\"#000000\" points=\"896.6667,-337 792.6667,-337 792.6667,-284 896.6667,-284 896.6667,-337\"/>\n",
       "<text text-anchor=\"start\" x=\"813.1667\" y=\"-321.8\" font-family=\"Times,serif\" font-size=\"14.00\" fill=\"#000000\">mse = 0.34</text>\n",
       "<text text-anchor=\"start\" x=\"800.6667\" y=\"-306.8\" font-family=\"Times,serif\" font-size=\"14.00\" fill=\"#000000\">samples = 4627</text>\n",
       "<text text-anchor=\"start\" x=\"803.1667\" y=\"-291.8\" font-family=\"Times,serif\" font-size=\"14.00\" fill=\"#000000\">value = 10.626</text>\n",
       "</g>\n",
       "<!-- 5&#45;&gt;7 -->\n",
       "<g id=\"edge7\" class=\"edge\">\n",
       "<title>5&#45;&gt;7</title>\n",
       "<path fill=\"none\" stroke=\"#000000\" d=\"M683.2581,-329.0985C715.7136,-325.3588 752.4429,-321.1266 782.6564,-317.6452\"/>\n",
       "<polygon fill=\"#000000\" stroke=\"#000000\" points=\"783.1037,-321.1169 792.6373,-316.4952 782.3023,-314.1629 783.1037,-321.1169\"/>\n",
       "</g>\n",
       "<!-- 9 -->\n",
       "<g id=\"node10\" class=\"node\">\n",
       "<title>9</title>\n",
       "<polygon fill=\"#e58139\" fill-opacity=\"0.098039\" stroke=\"#000000\" points=\"665.6667,-245.5 537.6667,-245.5 537.6667,-177.5 665.6667,-177.5 665.6667,-245.5\"/>\n",
       "<text text-anchor=\"start\" x=\"545.6667\" y=\"-230.3\" font-family=\"Times,serif\" font-size=\"14.00\" fill=\"#000000\">YearMade ≤ 1989.5</text>\n",
       "<text text-anchor=\"start\" x=\"570.1667\" y=\"-215.3\" font-family=\"Times,serif\" font-size=\"14.00\" fill=\"#000000\">mse = 0.09</text>\n",
       "<text text-anchor=\"start\" x=\"557.6667\" y=\"-200.3\" font-family=\"Times,serif\" font-size=\"14.00\" fill=\"#000000\">samples = 1638</text>\n",
       "<text text-anchor=\"start\" x=\"563.6667\" y=\"-185.3\" font-family=\"Times,serif\" font-size=\"14.00\" fill=\"#000000\">value = 9.079</text>\n",
       "</g>\n",
       "<!-- 8&#45;&gt;9 -->\n",
       "<g id=\"edge9\" class=\"edge\">\n",
       "<title>8&#45;&gt;9</title>\n",
       "<path fill=\"none\" stroke=\"#000000\" d=\"M404.9681,-211.5C442.2706,-211.5 488.7314,-211.5 527.1307,-211.5\"/>\n",
       "<polygon fill=\"#000000\" stroke=\"#000000\" points=\"527.2196,-215.0001 537.2196,-211.5 527.2195,-208.0001 527.2196,-215.0001\"/>\n",
       "</g>\n",
       "<!-- 12 -->\n",
       "<g id=\"node13\" class=\"node\">\n",
       "<title>12</title>\n",
       "<polygon fill=\"#e58139\" fill-opacity=\"0.282353\" stroke=\"#000000\" points=\"688.6667,-131.5 514.6667,-131.5 514.6667,-63.5 688.6667,-63.5 688.6667,-131.5\"/>\n",
       "<text text-anchor=\"start\" x=\"522.6667\" y=\"-116.3\" font-family=\"Times,serif\" font-size=\"14.00\" fill=\"#000000\">saleElapsed ≤ 1214136064.0</text>\n",
       "<text text-anchor=\"start\" x=\"566.6667\" y=\"-101.3\" font-family=\"Times,serif\" font-size=\"14.00\" fill=\"#000000\">mse = 0.088</text>\n",
       "<text text-anchor=\"start\" x=\"557.6667\" y=\"-86.3\" font-family=\"Times,serif\" font-size=\"14.00\" fill=\"#000000\">samples = 1982</text>\n",
       "<text text-anchor=\"start\" x=\"563.6667\" y=\"-71.3\" font-family=\"Times,serif\" font-size=\"14.00\" fill=\"#000000\">value = 9.395</text>\n",
       "</g>\n",
       "<!-- 8&#45;&gt;12 -->\n",
       "<g id=\"edge12\" class=\"edge\">\n",
       "<title>8&#45;&gt;12</title>\n",
       "<path fill=\"none\" stroke=\"#000000\" d=\"M404.9681,-182.438C437.9234,-168.2073 478.0266,-150.89 513.4042,-135.6133\"/>\n",
       "<polygon fill=\"#000000\" stroke=\"#000000\" points=\"514.9736,-138.7481 522.7667,-131.5704 512.1985,-132.3216 514.9736,-138.7481\"/>\n",
       "</g>\n",
       "<!-- 10 -->\n",
       "<g id=\"node11\" class=\"node\">\n",
       "<title>10</title>\n",
       "<polygon fill=\"transparent\" stroke=\"#000000\" points=\"893.1667,-266 796.1667,-266 796.1667,-213 893.1667,-213 893.1667,-266\"/>\n",
       "<text text-anchor=\"start\" x=\"809.6667\" y=\"-250.8\" font-family=\"Times,serif\" font-size=\"14.00\" fill=\"#000000\">mse = 0.076</text>\n",
       "<text text-anchor=\"start\" x=\"804.1667\" y=\"-235.8\" font-family=\"Times,serif\" font-size=\"14.00\" fill=\"#000000\">samples = 335</text>\n",
       "<text text-anchor=\"start\" x=\"806.6667\" y=\"-220.8\" font-family=\"Times,serif\" font-size=\"14.00\" fill=\"#000000\">value = 8.911</text>\n",
       "</g>\n",
       "<!-- 9&#45;&gt;10 -->\n",
       "<g id=\"edge10\" class=\"edge\">\n",
       "<title>9&#45;&gt;10</title>\n",
       "<path fill=\"none\" stroke=\"#000000\" d=\"M665.8299,-218.8933C703.1033,-223.1882 749.7179,-228.5594 786.0102,-232.7412\"/>\n",
       "<polygon fill=\"#000000\" stroke=\"#000000\" points=\"785.6215,-236.2195 795.9564,-233.8873 786.4228,-229.2655 785.6215,-236.2195\"/>\n",
       "</g>\n",
       "<!-- 11 -->\n",
       "<g id=\"node12\" class=\"node\">\n",
       "<title>11</title>\n",
       "<polygon fill=\"#e58139\" fill-opacity=\"0.125490\" stroke=\"#000000\" points=\"896.6667,-195 792.6667,-195 792.6667,-142 896.6667,-142 896.6667,-195\"/>\n",
       "<text text-anchor=\"start\" x=\"809.6667\" y=\"-179.8\" font-family=\"Times,serif\" font-size=\"14.00\" fill=\"#000000\">mse = 0.084</text>\n",
       "<text text-anchor=\"start\" x=\"800.6667\" y=\"-164.8\" font-family=\"Times,serif\" font-size=\"14.00\" fill=\"#000000\">samples = 1303</text>\n",
       "<text text-anchor=\"start\" x=\"806.6667\" y=\"-149.8\" font-family=\"Times,serif\" font-size=\"14.00\" fill=\"#000000\">value = 9.123</text>\n",
       "</g>\n",
       "<!-- 9&#45;&gt;11 -->\n",
       "<g id=\"edge11\" class=\"edge\">\n",
       "<title>9&#45;&gt;11</title>\n",
       "<path fill=\"none\" stroke=\"#000000\" d=\"M665.8299,-200.146C701.7922,-193.7823 746.45,-185.8799 782.143,-179.5639\"/>\n",
       "<polygon fill=\"#000000\" stroke=\"#000000\" points=\"783.1968,-182.9318 792.4339,-177.7428 781.977,-176.0389 783.1968,-182.9318\"/>\n",
       "</g>\n",
       "<!-- 13 -->\n",
       "<g id=\"node14\" class=\"node\">\n",
       "<title>13</title>\n",
       "<polygon fill=\"#e58139\" fill-opacity=\"0.337255\" stroke=\"#000000\" points=\"896.6667,-124 792.6667,-124 792.6667,-71 896.6667,-71 896.6667,-124\"/>\n",
       "<text text-anchor=\"start\" x=\"809.6667\" y=\"-108.8\" font-family=\"Times,serif\" font-size=\"14.00\" fill=\"#000000\">mse = 0.072</text>\n",
       "<text text-anchor=\"start\" x=\"800.6667\" y=\"-93.8\" font-family=\"Times,serif\" font-size=\"14.00\" fill=\"#000000\">samples = 1008</text>\n",
       "<text text-anchor=\"start\" x=\"809.6667\" y=\"-78.8\" font-family=\"Times,serif\" font-size=\"14.00\" fill=\"#000000\">value = 9.49</text>\n",
       "</g>\n",
       "<!-- 12&#45;&gt;13 -->\n",
       "<g id=\"edge13\" class=\"edge\">\n",
       "<title>12&#45;&gt;13</title>\n",
       "<path fill=\"none\" stroke=\"#000000\" d=\"M688.7089,-97.5C719.6376,-97.5 753.8138,-97.5 782.2711,-97.5\"/>\n",
       "<polygon fill=\"#000000\" stroke=\"#000000\" points=\"782.48,-101.0001 792.48,-97.5 782.4799,-94.0001 782.48,-101.0001\"/>\n",
       "</g>\n",
       "<!-- 14 -->\n",
       "<g id=\"node15\" class=\"node\">\n",
       "<title>14</title>\n",
       "<polygon fill=\"#e58139\" fill-opacity=\"0.223529\" stroke=\"#000000\" points=\"893.1667,-53 796.1667,-53 796.1667,0 893.1667,0 893.1667,-53\"/>\n",
       "<text text-anchor=\"start\" x=\"809.6667\" y=\"-37.8\" font-family=\"Times,serif\" font-size=\"14.00\" fill=\"#000000\">mse = 0.085</text>\n",
       "<text text-anchor=\"start\" x=\"804.1667\" y=\"-22.8\" font-family=\"Times,serif\" font-size=\"14.00\" fill=\"#000000\">samples = 974</text>\n",
       "<text text-anchor=\"start\" x=\"806.6667\" y=\"-7.8\" font-family=\"Times,serif\" font-size=\"14.00\" fill=\"#000000\">value = 9.297</text>\n",
       "</g>\n",
       "<!-- 12&#45;&gt;14 -->\n",
       "<g id=\"edge14\" class=\"edge\">\n",
       "<title>12&#45;&gt;14</title>\n",
       "<path fill=\"none\" stroke=\"#000000\" d=\"M688.7089,-72.0679C721.1324,-62.5944 757.125,-52.078 786.3561,-43.5372\"/>\n",
       "<polygon fill=\"#000000\" stroke=\"#000000\" points=\"787.3781,-46.885 795.9952,-40.7209 785.4149,-40.166 787.3781,-46.885\"/>\n",
       "</g>\n",
       "</g>\n",
       "</svg>\n"
      ],
      "text/plain": [
       "<graphviz.files.Source at 0x7d7cf6e535c0>"
      ]
     },
     "metadata": {},
     "output_type": "display_data"
    }
   ],
   "source": [
    "draw_tree(m.estimators_[0], df_trn, precision=3)"
   ]
  },
  {
   "cell_type": "markdown",
   "metadata": {},
   "source": [
    "### Interpreting the Decision Tree"
   ]
  },
  {
   "cell_type": "markdown",
   "metadata": {},
   "source": [
    "If I took the mean output of my entire dataset and used that to predict the output for each individual observation, what would the mean square error be?"
   ]
  },
  {
   "cell_type": "code",
   "execution_count": 40,
   "metadata": {
    "scrolled": true
   },
   "outputs": [
    {
     "name": "stdout",
     "output_type": "stream",
     "text": [
      "mean square error = 0.442\n",
      "samples = 20000\n",
      "mean value = 9.941\n"
     ]
    }
   ],
   "source": [
    "mse = ((y_train - y_train.mean())**2).mean()\n",
    "print(f'mean square error = {round(mse,3)}')\n",
    "print(f'samples = {len(y_train)}')\n",
    "print(f'mean value = {round(y_train.mean(),3)}')"
   ]
  },
  {
   "cell_type": "markdown",
   "metadata": {},
   "source": [
    "Taking a look at the tree above, we can now see that the `values` and `mse` term of the first box correspond to the mean output value and mean squared error using the output value of the entire dataset. Let's see if this analysis holds true for the next couple of boxes."
   ]
  },
  {
   "cell_type": "code",
   "execution_count": 41,
   "metadata": {},
   "outputs": [
    {
     "name": "stdout",
     "output_type": "stream",
     "text": [
      "mean square error = 0.386\n",
      "samples = 16380\n",
      "mean value = 10.093\n"
     ]
    }
   ],
   "source": [
    "y_train_2_1 = y_train[list(X_train.Coupler_System <= 0.5)]\n",
    "mse = ((y_train_2_1 - y_train_2_1.mean())**2).mean()\n",
    "print(f'mean square error = {round(mse,3)}')\n",
    "print(f'samples = {len(y_train_2_1)}')\n",
    "print(f'mean value = {round(y_train_2_1.mean(),3)}')"
   ]
  },
  {
   "cell_type": "code",
   "execution_count": 42,
   "metadata": {},
   "outputs": [
    {
     "name": "stdout",
     "output_type": "stream",
     "text": [
      "mean square error = 0.113\n",
      "samples = 3620\n",
      "mean value = 9.252\n"
     ]
    }
   ],
   "source": [
    "y_train_2_2 = y_train[list(X_train.Coupler_System > 0.5 )]\n",
    "mse = ((y_train_2_2 - y_train_2_2.mean())**2).mean()\n",
    "print(f'mean square error = {round(mse,3)}')\n",
    "print(f'samples = {len(y_train_2_2)}')\n",
    "print(f'mean value = {round(y_train_2_2.mean(),3)}')"
   ]
  },
  {
   "cell_type": "code",
   "execution_count": 43,
   "metadata": {},
   "outputs": [
    {
     "name": "stdout",
     "output_type": "stream",
     "text": [
      "mean square error = 0.254\n",
      "samples = 6749\n",
      "mean value = 9.737\n"
     ]
    }
   ],
   "source": [
    "y_train_3_1 = y_train[list((X_train.Coupler_System <= 0.5)  & (X_train.YearMade <= 1991.5))]\n",
    "mse = ((y_train_3_1 - y_train_3_1.mean())**2).mean()\n",
    "print(f'mean square error = {round(mse,3)}')\n",
    "print(f'samples = {len(y_train_3_1)}')\n",
    "print(f'mean value = {round(y_train_3_1.mean(),3)}')"
   ]
  },
  {
   "cell_type": "markdown",
   "metadata": {},
   "source": [
    "## Bagging"
   ]
  },
  {
   "cell_type": "markdown",
   "metadata": {},
   "source": [
    "The problem with using a single tree is that the smaller the leaf nodes are, the more overfit the model is.  When the leaf nodes only have a single value in them, the model is perfectly predicts the training set but does not score nearly as high on the validation set"
   ]
  },
  {
   "cell_type": "code",
   "execution_count": 46,
   "metadata": {},
   "outputs": [
    {
     "name": "stdout",
     "output_type": "stream",
     "text": [
      "Training rmse: 2.3874896000997127e-06\n",
      "Validation rmse: 0.17997538860410744\n",
      "Training Score: 0.9999999999870944\n",
      "Validation Score: 0.8075777425128688\n"
     ]
    }
   ],
   "source": [
    "m = RandomForestRegressor(n_estimators=1, bootstrap=False, n_jobs=-1)\n",
    "m.fit(X_train, y_train)\n",
    "print_custom_RFscore()"
   ]
  },
  {
   "cell_type": "code",
   "execution_count": 45,
   "metadata": {},
   "outputs": [
    {
     "name": "stdout",
     "output_type": "stream",
     "text": [
      "Training rmse: 0.051060578487003024\n",
      "Validation rmse: 0.1817210929663896\n",
      "Training Score: 0.9940970544696073\n",
      "Validation Score: 0.8038267685733541\n"
     ]
    }
   ],
   "source": [
    "m = RandomForestRegressor(n_estimators=1, max_depth=20, bootstrap=False, n_jobs=-1)\n",
    "m.fit(X_train, y_train)\n",
    "print_custom_RFscore()"
   ]
  },
  {
   "cell_type": "markdown",
   "metadata": {},
   "source": [
    "To go from single decision trees to a random forest, you want to somehow combine multiple decision trees to end up with a result that is somehow better than any single decision tree.  This act of combining models to get a better model is called ensembling.  For the random forest, the idea being that you create lots of \"bad\" decision trees, where each one does contain some insight about your data as well as significantly overfitting the data (high score on training set, low score on validation set).  If you repeat this with lots of uncorrelated trees then their overfitting errors, which are randomly distributed, should average to zero, while retaining each individual tree's true information.\n",
    "\n",
    "To uncorrelate the data we can randomly choose a subset of the data for each decision tree.\n",
    "\n",
    "Lucky for us this is what scikit-learn does by default (this is the bootstrap parameter in the RandomForestRegressor (RFR)).  Technically, the RFR, picks out n_rows with replacement."
   ]
  },
  {
   "cell_type": "code",
   "execution_count": 60,
   "metadata": {},
   "outputs": [],
   "source": [
    "m = RandomForestRegressor(n_estimators=3, max_depth=2, bootstrap=True, n_jobs=-1, max_features=0.5)\n",
    "m.fit(X_train, y_train);"
   ]
  },
  {
   "cell_type": "code",
   "execution_count": 82,
   "metadata": {
    "scrolled": true
   },
   "outputs": [
    {
     "data": {
      "text/html": [
       "<div>\n",
       "<style scoped>\n",
       "    .dataframe tbody tr th:only-of-type {\n",
       "        vertical-align: middle;\n",
       "    }\n",
       "\n",
       "    .dataframe tbody tr th {\n",
       "        vertical-align: top;\n",
       "    }\n",
       "\n",
       "    .dataframe thead th {\n",
       "        text-align: right;\n",
       "    }\n",
       "</style>\n",
       "<table border=\"1\" class=\"dataframe\">\n",
       "  <thead>\n",
       "    <tr style=\"text-align: right;\">\n",
       "      <th></th>\n",
       "      <th>Coupler_System</th>\n",
       "      <th>YearMade</th>\n",
       "      <th>fiModelDesc</th>\n",
       "      <th>prediction</th>\n",
       "    </tr>\n",
       "  </thead>\n",
       "  <tbody>\n",
       "    <tr>\n",
       "      <th>41307</th>\n",
       "      <td>0</td>\n",
       "      <td>1989</td>\n",
       "      <td>617</td>\n",
       "      <td>9.753</td>\n",
       "    </tr>\n",
       "    <tr>\n",
       "      <th>38621</th>\n",
       "      <td>0</td>\n",
       "      <td>1989</td>\n",
       "      <td>647</td>\n",
       "      <td>9.753</td>\n",
       "    </tr>\n",
       "    <tr>\n",
       "      <th>48595</th>\n",
       "      <td>0</td>\n",
       "      <td>1997</td>\n",
       "      <td>625</td>\n",
       "      <td>10.365</td>\n",
       "    </tr>\n",
       "  </tbody>\n",
       "</table>\n",
       "</div>"
      ],
      "text/plain": [
       "       Coupler_System  YearMade  fiModelDesc  prediction\n",
       "41307               0      1989          617       9.753\n",
       "38621               0      1989          647       9.753\n",
       "48595               0      1997          625      10.365"
      ]
     },
     "execution_count": 82,
     "metadata": {},
     "output_type": "execute_result"
    }
   ],
   "source": [
    "X_pred0 = X_samp[['Coupler_System','YearMade','fiModelDesc']].copy()\n",
    "X_pred0['prediction'] = np.round(preds[0,:],3)\n",
    "X_pred0"
   ]
  },
  {
   "cell_type": "code",
   "execution_count": null,
   "metadata": {},
   "outputs": [],
   "source": [
    "# X_samp = X_valid.sample(3)\n",
    "preds = np.stack([t.predict(X_samp) for t in m.estimators_])\n",
    "np.round(preds,3)"
   ]
  },
  {
   "cell_type": "code",
   "execution_count": 61,
   "metadata": {},
   "outputs": [
    {
     "data": {
      "image/svg+xml": [
       "<?xml version=\"1.0\" encoding=\"UTF-8\" standalone=\"no\"?>\n",
       "<!DOCTYPE svg PUBLIC \"-//W3C//DTD SVG 1.1//EN\"\n",
       " \"http://www.w3.org/Graphics/SVG/1.1/DTD/svg11.dtd\">\n",
       "<!-- Generated by graphviz version 2.40.1 (20161225.0304)\n",
       " -->\n",
       "<!-- Title: Tree Pages: 1 -->\n",
       "<svg width=\"458pt\" height=\"278pt\"\n",
       " viewBox=\"0.00 0.00 458.00 278.00\" xmlns=\"http://www.w3.org/2000/svg\" xmlns:xlink=\"http://www.w3.org/1999/xlink\">\n",
       "<g id=\"graph0\" class=\"graph\" transform=\"scale(1 1) rotate(0) translate(4 274)\">\n",
       "<title>Tree</title>\n",
       "<polygon fill=\"#ffffff\" stroke=\"transparent\" points=\"-4,4 -4,-274 454,-274 454,4 -4,4\"/>\n",
       "<!-- 0 -->\n",
       "<g id=\"node1\" class=\"node\">\n",
       "<title>0</title>\n",
       "<polygon fill=\"#e58139\" fill-opacity=\"0.666667\" stroke=\"#000000\" points=\"140,-170.5 0,-170.5 0,-102.5 140,-102.5 140,-170.5\"/>\n",
       "<text text-anchor=\"start\" x=\"8\" y=\"-155.3\" font-family=\"Times,serif\" font-size=\"14.00\" fill=\"#000000\">Coupler_System ≤ 0.5</text>\n",
       "<text text-anchor=\"start\" x=\"35\" y=\"-140.3\" font-family=\"Times,serif\" font-size=\"14.00\" fill=\"#000000\">mse = 0.437</text>\n",
       "<text text-anchor=\"start\" x=\"23\" y=\"-125.3\" font-family=\"Times,serif\" font-size=\"14.00\" fill=\"#000000\">samples = 12596</text>\n",
       "<text text-anchor=\"start\" x=\"32\" y=\"-110.3\" font-family=\"Times,serif\" font-size=\"14.00\" fill=\"#000000\">value = 9.936</text>\n",
       "</g>\n",
       "<!-- 1 -->\n",
       "<g id=\"node2\" class=\"node\">\n",
       "<title>1</title>\n",
       "<polygon fill=\"#e58139\" fill-opacity=\"0.784314\" stroke=\"#000000\" points=\"307,-213.5 179,-213.5 179,-145.5 307,-145.5 307,-213.5\"/>\n",
       "<text text-anchor=\"start\" x=\"187\" y=\"-198.3\" font-family=\"Times,serif\" font-size=\"14.00\" fill=\"#000000\">YearMade ≤ 1994.5</text>\n",
       "<text text-anchor=\"start\" x=\"208\" y=\"-183.3\" font-family=\"Times,serif\" font-size=\"14.00\" fill=\"#000000\">mse = 0.381</text>\n",
       "<text text-anchor=\"start\" x=\"196\" y=\"-168.3\" font-family=\"Times,serif\" font-size=\"14.00\" fill=\"#000000\">samples = 10308</text>\n",
       "<text text-anchor=\"start\" x=\"201.5\" y=\"-153.3\" font-family=\"Times,serif\" font-size=\"14.00\" fill=\"#000000\">value = 10.088</text>\n",
       "</g>\n",
       "<!-- 0&#45;&gt;1 -->\n",
       "<g id=\"edge1\" class=\"edge\">\n",
       "<title>0&#45;&gt;1</title>\n",
       "<path fill=\"none\" stroke=\"#000000\" d=\"M140.3657,-153.9897C149.8081,-156.3367 159.5164,-158.7497 169.0188,-161.1116\"/>\n",
       "<polygon fill=\"#000000\" stroke=\"#000000\" points=\"168.278,-164.5339 178.827,-163.5495 169.9666,-157.7406 168.278,-164.5339\"/>\n",
       "<text text-anchor=\"middle\" x=\"157.4072\" y=\"-172.741\" font-family=\"Times,serif\" font-size=\"14.00\" fill=\"#000000\">True</text>\n",
       "</g>\n",
       "<!-- 4 -->\n",
       "<g id=\"node5\" class=\"node\">\n",
       "<title>4</title>\n",
       "<polygon fill=\"#e58139\" fill-opacity=\"0.133333\" stroke=\"#000000\" points=\"310,-127.5 176,-127.5 176,-59.5 310,-59.5 310,-127.5\"/>\n",
       "<text text-anchor=\"start\" x=\"184\" y=\"-112.3\" font-family=\"Times,serif\" font-size=\"14.00\" fill=\"#000000\">fiModelDesc ≤ 147.5</text>\n",
       "<text text-anchor=\"start\" x=\"208\" y=\"-97.3\" font-family=\"Times,serif\" font-size=\"14.00\" fill=\"#000000\">mse = 0.112</text>\n",
       "<text text-anchor=\"start\" x=\"199\" y=\"-82.3\" font-family=\"Times,serif\" font-size=\"14.00\" fill=\"#000000\">samples = 2288</text>\n",
       "<text text-anchor=\"start\" x=\"205\" y=\"-67.3\" font-family=\"Times,serif\" font-size=\"14.00\" fill=\"#000000\">value = 9.248</text>\n",
       "</g>\n",
       "<!-- 0&#45;&gt;4 -->\n",
       "<g id=\"edge4\" class=\"edge\">\n",
       "<title>0&#45;&gt;4</title>\n",
       "<path fill=\"none\" stroke=\"#000000\" d=\"M140.3657,-119.0103C148.7703,-116.9212 157.3856,-114.7799 165.8789,-112.6688\"/>\n",
       "<polygon fill=\"#000000\" stroke=\"#000000\" points=\"166.9127,-116.0184 175.7732,-110.2096 165.2242,-109.2251 166.9127,-116.0184\"/>\n",
       "<text text-anchor=\"middle\" x=\"154.3534\" y=\"-93.618\" font-family=\"Times,serif\" font-size=\"14.00\" fill=\"#000000\">False</text>\n",
       "</g>\n",
       "<!-- 2 -->\n",
       "<g id=\"node3\" class=\"node\">\n",
       "<title>2</title>\n",
       "<polygon fill=\"#e58139\" fill-opacity=\"0.525490\" stroke=\"#000000\" points=\"450,-270 346,-270 346,-217 450,-217 450,-270\"/>\n",
       "<text text-anchor=\"start\" x=\"363\" y=\"-254.8\" font-family=\"Times,serif\" font-size=\"14.00\" fill=\"#000000\">mse = 0.248</text>\n",
       "<text text-anchor=\"start\" x=\"354\" y=\"-239.8\" font-family=\"Times,serif\" font-size=\"14.00\" fill=\"#000000\">samples = 4658</text>\n",
       "<text text-anchor=\"start\" x=\"360\" y=\"-224.8\" font-family=\"Times,serif\" font-size=\"14.00\" fill=\"#000000\">value = 9.753</text>\n",
       "</g>\n",
       "<!-- 1&#45;&gt;2 -->\n",
       "<g id=\"edge2\" class=\"edge\">\n",
       "<title>1&#45;&gt;2</title>\n",
       "<path fill=\"none\" stroke=\"#000000\" d=\"M307.3874,-206.0858C316.9942,-210.0524 326.8779,-214.1334 336.4246,-218.0753\"/>\n",
       "<polygon fill=\"#000000\" stroke=\"#000000\" points=\"335.2575,-221.38 345.8363,-221.9614 337.929,-214.9098 335.2575,-221.38\"/>\n",
       "</g>\n",
       "<!-- 3 -->\n",
       "<g id=\"node4\" class=\"node\">\n",
       "<title>3</title>\n",
       "<polygon fill=\"#e58139\" stroke=\"#000000\" points=\"450,-199 346,-199 346,-146 450,-146 450,-199\"/>\n",
       "<text text-anchor=\"start\" x=\"363\" y=\"-183.8\" font-family=\"Times,serif\" font-size=\"14.00\" fill=\"#000000\">mse = 0.322</text>\n",
       "<text text-anchor=\"start\" x=\"354\" y=\"-168.8\" font-family=\"Times,serif\" font-size=\"14.00\" fill=\"#000000\">samples = 5650</text>\n",
       "<text text-anchor=\"start\" x=\"356.5\" y=\"-153.8\" font-family=\"Times,serif\" font-size=\"14.00\" fill=\"#000000\">value = 10.365</text>\n",
       "</g>\n",
       "<!-- 1&#45;&gt;3 -->\n",
       "<g id=\"edge3\" class=\"edge\">\n",
       "<title>1&#45;&gt;3</title>\n",
       "<path fill=\"none\" stroke=\"#000000\" d=\"M307.3874,-176.5922C316.7941,-176.1674 326.4662,-175.7306 335.8275,-175.3078\"/>\n",
       "<polygon fill=\"#000000\" stroke=\"#000000\" points=\"336.0044,-178.8035 345.8363,-174.8558 335.6886,-171.8106 336.0044,-178.8035\"/>\n",
       "</g>\n",
       "<!-- 5 -->\n",
       "<g id=\"node6\" class=\"node\">\n",
       "<title>5</title>\n",
       "<polygon fill=\"transparent\" stroke=\"#000000\" points=\"450,-124 346,-124 346,-71 450,-71 450,-124\"/>\n",
       "<text text-anchor=\"start\" x=\"366.5\" y=\"-108.8\" font-family=\"Times,serif\" font-size=\"14.00\" fill=\"#000000\">mse = 0.09</text>\n",
       "<text text-anchor=\"start\" x=\"354\" y=\"-93.8\" font-family=\"Times,serif\" font-size=\"14.00\" fill=\"#000000\">samples = 1043</text>\n",
       "<text text-anchor=\"start\" x=\"360\" y=\"-78.8\" font-family=\"Times,serif\" font-size=\"14.00\" fill=\"#000000\">value = 9.076</text>\n",
       "</g>\n",
       "<!-- 4&#45;&gt;5 -->\n",
       "<g id=\"edge5\" class=\"edge\">\n",
       "<title>4&#45;&gt;5</title>\n",
       "<path fill=\"none\" stroke=\"#000000\" d=\"M310.0838,-95.2312C318.5762,-95.4504 327.2385,-95.6739 335.6529,-95.891\"/>\n",
       "<polygon fill=\"#000000\" stroke=\"#000000\" points=\"335.6785,-99.3928 345.7655,-96.152 335.8591,-92.3951 335.6785,-99.3928\"/>\n",
       "</g>\n",
       "<!-- 6 -->\n",
       "<g id=\"node7\" class=\"node\">\n",
       "<title>6</title>\n",
       "<polygon fill=\"#e58139\" fill-opacity=\"0.247059\" stroke=\"#000000\" points=\"450,-53 346,-53 346,0 450,0 450,-53\"/>\n",
       "<text text-anchor=\"start\" x=\"363\" y=\"-37.8\" font-family=\"Times,serif\" font-size=\"14.00\" fill=\"#000000\">mse = 0.086</text>\n",
       "<text text-anchor=\"start\" x=\"354\" y=\"-22.8\" font-family=\"Times,serif\" font-size=\"14.00\" fill=\"#000000\">samples = 1245</text>\n",
       "<text text-anchor=\"start\" x=\"360\" y=\"-7.8\" font-family=\"Times,serif\" font-size=\"14.00\" fill=\"#000000\">value = 9.394</text>\n",
       "</g>\n",
       "<!-- 4&#45;&gt;6 -->\n",
       "<g id=\"edge6\" class=\"edge\">\n",
       "<title>4&#45;&gt;6</title>\n",
       "<path fill=\"none\" stroke=\"#000000\" d=\"M310.0838,-64.5025C318.8561,-60.7106 327.8098,-56.8403 336.4842,-53.0907\"/>\n",
       "<polygon fill=\"#000000\" stroke=\"#000000\" points=\"337.975,-56.2593 345.7655,-49.0788 335.1976,-49.8339 337.975,-56.2593\"/>\n",
       "</g>\n",
       "</g>\n",
       "</svg>\n"
      ],
      "text/plain": [
       "<graphviz.files.Source at 0x7d7d24fdd6a0>"
      ]
     },
     "metadata": {},
     "output_type": "display_data"
    }
   ],
   "source": [
    "draw_tree(m.estimators_[0], df_trn, precision=3)"
   ]
  },
  {
   "cell_type": "code",
   "execution_count": 83,
   "metadata": {},
   "outputs": [
    {
     "data": {
      "text/html": [
       "<div>\n",
       "<style scoped>\n",
       "    .dataframe tbody tr th:only-of-type {\n",
       "        vertical-align: middle;\n",
       "    }\n",
       "\n",
       "    .dataframe tbody tr th {\n",
       "        vertical-align: top;\n",
       "    }\n",
       "\n",
       "    .dataframe thead th {\n",
       "        text-align: right;\n",
       "    }\n",
       "</style>\n",
       "<table border=\"1\" class=\"dataframe\">\n",
       "  <thead>\n",
       "    <tr style=\"text-align: right;\">\n",
       "      <th></th>\n",
       "      <th>ProductGroupDesc</th>\n",
       "      <th>fiProductClassDesc</th>\n",
       "      <th>YearMade</th>\n",
       "      <th>prediction</th>\n",
       "    </tr>\n",
       "  </thead>\n",
       "  <tbody>\n",
       "    <tr>\n",
       "      <th>41307</th>\n",
       "      <td>1</td>\n",
       "      <td>2</td>\n",
       "      <td>1989</td>\n",
       "      <td>9.850</td>\n",
       "    </tr>\n",
       "    <tr>\n",
       "      <th>38621</th>\n",
       "      <td>6</td>\n",
       "      <td>58</td>\n",
       "      <td>1989</td>\n",
       "      <td>9.921</td>\n",
       "    </tr>\n",
       "    <tr>\n",
       "      <th>48595</th>\n",
       "      <td>1</td>\n",
       "      <td>2</td>\n",
       "      <td>1997</td>\n",
       "      <td>9.850</td>\n",
       "    </tr>\n",
       "  </tbody>\n",
       "</table>\n",
       "</div>"
      ],
      "text/plain": [
       "       ProductGroupDesc  fiProductClassDesc  YearMade  prediction\n",
       "41307                 1                   2      1989       9.850\n",
       "38621                 6                  58      1989       9.921\n",
       "48595                 1                   2      1997       9.850"
      ]
     },
     "execution_count": 83,
     "metadata": {},
     "output_type": "execute_result"
    }
   ],
   "source": [
    "X_pred1 = X_samp[['ProductGroupDesc','fiProductClassDesc','YearMade']].copy()\n",
    "X_pred1['prediction'] = np.round(preds[1,:],3)\n",
    "X_pred1"
   ]
  },
  {
   "cell_type": "code",
   "execution_count": 62,
   "metadata": {},
   "outputs": [
    {
     "data": {
      "image/svg+xml": [
       "<?xml version=\"1.0\" encoding=\"UTF-8\" standalone=\"no\"?>\n",
       "<!DOCTYPE svg PUBLIC \"-//W3C//DTD SVG 1.1//EN\"\n",
       " \"http://www.w3.org/Graphics/SVG/1.1/DTD/svg11.dtd\">\n",
       "<!-- Generated by graphviz version 2.40.1 (20161225.0304)\n",
       " -->\n",
       "<!-- Title: Tree Pages: 1 -->\n",
       "<svg width=\"500pt\" height=\"303pt\"\n",
       " viewBox=\"0.00 0.00 500.00 303.20\" xmlns=\"http://www.w3.org/2000/svg\" xmlns:xlink=\"http://www.w3.org/1999/xlink\">\n",
       "<g id=\"graph0\" class=\"graph\" transform=\"scale(1 1) rotate(0) translate(4 299.2)\">\n",
       "<title>Tree</title>\n",
       "<polygon fill=\"#ffffff\" stroke=\"transparent\" points=\"-4,4 -4,-299.2 496,-299.2 496,4 -4,4\"/>\n",
       "<!-- 0 -->\n",
       "<g id=\"node1\" class=\"node\">\n",
       "<title>0</title>\n",
       "<polygon fill=\"#e58139\" fill-opacity=\"0.541176\" stroke=\"#000000\" points=\"152.5,-182.9733 -.5,-182.9733 -.5,-114.9733 152.5,-114.9733 152.5,-182.9733\"/>\n",
       "<text text-anchor=\"start\" x=\"7.5\" y=\"-167.7733\" font-family=\"Times,serif\" font-size=\"14.00\" fill=\"#000000\">ProductGroupDesc ≤ 3.5</text>\n",
       "<text text-anchor=\"start\" x=\"41\" y=\"-152.7733\" font-family=\"Times,serif\" font-size=\"14.00\" fill=\"#000000\">mse = 0.437</text>\n",
       "<text text-anchor=\"start\" x=\"29\" y=\"-137.7733\" font-family=\"Times,serif\" font-size=\"14.00\" fill=\"#000000\">samples = 12641</text>\n",
       "<text text-anchor=\"start\" x=\"38\" y=\"-122.7733\" font-family=\"Times,serif\" font-size=\"14.00\" fill=\"#000000\">value = 9.935</text>\n",
       "</g>\n",
       "<!-- 1 -->\n",
       "<g id=\"node2\" class=\"node\">\n",
       "<title>1</title>\n",
       "<polygon fill=\"#e58139\" fill-opacity=\"0.325490\" stroke=\"#000000\" points=\"351.5,-229.9733 188.5,-229.9733 188.5,-161.9733 351.5,-161.9733 351.5,-229.9733\"/>\n",
       "<text text-anchor=\"start\" x=\"196.5\" y=\"-214.7733\" font-family=\"Times,serif\" font-size=\"14.00\" fill=\"#000000\">fiProductClassDesc ≤ 34.5</text>\n",
       "<text text-anchor=\"start\" x=\"238.5\" y=\"-199.7733\" font-family=\"Times,serif\" font-size=\"14.00\" fill=\"#000000\">mse = 0.27</text>\n",
       "<text text-anchor=\"start\" x=\"226\" y=\"-184.7733\" font-family=\"Times,serif\" font-size=\"14.00\" fill=\"#000000\">samples = 7369</text>\n",
       "<text text-anchor=\"start\" x=\"232\" y=\"-169.7733\" font-family=\"Times,serif\" font-size=\"14.00\" fill=\"#000000\">value = 9.662</text>\n",
       "</g>\n",
       "<!-- 0&#45;&gt;1 -->\n",
       "<g id=\"edge1\" class=\"edge\">\n",
       "<title>0&#45;&gt;1</title>\n",
       "<path fill=\"none\" stroke=\"#000000\" d=\"M152.6739,-167.549C161.2155,-169.6183 169.9772,-171.741 178.6778,-173.8489\"/>\n",
       "<polygon fill=\"#000000\" stroke=\"#000000\" points=\"177.9171,-177.2658 188.46,-176.2188 179.5653,-170.4626 177.9171,-177.2658\"/>\n",
       "<text text-anchor=\"middle\" x=\"167.117\" y=\"-185.5371\" font-family=\"Times,serif\" font-size=\"14.00\" fill=\"#000000\">True</text>\n",
       "</g>\n",
       "<!-- 4 -->\n",
       "<g id=\"node5\" class=\"node\">\n",
       "<title>4</title>\n",
       "<polygon fill=\"#e58139\" fill-opacity=\"0.850980\" stroke=\"#000000\" points=\"334,-135.9733 206,-135.9733 206,-67.9733 334,-67.9733 334,-135.9733\"/>\n",
       "<text text-anchor=\"start\" x=\"214\" y=\"-120.7733\" font-family=\"Times,serif\" font-size=\"14.00\" fill=\"#000000\">YearMade ≤ 1993.5</text>\n",
       "<text text-anchor=\"start\" x=\"235\" y=\"-105.7733\" font-family=\"Times,serif\" font-size=\"14.00\" fill=\"#000000\">mse = 0.421</text>\n",
       "<text text-anchor=\"start\" x=\"226\" y=\"-90.7733\" font-family=\"Times,serif\" font-size=\"14.00\" fill=\"#000000\">samples = 5272</text>\n",
       "<text text-anchor=\"start\" x=\"232\" y=\"-75.7733\" font-family=\"Times,serif\" font-size=\"14.00\" fill=\"#000000\">value = 10.32</text>\n",
       "</g>\n",
       "<!-- 0&#45;&gt;4 -->\n",
       "<g id=\"edge4\" class=\"edge\">\n",
       "<title>0&#45;&gt;4</title>\n",
       "<path fill=\"none\" stroke=\"#000000\" d=\"M152.6739,-130.3977C166.8213,-126.9702 181.5726,-123.3965 195.6499,-119.986\"/>\n",
       "<polygon fill=\"#000000\" stroke=\"#000000\" points=\"196.8681,-123.2922 205.7628,-117.5359 195.2199,-116.489 196.8681,-123.2922\"/>\n",
       "<text text-anchor=\"middle\" x=\"184.4199\" y=\"-100.8176\" font-family=\"Times,serif\" font-size=\"14.00\" fill=\"#000000\">False</text>\n",
       "</g>\n",
       "<!-- 2 -->\n",
       "<g id=\"node3\" class=\"node\">\n",
       "<title>2</title>\n",
       "<polygon fill=\"#e58139\" fill-opacity=\"0.474510\" stroke=\"#000000\" points=\"492,-292.4733 388,-292.4733 388,-239.4733 492,-239.4733 492,-292.4733\"/>\n",
       "<text text-anchor=\"start\" x=\"405\" y=\"-277.2733\" font-family=\"Times,serif\" font-size=\"14.00\" fill=\"#000000\">mse = 0.231</text>\n",
       "<text text-anchor=\"start\" x=\"396\" y=\"-262.2733\" font-family=\"Times,serif\" font-size=\"14.00\" fill=\"#000000\">samples = 5049</text>\n",
       "<text text-anchor=\"start\" x=\"405\" y=\"-247.2733\" font-family=\"Times,serif\" font-size=\"14.00\" fill=\"#000000\">value = 9.85</text>\n",
       "</g>\n",
       "<!-- 1&#45;&gt;2 -->\n",
       "<g id=\"edge2\" class=\"edge\">\n",
       "<title>1&#45;&gt;2</title>\n",
       "<path fill=\"none\" stroke=\"#000000\" d=\"M351.5145,-229.5381C360.5259,-233.2487 369.5896,-236.9808 378.2996,-240.5673\"/>\n",
       "<polygon fill=\"#000000\" stroke=\"#000000\" points=\"377.0133,-243.8227 387.5928,-244.3939 379.6786,-237.3499 377.0133,-243.8227\"/>\n",
       "</g>\n",
       "<!-- 3 -->\n",
       "<g id=\"node4\" class=\"node\">\n",
       "<title>3</title>\n",
       "<polygon fill=\"transparent\" stroke=\"#000000\" points=\"492,-215.4733 388,-215.4733 388,-162.4733 492,-162.4733 492,-215.4733\"/>\n",
       "<text text-anchor=\"start\" x=\"405\" y=\"-200.2733\" font-family=\"Times,serif\" font-size=\"14.00\" fill=\"#000000\">mse = 0.113</text>\n",
       "<text text-anchor=\"start\" x=\"396\" y=\"-185.2733\" font-family=\"Times,serif\" font-size=\"14.00\" fill=\"#000000\">samples = 2320</text>\n",
       "<text text-anchor=\"start\" x=\"402\" y=\"-170.2733\" font-family=\"Times,serif\" font-size=\"14.00\" fill=\"#000000\">value = 9.257</text>\n",
       "</g>\n",
       "<!-- 1&#45;&gt;3 -->\n",
       "<g id=\"edge3\" class=\"edge\">\n",
       "<title>1&#45;&gt;3</title>\n",
       "<path fill=\"none\" stroke=\"#000000\" d=\"M351.5145,-192.6169C360.2383,-192.2576 369.0111,-191.8964 377.4645,-191.5483\"/>\n",
       "<polygon fill=\"#000000\" stroke=\"#000000\" points=\"377.7452,-195.0398 387.5928,-191.1313 377.4572,-188.0458 377.7452,-195.0398\"/>\n",
       "</g>\n",
       "<!-- 5 -->\n",
       "<g id=\"node6\" class=\"node\">\n",
       "<title>5</title>\n",
       "<polygon fill=\"#e58139\" fill-opacity=\"0.529412\" stroke=\"#000000\" points=\"492,-133.4733 388,-133.4733 388,-80.4733 492,-80.4733 492,-133.4733\"/>\n",
       "<text text-anchor=\"start\" x=\"405\" y=\"-118.2733\" font-family=\"Times,serif\" font-size=\"14.00\" fill=\"#000000\">mse = 0.327</text>\n",
       "<text text-anchor=\"start\" x=\"396\" y=\"-103.2733\" font-family=\"Times,serif\" font-size=\"14.00\" fill=\"#000000\">samples = 1679</text>\n",
       "<text text-anchor=\"start\" x=\"402\" y=\"-88.2733\" font-family=\"Times,serif\" font-size=\"14.00\" fill=\"#000000\">value = 9.921</text>\n",
       "</g>\n",
       "<!-- 4&#45;&gt;5 -->\n",
       "<g id=\"edge5\" class=\"edge\">\n",
       "<title>4&#45;&gt;5</title>\n",
       "<path fill=\"none\" stroke=\"#000000\" d=\"M334.2697,-103.8636C348.494,-104.282 363.5431,-104.7246 377.6879,-105.1406\"/>\n",
       "<polygon fill=\"#000000\" stroke=\"#000000\" points=\"377.7043,-108.6425 387.8029,-105.4381 377.9101,-101.6456 377.7043,-108.6425\"/>\n",
       "</g>\n",
       "<!-- 6 -->\n",
       "<g id=\"node7\" class=\"node\">\n",
       "<title>6</title>\n",
       "<polygon fill=\"#e58139\" stroke=\"#000000\" points=\"492,-55.4733 388,-55.4733 388,-2.4733 492,-2.4733 492,-55.4733\"/>\n",
       "<text text-anchor=\"start\" x=\"405\" y=\"-40.2733\" font-family=\"Times,serif\" font-size=\"14.00\" fill=\"#000000\">mse = 0.355</text>\n",
       "<text text-anchor=\"start\" x=\"396\" y=\"-25.2733\" font-family=\"Times,serif\" font-size=\"14.00\" fill=\"#000000\">samples = 3593</text>\n",
       "<text text-anchor=\"start\" x=\"398.5\" y=\"-10.2733\" font-family=\"Times,serif\" font-size=\"14.00\" fill=\"#000000\">value = 10.508</text>\n",
       "</g>\n",
       "<!-- 4&#45;&gt;6 -->\n",
       "<g id=\"edge6\" class=\"edge\">\n",
       "<title>4&#45;&gt;6</title>\n",
       "<path fill=\"none\" stroke=\"#000000\" d=\"M334.2697,-74.3752C348.7702,-68.1485 364.1279,-61.5537 378.5108,-55.3775\"/>\n",
       "<polygon fill=\"#000000\" stroke=\"#000000\" points=\"379.9952,-58.5492 387.8029,-51.3874 377.2332,-52.1171 379.9952,-58.5492\"/>\n",
       "</g>\n",
       "</g>\n",
       "</svg>\n"
      ],
      "text/plain": [
       "<graphviz.files.Source at 0x7d7d24fe72b0>"
      ]
     },
     "metadata": {},
     "output_type": "display_data"
    }
   ],
   "source": [
    "draw_tree(m.estimators_[1], df_trn, precision=3)"
   ]
  },
  {
   "cell_type": "code",
   "execution_count": 84,
   "metadata": {},
   "outputs": [
    {
     "data": {
      "text/html": [
       "<div>\n",
       "<style scoped>\n",
       "    .dataframe tbody tr th:only-of-type {\n",
       "        vertical-align: middle;\n",
       "    }\n",
       "\n",
       "    .dataframe tbody tr th {\n",
       "        vertical-align: top;\n",
       "    }\n",
       "\n",
       "    .dataframe thead th {\n",
       "        text-align: right;\n",
       "    }\n",
       "</style>\n",
       "<table border=\"1\" class=\"dataframe\">\n",
       "  <thead>\n",
       "    <tr style=\"text-align: right;\">\n",
       "      <th></th>\n",
       "      <th>Coupler_System</th>\n",
       "      <th>fiProductClassDesc</th>\n",
       "      <th>MachineHoursCurrentMeter</th>\n",
       "      <th>prediction</th>\n",
       "    </tr>\n",
       "  </thead>\n",
       "  <tbody>\n",
       "    <tr>\n",
       "      <th>41307</th>\n",
       "      <td>0</td>\n",
       "      <td>2</td>\n",
       "      <td>2628.0</td>\n",
       "      <td>9.779</td>\n",
       "    </tr>\n",
       "    <tr>\n",
       "      <th>38621</th>\n",
       "      <td>0</td>\n",
       "      <td>58</td>\n",
       "      <td>4058.0</td>\n",
       "      <td>10.363</td>\n",
       "    </tr>\n",
       "    <tr>\n",
       "      <th>48595</th>\n",
       "      <td>0</td>\n",
       "      <td>2</td>\n",
       "      <td>2628.0</td>\n",
       "      <td>9.779</td>\n",
       "    </tr>\n",
       "  </tbody>\n",
       "</table>\n",
       "</div>"
      ],
      "text/plain": [
       "       Coupler_System  fiProductClassDesc  MachineHoursCurrentMeter  \\\n",
       "41307               0                   2                    2628.0   \n",
       "38621               0                  58                    4058.0   \n",
       "48595               0                   2                    2628.0   \n",
       "\n",
       "       prediction  \n",
       "41307       9.779  \n",
       "38621      10.363  \n",
       "48595       9.779  "
      ]
     },
     "execution_count": 84,
     "metadata": {},
     "output_type": "execute_result"
    }
   ],
   "source": [
    "X_pred2 = X_samp[['Coupler_System','fiProductClassDesc','MachineHoursCurrentMeter']].copy()\n",
    "X_pred2['prediction'] = np.round(preds[2,:],3)\n",
    "X_pred2"
   ]
  },
  {
   "cell_type": "code",
   "execution_count": 63,
   "metadata": {},
   "outputs": [
    {
     "data": {
      "image/svg+xml": [
       "<?xml version=\"1.0\" encoding=\"UTF-8\" standalone=\"no\"?>\n",
       "<!DOCTYPE svg PUBLIC \"-//W3C//DTD SVG 1.1//EN\"\n",
       " \"http://www.w3.org/Graphics/SVG/1.1/DTD/svg11.dtd\">\n",
       "<!-- Generated by graphviz version 2.40.1 (20161225.0304)\n",
       " -->\n",
       "<!-- Title: Tree Pages: 1 -->\n",
       "<svg width=\"549pt\" height=\"333pt\"\n",
       " viewBox=\"0.00 0.00 549.00 332.60\" xmlns=\"http://www.w3.org/2000/svg\" xmlns:xlink=\"http://www.w3.org/1999/xlink\">\n",
       "<g id=\"graph0\" class=\"graph\" transform=\"scale(1 1) rotate(0) translate(4 328.6)\">\n",
       "<title>Tree</title>\n",
       "<polygon fill=\"#ffffff\" stroke=\"transparent\" points=\"-4,4 -4,-328.6 545,-328.6 545,4 -4,4\"/>\n",
       "<!-- 0 -->\n",
       "<g id=\"node1\" class=\"node\">\n",
       "<title>0</title>\n",
       "<polygon fill=\"#e58139\" fill-opacity=\"0.650980\" stroke=\"#000000\" points=\"140,-197.8589 0,-197.8589 0,-129.8589 140,-129.8589 140,-197.8589\"/>\n",
       "<text text-anchor=\"start\" x=\"8\" y=\"-182.6589\" font-family=\"Times,serif\" font-size=\"14.00\" fill=\"#000000\">Coupler_System ≤ 0.5</text>\n",
       "<text text-anchor=\"start\" x=\"35\" y=\"-167.6589\" font-family=\"Times,serif\" font-size=\"14.00\" fill=\"#000000\">mse = 0.446</text>\n",
       "<text text-anchor=\"start\" x=\"23\" y=\"-152.6589\" font-family=\"Times,serif\" font-size=\"14.00\" fill=\"#000000\">samples = 12633</text>\n",
       "<text text-anchor=\"start\" x=\"32\" y=\"-137.6589\" font-family=\"Times,serif\" font-size=\"14.00\" fill=\"#000000\">value = 9.945</text>\n",
       "</g>\n",
       "<!-- 1 -->\n",
       "<g id=\"node2\" class=\"node\">\n",
       "<title>1</title>\n",
       "<polygon fill=\"#e58139\" fill-opacity=\"0.776471\" stroke=\"#000000\" points=\"366,-249.8589 210,-249.8589 210,-181.8589 366,-181.8589 366,-249.8589\"/>\n",
       "<text text-anchor=\"start\" x=\"218\" y=\"-234.6589\" font-family=\"Times,serif\" font-size=\"14.00\" fill=\"#000000\">fiProductClassDesc ≤ 6.5</text>\n",
       "<text text-anchor=\"start\" x=\"253\" y=\"-219.6589\" font-family=\"Times,serif\" font-size=\"14.00\" fill=\"#000000\">mse = 0.393</text>\n",
       "<text text-anchor=\"start\" x=\"241\" y=\"-204.6589\" font-family=\"Times,serif\" font-size=\"14.00\" fill=\"#000000\">samples = 10343</text>\n",
       "<text text-anchor=\"start\" x=\"246.5\" y=\"-189.6589\" font-family=\"Times,serif\" font-size=\"14.00\" fill=\"#000000\">value = 10.096</text>\n",
       "</g>\n",
       "<!-- 0&#45;&gt;1 -->\n",
       "<g id=\"edge1\" class=\"edge\">\n",
       "<title>0&#45;&gt;1</title>\n",
       "<path fill=\"none\" stroke=\"#000000\" d=\"M140.1765,-180.5982C159.1299,-185.1192 179.8848,-190.0699 199.6931,-194.7949\"/>\n",
       "<polygon fill=\"#000000\" stroke=\"#000000\" points=\"199.0994,-198.2514 209.6387,-197.1672 200.7237,-191.4424 199.0994,-198.2514\"/>\n",
       "<text text-anchor=\"middle\" x=\"188.3418\" y=\"-206.5608\" font-family=\"Times,serif\" font-size=\"14.00\" fill=\"#000000\">True</text>\n",
       "</g>\n",
       "<!-- 4 -->\n",
       "<g id=\"node5\" class=\"node\">\n",
       "<title>4</title>\n",
       "<polygon fill=\"#e58139\" fill-opacity=\"0.074510\" stroke=\"#000000\" points=\"400.5,-146.8589 175.5,-146.8589 175.5,-78.8589 400.5,-78.8589 400.5,-146.8589\"/>\n",
       "<text text-anchor=\"start\" x=\"183.5\" y=\"-131.6589\" font-family=\"Times,serif\" font-size=\"14.00\" fill=\"#000000\">MachineHoursCurrentMeter ≤ 2450.5</text>\n",
       "<text text-anchor=\"start\" x=\"253\" y=\"-116.6589\" font-family=\"Times,serif\" font-size=\"14.00\" fill=\"#000000\">mse = 0.113</text>\n",
       "<text text-anchor=\"start\" x=\"244\" y=\"-101.6589\" font-family=\"Times,serif\" font-size=\"14.00\" fill=\"#000000\">samples = 2290</text>\n",
       "<text text-anchor=\"start\" x=\"250\" y=\"-86.6589\" font-family=\"Times,serif\" font-size=\"14.00\" fill=\"#000000\">value = 9.261</text>\n",
       "</g>\n",
       "<!-- 0&#45;&gt;4 -->\n",
       "<g id=\"edge4\" class=\"edge\">\n",
       "<title>0&#45;&gt;4</title>\n",
       "<path fill=\"none\" stroke=\"#000000\" d=\"M140.1765,-147.4414C148.2282,-145.5578 156.6049,-143.5981 165.096,-141.6117\"/>\n",
       "<polygon fill=\"#000000\" stroke=\"#000000\" points=\"166.1641,-144.9564 175.1038,-139.2704 164.5694,-138.1404 166.1641,-144.9564\"/>\n",
       "<text text-anchor=\"middle\" x=\"153.8641\" y=\"-122.3843\" font-family=\"Times,serif\" font-size=\"14.00\" fill=\"#000000\">False</text>\n",
       "</g>\n",
       "<!-- 2 -->\n",
       "<g id=\"node3\" class=\"node\">\n",
       "<title>2</title>\n",
       "<polygon fill=\"#e58139\" fill-opacity=\"0.509804\" stroke=\"#000000\" points=\"541,-319.3589 437,-319.3589 437,-266.3589 541,-266.3589 541,-319.3589\"/>\n",
       "<text text-anchor=\"start\" x=\"454\" y=\"-304.1589\" font-family=\"Times,serif\" font-size=\"14.00\" fill=\"#000000\">mse = 0.149</text>\n",
       "<text text-anchor=\"start\" x=\"445\" y=\"-289.1589\" font-family=\"Times,serif\" font-size=\"14.00\" fill=\"#000000\">samples = 4746</text>\n",
       "<text text-anchor=\"start\" x=\"451\" y=\"-274.1589\" font-family=\"Times,serif\" font-size=\"14.00\" fill=\"#000000\">value = 9.779</text>\n",
       "</g>\n",
       "<!-- 1&#45;&gt;2 -->\n",
       "<g id=\"edge2\" class=\"edge\">\n",
       "<title>1&#45;&gt;2</title>\n",
       "<path fill=\"none\" stroke=\"#000000\" d=\"M366.2874,-245.8496C386.5614,-253.6162 408.105,-261.8692 427.3896,-269.2569\"/>\n",
       "<polygon fill=\"#000000\" stroke=\"#000000\" points=\"426.3633,-272.6117 436.9536,-272.9207 428.8675,-266.0749 426.3633,-272.6117\"/>\n",
       "</g>\n",
       "<!-- 3 -->\n",
       "<g id=\"node4\" class=\"node\">\n",
       "<title>3</title>\n",
       "<polygon fill=\"#e58139\" stroke=\"#000000\" points=\"541,-234.3589 437,-234.3589 437,-181.3589 541,-181.3589 541,-234.3589\"/>\n",
       "<text text-anchor=\"start\" x=\"454\" y=\"-219.1589\" font-family=\"Times,serif\" font-size=\"14.00\" fill=\"#000000\">mse = 0.442</text>\n",
       "<text text-anchor=\"start\" x=\"445\" y=\"-204.1589\" font-family=\"Times,serif\" font-size=\"14.00\" fill=\"#000000\">samples = 5597</text>\n",
       "<text text-anchor=\"start\" x=\"447.5\" y=\"-189.1589\" font-family=\"Times,serif\" font-size=\"14.00\" fill=\"#000000\">value = 10.363</text>\n",
       "</g>\n",
       "<!-- 1&#45;&gt;3 -->\n",
       "<g id=\"edge3\" class=\"edge\">\n",
       "<title>1&#45;&gt;3</title>\n",
       "<path fill=\"none\" stroke=\"#000000\" d=\"M366.2874,-212.743C386.3763,-211.9434 407.7116,-211.0942 426.8607,-210.3321\"/>\n",
       "<polygon fill=\"#000000\" stroke=\"#000000\" points=\"427.1008,-213.8254 436.9536,-209.9304 426.8223,-206.8309 427.1008,-213.8254\"/>\n",
       "</g>\n",
       "<!-- 5 -->\n",
       "<g id=\"node6\" class=\"node\">\n",
       "<title>5</title>\n",
       "<polygon fill=\"#e58139\" fill-opacity=\"0.184314\" stroke=\"#000000\" points=\"537.5,-143.3589 440.5,-143.3589 440.5,-90.3589 537.5,-90.3589 537.5,-143.3589\"/>\n",
       "<text text-anchor=\"start\" x=\"454\" y=\"-128.1589\" font-family=\"Times,serif\" font-size=\"14.00\" fill=\"#000000\">mse = 0.095</text>\n",
       "<text text-anchor=\"start\" x=\"448.5\" y=\"-113.1589\" font-family=\"Times,serif\" font-size=\"14.00\" fill=\"#000000\">samples = 917</text>\n",
       "<text text-anchor=\"start\" x=\"451\" y=\"-98.1589\" font-family=\"Times,serif\" font-size=\"14.00\" fill=\"#000000\">value = 9.391</text>\n",
       "</g>\n",
       "<!-- 4&#45;&gt;5 -->\n",
       "<g id=\"edge5\" class=\"edge\">\n",
       "<title>4&#45;&gt;5</title>\n",
       "<path fill=\"none\" stroke=\"#000000\" d=\"M400.546,-115.0986C410.823,-115.3031 420.9295,-115.5043 430.4272,-115.6933\"/>\n",
       "<polygon fill=\"#000000\" stroke=\"#000000\" points=\"430.406,-119.1934 440.4737,-115.8932 430.5453,-112.1948 430.406,-119.1934\"/>\n",
       "</g>\n",
       "<!-- 6 -->\n",
       "<g id=\"node7\" class=\"node\">\n",
       "<title>6</title>\n",
       "<polygon fill=\"transparent\" stroke=\"#000000\" points=\"541,-58.3589 437,-58.3589 437,-5.3589 541,-5.3589 541,-58.3589\"/>\n",
       "<text text-anchor=\"start\" x=\"454\" y=\"-43.1589\" font-family=\"Times,serif\" font-size=\"14.00\" fill=\"#000000\">mse = 0.106</text>\n",
       "<text text-anchor=\"start\" x=\"445\" y=\"-28.1589\" font-family=\"Times,serif\" font-size=\"14.00\" fill=\"#000000\">samples = 1373</text>\n",
       "<text text-anchor=\"start\" x=\"451\" y=\"-13.1589\" font-family=\"Times,serif\" font-size=\"14.00\" fill=\"#000000\">value = 9.172</text>\n",
       "</g>\n",
       "<!-- 4&#45;&gt;6 -->\n",
       "<g id=\"edge6\" class=\"edge\">\n",
       "<title>4&#45;&gt;6</title>\n",
       "<path fill=\"none\" stroke=\"#000000\" d=\"M372.6595,-78.7424C391.0361,-71.3369 410.1375,-63.6393 427.4222,-56.6738\"/>\n",
       "<polygon fill=\"#000000\" stroke=\"#000000\" points=\"428.8548,-59.8701 436.8217,-52.8859 426.2383,-53.3775 428.8548,-59.8701\"/>\n",
       "</g>\n",
       "</g>\n",
       "</svg>\n"
      ],
      "text/plain": [
       "<graphviz.files.Source at 0x7d7d24fe7390>"
      ]
     },
     "metadata": {},
     "output_type": "display_data"
    }
   ],
   "source": [
    "draw_tree(m.estimators_[2], df_trn, precision=3)"
   ]
  },
  {
   "cell_type": "code",
   "execution_count": 89,
   "metadata": {},
   "outputs": [
    {
     "data": {
      "text/plain": [
       "10.025666666666666"
      ]
     },
     "execution_count": 89,
     "metadata": {},
     "output_type": "execute_result"
    }
   ],
   "source": [
    "(10.363+9.921+9.793)/3"
   ]
  },
  {
   "cell_type": "code",
   "execution_count": 90,
   "metadata": {
    "scrolled": true
   },
   "outputs": [
    {
     "data": {
      "text/plain": [
       "array([ 9.79413645, 10.01224551,  9.99818403])"
      ]
     },
     "execution_count": 90,
     "metadata": {},
     "output_type": "execute_result"
    }
   ],
   "source": [
    "m.predict(X_samp.round(3))"
   ]
  },
  {
   "cell_type": "code",
   "execution_count": 77,
   "metadata": {},
   "outputs": [
    {
     "data": {
      "text/plain": [
       "array([[ 9.753,  9.753, 10.365],\n",
       "       [ 9.85 ,  9.921,  9.85 ],\n",
       "       [ 9.779, 10.363,  9.779]])"
      ]
     },
     "execution_count": 77,
     "metadata": {},
     "output_type": "execute_result"
    }
   ],
   "source": [
    "# X_samp = X_valid.sample(3)\n",
    "preds = np.stack([t.predict(X_samp) for t in m.estimators_])\n",
    "np.round(preds,3)\n",
    "# m.predict(X_samp)"
   ]
  },
  {
   "cell_type": "code",
   "execution_count": 70,
   "metadata": {},
   "outputs": [
    {
     "data": {
      "text/plain": [
       "array([9.79413645, 9.99818403, 9.79413645])"
      ]
     },
     "execution_count": 70,
     "metadata": {},
     "output_type": "execute_result"
    }
   ],
   "source": [
    "m.predict(X_samp)"
   ]
  },
  {
   "cell_type": "code",
   "execution_count": 47,
   "metadata": {},
   "outputs": [
    {
     "name": "stdout",
     "output_type": "stream",
     "text": [
      "Training rmse: 0.09602238815318566\n",
      "Validation rmse: 0.14264384447581016\n",
      "Training Score: 0.9791242388033775\n",
      "Validation Score: 0.8791253760387837\n"
     ]
    }
   ],
   "source": [
    "m = RandomForestRegressor(n_jobs=-1)\n",
    "m.fit(X_train, y_train)\n",
    "print_custom_RFscore()"
   ]
  },
  {
   "cell_type": "markdown",
   "metadata": {},
   "source": [
    "Practically, to make this work you can randomly sample some percentage of your "
   ]
  },
  {
   "cell_type": "code",
   "execution_count": 21,
   "metadata": {},
   "outputs": [
    {
     "name": "stdout",
     "output_type": "stream",
     "text": [
      "Training rmse: 5.756054031998178e-17\n",
      "Validation rmse: 0.3823732269655094\n",
      "Training Score: 1.0\n",
      "Validation Score: 0.7388903477279221\n"
     ]
    }
   ],
   "source": [
    "m = RandomForestRegressor(n_estimators=1, bootstrap=False, n_jobs=-1)\n",
    "m.fit(X_train, y_train)\n",
    "print_custom_RFscore()"
   ]
  }
 ],
 "metadata": {
  "kernelspec": {
   "display_name": "Python 3",
   "language": "python",
   "name": "python3"
  },
  "language_info": {
   "codemirror_mode": {
    "name": "ipython",
    "version": 3
   },
   "file_extension": ".py",
   "mimetype": "text/x-python",
   "name": "python",
   "nbconvert_exporter": "python",
   "pygments_lexer": "ipython3",
   "version": "3.6.4"
  }
 },
 "nbformat": 4,
 "nbformat_minor": 2
}
