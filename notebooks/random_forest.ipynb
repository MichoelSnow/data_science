{
 "cells": [
  {
   "cell_type": "code",
   "execution_count": null,
   "metadata": {},
   "outputs": [],
   "source": []
  },
  {
   "cell_type": "code",
   "execution_count": 3,
   "metadata": {},
   "outputs": [
    {
     "name": "stdout",
     "output_type": "stream",
     "text": [
      " Volume in drive E is Storage\n",
      " Volume Serial Number is D098-4C8A\n",
      "\n",
      " Directory of E:\\GitHub\\data_science\\notebooks\n",
      "\n",
      "03/24/2018  04:32 PM    <DIR>          .\n",
      "03/24/2018  04:32 PM    <DIR>          ..\n",
      "03/24/2018  04:25 PM                 0 .gitkeep\n",
      "03/24/2018  04:32 PM    <DIR>          .ipynb_checkpoints\n",
      "03/24/2018  03:24 PM               555 random_forest.ipynb\n",
      "               2 File(s)            555 bytes\n",
      "               3 Dir(s)  1,858,646,945,792 bytes free\n"
     ]
    }
   ],
   "source": [
    "! dir"
   ]
  }
 ],
 "metadata": {
  "kernelspec": {
   "display_name": "Python 3",
   "language": "python",
   "name": "python3"
  },
  "language_info": {
   "codemirror_mode": {
    "name": "ipython",
    "version": 3
   },
   "file_extension": ".py",
   "mimetype": "text/x-python",
   "name": "python",
   "nbconvert_exporter": "python",
   "pygments_lexer": "ipython3",
   "version": "3.6.4"
  }
 },
 "nbformat": 4,
 "nbformat_minor": 2
}
