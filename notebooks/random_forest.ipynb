{
 "cells": [
  {
   "cell_type": "markdown",
   "metadata": {},
   "source": [
    "# Imports and Paths"
   ]
  },
  {
   "cell_type": "code",
   "execution_count": 1,
   "metadata": {},
   "outputs": [],
   "source": [
    "import os\n",
    "# import pandas as pd\n",
    "import sys\n",
    "# import numpy as np\n",
    "from sklearn.ensemble import *"
   ]
  },
  {
   "cell_type": "code",
   "execution_count": 2,
   "metadata": {},
   "outputs": [],
   "source": [
    "%load_ext autoreload\n",
    "%autoreload 2"
   ]
  },
  {
   "cell_type": "code",
   "execution_count": 5,
   "metadata": {},
   "outputs": [],
   "source": [
    "PATH_base = '/home/bj/git/data_science/'\n",
    "PATH_bd = '/data/blue_book/'\n",
    "PATH_func = PATH_base + 'src/'"
   ]
  },
  {
   "cell_type": "code",
   "execution_count": 3,
   "metadata": {},
   "outputs": [],
   "source": [
    "if os.name == 'nt':\n",
    "    PATH_base = 'E:\\\\GitHub\\\\data_science\\\\'\n",
    "    PATH_bd = 'E:\\\\GitHub\\\\data_science\\\\data\\\\uncompressed\\\\blue_book_for_bulldozers\\\\'\n",
    "    PATH_func = 'E:\\\\GitHub\\\\data_science\\\\src\\\\'\n",
    "elif os.name == 'posix':\n",
    "    PATH_base = '/home/msnow/git/data_science/'\n",
    "    PATH_bd = '/data/msnow/data_science/blue_book_for_bulldozers/'\n",
    "    PATH_func = PATH_base + 'src/'"
   ]
  },
  {
   "cell_type": "code",
   "execution_count": 6,
   "metadata": {},
   "outputs": [],
   "source": [
    "sys.path.append(PATH_func)"
   ]
  },
  {
   "cell_type": "code",
   "execution_count": 124,
   "metadata": {},
   "outputs": [],
   "source": [
    "from features.imports import *\n",
    "from features.utilities import *\n",
    "from features.fastai import *"
   ]
  },
  {
   "cell_type": "code",
   "execution_count": 10,
   "metadata": {
    "scrolled": false
   },
   "outputs": [
    {
     "name": "stdout",
     "output_type": "stream",
     "text": [
      " Volume in drive E is Storage\n",
      " Volume Serial Number is D098-4C8A\n",
      "\n",
      " Directory of E:\\GitHub\\data_science\\data\\uncompressed\\blue_book_for_bulldozers\n",
      "\n",
      "03/24/2018  04:37 PM    <DIR>          .\n",
      "03/24/2018  04:37 PM    <DIR>          ..\n",
      "01/24/2013  09:08 PM       116,403,970 Train.csv\n",
      "01/24/2013  07:11 PM         3,318,969 Valid.csv\n",
      "               2 File(s)    119,722,939 bytes\n",
      "               2 Dir(s)  1,852,864,679,936 bytes free\n"
     ]
    }
   ],
   "source": [
    "%ls ..\\\\data\\\\uncompressed\\\\blue_book_for_bulldozers\\\\"
   ]
  },
  {
   "cell_type": "markdown",
   "metadata": {
    "heading_collapsed": true
   },
   "source": [
    "# Initial Data Munging"
   ]
  },
  {
   "cell_type": "markdown",
   "metadata": {
    "hidden": true
   },
   "source": [
    "This dataset is from the kaggle competition [Blue Book for Bulldozers](https://www.kaggle.com/c/bluebook-for-bulldozers).  "
   ]
  },
  {
   "cell_type": "code",
   "execution_count": 23,
   "metadata": {
    "hidden": true
   },
   "outputs": [],
   "source": [
    "df_raw = pd.read_csv(f'{PATH_bd}Train.csv', low_memory=False, parse_dates=[\"saledate\"],nrows=50000)"
   ]
  },
  {
   "cell_type": "code",
   "execution_count": 10,
   "metadata": {
    "hidden": true
   },
   "outputs": [],
   "source": [
    "# df_raw.to_feather(f'{PATH_bd}bulldozer_raw')\n",
    "# df_orig = df_raw.copy()\n",
    "# df_raw = df_orig"
   ]
  },
  {
   "cell_type": "code",
   "execution_count": 11,
   "metadata": {
    "hidden": true,
    "scrolled": true
   },
   "outputs": [
    {
     "data": {
      "text/html": [
       "<div>\n",
       "<style scoped>\n",
       "    .dataframe tbody tr th:only-of-type {\n",
       "        vertical-align: middle;\n",
       "    }\n",
       "\n",
       "    .dataframe tbody tr th {\n",
       "        vertical-align: top;\n",
       "    }\n",
       "\n",
       "    .dataframe thead th {\n",
       "        text-align: right;\n",
       "    }\n",
       "</style>\n",
       "<table border=\"1\" class=\"dataframe\">\n",
       "  <thead>\n",
       "    <tr style=\"text-align: right;\">\n",
       "      <th></th>\n",
       "      <th>0</th>\n",
       "      <th>1</th>\n",
       "      <th>2</th>\n",
       "      <th>3</th>\n",
       "      <th>4</th>\n",
       "    </tr>\n",
       "  </thead>\n",
       "  <tbody>\n",
       "    <tr>\n",
       "      <th>SalesID</th>\n",
       "      <td>1139246</td>\n",
       "      <td>1139248</td>\n",
       "      <td>1139249</td>\n",
       "      <td>1139251</td>\n",
       "      <td>1139253</td>\n",
       "    </tr>\n",
       "    <tr>\n",
       "      <th>SalePrice</th>\n",
       "      <td>66000</td>\n",
       "      <td>57000</td>\n",
       "      <td>10000</td>\n",
       "      <td>38500</td>\n",
       "      <td>11000</td>\n",
       "    </tr>\n",
       "    <tr>\n",
       "      <th>MachineID</th>\n",
       "      <td>999089</td>\n",
       "      <td>117657</td>\n",
       "      <td>434808</td>\n",
       "      <td>1026470</td>\n",
       "      <td>1057373</td>\n",
       "    </tr>\n",
       "    <tr>\n",
       "      <th>ModelID</th>\n",
       "      <td>3157</td>\n",
       "      <td>77</td>\n",
       "      <td>7009</td>\n",
       "      <td>332</td>\n",
       "      <td>17311</td>\n",
       "    </tr>\n",
       "    <tr>\n",
       "      <th>datasource</th>\n",
       "      <td>121</td>\n",
       "      <td>121</td>\n",
       "      <td>121</td>\n",
       "      <td>121</td>\n",
       "      <td>121</td>\n",
       "    </tr>\n",
       "    <tr>\n",
       "      <th>auctioneerID</th>\n",
       "      <td>3</td>\n",
       "      <td>3</td>\n",
       "      <td>3</td>\n",
       "      <td>3</td>\n",
       "      <td>3</td>\n",
       "    </tr>\n",
       "    <tr>\n",
       "      <th>YearMade</th>\n",
       "      <td>2004</td>\n",
       "      <td>1996</td>\n",
       "      <td>2001</td>\n",
       "      <td>2001</td>\n",
       "      <td>2007</td>\n",
       "    </tr>\n",
       "    <tr>\n",
       "      <th>MachineHoursCurrentMeter</th>\n",
       "      <td>68</td>\n",
       "      <td>4640</td>\n",
       "      <td>2838</td>\n",
       "      <td>3486</td>\n",
       "      <td>722</td>\n",
       "    </tr>\n",
       "    <tr>\n",
       "      <th>UsageBand</th>\n",
       "      <td>Low</td>\n",
       "      <td>Low</td>\n",
       "      <td>High</td>\n",
       "      <td>High</td>\n",
       "      <td>Medium</td>\n",
       "    </tr>\n",
       "    <tr>\n",
       "      <th>saledate</th>\n",
       "      <td>2006-11-16 00:00:00</td>\n",
       "      <td>2004-03-26 00:00:00</td>\n",
       "      <td>2004-02-26 00:00:00</td>\n",
       "      <td>2011-05-19 00:00:00</td>\n",
       "      <td>2009-07-23 00:00:00</td>\n",
       "    </tr>\n",
       "    <tr>\n",
       "      <th>fiModelDesc</th>\n",
       "      <td>521D</td>\n",
       "      <td>950FII</td>\n",
       "      <td>226</td>\n",
       "      <td>PC120-6E</td>\n",
       "      <td>S175</td>\n",
       "    </tr>\n",
       "    <tr>\n",
       "      <th>fiBaseModel</th>\n",
       "      <td>521</td>\n",
       "      <td>950</td>\n",
       "      <td>226</td>\n",
       "      <td>PC120</td>\n",
       "      <td>S175</td>\n",
       "    </tr>\n",
       "    <tr>\n",
       "      <th>fiSecondaryDesc</th>\n",
       "      <td>D</td>\n",
       "      <td>F</td>\n",
       "      <td>NaN</td>\n",
       "      <td>NaN</td>\n",
       "      <td>NaN</td>\n",
       "    </tr>\n",
       "    <tr>\n",
       "      <th>fiModelSeries</th>\n",
       "      <td>NaN</td>\n",
       "      <td>II</td>\n",
       "      <td>NaN</td>\n",
       "      <td>-6E</td>\n",
       "      <td>NaN</td>\n",
       "    </tr>\n",
       "    <tr>\n",
       "      <th>fiModelDescriptor</th>\n",
       "      <td>NaN</td>\n",
       "      <td>NaN</td>\n",
       "      <td>NaN</td>\n",
       "      <td>NaN</td>\n",
       "      <td>NaN</td>\n",
       "    </tr>\n",
       "    <tr>\n",
       "      <th>ProductSize</th>\n",
       "      <td>NaN</td>\n",
       "      <td>Medium</td>\n",
       "      <td>NaN</td>\n",
       "      <td>Small</td>\n",
       "      <td>NaN</td>\n",
       "    </tr>\n",
       "    <tr>\n",
       "      <th>fiProductClassDesc</th>\n",
       "      <td>Wheel Loader - 110.0 to 120.0 Horsepower</td>\n",
       "      <td>Wheel Loader - 150.0 to 175.0 Horsepower</td>\n",
       "      <td>Skid Steer Loader - 1351.0 to 1601.0 Lb Operat...</td>\n",
       "      <td>Hydraulic Excavator, Track - 12.0 to 14.0 Metr...</td>\n",
       "      <td>Skid Steer Loader - 1601.0 to 1751.0 Lb Operat...</td>\n",
       "    </tr>\n",
       "    <tr>\n",
       "      <th>state</th>\n",
       "      <td>Alabama</td>\n",
       "      <td>North Carolina</td>\n",
       "      <td>New York</td>\n",
       "      <td>Texas</td>\n",
       "      <td>New York</td>\n",
       "    </tr>\n",
       "    <tr>\n",
       "      <th>ProductGroup</th>\n",
       "      <td>WL</td>\n",
       "      <td>WL</td>\n",
       "      <td>SSL</td>\n",
       "      <td>TEX</td>\n",
       "      <td>SSL</td>\n",
       "    </tr>\n",
       "    <tr>\n",
       "      <th>ProductGroupDesc</th>\n",
       "      <td>Wheel Loader</td>\n",
       "      <td>Wheel Loader</td>\n",
       "      <td>Skid Steer Loaders</td>\n",
       "      <td>Track Excavators</td>\n",
       "      <td>Skid Steer Loaders</td>\n",
       "    </tr>\n",
       "    <tr>\n",
       "      <th>Drive_System</th>\n",
       "      <td>NaN</td>\n",
       "      <td>NaN</td>\n",
       "      <td>NaN</td>\n",
       "      <td>NaN</td>\n",
       "      <td>NaN</td>\n",
       "    </tr>\n",
       "    <tr>\n",
       "      <th>Enclosure</th>\n",
       "      <td>EROPS w AC</td>\n",
       "      <td>EROPS w AC</td>\n",
       "      <td>OROPS</td>\n",
       "      <td>EROPS w AC</td>\n",
       "      <td>EROPS</td>\n",
       "    </tr>\n",
       "    <tr>\n",
       "      <th>Forks</th>\n",
       "      <td>None or Unspecified</td>\n",
       "      <td>None or Unspecified</td>\n",
       "      <td>None or Unspecified</td>\n",
       "      <td>NaN</td>\n",
       "      <td>None or Unspecified</td>\n",
       "    </tr>\n",
       "    <tr>\n",
       "      <th>Pad_Type</th>\n",
       "      <td>NaN</td>\n",
       "      <td>NaN</td>\n",
       "      <td>NaN</td>\n",
       "      <td>NaN</td>\n",
       "      <td>NaN</td>\n",
       "    </tr>\n",
       "    <tr>\n",
       "      <th>Ride_Control</th>\n",
       "      <td>None or Unspecified</td>\n",
       "      <td>None or Unspecified</td>\n",
       "      <td>NaN</td>\n",
       "      <td>NaN</td>\n",
       "      <td>NaN</td>\n",
       "    </tr>\n",
       "    <tr>\n",
       "      <th>Stick</th>\n",
       "      <td>NaN</td>\n",
       "      <td>NaN</td>\n",
       "      <td>NaN</td>\n",
       "      <td>NaN</td>\n",
       "      <td>NaN</td>\n",
       "    </tr>\n",
       "    <tr>\n",
       "      <th>Transmission</th>\n",
       "      <td>NaN</td>\n",
       "      <td>NaN</td>\n",
       "      <td>NaN</td>\n",
       "      <td>NaN</td>\n",
       "      <td>NaN</td>\n",
       "    </tr>\n",
       "    <tr>\n",
       "      <th>Turbocharged</th>\n",
       "      <td>NaN</td>\n",
       "      <td>NaN</td>\n",
       "      <td>NaN</td>\n",
       "      <td>NaN</td>\n",
       "      <td>NaN</td>\n",
       "    </tr>\n",
       "    <tr>\n",
       "      <th>Blade_Extension</th>\n",
       "      <td>NaN</td>\n",
       "      <td>NaN</td>\n",
       "      <td>NaN</td>\n",
       "      <td>NaN</td>\n",
       "      <td>NaN</td>\n",
       "    </tr>\n",
       "    <tr>\n",
       "      <th>Blade_Width</th>\n",
       "      <td>NaN</td>\n",
       "      <td>NaN</td>\n",
       "      <td>NaN</td>\n",
       "      <td>NaN</td>\n",
       "      <td>NaN</td>\n",
       "    </tr>\n",
       "    <tr>\n",
       "      <th>Enclosure_Type</th>\n",
       "      <td>NaN</td>\n",
       "      <td>NaN</td>\n",
       "      <td>NaN</td>\n",
       "      <td>NaN</td>\n",
       "      <td>NaN</td>\n",
       "    </tr>\n",
       "    <tr>\n",
       "      <th>Engine_Horsepower</th>\n",
       "      <td>NaN</td>\n",
       "      <td>NaN</td>\n",
       "      <td>NaN</td>\n",
       "      <td>NaN</td>\n",
       "      <td>NaN</td>\n",
       "    </tr>\n",
       "    <tr>\n",
       "      <th>Hydraulics</th>\n",
       "      <td>2 Valve</td>\n",
       "      <td>2 Valve</td>\n",
       "      <td>Auxiliary</td>\n",
       "      <td>2 Valve</td>\n",
       "      <td>Auxiliary</td>\n",
       "    </tr>\n",
       "    <tr>\n",
       "      <th>Pushblock</th>\n",
       "      <td>NaN</td>\n",
       "      <td>NaN</td>\n",
       "      <td>NaN</td>\n",
       "      <td>NaN</td>\n",
       "      <td>NaN</td>\n",
       "    </tr>\n",
       "    <tr>\n",
       "      <th>Ripper</th>\n",
       "      <td>NaN</td>\n",
       "      <td>NaN</td>\n",
       "      <td>NaN</td>\n",
       "      <td>NaN</td>\n",
       "      <td>NaN</td>\n",
       "    </tr>\n",
       "    <tr>\n",
       "      <th>Scarifier</th>\n",
       "      <td>NaN</td>\n",
       "      <td>NaN</td>\n",
       "      <td>NaN</td>\n",
       "      <td>NaN</td>\n",
       "      <td>NaN</td>\n",
       "    </tr>\n",
       "    <tr>\n",
       "      <th>Tip_Control</th>\n",
       "      <td>NaN</td>\n",
       "      <td>NaN</td>\n",
       "      <td>NaN</td>\n",
       "      <td>NaN</td>\n",
       "      <td>NaN</td>\n",
       "    </tr>\n",
       "    <tr>\n",
       "      <th>Tire_Size</th>\n",
       "      <td>None or Unspecified</td>\n",
       "      <td>23.5</td>\n",
       "      <td>NaN</td>\n",
       "      <td>NaN</td>\n",
       "      <td>NaN</td>\n",
       "    </tr>\n",
       "    <tr>\n",
       "      <th>Coupler</th>\n",
       "      <td>None or Unspecified</td>\n",
       "      <td>None or Unspecified</td>\n",
       "      <td>None or Unspecified</td>\n",
       "      <td>None or Unspecified</td>\n",
       "      <td>None or Unspecified</td>\n",
       "    </tr>\n",
       "    <tr>\n",
       "      <th>Coupler_System</th>\n",
       "      <td>NaN</td>\n",
       "      <td>NaN</td>\n",
       "      <td>None or Unspecified</td>\n",
       "      <td>NaN</td>\n",
       "      <td>None or Unspecified</td>\n",
       "    </tr>\n",
       "    <tr>\n",
       "      <th>Grouser_Tracks</th>\n",
       "      <td>NaN</td>\n",
       "      <td>NaN</td>\n",
       "      <td>None or Unspecified</td>\n",
       "      <td>NaN</td>\n",
       "      <td>None or Unspecified</td>\n",
       "    </tr>\n",
       "    <tr>\n",
       "      <th>Hydraulics_Flow</th>\n",
       "      <td>NaN</td>\n",
       "      <td>NaN</td>\n",
       "      <td>Standard</td>\n",
       "      <td>NaN</td>\n",
       "      <td>Standard</td>\n",
       "    </tr>\n",
       "    <tr>\n",
       "      <th>Track_Type</th>\n",
       "      <td>NaN</td>\n",
       "      <td>NaN</td>\n",
       "      <td>NaN</td>\n",
       "      <td>NaN</td>\n",
       "      <td>NaN</td>\n",
       "    </tr>\n",
       "    <tr>\n",
       "      <th>Undercarriage_Pad_Width</th>\n",
       "      <td>NaN</td>\n",
       "      <td>NaN</td>\n",
       "      <td>NaN</td>\n",
       "      <td>NaN</td>\n",
       "      <td>NaN</td>\n",
       "    </tr>\n",
       "    <tr>\n",
       "      <th>Stick_Length</th>\n",
       "      <td>NaN</td>\n",
       "      <td>NaN</td>\n",
       "      <td>NaN</td>\n",
       "      <td>NaN</td>\n",
       "      <td>NaN</td>\n",
       "    </tr>\n",
       "    <tr>\n",
       "      <th>Thumb</th>\n",
       "      <td>NaN</td>\n",
       "      <td>NaN</td>\n",
       "      <td>NaN</td>\n",
       "      <td>NaN</td>\n",
       "      <td>NaN</td>\n",
       "    </tr>\n",
       "    <tr>\n",
       "      <th>Pattern_Changer</th>\n",
       "      <td>NaN</td>\n",
       "      <td>NaN</td>\n",
       "      <td>NaN</td>\n",
       "      <td>NaN</td>\n",
       "      <td>NaN</td>\n",
       "    </tr>\n",
       "    <tr>\n",
       "      <th>Grouser_Type</th>\n",
       "      <td>NaN</td>\n",
       "      <td>NaN</td>\n",
       "      <td>NaN</td>\n",
       "      <td>NaN</td>\n",
       "      <td>NaN</td>\n",
       "    </tr>\n",
       "    <tr>\n",
       "      <th>Backhoe_Mounting</th>\n",
       "      <td>NaN</td>\n",
       "      <td>NaN</td>\n",
       "      <td>NaN</td>\n",
       "      <td>NaN</td>\n",
       "      <td>NaN</td>\n",
       "    </tr>\n",
       "    <tr>\n",
       "      <th>Blade_Type</th>\n",
       "      <td>NaN</td>\n",
       "      <td>NaN</td>\n",
       "      <td>NaN</td>\n",
       "      <td>NaN</td>\n",
       "      <td>NaN</td>\n",
       "    </tr>\n",
       "    <tr>\n",
       "      <th>Travel_Controls</th>\n",
       "      <td>NaN</td>\n",
       "      <td>NaN</td>\n",
       "      <td>NaN</td>\n",
       "      <td>NaN</td>\n",
       "      <td>NaN</td>\n",
       "    </tr>\n",
       "    <tr>\n",
       "      <th>Differential_Type</th>\n",
       "      <td>Standard</td>\n",
       "      <td>Standard</td>\n",
       "      <td>NaN</td>\n",
       "      <td>NaN</td>\n",
       "      <td>NaN</td>\n",
       "    </tr>\n",
       "    <tr>\n",
       "      <th>Steering_Controls</th>\n",
       "      <td>Conventional</td>\n",
       "      <td>Conventional</td>\n",
       "      <td>NaN</td>\n",
       "      <td>NaN</td>\n",
       "      <td>NaN</td>\n",
       "    </tr>\n",
       "  </tbody>\n",
       "</table>\n",
       "</div>"
      ],
      "text/plain": [
       "                                                                 0  \\\n",
       "SalesID                                                    1139246   \n",
       "SalePrice                                                    66000   \n",
       "MachineID                                                   999089   \n",
       "ModelID                                                       3157   \n",
       "datasource                                                     121   \n",
       "auctioneerID                                                     3   \n",
       "YearMade                                                      2004   \n",
       "MachineHoursCurrentMeter                                        68   \n",
       "UsageBand                                                      Low   \n",
       "saledate                                       2006-11-16 00:00:00   \n",
       "fiModelDesc                                                   521D   \n",
       "fiBaseModel                                                    521   \n",
       "fiSecondaryDesc                                                  D   \n",
       "fiModelSeries                                                  NaN   \n",
       "fiModelDescriptor                                              NaN   \n",
       "ProductSize                                                    NaN   \n",
       "fiProductClassDesc        Wheel Loader - 110.0 to 120.0 Horsepower   \n",
       "state                                                      Alabama   \n",
       "ProductGroup                                                    WL   \n",
       "ProductGroupDesc                                      Wheel Loader   \n",
       "Drive_System                                                   NaN   \n",
       "Enclosure                                               EROPS w AC   \n",
       "Forks                                          None or Unspecified   \n",
       "Pad_Type                                                       NaN   \n",
       "Ride_Control                                   None or Unspecified   \n",
       "Stick                                                          NaN   \n",
       "Transmission                                                   NaN   \n",
       "Turbocharged                                                   NaN   \n",
       "Blade_Extension                                                NaN   \n",
       "Blade_Width                                                    NaN   \n",
       "Enclosure_Type                                                 NaN   \n",
       "Engine_Horsepower                                              NaN   \n",
       "Hydraulics                                                 2 Valve   \n",
       "Pushblock                                                      NaN   \n",
       "Ripper                                                         NaN   \n",
       "Scarifier                                                      NaN   \n",
       "Tip_Control                                                    NaN   \n",
       "Tire_Size                                      None or Unspecified   \n",
       "Coupler                                        None or Unspecified   \n",
       "Coupler_System                                                 NaN   \n",
       "Grouser_Tracks                                                 NaN   \n",
       "Hydraulics_Flow                                                NaN   \n",
       "Track_Type                                                     NaN   \n",
       "Undercarriage_Pad_Width                                        NaN   \n",
       "Stick_Length                                                   NaN   \n",
       "Thumb                                                          NaN   \n",
       "Pattern_Changer                                                NaN   \n",
       "Grouser_Type                                                   NaN   \n",
       "Backhoe_Mounting                                               NaN   \n",
       "Blade_Type                                                     NaN   \n",
       "Travel_Controls                                                NaN   \n",
       "Differential_Type                                         Standard   \n",
       "Steering_Controls                                     Conventional   \n",
       "\n",
       "                                                                 1  \\\n",
       "SalesID                                                    1139248   \n",
       "SalePrice                                                    57000   \n",
       "MachineID                                                   117657   \n",
       "ModelID                                                         77   \n",
       "datasource                                                     121   \n",
       "auctioneerID                                                     3   \n",
       "YearMade                                                      1996   \n",
       "MachineHoursCurrentMeter                                      4640   \n",
       "UsageBand                                                      Low   \n",
       "saledate                                       2004-03-26 00:00:00   \n",
       "fiModelDesc                                                 950FII   \n",
       "fiBaseModel                                                    950   \n",
       "fiSecondaryDesc                                                  F   \n",
       "fiModelSeries                                                   II   \n",
       "fiModelDescriptor                                              NaN   \n",
       "ProductSize                                                 Medium   \n",
       "fiProductClassDesc        Wheel Loader - 150.0 to 175.0 Horsepower   \n",
       "state                                               North Carolina   \n",
       "ProductGroup                                                    WL   \n",
       "ProductGroupDesc                                      Wheel Loader   \n",
       "Drive_System                                                   NaN   \n",
       "Enclosure                                               EROPS w AC   \n",
       "Forks                                          None or Unspecified   \n",
       "Pad_Type                                                       NaN   \n",
       "Ride_Control                                   None or Unspecified   \n",
       "Stick                                                          NaN   \n",
       "Transmission                                                   NaN   \n",
       "Turbocharged                                                   NaN   \n",
       "Blade_Extension                                                NaN   \n",
       "Blade_Width                                                    NaN   \n",
       "Enclosure_Type                                                 NaN   \n",
       "Engine_Horsepower                                              NaN   \n",
       "Hydraulics                                                 2 Valve   \n",
       "Pushblock                                                      NaN   \n",
       "Ripper                                                         NaN   \n",
       "Scarifier                                                      NaN   \n",
       "Tip_Control                                                    NaN   \n",
       "Tire_Size                                                     23.5   \n",
       "Coupler                                        None or Unspecified   \n",
       "Coupler_System                                                 NaN   \n",
       "Grouser_Tracks                                                 NaN   \n",
       "Hydraulics_Flow                                                NaN   \n",
       "Track_Type                                                     NaN   \n",
       "Undercarriage_Pad_Width                                        NaN   \n",
       "Stick_Length                                                   NaN   \n",
       "Thumb                                                          NaN   \n",
       "Pattern_Changer                                                NaN   \n",
       "Grouser_Type                                                   NaN   \n",
       "Backhoe_Mounting                                               NaN   \n",
       "Blade_Type                                                     NaN   \n",
       "Travel_Controls                                                NaN   \n",
       "Differential_Type                                         Standard   \n",
       "Steering_Controls                                     Conventional   \n",
       "\n",
       "                                                                          2  \\\n",
       "SalesID                                                             1139249   \n",
       "SalePrice                                                             10000   \n",
       "MachineID                                                            434808   \n",
       "ModelID                                                                7009   \n",
       "datasource                                                              121   \n",
       "auctioneerID                                                              3   \n",
       "YearMade                                                               2001   \n",
       "MachineHoursCurrentMeter                                               2838   \n",
       "UsageBand                                                              High   \n",
       "saledate                                                2004-02-26 00:00:00   \n",
       "fiModelDesc                                                             226   \n",
       "fiBaseModel                                                             226   \n",
       "fiSecondaryDesc                                                         NaN   \n",
       "fiModelSeries                                                           NaN   \n",
       "fiModelDescriptor                                                       NaN   \n",
       "ProductSize                                                             NaN   \n",
       "fiProductClassDesc        Skid Steer Loader - 1351.0 to 1601.0 Lb Operat...   \n",
       "state                                                              New York   \n",
       "ProductGroup                                                            SSL   \n",
       "ProductGroupDesc                                         Skid Steer Loaders   \n",
       "Drive_System                                                            NaN   \n",
       "Enclosure                                                             OROPS   \n",
       "Forks                                                   None or Unspecified   \n",
       "Pad_Type                                                                NaN   \n",
       "Ride_Control                                                            NaN   \n",
       "Stick                                                                   NaN   \n",
       "Transmission                                                            NaN   \n",
       "Turbocharged                                                            NaN   \n",
       "Blade_Extension                                                         NaN   \n",
       "Blade_Width                                                             NaN   \n",
       "Enclosure_Type                                                          NaN   \n",
       "Engine_Horsepower                                                       NaN   \n",
       "Hydraulics                                                        Auxiliary   \n",
       "Pushblock                                                               NaN   \n",
       "Ripper                                                                  NaN   \n",
       "Scarifier                                                               NaN   \n",
       "Tip_Control                                                             NaN   \n",
       "Tire_Size                                                               NaN   \n",
       "Coupler                                                 None or Unspecified   \n",
       "Coupler_System                                          None or Unspecified   \n",
       "Grouser_Tracks                                          None or Unspecified   \n",
       "Hydraulics_Flow                                                    Standard   \n",
       "Track_Type                                                              NaN   \n",
       "Undercarriage_Pad_Width                                                 NaN   \n",
       "Stick_Length                                                            NaN   \n",
       "Thumb                                                                   NaN   \n",
       "Pattern_Changer                                                         NaN   \n",
       "Grouser_Type                                                            NaN   \n",
       "Backhoe_Mounting                                                        NaN   \n",
       "Blade_Type                                                              NaN   \n",
       "Travel_Controls                                                         NaN   \n",
       "Differential_Type                                                       NaN   \n",
       "Steering_Controls                                                       NaN   \n",
       "\n",
       "                                                                          3  \\\n",
       "SalesID                                                             1139251   \n",
       "SalePrice                                                             38500   \n",
       "MachineID                                                           1026470   \n",
       "ModelID                                                                 332   \n",
       "datasource                                                              121   \n",
       "auctioneerID                                                              3   \n",
       "YearMade                                                               2001   \n",
       "MachineHoursCurrentMeter                                               3486   \n",
       "UsageBand                                                              High   \n",
       "saledate                                                2011-05-19 00:00:00   \n",
       "fiModelDesc                                                        PC120-6E   \n",
       "fiBaseModel                                                           PC120   \n",
       "fiSecondaryDesc                                                         NaN   \n",
       "fiModelSeries                                                           -6E   \n",
       "fiModelDescriptor                                                       NaN   \n",
       "ProductSize                                                           Small   \n",
       "fiProductClassDesc        Hydraulic Excavator, Track - 12.0 to 14.0 Metr...   \n",
       "state                                                                 Texas   \n",
       "ProductGroup                                                            TEX   \n",
       "ProductGroupDesc                                           Track Excavators   \n",
       "Drive_System                                                            NaN   \n",
       "Enclosure                                                        EROPS w AC   \n",
       "Forks                                                                   NaN   \n",
       "Pad_Type                                                                NaN   \n",
       "Ride_Control                                                            NaN   \n",
       "Stick                                                                   NaN   \n",
       "Transmission                                                            NaN   \n",
       "Turbocharged                                                            NaN   \n",
       "Blade_Extension                                                         NaN   \n",
       "Blade_Width                                                             NaN   \n",
       "Enclosure_Type                                                          NaN   \n",
       "Engine_Horsepower                                                       NaN   \n",
       "Hydraulics                                                          2 Valve   \n",
       "Pushblock                                                               NaN   \n",
       "Ripper                                                                  NaN   \n",
       "Scarifier                                                               NaN   \n",
       "Tip_Control                                                             NaN   \n",
       "Tire_Size                                                               NaN   \n",
       "Coupler                                                 None or Unspecified   \n",
       "Coupler_System                                                          NaN   \n",
       "Grouser_Tracks                                                          NaN   \n",
       "Hydraulics_Flow                                                         NaN   \n",
       "Track_Type                                                              NaN   \n",
       "Undercarriage_Pad_Width                                                 NaN   \n",
       "Stick_Length                                                            NaN   \n",
       "Thumb                                                                   NaN   \n",
       "Pattern_Changer                                                         NaN   \n",
       "Grouser_Type                                                            NaN   \n",
       "Backhoe_Mounting                                                        NaN   \n",
       "Blade_Type                                                              NaN   \n",
       "Travel_Controls                                                         NaN   \n",
       "Differential_Type                                                       NaN   \n",
       "Steering_Controls                                                       NaN   \n",
       "\n",
       "                                                                          4  \n",
       "SalesID                                                             1139253  \n",
       "SalePrice                                                             11000  \n",
       "MachineID                                                           1057373  \n",
       "ModelID                                                               17311  \n",
       "datasource                                                              121  \n",
       "auctioneerID                                                              3  \n",
       "YearMade                                                               2007  \n",
       "MachineHoursCurrentMeter                                                722  \n",
       "UsageBand                                                            Medium  \n",
       "saledate                                                2009-07-23 00:00:00  \n",
       "fiModelDesc                                                            S175  \n",
       "fiBaseModel                                                            S175  \n",
       "fiSecondaryDesc                                                         NaN  \n",
       "fiModelSeries                                                           NaN  \n",
       "fiModelDescriptor                                                       NaN  \n",
       "ProductSize                                                             NaN  \n",
       "fiProductClassDesc        Skid Steer Loader - 1601.0 to 1751.0 Lb Operat...  \n",
       "state                                                              New York  \n",
       "ProductGroup                                                            SSL  \n",
       "ProductGroupDesc                                         Skid Steer Loaders  \n",
       "Drive_System                                                            NaN  \n",
       "Enclosure                                                             EROPS  \n",
       "Forks                                                   None or Unspecified  \n",
       "Pad_Type                                                                NaN  \n",
       "Ride_Control                                                            NaN  \n",
       "Stick                                                                   NaN  \n",
       "Transmission                                                            NaN  \n",
       "Turbocharged                                                            NaN  \n",
       "Blade_Extension                                                         NaN  \n",
       "Blade_Width                                                             NaN  \n",
       "Enclosure_Type                                                          NaN  \n",
       "Engine_Horsepower                                                       NaN  \n",
       "Hydraulics                                                        Auxiliary  \n",
       "Pushblock                                                               NaN  \n",
       "Ripper                                                                  NaN  \n",
       "Scarifier                                                               NaN  \n",
       "Tip_Control                                                             NaN  \n",
       "Tire_Size                                                               NaN  \n",
       "Coupler                                                 None or Unspecified  \n",
       "Coupler_System                                          None or Unspecified  \n",
       "Grouser_Tracks                                          None or Unspecified  \n",
       "Hydraulics_Flow                                                    Standard  \n",
       "Track_Type                                                              NaN  \n",
       "Undercarriage_Pad_Width                                                 NaN  \n",
       "Stick_Length                                                            NaN  \n",
       "Thumb                                                                   NaN  \n",
       "Pattern_Changer                                                         NaN  \n",
       "Grouser_Type                                                            NaN  \n",
       "Backhoe_Mounting                                                        NaN  \n",
       "Blade_Type                                                              NaN  \n",
       "Travel_Controls                                                         NaN  \n",
       "Differential_Type                                                       NaN  \n",
       "Steering_Controls                                                       NaN  "
      ]
     },
     "metadata": {},
     "output_type": "display_data"
    }
   ],
   "source": [
    "display_some(df_raw.head().T,80,10)"
   ]
  },
  {
   "cell_type": "markdown",
   "metadata": {
    "hidden": true
   },
   "source": [
    "## Metrics"
   ]
  },
  {
   "cell_type": "markdown",
   "metadata": {
    "hidden": true
   },
   "source": [
    "In this competition, the goal is to predict the SalePrice and the metric used is the root mean squared log error (RMSLE).  Therefore, I will convert the SalePrice column into the log of the SalePrice"
   ]
  },
  {
   "cell_type": "code",
   "execution_count": 24,
   "metadata": {
    "hidden": true
   },
   "outputs": [],
   "source": [
    "df_raw.SalePrice = np.log(df_raw.SalePrice)"
   ]
  },
  {
   "cell_type": "markdown",
   "metadata": {
    "hidden": true
   },
   "source": [
    "## Splitting Datetime"
   ]
  },
  {
   "cell_type": "markdown",
   "metadata": {
    "hidden": true
   },
   "source": [
    "Split the dattime column `saledate` into multiple columns containing integer components of the datetime, e.g., year, month, day, day of week, weekend"
   ]
  },
  {
   "cell_type": "code",
   "execution_count": 25,
   "metadata": {
    "hidden": true
   },
   "outputs": [],
   "source": [
    "add_datepart(df_raw, 'saledate')"
   ]
  },
  {
   "cell_type": "markdown",
   "metadata": {
    "hidden": true
   },
   "source": [
    "## Convert Strings to Integer Categorical "
   ]
  },
  {
   "cell_type": "markdown",
   "metadata": {
    "hidden": true
   },
   "source": [
    "Convert all columns with string values to integer categorical variables"
   ]
  },
  {
   "cell_type": "code",
   "execution_count": 26,
   "metadata": {
    "hidden": true
   },
   "outputs": [],
   "source": [
    "train_cats(df_raw)"
   ]
  },
  {
   "cell_type": "code",
   "execution_count": 27,
   "metadata": {
    "hidden": true,
    "scrolled": false
   },
   "outputs": [
    {
     "data": {
      "text/plain": [
       "Index(['High', 'Low', 'Medium'], dtype='object')"
      ]
     },
     "execution_count": 27,
     "metadata": {},
     "output_type": "execute_result"
    }
   ],
   "source": [
    "df_raw.UsageBand.cat.categories"
   ]
  },
  {
   "cell_type": "markdown",
   "metadata": {
    "hidden": true
   },
   "source": [
    "When there is ordinality in the strings you can assign the categorical integer values to share that order"
   ]
  },
  {
   "cell_type": "code",
   "execution_count": 28,
   "metadata": {
    "hidden": true
   },
   "outputs": [],
   "source": [
    "df_codes = df_raw.UsageBand.cat.codes\n",
    "df_raw.UsageBand.cat.set_categories(['High', 'Medium', 'Low'], ordered=True, inplace=True)"
   ]
  },
  {
   "cell_type": "code",
   "execution_count": 29,
   "metadata": {
    "hidden": true,
    "scrolled": false
   },
   "outputs": [
    {
     "data": {
      "text/html": [
       "<div>\n",
       "<style scoped>\n",
       "    .dataframe tbody tr th:only-of-type {\n",
       "        vertical-align: middle;\n",
       "    }\n",
       "\n",
       "    .dataframe tbody tr th {\n",
       "        vertical-align: top;\n",
       "    }\n",
       "\n",
       "    .dataframe thead th {\n",
       "        text-align: right;\n",
       "    }\n",
       "</style>\n",
       "<table border=\"1\" class=\"dataframe\">\n",
       "  <thead>\n",
       "    <tr style=\"text-align: right;\">\n",
       "      <th></th>\n",
       "      <th>Ordered</th>\n",
       "      <th>Raw</th>\n",
       "      <th>Unordered</th>\n",
       "    </tr>\n",
       "  </thead>\n",
       "  <tbody>\n",
       "    <tr>\n",
       "      <th>0</th>\n",
       "      <td>2</td>\n",
       "      <td>Low</td>\n",
       "      <td>1</td>\n",
       "    </tr>\n",
       "    <tr>\n",
       "      <th>1</th>\n",
       "      <td>2</td>\n",
       "      <td>Low</td>\n",
       "      <td>1</td>\n",
       "    </tr>\n",
       "    <tr>\n",
       "      <th>2</th>\n",
       "      <td>0</td>\n",
       "      <td>High</td>\n",
       "      <td>0</td>\n",
       "    </tr>\n",
       "    <tr>\n",
       "      <th>3</th>\n",
       "      <td>0</td>\n",
       "      <td>High</td>\n",
       "      <td>0</td>\n",
       "    </tr>\n",
       "    <tr>\n",
       "      <th>4</th>\n",
       "      <td>1</td>\n",
       "      <td>Medium</td>\n",
       "      <td>2</td>\n",
       "    </tr>\n",
       "  </tbody>\n",
       "</table>\n",
       "</div>"
      ],
      "text/plain": [
       "   Ordered     Raw  Unordered\n",
       "0        2     Low          1\n",
       "1        2     Low          1\n",
       "2        0    High          0\n",
       "3        0    High          0\n",
       "4        1  Medium          2"
      ]
     },
     "execution_count": 29,
     "metadata": {},
     "output_type": "execute_result"
    }
   ],
   "source": [
    "df_UsageBand_cat = pd.DataFrame({'Raw':df_raw.UsageBand, 'Unordered':df_codes, 'Ordered':df_raw.UsageBand.cat.codes})\n",
    "df_UsageBand_cat.head()"
   ]
  },
  {
   "cell_type": "code",
   "execution_count": 30,
   "metadata": {
    "hidden": true
   },
   "outputs": [],
   "source": [
    "df, y, na_dict = proc_df(df_raw, 'SalePrice')"
   ]
  },
  {
   "cell_type": "markdown",
   "metadata": {
    "heading_collapsed": true,
    "hidden": true
   },
   "source": [
    "## Save to/Load from Feather"
   ]
  },
  {
   "cell_type": "code",
   "execution_count": 6,
   "metadata": {
    "hidden": true
   },
   "outputs": [],
   "source": [
    "# df_raw.to_feather(f'{PATH_base}\\\\data\\\\interim\\\\bulldozer')\n",
    "df_raw = pd.read_feather(f'{PATH_base}\\\\data\\\\interim\\\\bulldozer')"
   ]
  },
  {
   "cell_type": "markdown",
   "metadata": {},
   "source": [
    "# Random Forest"
   ]
  },
  {
   "cell_type": "markdown",
   "metadata": {
    "heading_collapsed": true
   },
   "source": [
    "## $r^2$ and RMSE"
   ]
  },
  {
   "cell_type": "code",
   "execution_count": 31,
   "metadata": {
    "hidden": true
   },
   "outputs": [
    {
     "data": {
      "text/plain": [
       "0.9824105402447549"
      ]
     },
     "execution_count": 31,
     "metadata": {},
     "output_type": "execute_result"
    }
   ],
   "source": [
    "m = RandomForestRegressor(n_jobs=-1)\n",
    "m.fit(df, y)\n",
    "m.score(df, y)"
   ]
  },
  {
   "cell_type": "markdown",
   "metadata": {
    "hidden": true
   },
   "source": [
    "This score is the $r^2$ which is defined as :\n",
    "\n",
    "$$r^2 = 1-\\dfrac{SS_{res}}{SS_{tot}}  = 1-\\dfrac{\\sum\\limits_i\\left(y_i-f_i\\right)^2}{\\sum\\limits_i\\left(y_i-\\bar{y}\\right)^2}$$\n",
    "\n",
    "where $y_i$ is the true output, $f_i$ is the model output and $\\bar{y}$ is the mean true output.  Intepretation of different $r^2$ values is as follows\n",
    "  1. $r^2 = 1$ means that the model perfectly predicts the output\n",
    "  1. $r^2 = 0$ means the model does no better than predicting the output using the mean output, i.e., $\\bar{y}$\n",
    "  1. $1 > r^2 > 0 $ means that the model is better than simply using the mean ouptut\n",
    "  1. $r^2 < 0$ means that the model is worse than just using the mean output as a predictor\n",
    " \n",
    "However, $r^2$ by itself, is not a good metric as an overfit model will have an $r^2$ close to 1 for the training set, but would do much worse on a test set. "
   ]
  },
  {
   "cell_type": "markdown",
   "metadata": {
    "hidden": true
   },
   "source": [
    "To overcome the issue of overfitting, we can split the data into a training and validation set; using the training set to build the model and the validation set to test how good the model does on a different set of data."
   ]
  },
  {
   "cell_type": "code",
   "execution_count": 32,
   "metadata": {
    "hidden": true
   },
   "outputs": [
    {
     "data": {
      "text/plain": [
       "((38000, 65), (38000,), (12000, 65))"
      ]
     },
     "execution_count": 32,
     "metadata": {},
     "output_type": "execute_result"
    }
   ],
   "source": [
    "n_trn = len(df)-12000\n",
    "X_train, X_valid = split_train_val(df,trn_amount=n_trn)\n",
    "y_train, y_valid = split_train_val(y,trn_amount=n_trn)\n",
    "\n",
    "X_train.shape, y_train.shape, X_valid.shape"
   ]
  },
  {
   "cell_type": "code",
   "execution_count": 33,
   "metadata": {
    "hidden": true,
    "scrolled": false
   },
   "outputs": [
    {
     "name": "stdout",
     "output_type": "stream",
     "text": [
      "Training rmse: 0.09349769556571906\n",
      "Validation rmse: 0.0688803687875353\n",
      "Training Score: 0.9834323702372217\n",
      "Validation Score: 0.9718148732063945\n"
     ]
    }
   ],
   "source": [
    "train_rmse = custom_RFscore(m, X_train, y_train)\n",
    "valid_rmse = custom_RFscore(m, X_valid, y_valid) \n",
    "train_score = m.score(X_train, y_train)\n",
    "valid_score = m.score(X_valid, y_valid)\n",
    "print(f'Training rmse: {train_rmse}')\n",
    "print(f'Validation rmse: {valid_rmse}')\n",
    "print(f'Training Score: {train_score}')\n",
    "print(f'Validation Score: {valid_score}')"
   ]
  },
  {
   "cell_type": "markdown",
   "metadata": {},
   "source": [
    "## Speeding Things Up"
   ]
  },
  {
   "cell_type": "code",
   "execution_count": 34,
   "metadata": {},
   "outputs": [],
   "source": [
    "df_trn, y_trn, nas = proc_df(df_raw, 'SalePrice', subset=30000, na_dict=na_dict)\n",
    "X_train, _ = split_train_val(df_trn, trn_amount=20000)\n",
    "y_train, _ = split_train_val(y_trn, trn_amount=20000)"
   ]
  },
  {
   "cell_type": "code",
   "execution_count": 35,
   "metadata": {},
   "outputs": [],
   "source": [
    "m = RandomForestRegressor(n_jobs=-1);\n",
    "m.fit(X_train, y_train);"
   ]
  },
  {
   "cell_type": "code",
   "execution_count": 36,
   "metadata": {},
   "outputs": [
    {
     "name": "stdout",
     "output_type": "stream",
     "text": [
      "Training rmse: 0.09821146385156575\n",
      "Validation rmse: 0.1408816580112238\n",
      "Training Score: 0.9781615564366094\n",
      "Validation Score: 0.8820934386314245\n"
     ]
    }
   ],
   "source": [
    "train_rmse = custom_RFscore(m, X_train, y_train)\n",
    "valid_rmse = custom_RFscore(m, X_valid, y_valid) \n",
    "train_score = m.score(X_train, y_train)\n",
    "valid_score = m.score(X_valid, y_valid)\n",
    "print(f'Training rmse: {train_rmse}')\n",
    "print(f'Validation rmse: {valid_rmse}')\n",
    "print(f'Training Score: {train_score}')\n",
    "print(f'Validation Score: {valid_score}')"
   ]
  },
  {
   "cell_type": "code",
   "execution_count": 37,
   "metadata": {},
   "outputs": [],
   "source": [
    "def print_custom_RFscore():\n",
    "    train_rmse = custom_RFscore(m, X_train, y_train)\n",
    "    valid_rmse = custom_RFscore(m, X_valid, y_valid) \n",
    "    train_score = m.score(X_train, y_train)\n",
    "    valid_score = m.score(X_valid, y_valid)\n",
    "    print(f'Training rmse: {train_rmse}')\n",
    "    print(f'Validation rmse: {valid_rmse}')\n",
    "    print(f'Training Score: {train_score}')\n",
    "    print(f'Validation Score: {valid_score}')"
   ]
  },
  {
   "cell_type": "markdown",
   "metadata": {},
   "source": [
    "## Single Tree"
   ]
  },
  {
   "cell_type": "code",
   "execution_count": 4,
   "metadata": {},
   "outputs": [
    {
     "name": "stdout",
     "output_type": "stream",
     "text": [
      "Training rmse: 0.5392840105293845\n",
      "Validation rmse: 0.5794726966342749\n",
      "Training Score: 0.40094421266106184\n",
      "Validation Score: 0.4003277810486982\n"
     ]
    }
   ],
   "source": [
    "m = RandomForestRegressor(n_estimators=1, max_depth=3, bootstrap=False, n_jobs=-1)\n",
    "m.fit(X_train, y_train)\n",
    "print_custom_RFscore()"
   ]
  },
  {
   "cell_type": "code",
   "execution_count": 5,
   "metadata": {
    "scrolled": false
   },
   "outputs": [
    {
     "data": {
      "image/svg+xml": [
       "<?xml version=\"1.0\" encoding=\"UTF-8\" standalone=\"no\"?>\r\n",
       "<!DOCTYPE svg PUBLIC \"-//W3C//DTD SVG 1.1//EN\"\r\n",
       " \"http://www.w3.org/Graphics/SVG/1.1/DTD/svg11.dtd\">\r\n",
       "<!-- Generated by graphviz version 2.38.0 (20140413.2041)\r\n",
       " -->\r\n",
       "<!-- Title: Tree Pages: 1 -->\r\n",
       "<svg width=\"720pt\" height=\"434pt\"\r\n",
       " viewBox=\"0.00 0.00 720.00 434.49\" xmlns=\"http://www.w3.org/2000/svg\" xmlns:xlink=\"http://www.w3.org/1999/xlink\">\r\n",
       "<g id=\"graph0\" class=\"graph\" transform=\"scale(0.778659 0.778659) rotate(0) translate(4 554)\">\r\n",
       "<title>Tree</title>\r\n",
       "<polygon fill=\"white\" stroke=\"none\" points=\"-4,4 -4,-554 920.667,-554 920.667,4 -4,4\"/>\r\n",
       "<!-- 0 -->\r\n",
       "<g id=\"node1\" class=\"node\"><title>0</title>\r\n",
       "<polygon fill=\"#e58139\" fill-opacity=\"0.741176\" stroke=\"black\" points=\"172.167,-308.5 29.1667,-308.5 29.1667,-240.5 172.167,-240.5 172.167,-308.5\"/>\r\n",
       "<text text-anchor=\"start\" x=\"37.1667\" y=\"-293.3\" font-family=\"Times New Roman,serif\" font-size=\"14.00\">Coupler_System ≤ 0.5</text>\r\n",
       "<text text-anchor=\"start\" x=\"65.6667\" y=\"-278.3\" font-family=\"Times New Roman,serif\" font-size=\"14.00\">mse = 0.485</text>\r\n",
       "<text text-anchor=\"start\" x=\"53.1667\" y=\"-263.3\" font-family=\"Times New Roman,serif\" font-size=\"14.00\">samples = 20000</text>\r\n",
       "<text text-anchor=\"start\" x=\"66.1667\" y=\"-248.3\" font-family=\"Times New Roman,serif\" font-size=\"14.00\">value = 10.1</text>\r\n",
       "</g>\r\n",
       "<!-- 1 -->\r\n",
       "<g id=\"node2\" class=\"node\"><title>1</title>\r\n",
       "<polygon fill=\"#e58139\" fill-opacity=\"0.811765\" stroke=\"black\" points=\"406.167,-361.5 279.167,-361.5 279.167,-293.5 406.167,-293.5 406.167,-361.5\"/>\r\n",
       "<text text-anchor=\"start\" x=\"287.167\" y=\"-346.3\" font-family=\"Times New Roman,serif\" font-size=\"14.00\">YearMade ≤ 1985.5</text>\r\n",
       "<text text-anchor=\"start\" x=\"311.167\" y=\"-331.3\" font-family=\"Times New Roman,serif\" font-size=\"14.00\">mse = 0.42</text>\r\n",
       "<text text-anchor=\"start\" x=\"295.167\" y=\"-316.3\" font-family=\"Times New Roman,serif\" font-size=\"14.00\">samples = 17794</text>\r\n",
       "<text text-anchor=\"start\" x=\"301.667\" y=\"-301.3\" font-family=\"Times New Roman,serif\" font-size=\"14.00\">value = 10.211</text>\r\n",
       "</g>\r\n",
       "<!-- 0&#45;&gt;1 -->\r\n",
       "<g id=\"edge1\" class=\"edge\"><title>0&#45;&gt;1</title>\r\n",
       "<path fill=\"none\" stroke=\"black\" d=\"M172.377,-290.115C202.82,-296.838 238.385,-304.692 269.038,-311.461\"/>\r\n",
       "<polygon fill=\"black\" stroke=\"black\" points=\"268.286,-314.879 278.805,-313.618 269.795,-308.044 268.286,-314.879\"/>\r\n",
       "<text text-anchor=\"middle\" x=\"257.732\" y=\"-323.368\" font-family=\"Times New Roman,serif\" font-size=\"14.00\">True</text>\r\n",
       "</g>\r\n",
       "<!-- 8 -->\r\n",
       "<g id=\"node9\" class=\"node\"><title>8</title>\r\n",
       "<polygon fill=\"#e58139\" fill-opacity=\"0.152941\" stroke=\"black\" points=\"406.167,-255.5 279.167,-255.5 279.167,-187.5 406.167,-187.5 406.167,-255.5\"/>\r\n",
       "<text text-anchor=\"start\" x=\"287.167\" y=\"-240.3\" font-family=\"Times New Roman,serif\" font-size=\"14.00\">YearMade ≤ 1998.5</text>\r\n",
       "<text text-anchor=\"start\" x=\"307.667\" y=\"-225.3\" font-family=\"Times New Roman,serif\" font-size=\"14.00\">mse = 0.115</text>\r\n",
       "<text text-anchor=\"start\" x=\"298.667\" y=\"-210.3\" font-family=\"Times New Roman,serif\" font-size=\"14.00\">samples = 2206</text>\r\n",
       "<text text-anchor=\"start\" x=\"304.667\" y=\"-195.3\" font-family=\"Times New Roman,serif\" font-size=\"14.00\">value = 9.204</text>\r\n",
       "</g>\r\n",
       "<!-- 0&#45;&gt;8 -->\r\n",
       "<g id=\"edge8\" class=\"edge\"><title>0&#45;&gt;8</title>\r\n",
       "<path fill=\"none\" stroke=\"black\" d=\"M172.377,-258.885C202.82,-252.162 238.385,-244.308 269.038,-237.539\"/>\r\n",
       "<polygon fill=\"black\" stroke=\"black\" points=\"269.795,-240.956 278.805,-235.382 268.286,-234.121 269.795,-240.956\"/>\r\n",
       "<text text-anchor=\"middle\" x=\"257.732\" y=\"-218.232\" font-family=\"Times New Roman,serif\" font-size=\"14.00\">False</text>\r\n",
       "</g>\r\n",
       "<!-- 2 -->\r\n",
       "<g id=\"node3\" class=\"node\"><title>2</title>\r\n",
       "<polygon fill=\"#e58139\" fill-opacity=\"0.584314\" stroke=\"black\" points=\"660.167,-486.5 541.167,-486.5 541.167,-418.5 660.167,-418.5 660.167,-486.5\"/>\r\n",
       "<text text-anchor=\"start\" x=\"549.167\" y=\"-471.3\" font-family=\"Times New Roman,serif\" font-size=\"14.00\">ModelID ≤ 4520.5</text>\r\n",
       "<text text-anchor=\"start\" x=\"565.667\" y=\"-456.3\" font-family=\"Times New Roman,serif\" font-size=\"14.00\">mse = 0.338</text>\r\n",
       "<text text-anchor=\"start\" x=\"556.667\" y=\"-441.3\" font-family=\"Times New Roman,serif\" font-size=\"14.00\">samples = 5083</text>\r\n",
       "<text text-anchor=\"start\" x=\"562.667\" y=\"-426.3\" font-family=\"Times New Roman,serif\" font-size=\"14.00\">value = 9.864</text>\r\n",
       "</g>\r\n",
       "<!-- 1&#45;&gt;2 -->\r\n",
       "<g id=\"edge2\" class=\"edge\"><title>1&#45;&gt;2</title>\r\n",
       "<path fill=\"none\" stroke=\"black\" d=\"M406.291,-358.078C444.251,-376.613 492.696,-400.268 531.601,-419.265\"/>\r\n",
       "<polygon fill=\"black\" stroke=\"black\" points=\"530.241,-422.496 540.763,-423.739 533.313,-416.206 530.241,-422.496\"/>\r\n",
       "</g>\r\n",
       "<!-- 5 -->\r\n",
       "<g id=\"node6\" class=\"node\"><title>5</title>\r\n",
       "<polygon fill=\"#e58139\" fill-opacity=\"0.905882\" stroke=\"black\" points=\"681.167,-361.5 520.167,-361.5 520.167,-293.5 681.167,-293.5 681.167,-361.5\"/>\r\n",
       "<text text-anchor=\"start\" x=\"528.167\" y=\"-346.3\" font-family=\"Times New Roman,serif\" font-size=\"14.00\">fiProductClassDesc ≤ 6.5</text>\r\n",
       "<text text-anchor=\"start\" x=\"565.667\" y=\"-331.3\" font-family=\"Times New Roman,serif\" font-size=\"14.00\">mse = 0.385</text>\r\n",
       "<text text-anchor=\"start\" x=\"553.167\" y=\"-316.3\" font-family=\"Times New Roman,serif\" font-size=\"14.00\">samples = 12711</text>\r\n",
       "<text text-anchor=\"start\" x=\"562.667\" y=\"-301.3\" font-family=\"Times New Roman,serif\" font-size=\"14.00\">value = 10.35</text>\r\n",
       "</g>\r\n",
       "<!-- 1&#45;&gt;5 -->\r\n",
       "<g id=\"edge5\" class=\"edge\"><title>1&#45;&gt;5</title>\r\n",
       "<path fill=\"none\" stroke=\"black\" d=\"M406.291,-327.5C437.279,-327.5 475.255,-327.5 509.324,-327.5\"/>\r\n",
       "<polygon fill=\"black\" stroke=\"black\" points=\"509.759,-331 519.759,-327.5 509.759,-324 509.759,-331\"/>\r\n",
       "</g>\r\n",
       "<!-- 3 -->\r\n",
       "<g id=\"node4\" class=\"node\"><title>3</title>\r\n",
       "<polygon fill=\"#e58139\" fill-opacity=\"0.725490\" stroke=\"black\" points=\"895.667,-550 791.667,-550 791.667,-497 895.667,-497 895.667,-550\"/>\r\n",
       "<text text-anchor=\"start\" x=\"812.167\" y=\"-534.8\" font-family=\"Times New Roman,serif\" font-size=\"14.00\">mse = 0.36</text>\r\n",
       "<text text-anchor=\"start\" x=\"799.667\" y=\"-519.8\" font-family=\"Times New Roman,serif\" font-size=\"14.00\">samples = 2452</text>\r\n",
       "<text text-anchor=\"start\" x=\"802.667\" y=\"-504.8\" font-family=\"Times New Roman,serif\" font-size=\"14.00\">value = 10.075</text>\r\n",
       "</g>\r\n",
       "<!-- 2&#45;&gt;3 -->\r\n",
       "<g id=\"edge3\" class=\"edge\"><title>2&#45;&gt;3</title>\r\n",
       "<path fill=\"none\" stroke=\"black\" d=\"M660.314,-469.778C697.149,-480.63 744.564,-494.598 781.811,-505.572\"/>\r\n",
       "<polygon fill=\"black\" stroke=\"black\" points=\"780.957,-508.969 791.538,-508.437 782.935,-502.254 780.957,-508.969\"/>\r\n",
       "</g>\r\n",
       "<!-- 4 -->\r\n",
       "<g id=\"node5\" class=\"node\"><title>4</title>\r\n",
       "<polygon fill=\"#e58139\" fill-opacity=\"0.458824\" stroke=\"black\" points=\"895.667,-479 791.667,-479 791.667,-426 895.667,-426 895.667,-479\"/>\r\n",
       "<text text-anchor=\"start\" x=\"808.667\" y=\"-463.8\" font-family=\"Times New Roman,serif\" font-size=\"14.00\">mse = 0.236</text>\r\n",
       "<text text-anchor=\"start\" x=\"799.667\" y=\"-448.8\" font-family=\"Times New Roman,serif\" font-size=\"14.00\">samples = 2631</text>\r\n",
       "<text text-anchor=\"start\" x=\"805.667\" y=\"-433.8\" font-family=\"Times New Roman,serif\" font-size=\"14.00\">value = 9.666</text>\r\n",
       "</g>\r\n",
       "<!-- 2&#45;&gt;4 -->\r\n",
       "<g id=\"edge4\" class=\"edge\"><title>2&#45;&gt;4</title>\r\n",
       "<path fill=\"none\" stroke=\"black\" d=\"M660.314,-452.5C696.992,-452.5 744.16,-452.5 781.335,-452.5\"/>\r\n",
       "<polygon fill=\"black\" stroke=\"black\" points=\"781.538,-456 791.538,-452.5 781.538,-449 781.538,-456\"/>\r\n",
       "</g>\r\n",
       "<!-- 6 -->\r\n",
       "<g id=\"node7\" class=\"node\"><title>6</title>\r\n",
       "<polygon fill=\"#e58139\" fill-opacity=\"0.639216\" stroke=\"black\" points=\"895.667,-408 791.667,-408 791.667,-355 895.667,-355 895.667,-408\"/>\r\n",
       "<text text-anchor=\"start\" x=\"812.167\" y=\"-392.8\" font-family=\"Times New Roman,serif\" font-size=\"14.00\">mse = 0.13</text>\r\n",
       "<text text-anchor=\"start\" x=\"799.667\" y=\"-377.8\" font-family=\"Times New Roman,serif\" font-size=\"14.00\">samples = 3344</text>\r\n",
       "<text text-anchor=\"start\" x=\"805.667\" y=\"-362.8\" font-family=\"Times New Roman,serif\" font-size=\"14.00\">value = 9.942</text>\r\n",
       "</g>\r\n",
       "<!-- 5&#45;&gt;6 -->\r\n",
       "<g id=\"edge6\" class=\"edge\"><title>5&#45;&gt;6</title>\r\n",
       "<path fill=\"none\" stroke=\"black\" d=\"M681.247,-345.331C713.89,-352.645 751.079,-360.978 781.527,-367.801\"/>\r\n",
       "<polygon fill=\"black\" stroke=\"black\" points=\"781.055,-371.282 791.579,-370.053 782.586,-364.451 781.055,-371.282\"/>\r\n",
       "</g>\r\n",
       "<!-- 7 -->\r\n",
       "<g id=\"node8\" class=\"node\"><title>7</title>\r\n",
       "<polygon fill=\"#e58139\" stroke=\"black\" points=\"895.667,-337 791.667,-337 791.667,-284 895.667,-284 895.667,-337\"/>\r\n",
       "<text text-anchor=\"start\" x=\"808.667\" y=\"-321.8\" font-family=\"Times New Roman,serif\" font-size=\"14.00\">mse = 0.395</text>\r\n",
       "<text text-anchor=\"start\" x=\"799.667\" y=\"-306.8\" font-family=\"Times New Roman,serif\" font-size=\"14.00\">samples = 9367</text>\r\n",
       "<text text-anchor=\"start\" x=\"802.667\" y=\"-291.8\" font-family=\"Times New Roman,serif\" font-size=\"14.00\">value = 10.496</text>\r\n",
       "</g>\r\n",
       "<!-- 5&#45;&gt;7 -->\r\n",
       "<g id=\"edge7\" class=\"edge\"><title>5&#45;&gt;7</title>\r\n",
       "<path fill=\"none\" stroke=\"black\" d=\"M681.247,-321.886C713.89,-319.584 751.079,-316.961 781.527,-314.813\"/>\r\n",
       "<polygon fill=\"black\" stroke=\"black\" points=\"781.85,-318.299 791.579,-314.104 781.357,-311.316 781.85,-318.299\"/>\r\n",
       "</g>\r\n",
       "<!-- 9 -->\r\n",
       "<g id=\"node10\" class=\"node\"><title>9</title>\r\n",
       "<polygon fill=\"#e58139\" fill-opacity=\"0.031373\" stroke=\"black\" points=\"684.167,-255.5 517.167,-255.5 517.167,-187.5 684.167,-187.5 684.167,-255.5\"/>\r\n",
       "<text text-anchor=\"start\" x=\"525.167\" y=\"-240.3\" font-family=\"Times New Roman,serif\" font-size=\"14.00\">fiProductClassDesc ≤ 40.5</text>\r\n",
       "<text text-anchor=\"start\" x=\"569.167\" y=\"-225.3\" font-family=\"Times New Roman,serif\" font-size=\"14.00\">mse = 0.09</text>\r\n",
       "<text text-anchor=\"start\" x=\"559.667\" y=\"-210.3\" font-family=\"Times New Roman,serif\" font-size=\"14.00\">samples = 894</text>\r\n",
       "<text text-anchor=\"start\" x=\"562.667\" y=\"-195.3\" font-family=\"Times New Roman,serif\" font-size=\"14.00\">value = 9.018</text>\r\n",
       "</g>\r\n",
       "<!-- 8&#45;&gt;9 -->\r\n",
       "<g id=\"edge9\" class=\"edge\"><title>8&#45;&gt;9</title>\r\n",
       "<path fill=\"none\" stroke=\"black\" d=\"M406.291,-221.5C436.474,-221.5 473.287,-221.5 506.661,-221.5\"/>\r\n",
       "<polygon fill=\"black\" stroke=\"black\" points=\"506.897,-225 516.897,-221.5 506.897,-218 506.897,-225\"/>\r\n",
       "</g>\r\n",
       "<!-- 12 -->\r\n",
       "<g id=\"node13\" class=\"node\"><title>12</title>\r\n",
       "<polygon fill=\"#e58139\" fill-opacity=\"0.235294\" stroke=\"black\" points=\"684.167,-131.5 517.167,-131.5 517.167,-63.5 684.167,-63.5 684.167,-131.5\"/>\r\n",
       "<text text-anchor=\"start\" x=\"525.167\" y=\"-116.3\" font-family=\"Times New Roman,serif\" font-size=\"14.00\">fiProductClassDesc ≤ 40.5</text>\r\n",
       "<text text-anchor=\"start\" x=\"565.667\" y=\"-101.3\" font-family=\"Times New Roman,serif\" font-size=\"14.00\">mse = 0.092</text>\r\n",
       "<text text-anchor=\"start\" x=\"556.667\" y=\"-86.3\" font-family=\"Times New Roman,serif\" font-size=\"14.00\">samples = 1312</text>\r\n",
       "<text text-anchor=\"start\" x=\"566.167\" y=\"-71.3\" font-family=\"Times New Roman,serif\" font-size=\"14.00\">value = 9.33</text>\r\n",
       "</g>\r\n",
       "<!-- 8&#45;&gt;12 -->\r\n",
       "<g id=\"edge12\" class=\"edge\"><title>8&#45;&gt;12</title>\r\n",
       "<path fill=\"none\" stroke=\"black\" d=\"M406.291,-191.166C440.543,-174.576 483.331,-153.85 519.945,-136.115\"/>\r\n",
       "<polygon fill=\"black\" stroke=\"black\" points=\"521.637,-139.184 529.111,-131.675 518.586,-132.885 521.637,-139.184\"/>\r\n",
       "</g>\r\n",
       "<!-- 10 -->\r\n",
       "<g id=\"node11\" class=\"node\"><title>10</title>\r\n",
       "<polygon fill=\"none\" stroke=\"black\" points=\"892.667,-266 794.667,-266 794.667,-213 892.667,-213 892.667,-266\"/>\r\n",
       "<text text-anchor=\"start\" x=\"808.667\" y=\"-250.8\" font-family=\"Times New Roman,serif\" font-size=\"14.00\">mse = 0.069</text>\r\n",
       "<text text-anchor=\"start\" x=\"802.667\" y=\"-235.8\" font-family=\"Times New Roman,serif\" font-size=\"14.00\">samples = 677</text>\r\n",
       "<text text-anchor=\"start\" x=\"805.667\" y=\"-220.8\" font-family=\"Times New Roman,serif\" font-size=\"14.00\">value = 8.968</text>\r\n",
       "</g>\r\n",
       "<!-- 9&#45;&gt;10 -->\r\n",
       "<g id=\"edge10\" class=\"edge\"><title>9&#45;&gt;10</title>\r\n",
       "<path fill=\"none\" stroke=\"black\" d=\"M684.268,-227.669C717.178,-230.127 754.286,-232.899 784.309,-235.141\"/>\r\n",
       "<polygon fill=\"black\" stroke=\"black\" points=\"784.382,-238.656 794.615,-235.911 784.903,-231.676 784.382,-238.656\"/>\r\n",
       "</g>\r\n",
       "<!-- 11 -->\r\n",
       "<g id=\"node12\" class=\"node\"><title>11</title>\r\n",
       "<polygon fill=\"#e58139\" fill-opacity=\"0.133333\" stroke=\"black\" points=\"892.667,-195 794.667,-195 794.667,-142 892.667,-142 892.667,-195\"/>\r\n",
       "<text text-anchor=\"start\" x=\"808.667\" y=\"-179.8\" font-family=\"Times New Roman,serif\" font-size=\"14.00\">mse = 0.123</text>\r\n",
       "<text text-anchor=\"start\" x=\"802.667\" y=\"-164.8\" font-family=\"Times New Roman,serif\" font-size=\"14.00\">samples = 217</text>\r\n",
       "<text text-anchor=\"start\" x=\"805.667\" y=\"-149.8\" font-family=\"Times New Roman,serif\" font-size=\"14.00\">value = 9.174</text>\r\n",
       "</g>\r\n",
       "<!-- 9&#45;&gt;11 -->\r\n",
       "<g id=\"edge11\" class=\"edge\"><title>9&#45;&gt;11</title>\r\n",
       "<path fill=\"none\" stroke=\"black\" d=\"M684.268,-203.335C717.321,-196.066 754.611,-187.865 784.702,-181.247\"/>\r\n",
       "<polygon fill=\"black\" stroke=\"black\" points=\"785.6,-184.634 794.615,-179.067 784.096,-177.797 785.6,-184.634\"/>\r\n",
       "</g>\r\n",
       "<!-- 13 -->\r\n",
       "<g id=\"node14\" class=\"node\"><title>13</title>\r\n",
       "<polygon fill=\"#e58139\" fill-opacity=\"0.168627\" stroke=\"black\" points=\"892.667,-124 794.667,-124 794.667,-71 892.667,-71 892.667,-124\"/>\r\n",
       "<text text-anchor=\"start\" x=\"808.667\" y=\"-108.8\" font-family=\"Times New Roman,serif\" font-size=\"14.00\">mse = 0.087</text>\r\n",
       "<text text-anchor=\"start\" x=\"802.667\" y=\"-93.8\" font-family=\"Times New Roman,serif\" font-size=\"14.00\">samples = 666</text>\r\n",
       "<text text-anchor=\"start\" x=\"805.667\" y=\"-78.8\" font-family=\"Times New Roman,serif\" font-size=\"14.00\">value = 9.224</text>\r\n",
       "</g>\r\n",
       "<!-- 12&#45;&gt;13 -->\r\n",
       "<g id=\"edge13\" class=\"edge\"><title>12&#45;&gt;13</title>\r\n",
       "<path fill=\"none\" stroke=\"black\" d=\"M684.268,-97.5C717.178,-97.5 754.286,-97.5 784.309,-97.5\"/>\r\n",
       "<polygon fill=\"black\" stroke=\"black\" points=\"784.615,-101 794.615,-97.5 784.615,-94.0001 784.615,-101\"/>\r\n",
       "</g>\r\n",
       "<!-- 14 -->\r\n",
       "<g id=\"node15\" class=\"node\"><title>14</title>\r\n",
       "<polygon fill=\"#e58139\" fill-opacity=\"0.309804\" stroke=\"black\" points=\"892.667,-53 794.667,-53 794.667,-0 892.667,-0 892.667,-53\"/>\r\n",
       "<text text-anchor=\"start\" x=\"808.667\" y=\"-37.8\" font-family=\"Times New Roman,serif\" font-size=\"14.00\">mse = 0.075</text>\r\n",
       "<text text-anchor=\"start\" x=\"802.667\" y=\"-22.8\" font-family=\"Times New Roman,serif\" font-size=\"14.00\">samples = 646</text>\r\n",
       "<text text-anchor=\"start\" x=\"805.667\" y=\"-7.8\" font-family=\"Times New Roman,serif\" font-size=\"14.00\">value = 9.439</text>\r\n",
       "</g>\r\n",
       "<!-- 12&#45;&gt;14 -->\r\n",
       "<g id=\"edge14\" class=\"edge\"><title>12&#45;&gt;14</title>\r\n",
       "<path fill=\"none\" stroke=\"black\" d=\"M684.268,-73.1652C717.321,-63.4274 754.611,-52.4418 784.702,-43.5767\"/>\r\n",
       "<polygon fill=\"black\" stroke=\"black\" points=\"786.011,-46.8398 794.615,-40.6564 784.033,-40.1251 786.011,-46.8398\"/>\r\n",
       "</g>\r\n",
       "</g>\r\n",
       "</svg>\r\n"
      ],
      "text/plain": [
       "<graphviz.files.Source at 0x11b7c898>"
      ]
     },
     "metadata": {},
     "output_type": "display_data"
    }
   ],
   "source": [
    "draw_tree(m.estimators_[0], df_trn, precision=3)"
   ]
  },
  {
   "cell_type": "markdown",
   "metadata": {},
   "source": [
    "### Interpreting the Decision Tree"
   ]
  },
  {
   "cell_type": "markdown",
   "metadata": {},
   "source": [
    "If I took the mean output of my entire dataset and used that to predict the output for each individual observation, what would the mean square error be?"
   ]
  },
  {
   "cell_type": "code",
   "execution_count": 40,
   "metadata": {
    "scrolled": true
   },
   "outputs": [
    {
     "name": "stdout",
     "output_type": "stream",
     "text": [
      "mean square error = 0.442\n",
      "samples = 20000\n",
      "mean value = 9.941\n"
     ]
    }
   ],
   "source": [
    "mse = ((y_train - y_train.mean())**2).mean()\n",
    "print(f'mean square error = {round(mse,3)}')\n",
    "print(f'samples = {len(y_train)}')\n",
    "print(f'mean value = {round(y_train.mean(),3)}')"
   ]
  },
  {
   "cell_type": "markdown",
   "metadata": {},
   "source": [
    "Taking a look at the tree above, we can now see that the `values` and `mse` term of the first box correspond to the mean output value and mean squared error using the output value of the entire dataset. Let's see if this analysis holds true for the next couple of boxes."
   ]
  },
  {
   "cell_type": "code",
   "execution_count": 41,
   "metadata": {},
   "outputs": [
    {
     "name": "stdout",
     "output_type": "stream",
     "text": [
      "mean square error = 0.386\n",
      "samples = 16380\n",
      "mean value = 10.093\n"
     ]
    }
   ],
   "source": [
    "y_train_2_1 = y_train[list(X_train.Coupler_System <= 0.5)]\n",
    "mse = ((y_train_2_1 - y_train_2_1.mean())**2).mean()\n",
    "print(f'mean square error = {round(mse,3)}')\n",
    "print(f'samples = {len(y_train_2_1)}')\n",
    "print(f'mean value = {round(y_train_2_1.mean(),3)}')"
   ]
  },
  {
   "cell_type": "code",
   "execution_count": 42,
   "metadata": {},
   "outputs": [
    {
     "name": "stdout",
     "output_type": "stream",
     "text": [
      "mean square error = 0.113\n",
      "samples = 3620\n",
      "mean value = 9.252\n"
     ]
    }
   ],
   "source": [
    "y_train_2_2 = y_train[list(X_train.Coupler_System > 0.5 )]\n",
    "mse = ((y_train_2_2 - y_train_2_2.mean())**2).mean()\n",
    "print(f'mean square error = {round(mse,3)}')\n",
    "print(f'samples = {len(y_train_2_2)}')\n",
    "print(f'mean value = {round(y_train_2_2.mean(),3)}')"
   ]
  },
  {
   "cell_type": "code",
   "execution_count": 43,
   "metadata": {},
   "outputs": [
    {
     "name": "stdout",
     "output_type": "stream",
     "text": [
      "mean square error = 0.254\n",
      "samples = 6749\n",
      "mean value = 9.737\n"
     ]
    }
   ],
   "source": [
    "y_train_3_1 = y_train[list((X_train.Coupler_System <= 0.5)  & (X_train.YearMade <= 1991.5))]\n",
    "mse = ((y_train_3_1 - y_train_3_1.mean())**2).mean()\n",
    "print(f'mean square error = {round(mse,3)}')\n",
    "print(f'samples = {len(y_train_3_1)}')\n",
    "print(f'mean value = {round(y_train_3_1.mean(),3)}')"
   ]
  },
  {
   "cell_type": "markdown",
   "metadata": {},
   "source": [
    "# RERUNNING"
   ]
  },
  {
   "cell_type": "code",
   "execution_count": 1,
   "metadata": {},
   "outputs": [],
   "source": [
    "import os\n",
    "import sys\n",
    "from sklearn.ensemble import *\n",
    "%load_ext autoreload\n",
    "%autoreload 2\n",
    "if os.name == 'nt':\n",
    "    PATH_base = 'E:\\\\GitHub\\\\data_science\\\\'\n",
    "    PATH_bd = 'E:\\\\GitHub\\\\data_science\\\\data\\\\uncompressed\\\\blue_book_for_bulldozers\\\\'\n",
    "    PATH_func = 'E:\\\\GitHub\\\\data_science\\\\src\\\\'\n",
    "elif os.name == 'posix':\n",
    "    PATH_base = '/home/msnow/git/data_science/'\n",
    "    PATH_bd = '/data/msnow/data_science/blue_book_for_bulldozers/'\n",
    "    PATH_func = PATH_base + 'src/'\n",
    "sys.path.append(PATH_func)\n",
    "from features.imports import *\n",
    "from features.utilities import *\n",
    "from features.fastai import *"
   ]
  },
  {
   "cell_type": "code",
   "execution_count": 2,
   "metadata": {},
   "outputs": [],
   "source": [
    "df_raw = pd.read_feather(f'{PATH_base}\\\\data\\\\interim\\\\bulldozer')\n",
    "df, y, na_dict = proc_df(df_raw, 'SalePrice')"
   ]
  },
  {
   "cell_type": "code",
   "execution_count": 104,
   "metadata": {},
   "outputs": [],
   "source": [
    "n_trn = len(df)-12000\n",
    "_, X_valid = split_train_val(df,trn_amount=n_trn)\n",
    "_, y_valid = split_train_val(y,trn_amount=n_trn)\n",
    "df_trn, y_trn, nas = proc_df(df_raw, 'SalePrice', subset=30000, na_dict=na_dict)\n",
    "X_train, _ = split_train_val(df_trn, trn_amount=20000)\n",
    "y_train, _ = split_train_val(y_trn, trn_amount=20000)\n",
    "m = RandomForestRegressor(n_jobs=-1);\n",
    "m.fit(X_train, y_train);\n",
    "def print_custom_RFscore():\n",
    "    train_rmse = custom_RFscore(m, X_train, y_train)\n",
    "    valid_rmse = custom_RFscore(m, X_valid, y_valid) \n",
    "    train_score = m.score(X_train, y_train)\n",
    "    valid_score = m.score(X_valid, y_valid)\n",
    "    print(f'Training rmse: {train_rmse}')\n",
    "    print(f'Validation rmse: {valid_rmse}')\n",
    "    print(f'Training Score: {train_score}')\n",
    "    print(f'Validation Score: {valid_score}')\n",
    "    if hasattr(m, 'oob_score_'):\n",
    "        print(f'OOB Score: {m.oob_score_}')"
   ]
  },
  {
   "cell_type": "markdown",
   "metadata": {
    "heading_collapsed": true
   },
   "source": [
    "## Bagging"
   ]
  },
  {
   "cell_type": "markdown",
   "metadata": {
    "hidden": true
   },
   "source": [
    "The problem with using a single tree is that the smaller the leaf nodes are, the more overfit the model is.  When the leaf nodes only have a single value in them, the model is perfectly predicts the training set but does not score nearly as high on the validation set"
   ]
  },
  {
   "cell_type": "code",
   "execution_count": 46,
   "metadata": {
    "hidden": true
   },
   "outputs": [
    {
     "name": "stdout",
     "output_type": "stream",
     "text": [
      "Training rmse: 2.3874896000997127e-06\n",
      "Validation rmse: 0.17997538860410744\n",
      "Training Score: 0.9999999999870944\n",
      "Validation Score: 0.8075777425128688\n"
     ]
    }
   ],
   "source": [
    "m = RandomForestRegressor(n_estimators=1, bootstrap=False, n_jobs=-1)\n",
    "m.fit(X_train, y_train)\n",
    "print_custom_RFscore()"
   ]
  },
  {
   "cell_type": "markdown",
   "metadata": {
    "hidden": true
   },
   "source": [
    "### Bagging Tutorial"
   ]
  },
  {
   "cell_type": "markdown",
   "metadata": {
    "hidden": true
   },
   "source": [
    "To go from single decision trees to a random forest, you want to somehow combine multiple decision trees to end up with a result that is somehow better than any single decision tree.  This act of combining models to get a better model is called ensembling.  For the random forest, the idea being that you create lots of \"bad\" decision trees, where each one does contain some insight about your data as well as significantly overfitting the data (high score on training set, low score on validation set).  If you repeat this with lots of uncorrelated trees then their overfitting errors, which are randomly distributed, should average to zero, while retaining each individual tree's true information.\n",
    "\n",
    "To uncorrelate the data we can randomly choose a subset of the data for each decision tree.\n",
    "\n",
    "Lucky for us this is what scikit-learn does by default (this is the bootstrap parameter in the RandomForestRegressor (RFR)).  Technically, the RFR, picks out n_rows with replacement."
   ]
  },
  {
   "cell_type": "code",
   "execution_count": 6,
   "metadata": {
    "hidden": true
   },
   "outputs": [],
   "source": [
    "m = RandomForestRegressor(n_estimators=3, max_depth=2, bootstrap=True, n_jobs=-1, max_features=0.5)\n",
    "m.fit(X_train, y_train);"
   ]
  },
  {
   "cell_type": "code",
   "execution_count": 36,
   "metadata": {
    "hidden": true
   },
   "outputs": [],
   "source": [
    "X_samp = X_valid.sample(3)\n",
    "preds = np.stack([t.predict(X_samp) for t in m.estimators_])"
   ]
  },
  {
   "cell_type": "code",
   "execution_count": 41,
   "metadata": {
    "hidden": true
   },
   "outputs": [
    {
     "data": {
      "image/svg+xml": [
       "<?xml version=\"1.0\" encoding=\"UTF-8\" standalone=\"no\"?>\r\n",
       "<!DOCTYPE svg PUBLIC \"-//W3C//DTD SVG 1.1//EN\"\r\n",
       " \"http://www.w3.org/Graphics/SVG/1.1/DTD/svg11.dtd\">\r\n",
       "<!-- Generated by graphviz version 2.38.0 (20140413.2041)\r\n",
       " -->\r\n",
       "<!-- Title: Tree Pages: 1 -->\r\n",
       "<svg width=\"488pt\" height=\"296pt\"\r\n",
       " viewBox=\"0.00 0.00 488.00 296.00\" xmlns=\"http://www.w3.org/2000/svg\" xmlns:xlink=\"http://www.w3.org/1999/xlink\">\r\n",
       "<g id=\"graph0\" class=\"graph\" transform=\"scale(1 1) rotate(0) translate(4 292)\">\r\n",
       "<title>Tree</title>\r\n",
       "<polygon fill=\"white\" stroke=\"none\" points=\"-4,4 -4,-292 484,-292 484,4 -4,4\"/>\r\n",
       "<!-- 0 -->\r\n",
       "<g id=\"node1\" class=\"node\"><title>0</title>\r\n",
       "<polygon fill=\"#e58139\" fill-opacity=\"0.839216\" stroke=\"black\" points=\"142.5,-179.267 -0.5,-179.267 -0.5,-111.267 142.5,-111.267 142.5,-179.267\"/>\r\n",
       "<text text-anchor=\"start\" x=\"7.5\" y=\"-164.067\" font-family=\"Times New Roman,serif\" font-size=\"14.00\">Coupler_System ≤ 0.5</text>\r\n",
       "<text text-anchor=\"start\" x=\"36\" y=\"-149.067\" font-family=\"Times New Roman,serif\" font-size=\"14.00\">mse = 0.483</text>\r\n",
       "<text text-anchor=\"start\" x=\"23.5\" y=\"-134.067\" font-family=\"Times New Roman,serif\" font-size=\"14.00\">samples = 12637</text>\r\n",
       "<text text-anchor=\"start\" x=\"30\" y=\"-119.067\" font-family=\"Times New Roman,serif\" font-size=\"14.00\">value = 10.098</text>\r\n",
       "</g>\r\n",
       "<!-- 1 -->\r\n",
       "<g id=\"node2\" class=\"node\"><title>1</title>\r\n",
       "<polygon fill=\"#e58139\" fill-opacity=\"0.925490\" stroke=\"black\" points=\"339.5,-225.267 178.5,-225.267 178.5,-157.267 339.5,-157.267 339.5,-225.267\"/>\r\n",
       "<text text-anchor=\"start\" x=\"186.5\" y=\"-210.067\" font-family=\"Times New Roman,serif\" font-size=\"14.00\">fiProductClassDesc ≤ 6.5</text>\r\n",
       "<text text-anchor=\"start\" x=\"224\" y=\"-195.067\" font-family=\"Times New Roman,serif\" font-size=\"14.00\">mse = 0.417</text>\r\n",
       "<text text-anchor=\"start\" x=\"211.5\" y=\"-180.067\" font-family=\"Times New Roman,serif\" font-size=\"14.00\">samples = 11247</text>\r\n",
       "<text text-anchor=\"start\" x=\"218\" y=\"-165.067\" font-family=\"Times New Roman,serif\" font-size=\"14.00\">value = 10.208</text>\r\n",
       "</g>\r\n",
       "<!-- 0&#45;&gt;1 -->\r\n",
       "<g id=\"edge1\" class=\"edge\"><title>0&#45;&gt;1</title>\r\n",
       "<path fill=\"none\" stroke=\"black\" d=\"M142.584,-162.723C151.096,-164.828 159.875,-166.999 168.611,-169.16\"/>\r\n",
       "<polygon fill=\"black\" stroke=\"black\" points=\"167.892,-172.587 178.44,-171.59 169.572,-165.792 167.892,-172.587\"/>\r\n",
       "<text text-anchor=\"middle\" x=\"157.035\" y=\"-180.807\" font-family=\"Times New Roman,serif\" font-size=\"14.00\">True</text>\r\n",
       "</g>\r\n",
       "<!-- 4 -->\r\n",
       "<g id=\"node5\" class=\"node\"><title>4</title>\r\n",
       "<polygon fill=\"#e58139\" fill-opacity=\"0.145098\" stroke=\"black\" points=\"322.5,-133.267 195.5,-133.267 195.5,-65.2667 322.5,-65.2667 322.5,-133.267\"/>\r\n",
       "<text text-anchor=\"start\" x=\"203.5\" y=\"-118.067\" font-family=\"Times New Roman,serif\" font-size=\"14.00\">YearMade ≤ 1998.5</text>\r\n",
       "<text text-anchor=\"start\" x=\"224\" y=\"-103.067\" font-family=\"Times New Roman,serif\" font-size=\"14.00\">mse = 0.114</text>\r\n",
       "<text text-anchor=\"start\" x=\"215\" y=\"-88.0667\" font-family=\"Times New Roman,serif\" font-size=\"14.00\">samples = 1390</text>\r\n",
       "<text text-anchor=\"start\" x=\"221\" y=\"-73.0667\" font-family=\"Times New Roman,serif\" font-size=\"14.00\">value = 9.199</text>\r\n",
       "</g>\r\n",
       "<!-- 0&#45;&gt;4 -->\r\n",
       "<g id=\"edge4\" class=\"edge\"><title>0&#45;&gt;4</title>\r\n",
       "<path fill=\"none\" stroke=\"black\" d=\"M142.584,-127.81C156.56,-124.354 171.254,-120.72 185.298,-117.247\"/>\r\n",
       "<polygon fill=\"black\" stroke=\"black\" points=\"186.524,-120.549 195.391,-114.751 184.843,-113.754 186.524,-120.549\"/>\r\n",
       "<text text-anchor=\"middle\" x=\"173.986\" y=\"-98.134\" font-family=\"Times New Roman,serif\" font-size=\"14.00\">False</text>\r\n",
       "</g>\r\n",
       "<!-- 2 -->\r\n",
       "<g id=\"node3\" class=\"node\"><title>2</title>\r\n",
       "<polygon fill=\"#e58139\" fill-opacity=\"0.654902\" stroke=\"black\" points=\"480,-285.767 376,-285.767 376,-232.767 480,-232.767 480,-285.767\"/>\r\n",
       "<text text-anchor=\"start\" x=\"393\" y=\"-270.567\" font-family=\"Times New Roman,serif\" font-size=\"14.00\">mse = 0.158</text>\r\n",
       "<text text-anchor=\"start\" x=\"384\" y=\"-255.567\" font-family=\"Times New Roman,serif\" font-size=\"14.00\">samples = 2464</text>\r\n",
       "<text text-anchor=\"start\" x=\"390\" y=\"-240.567\" font-family=\"Times New Roman,serif\" font-size=\"14.00\">value = 9.858</text>\r\n",
       "</g>\r\n",
       "<!-- 1&#45;&gt;2 -->\r\n",
       "<g id=\"edge2\" class=\"edge\"><title>1&#45;&gt;2</title>\r\n",
       "<path fill=\"none\" stroke=\"black\" d=\"M339.587,-223.673C348.595,-227.341 357.663,-231.034 366.371,-234.58\"/>\r\n",
       "<polygon fill=\"black\" stroke=\"black\" points=\"365.078,-237.832 375.66,-238.362 367.718,-231.349 365.078,-237.832\"/>\r\n",
       "</g>\r\n",
       "<!-- 3 -->\r\n",
       "<g id=\"node4\" class=\"node\"><title>3</title>\r\n",
       "<polygon fill=\"#e58139\" stroke=\"black\" points=\"480,-210.767 376,-210.767 376,-157.767 480,-157.767 480,-210.767\"/>\r\n",
       "<text text-anchor=\"start\" x=\"393\" y=\"-195.567\" font-family=\"Times New Roman,serif\" font-size=\"14.00\">mse = 0.446</text>\r\n",
       "<text text-anchor=\"start\" x=\"384\" y=\"-180.567\" font-family=\"Times New Roman,serif\" font-size=\"14.00\">samples = 8783</text>\r\n",
       "<text text-anchor=\"start\" x=\"387\" y=\"-165.567\" font-family=\"Times New Roman,serif\" font-size=\"14.00\">value = 10.307</text>\r\n",
       "</g>\r\n",
       "<!-- 1&#45;&gt;3 -->\r\n",
       "<g id=\"edge3\" class=\"edge\"><title>1&#45;&gt;3</title>\r\n",
       "<path fill=\"none\" stroke=\"black\" d=\"M339.587,-187.931C348.307,-187.565 357.084,-187.197 365.536,-186.843\"/>\r\n",
       "<polygon fill=\"black\" stroke=\"black\" points=\"365.815,-190.334 375.66,-186.419 365.522,-183.341 365.815,-190.334\"/>\r\n",
       "</g>\r\n",
       "<!-- 5 -->\r\n",
       "<g id=\"node6\" class=\"node\"><title>5</title>\r\n",
       "<polygon fill=\"none\" stroke=\"black\" points=\"477,-130.767 379,-130.767 379,-77.7667 477,-77.7667 477,-130.767\"/>\r\n",
       "<text text-anchor=\"start\" x=\"393\" y=\"-115.567\" font-family=\"Times New Roman,serif\" font-size=\"14.00\">mse = 0.085</text>\r\n",
       "<text text-anchor=\"start\" x=\"387\" y=\"-100.567\" font-family=\"Times New Roman,serif\" font-size=\"14.00\">samples = 583</text>\r\n",
       "<text text-anchor=\"start\" x=\"390\" y=\"-85.5667\" font-family=\"Times New Roman,serif\" font-size=\"14.00\">value = 9.011</text>\r\n",
       "</g>\r\n",
       "<!-- 4&#45;&gt;5 -->\r\n",
       "<g id=\"edge5\" class=\"edge\"><title>4&#45;&gt;5</title>\r\n",
       "<path fill=\"none\" stroke=\"black\" d=\"M322.66,-101.143C337.775,-101.595 353.863,-102.077 368.766,-102.523\"/>\r\n",
       "<polygon fill=\"black\" stroke=\"black\" points=\"368.767,-106.025 378.867,-102.826 368.977,-99.0278 368.767,-106.025\"/>\r\n",
       "</g>\r\n",
       "<!-- 6 -->\r\n",
       "<g id=\"node7\" class=\"node\"><title>6</title>\r\n",
       "<polygon fill=\"#e58139\" fill-opacity=\"0.247059\" stroke=\"black\" points=\"477,-54.7667 379,-54.7667 379,-1.76667 477,-1.76667 477,-54.7667\"/>\r\n",
       "<text text-anchor=\"start\" x=\"393\" y=\"-39.5667\" font-family=\"Times New Roman,serif\" font-size=\"14.00\">mse = 0.092</text>\r\n",
       "<text text-anchor=\"start\" x=\"387\" y=\"-24.5667\" font-family=\"Times New Roman,serif\" font-size=\"14.00\">samples = 807</text>\r\n",
       "<text text-anchor=\"start\" x=\"390\" y=\"-9.56667\" font-family=\"Times New Roman,serif\" font-size=\"14.00\">value = 9.333</text>\r\n",
       "</g>\r\n",
       "<!-- 4&#45;&gt;6 -->\r\n",
       "<g id=\"edge6\" class=\"edge\"><title>4&#45;&gt;6</title>\r\n",
       "<path fill=\"none\" stroke=\"black\" d=\"M322.66,-72.6269C338.065,-66.0772 354.482,-59.0976 369.624,-52.6599\"/>\r\n",
       "<polygon fill=\"black\" stroke=\"black\" points=\"371.034,-55.8639 378.867,-48.7302 368.295,-49.4219 371.034,-55.8639\"/>\r\n",
       "</g>\r\n",
       "</g>\r\n",
       "</svg>\r\n"
      ],
      "text/plain": [
       "<graphviz.files.Source at 0x9a71b70>"
      ]
     },
     "metadata": {},
     "output_type": "display_data"
    }
   ],
   "source": [
    "draw_tree(m.estimators_[0], df_trn, precision=3)"
   ]
  },
  {
   "cell_type": "code",
   "execution_count": 42,
   "metadata": {
    "hidden": true,
    "scrolled": true
   },
   "outputs": [
    {
     "data": {
      "text/html": [
       "<div>\n",
       "<style scoped>\n",
       "    .dataframe tbody tr th:only-of-type {\n",
       "        vertical-align: middle;\n",
       "    }\n",
       "\n",
       "    .dataframe tbody tr th {\n",
       "        vertical-align: top;\n",
       "    }\n",
       "\n",
       "    .dataframe thead th {\n",
       "        text-align: right;\n",
       "    }\n",
       "</style>\n",
       "<table border=\"1\" class=\"dataframe\">\n",
       "  <thead>\n",
       "    <tr style=\"text-align: right;\">\n",
       "      <th></th>\n",
       "      <th>Coupler_System</th>\n",
       "      <th>fiProductClassDesc</th>\n",
       "      <th>YearMade</th>\n",
       "      <th>prediction</th>\n",
       "    </tr>\n",
       "  </thead>\n",
       "  <tbody>\n",
       "    <tr>\n",
       "      <th>393484</th>\n",
       "      <td>0</td>\n",
       "      <td>49</td>\n",
       "      <td>1989</td>\n",
       "      <td>10.307</td>\n",
       "    </tr>\n",
       "    <tr>\n",
       "      <th>390375</th>\n",
       "      <td>1</td>\n",
       "      <td>41</td>\n",
       "      <td>2005</td>\n",
       "      <td>9.333</td>\n",
       "    </tr>\n",
       "    <tr>\n",
       "      <th>399437</th>\n",
       "      <td>0</td>\n",
       "      <td>14</td>\n",
       "      <td>1000</td>\n",
       "      <td>10.307</td>\n",
       "    </tr>\n",
       "  </tbody>\n",
       "</table>\n",
       "</div>"
      ],
      "text/plain": [
       "        Coupler_System  fiProductClassDesc  YearMade  prediction\n",
       "393484               0                  49      1989      10.307\n",
       "390375               1                  41      2005       9.333\n",
       "399437               0                  14      1000      10.307"
      ]
     },
     "execution_count": 42,
     "metadata": {},
     "output_type": "execute_result"
    }
   ],
   "source": [
    "tree = m.estimators_[0].tree_\n",
    "tree_features = X_train.columns[tree.feature[tree.feature>0]].tolist()\n",
    "X_pred0 = X_samp[tree_features].copy()\n",
    "X_pred0['prediction'] = np.round(preds[0,:],3)\n",
    "X_pred0"
   ]
  },
  {
   "cell_type": "code",
   "execution_count": 43,
   "metadata": {
    "hidden": true
   },
   "outputs": [
    {
     "data": {
      "image/svg+xml": [
       "<?xml version=\"1.0\" encoding=\"UTF-8\" standalone=\"no\"?>\r\n",
       "<!DOCTYPE svg PUBLIC \"-//W3C//DTD SVG 1.1//EN\"\r\n",
       " \"http://www.w3.org/Graphics/SVG/1.1/DTD/svg11.dtd\">\r\n",
       "<!-- Generated by graphviz version 2.38.0 (20140413.2041)\r\n",
       " -->\r\n",
       "<!-- Title: Tree Pages: 1 -->\r\n",
       "<svg width=\"483pt\" height=\"293pt\"\r\n",
       " viewBox=\"0.00 0.00 483.00 293.00\" xmlns=\"http://www.w3.org/2000/svg\" xmlns:xlink=\"http://www.w3.org/1999/xlink\">\r\n",
       "<g id=\"graph0\" class=\"graph\" transform=\"scale(1 1) rotate(0) translate(4 289)\">\r\n",
       "<title>Tree</title>\r\n",
       "<polygon fill=\"white\" stroke=\"none\" points=\"-4,4 -4,-289 479,-289 479,4 -4,4\"/>\r\n",
       "<!-- 0 -->\r\n",
       "<g id=\"node1\" class=\"node\"><title>0</title>\r\n",
       "<polygon fill=\"#e58139\" fill-opacity=\"0.674510\" stroke=\"black\" points=\"140.5,-177.972 -0.5,-177.972 -0.5,-109.972 140.5,-109.972 140.5,-177.972\"/>\r\n",
       "<text text-anchor=\"start\" x=\"7.5\" y=\"-162.772\" font-family=\"Times New Roman,serif\" font-size=\"14.00\">Grouser_Tracks ≤ 0.5</text>\r\n",
       "<text text-anchor=\"start\" x=\"35\" y=\"-147.772\" font-family=\"Times New Roman,serif\" font-size=\"14.00\">mse = 0.484</text>\r\n",
       "<text text-anchor=\"start\" x=\"22.5\" y=\"-132.772\" font-family=\"Times New Roman,serif\" font-size=\"14.00\">samples = 12571</text>\r\n",
       "<text text-anchor=\"start\" x=\"29\" y=\"-117.772\" font-family=\"Times New Roman,serif\" font-size=\"14.00\">value = 10.101</text>\r\n",
       "</g>\r\n",
       "<!-- 1 -->\r\n",
       "<g id=\"node2\" class=\"node\"><title>1</title>\r\n",
       "<polygon fill=\"#e58139\" fill-opacity=\"0.741176\" stroke=\"black\" points=\"335,-223.972 177,-223.972 177,-155.972 335,-155.972 335,-223.972\"/>\r\n",
       "<text text-anchor=\"start\" x=\"185\" y=\"-208.772\" font-family=\"Times New Roman,serif\" font-size=\"14.00\">fiModelDescriptor ≤ 15.0</text>\r\n",
       "<text text-anchor=\"start\" x=\"221\" y=\"-193.772\" font-family=\"Times New Roman,serif\" font-size=\"14.00\">mse = 0.421</text>\r\n",
       "<text text-anchor=\"start\" x=\"208.5\" y=\"-178.772\" font-family=\"Times New Roman,serif\" font-size=\"14.00\">samples = 11187</text>\r\n",
       "<text text-anchor=\"start\" x=\"218\" y=\"-163.772\" font-family=\"Times New Roman,serif\" font-size=\"14.00\">value = 10.21</text>\r\n",
       "</g>\r\n",
       "<!-- 0&#45;&gt;1 -->\r\n",
       "<g id=\"edge1\" class=\"edge\"><title>0&#45;&gt;1</title>\r\n",
       "<path fill=\"none\" stroke=\"black\" d=\"M140.563,-161.363C149.14,-163.507 157.994,-165.721 166.802,-167.923\"/>\r\n",
       "<polygon fill=\"black\" stroke=\"black\" points=\"166.159,-171.37 176.709,-170.399 167.856,-164.579 166.159,-171.37\"/>\r\n",
       "<text text-anchor=\"middle\" x=\"155.272\" y=\"-179.562\" font-family=\"Times New Roman,serif\" font-size=\"14.00\">True</text>\r\n",
       "</g>\r\n",
       "<!-- 4 -->\r\n",
       "<g id=\"node5\" class=\"node\"><title>4</title>\r\n",
       "<polygon fill=\"#e58139\" fill-opacity=\"0.117647\" stroke=\"black\" points=\"319.5,-132.972 192.5,-132.972 192.5,-64.9722 319.5,-64.9722 319.5,-132.972\"/>\r\n",
       "<text text-anchor=\"start\" x=\"200.5\" y=\"-117.772\" font-family=\"Times New Roman,serif\" font-size=\"14.00\">YearMade ≤ 1998.5</text>\r\n",
       "<text text-anchor=\"start\" x=\"221\" y=\"-102.772\" font-family=\"Times New Roman,serif\" font-size=\"14.00\">mse = 0.115</text>\r\n",
       "<text text-anchor=\"start\" x=\"212\" y=\"-87.7722\" font-family=\"Times New Roman,serif\" font-size=\"14.00\">samples = 1384</text>\r\n",
       "<text text-anchor=\"start\" x=\"218\" y=\"-72.7722\" font-family=\"Times New Roman,serif\" font-size=\"14.00\">value = 9.211</text>\r\n",
       "</g>\r\n",
       "<!-- 0&#45;&gt;4 -->\r\n",
       "<g id=\"edge4\" class=\"edge\"><title>0&#45;&gt;4</title>\r\n",
       "<path fill=\"none\" stroke=\"black\" d=\"M140.563,-126.96C154.238,-123.615 168.619,-120.098 182.392,-116.73\"/>\r\n",
       "<polygon fill=\"black\" stroke=\"black\" points=\"183.412,-120.083 192.295,-114.308 181.749,-113.284 183.412,-120.083\"/>\r\n",
       "<text text-anchor=\"middle\" x=\"170.924\" y=\"-97.6357\" font-family=\"Times New Roman,serif\" font-size=\"14.00\">False</text>\r\n",
       "</g>\r\n",
       "<!-- 2 -->\r\n",
       "<g id=\"node3\" class=\"node\"><title>2</title>\r\n",
       "<polygon fill=\"#e58139\" fill-opacity=\"0.678431\" stroke=\"black\" points=\"475,-283.472 371,-283.472 371,-230.472 475,-230.472 475,-283.472\"/>\r\n",
       "<text text-anchor=\"start\" x=\"388\" y=\"-268.272\" font-family=\"Times New Roman,serif\" font-size=\"14.00\">mse = 0.391</text>\r\n",
       "<text text-anchor=\"start\" x=\"379\" y=\"-253.272\" font-family=\"Times New Roman,serif\" font-size=\"14.00\">samples = 8986</text>\r\n",
       "<text text-anchor=\"start\" x=\"382\" y=\"-238.272\" font-family=\"Times New Roman,serif\" font-size=\"14.00\">value = 10.109</text>\r\n",
       "</g>\r\n",
       "<!-- 1&#45;&gt;2 -->\r\n",
       "<g id=\"edge2\" class=\"edge\"><title>1&#45;&gt;2</title>\r\n",
       "<path fill=\"none\" stroke=\"black\" d=\"M335.151,-221.706C343.987,-225.294 352.89,-228.909 361.452,-232.386\"/>\r\n",
       "<polygon fill=\"black\" stroke=\"black\" points=\"360.371,-235.725 370.953,-236.244 363.004,-229.239 360.371,-235.725\"/>\r\n",
       "</g>\r\n",
       "<!-- 3 -->\r\n",
       "<g id=\"node4\" class=\"node\"><title>3</title>\r\n",
       "<polygon fill=\"#e58139\" stroke=\"black\" points=\"475,-208.472 371,-208.472 371,-155.472 475,-155.472 475,-208.472\"/>\r\n",
       "<text text-anchor=\"start\" x=\"388\" y=\"-193.272\" font-family=\"Times New Roman,serif\" font-size=\"14.00\">mse = 0.327</text>\r\n",
       "<text text-anchor=\"start\" x=\"379\" y=\"-178.272\" font-family=\"Times New Roman,serif\" font-size=\"14.00\">samples = 2201</text>\r\n",
       "<text text-anchor=\"start\" x=\"382\" y=\"-163.272\" font-family=\"Times New Roman,serif\" font-size=\"14.00\">value = 10.622</text>\r\n",
       "</g>\r\n",
       "<!-- 1&#45;&gt;3 -->\r\n",
       "<g id=\"edge3\" class=\"edge\"><title>1&#45;&gt;3</title>\r\n",
       "<path fill=\"none\" stroke=\"black\" d=\"M335.151,-186.183C343.797,-185.764 352.507,-185.342 360.899,-184.935\"/>\r\n",
       "<polygon fill=\"black\" stroke=\"black\" points=\"361.134,-188.428 370.953,-184.447 360.795,-181.436 361.134,-188.428\"/>\r\n",
       "</g>\r\n",
       "<!-- 5 -->\r\n",
       "<g id=\"node6\" class=\"node\"><title>5</title>\r\n",
       "<polygon fill=\"none\" stroke=\"black\" points=\"472,-129.472 374,-129.472 374,-76.4722 472,-76.4722 472,-129.472\"/>\r\n",
       "<text text-anchor=\"start\" x=\"388\" y=\"-114.272\" font-family=\"Times New Roman,serif\" font-size=\"14.00\">mse = 0.085</text>\r\n",
       "<text text-anchor=\"start\" x=\"382\" y=\"-99.2722\" font-family=\"Times New Roman,serif\" font-size=\"14.00\">samples = 568</text>\r\n",
       "<text text-anchor=\"start\" x=\"385\" y=\"-84.2722\" font-family=\"Times New Roman,serif\" font-size=\"14.00\">value = 9.024</text>\r\n",
       "</g>\r\n",
       "<!-- 4&#45;&gt;5 -->\r\n",
       "<g id=\"edge5\" class=\"edge\"><title>4&#45;&gt;5</title>\r\n",
       "<path fill=\"none\" stroke=\"black\" d=\"M319.85,-100.496C334.287,-100.846 349.577,-101.217 363.807,-101.561\"/>\r\n",
       "<polygon fill=\"black\" stroke=\"black\" points=\"363.872,-105.064 373.954,-101.807 364.042,-98.066 363.872,-105.064\"/>\r\n",
       "</g>\r\n",
       "<!-- 6 -->\r\n",
       "<g id=\"node7\" class=\"node\"><title>6</title>\r\n",
       "<polygon fill=\"#e58139\" fill-opacity=\"0.200000\" stroke=\"black\" points=\"472,-54.4722 374,-54.4722 374,-1.47222 472,-1.47222 472,-54.4722\"/>\r\n",
       "<text text-anchor=\"start\" x=\"388\" y=\"-39.2722\" font-family=\"Times New Roman,serif\" font-size=\"14.00\">mse = 0.095</text>\r\n",
       "<text text-anchor=\"start\" x=\"382\" y=\"-24.2722\" font-family=\"Times New Roman,serif\" font-size=\"14.00\">samples = 816</text>\r\n",
       "<text text-anchor=\"start\" x=\"385\" y=\"-9.27222\" font-family=\"Times New Roman,serif\" font-size=\"14.00\">value = 9.342</text>\r\n",
       "</g>\r\n",
       "<!-- 4&#45;&gt;6 -->\r\n",
       "<g id=\"edge6\" class=\"edge\"><title>4&#45;&gt;6</title>\r\n",
       "<path fill=\"none\" stroke=\"black\" d=\"M319.85,-71.9276C334.568,-65.5947 350.171,-58.8806 364.634,-52.6568\"/>\r\n",
       "<polygon fill=\"black\" stroke=\"black\" points=\"366.152,-55.8143 373.954,-48.6466 363.385,-49.3843 366.152,-55.8143\"/>\r\n",
       "</g>\r\n",
       "</g>\r\n",
       "</svg>\r\n"
      ],
      "text/plain": [
       "<graphviz.files.Source at 0x9a71c18>"
      ]
     },
     "metadata": {},
     "output_type": "display_data"
    }
   ],
   "source": [
    "draw_tree(m.estimators_[1], df_trn, precision=3)"
   ]
  },
  {
   "cell_type": "code",
   "execution_count": 44,
   "metadata": {
    "hidden": true
   },
   "outputs": [
    {
     "data": {
      "text/html": [
       "<div>\n",
       "<style scoped>\n",
       "    .dataframe tbody tr th:only-of-type {\n",
       "        vertical-align: middle;\n",
       "    }\n",
       "\n",
       "    .dataframe tbody tr th {\n",
       "        vertical-align: top;\n",
       "    }\n",
       "\n",
       "    .dataframe thead th {\n",
       "        text-align: right;\n",
       "    }\n",
       "</style>\n",
       "<table border=\"1\" class=\"dataframe\">\n",
       "  <thead>\n",
       "    <tr style=\"text-align: right;\">\n",
       "      <th></th>\n",
       "      <th>Grouser_Tracks</th>\n",
       "      <th>fiModelDescriptor</th>\n",
       "      <th>YearMade</th>\n",
       "      <th>prediction</th>\n",
       "    </tr>\n",
       "  </thead>\n",
       "  <tbody>\n",
       "    <tr>\n",
       "      <th>393484</th>\n",
       "      <td>0</td>\n",
       "      <td>71</td>\n",
       "      <td>1989</td>\n",
       "      <td>10.622</td>\n",
       "    </tr>\n",
       "    <tr>\n",
       "      <th>390375</th>\n",
       "      <td>2</td>\n",
       "      <td>0</td>\n",
       "      <td>2005</td>\n",
       "      <td>9.342</td>\n",
       "    </tr>\n",
       "    <tr>\n",
       "      <th>399437</th>\n",
       "      <td>0</td>\n",
       "      <td>20</td>\n",
       "      <td>1000</td>\n",
       "      <td>10.622</td>\n",
       "    </tr>\n",
       "  </tbody>\n",
       "</table>\n",
       "</div>"
      ],
      "text/plain": [
       "        Grouser_Tracks  fiModelDescriptor  YearMade  prediction\n",
       "393484               0                 71      1989      10.622\n",
       "390375               2                  0      2005       9.342\n",
       "399437               0                 20      1000      10.622"
      ]
     },
     "execution_count": 44,
     "metadata": {},
     "output_type": "execute_result"
    }
   ],
   "source": [
    "tree = m.estimators_[1].tree_\n",
    "tree_features = X_train.columns[tree.feature[tree.feature>0]].tolist()\n",
    "X_pred1 = X_samp[tree_features].copy()\n",
    "X_pred1['prediction'] = np.round(preds[1,:],3)\n",
    "X_pred1"
   ]
  },
  {
   "cell_type": "code",
   "execution_count": 45,
   "metadata": {
    "hidden": true
   },
   "outputs": [
    {
     "data": {
      "image/svg+xml": [
       "<?xml version=\"1.0\" encoding=\"UTF-8\" standalone=\"no\"?>\r\n",
       "<!DOCTYPE svg PUBLIC \"-//W3C//DTD SVG 1.1//EN\"\r\n",
       " \"http://www.w3.org/Graphics/SVG/1.1/DTD/svg11.dtd\">\r\n",
       "<!-- Generated by graphviz version 2.38.0 (20140413.2041)\r\n",
       " -->\r\n",
       "<!-- Title: Tree Pages: 1 -->\r\n",
       "<svg width=\"473pt\" height=\"287pt\"\r\n",
       " viewBox=\"0.00 0.00 473.00 287.00\" xmlns=\"http://www.w3.org/2000/svg\" xmlns:xlink=\"http://www.w3.org/1999/xlink\">\r\n",
       "<g id=\"graph0\" class=\"graph\" transform=\"scale(1 1) rotate(0) translate(4 283)\">\r\n",
       "<title>Tree</title>\r\n",
       "<polygon fill=\"white\" stroke=\"none\" points=\"-4,4 -4,-283 469,-283 469,4 -4,4\"/>\r\n",
       "<!-- 0 -->\r\n",
       "<g id=\"node1\" class=\"node\"><title>0</title>\r\n",
       "<polygon fill=\"#e58139\" fill-opacity=\"0.635294\" stroke=\"black\" points=\"130.5,-175.383 -0.5,-175.383 -0.5,-107.383 130.5,-107.383 130.5,-175.383\"/>\r\n",
       "<text text-anchor=\"start\" x=\"7.5\" y=\"-160.183\" font-family=\"Times New Roman,serif\" font-size=\"14.00\">ProductGroup ≤ 3.5</text>\r\n",
       "<text text-anchor=\"start\" x=\"30\" y=\"-145.183\" font-family=\"Times New Roman,serif\" font-size=\"14.00\">mse = 0.484</text>\r\n",
       "<text text-anchor=\"start\" x=\"17.5\" y=\"-130.183\" font-family=\"Times New Roman,serif\" font-size=\"14.00\">samples = 12642</text>\r\n",
       "<text text-anchor=\"start\" x=\"24\" y=\"-115.183\" font-family=\"Times New Roman,serif\" font-size=\"14.00\">value = 10.105</text>\r\n",
       "</g>\r\n",
       "<!-- 1 -->\r\n",
       "<g id=\"node2\" class=\"node\"><title>1</title>\r\n",
       "<polygon fill=\"#e58139\" fill-opacity=\"0.415686\" stroke=\"black\" points=\"298,-219.383 194,-219.383 194,-151.383 298,-151.383 298,-219.383\"/>\r\n",
       "<text text-anchor=\"start\" x=\"207\" y=\"-204.183\" font-family=\"Times New Roman,serif\" font-size=\"14.00\">Coupler ≤ 0.5</text>\r\n",
       "<text text-anchor=\"start\" x=\"214.5\" y=\"-189.183\" font-family=\"Times New Roman,serif\" font-size=\"14.00\">mse = 0.41</text>\r\n",
       "<text text-anchor=\"start\" x=\"202\" y=\"-174.183\" font-family=\"Times New Roman,serif\" font-size=\"14.00\">samples = 4655</text>\r\n",
       "<text text-anchor=\"start\" x=\"208\" y=\"-159.183\" font-family=\"Times New Roman,serif\" font-size=\"14.00\">value = 9.793</text>\r\n",
       "</g>\r\n",
       "<!-- 0&#45;&gt;1 -->\r\n",
       "<g id=\"edge1\" class=\"edge\"><title>0&#45;&gt;1</title>\r\n",
       "<path fill=\"none\" stroke=\"black\" d=\"M130.623,-157.268C148.035,-161.548 166.812,-166.164 184.018,-170.393\"/>\r\n",
       "<polygon fill=\"black\" stroke=\"black\" points=\"183.399,-173.845 193.945,-172.834 185.07,-167.048 183.399,-173.845\"/>\r\n",
       "<text text-anchor=\"middle\" x=\"172.559\" y=\"-182.08\" font-family=\"Times New Roman,serif\" font-size=\"14.00\">True</text>\r\n",
       "</g>\r\n",
       "<!-- 4 -->\r\n",
       "<g id=\"node5\" class=\"node\"><title>4</title>\r\n",
       "<polygon fill=\"#e58139\" fill-opacity=\"0.764706\" stroke=\"black\" points=\"325,-130.383 167,-130.383 167,-62.3833 325,-62.3833 325,-130.383\"/>\r\n",
       "<text text-anchor=\"start\" x=\"175\" y=\"-115.183\" font-family=\"Times New Roman,serif\" font-size=\"14.00\">fiModelDescriptor ≤ 10.5</text>\r\n",
       "<text text-anchor=\"start\" x=\"214.5\" y=\"-100.183\" font-family=\"Times New Roman,serif\" font-size=\"14.00\">mse = 0.44</text>\r\n",
       "<text text-anchor=\"start\" x=\"202\" y=\"-85.1833\" font-family=\"Times New Roman,serif\" font-size=\"14.00\">samples = 7987</text>\r\n",
       "<text text-anchor=\"start\" x=\"205\" y=\"-70.1833\" font-family=\"Times New Roman,serif\" font-size=\"14.00\">value = 10.283</text>\r\n",
       "</g>\r\n",
       "<!-- 0&#45;&gt;4 -->\r\n",
       "<g id=\"edge4\" class=\"edge\"><title>0&#45;&gt;4</title>\r\n",
       "<path fill=\"none\" stroke=\"black\" d=\"M130.623,-125.137C139.136,-122.997 147.975,-120.775 156.797,-118.557\"/>\r\n",
       "<polygon fill=\"black\" stroke=\"black\" points=\"157.887,-121.892 166.732,-116.06 156.181,-115.103 157.887,-121.892\"/>\r\n",
       "<text text-anchor=\"middle\" x=\"145.278\" y=\"-99.5254\" font-family=\"Times New Roman,serif\" font-size=\"14.00\">False</text>\r\n",
       "</g>\r\n",
       "<!-- 2 -->\r\n",
       "<g id=\"node3\" class=\"node\"><title>2</title>\r\n",
       "<polygon fill=\"#e58139\" fill-opacity=\"0.596078\" stroke=\"black\" points=\"465,-277.883 361,-277.883 361,-224.883 465,-224.883 465,-277.883\"/>\r\n",
       "<text text-anchor=\"start\" x=\"378\" y=\"-262.683\" font-family=\"Times New Roman,serif\" font-size=\"14.00\">mse = 0.327</text>\r\n",
       "<text text-anchor=\"start\" x=\"369\" y=\"-247.683\" font-family=\"Times New Roman,serif\" font-size=\"14.00\">samples = 3222</text>\r\n",
       "<text text-anchor=\"start\" x=\"372\" y=\"-232.683\" font-family=\"Times New Roman,serif\" font-size=\"14.00\">value = 10.045</text>\r\n",
       "</g>\r\n",
       "<!-- 1&#45;&gt;2 -->\r\n",
       "<g id=\"edge2\" class=\"edge\"><title>1&#45;&gt;2</title>\r\n",
       "<path fill=\"none\" stroke=\"black\" d=\"M298.303,-205.904C315.065,-212.609 333.842,-220.12 351.232,-227.076\"/>\r\n",
       "<polygon fill=\"black\" stroke=\"black\" points=\"350.144,-230.411 360.729,-230.875 352.744,-223.911 350.144,-230.411\"/>\r\n",
       "</g>\r\n",
       "<!-- 3 -->\r\n",
       "<g id=\"node4\" class=\"node\"><title>3</title>\r\n",
       "<polygon fill=\"none\" stroke=\"black\" points=\"465,-204.883 361,-204.883 361,-151.883 465,-151.883 465,-204.883\"/>\r\n",
       "<text text-anchor=\"start\" x=\"378\" y=\"-189.683\" font-family=\"Times New Roman,serif\" font-size=\"14.00\">mse = 0.112</text>\r\n",
       "<text text-anchor=\"start\" x=\"369\" y=\"-174.683\" font-family=\"Times New Roman,serif\" font-size=\"14.00\">samples = 1433</text>\r\n",
       "<text text-anchor=\"start\" x=\"375\" y=\"-159.683\" font-family=\"Times New Roman,serif\" font-size=\"14.00\">value = 9.207</text>\r\n",
       "</g>\r\n",
       "<!-- 1&#45;&gt;3 -->\r\n",
       "<g id=\"edge3\" class=\"edge\"><title>1&#45;&gt;3</title>\r\n",
       "<path fill=\"none\" stroke=\"black\" d=\"M298.303,-183.207C314.754,-182.509 333.147,-181.729 350.265,-181.002\"/>\r\n",
       "<polygon fill=\"black\" stroke=\"black\" points=\"350.887,-184.479 360.729,-180.558 350.59,-177.486 350.887,-184.479\"/>\r\n",
       "</g>\r\n",
       "<!-- 5 -->\r\n",
       "<g id=\"node6\" class=\"node\"><title>5</title>\r\n",
       "<polygon fill=\"#e58139\" fill-opacity=\"0.674510\" stroke=\"black\" points=\"465,-126.883 361,-126.883 361,-73.8833 465,-73.8833 465,-126.883\"/>\r\n",
       "<text text-anchor=\"start\" x=\"378\" y=\"-111.683\" font-family=\"Times New Roman,serif\" font-size=\"14.00\">mse = 0.434</text>\r\n",
       "<text text-anchor=\"start\" x=\"369\" y=\"-96.6833\" font-family=\"Times New Roman,serif\" font-size=\"14.00\">samples = 5788</text>\r\n",
       "<text text-anchor=\"start\" x=\"372\" y=\"-81.6833\" font-family=\"Times New Roman,serif\" font-size=\"14.00\">value = 10.158</text>\r\n",
       "</g>\r\n",
       "<!-- 4&#45;&gt;5 -->\r\n",
       "<g id=\"edge5\" class=\"edge\"><title>4&#45;&gt;5</title>\r\n",
       "<path fill=\"none\" stroke=\"black\" d=\"M325.151,-98.2779C333.797,-98.4875 342.507,-98.6986 350.899,-98.9021\"/>\r\n",
       "<polygon fill=\"black\" stroke=\"black\" points=\"350.871,-102.402 360.953,-99.1458 351.041,-95.4044 350.871,-102.402\"/>\r\n",
       "</g>\r\n",
       "<!-- 6 -->\r\n",
       "<g id=\"node7\" class=\"node\"><title>6</title>\r\n",
       "<polygon fill=\"#e58139\" stroke=\"black\" points=\"465,-53.8833 361,-53.8833 361,-0.883333 465,-0.883333 465,-53.8833\"/>\r\n",
       "<text text-anchor=\"start\" x=\"378\" y=\"-38.6833\" font-family=\"Times New Roman,serif\" font-size=\"14.00\">mse = 0.304</text>\r\n",
       "<text text-anchor=\"start\" x=\"369\" y=\"-23.6833\" font-family=\"Times New Roman,serif\" font-size=\"14.00\">samples = 2199</text>\r\n",
       "<text text-anchor=\"start\" x=\"372\" y=\"-8.68333\" font-family=\"Times New Roman,serif\" font-size=\"14.00\">value = 10.616</text>\r\n",
       "</g>\r\n",
       "<!-- 4&#45;&gt;6 -->\r\n",
       "<g id=\"edge6\" class=\"edge\"><title>4&#45;&gt;6</title>\r\n",
       "<path fill=\"none\" stroke=\"black\" d=\"M325.151,-63.7019C333.987,-60.0069 342.89,-56.284 351.452,-52.7034\"/>\r\n",
       "<polygon fill=\"black\" stroke=\"black\" points=\"353.077,-55.8175 360.953,-48.7303 350.377,-49.3594 353.077,-55.8175\"/>\r\n",
       "</g>\r\n",
       "</g>\r\n",
       "</svg>\r\n"
      ],
      "text/plain": [
       "<graphviz.files.Source at 0x9a803c8>"
      ]
     },
     "metadata": {},
     "output_type": "display_data"
    }
   ],
   "source": [
    "draw_tree(m.estimators_[2], df_trn, precision=3)"
   ]
  },
  {
   "cell_type": "code",
   "execution_count": 46,
   "metadata": {
    "hidden": true
   },
   "outputs": [
    {
     "data": {
      "text/html": [
       "<div>\n",
       "<style scoped>\n",
       "    .dataframe tbody tr th:only-of-type {\n",
       "        vertical-align: middle;\n",
       "    }\n",
       "\n",
       "    .dataframe tbody tr th {\n",
       "        vertical-align: top;\n",
       "    }\n",
       "\n",
       "    .dataframe thead th {\n",
       "        text-align: right;\n",
       "    }\n",
       "</style>\n",
       "<table border=\"1\" class=\"dataframe\">\n",
       "  <thead>\n",
       "    <tr style=\"text-align: right;\">\n",
       "      <th></th>\n",
       "      <th>ProductGroup</th>\n",
       "      <th>Coupler</th>\n",
       "      <th>fiModelDescriptor</th>\n",
       "      <th>prediction</th>\n",
       "    </tr>\n",
       "  </thead>\n",
       "  <tbody>\n",
       "    <tr>\n",
       "      <th>393484</th>\n",
       "      <td>5</td>\n",
       "      <td>0</td>\n",
       "      <td>71</td>\n",
       "      <td>10.616</td>\n",
       "    </tr>\n",
       "    <tr>\n",
       "      <th>390375</th>\n",
       "      <td>3</td>\n",
       "      <td>3</td>\n",
       "      <td>0</td>\n",
       "      <td>9.207</td>\n",
       "    </tr>\n",
       "    <tr>\n",
       "      <th>399437</th>\n",
       "      <td>4</td>\n",
       "      <td>3</td>\n",
       "      <td>20</td>\n",
       "      <td>10.616</td>\n",
       "    </tr>\n",
       "  </tbody>\n",
       "</table>\n",
       "</div>"
      ],
      "text/plain": [
       "        ProductGroup  Coupler  fiModelDescriptor  prediction\n",
       "393484             5        0                 71      10.616\n",
       "390375             3        3                  0       9.207\n",
       "399437             4        3                 20      10.616"
      ]
     },
     "execution_count": 46,
     "metadata": {},
     "output_type": "execute_result"
    }
   ],
   "source": [
    "tree = m.estimators_[2].tree_\n",
    "tree_features = X_train.columns[tree.feature[tree.feature>0]].tolist()\n",
    "X_pred2 = X_samp[tree_features].copy()\n",
    "X_pred2['prediction'] = np.round(preds[2,:],3)\n",
    "X_pred2"
   ]
  },
  {
   "cell_type": "markdown",
   "metadata": {
    "hidden": true
   },
   "source": [
    "Comparing the average prediction for each sample to the output of the predict function gives the same result.  This demonstrates how the random forest computes the prediction for each sample."
   ]
  },
  {
   "cell_type": "code",
   "execution_count": 50,
   "metadata": {
    "hidden": true,
    "scrolled": true
   },
   "outputs": [
    {
     "name": "stdout",
     "output_type": "stream",
     "text": [
      "Average prediction: [10.51478961  9.29399394 10.51478961]\n",
      "predict function: [10.51478961  9.29399394 10.51478961]\n"
     ]
    }
   ],
   "source": [
    "print(f'Average prediction: {np.mean(preds,axis=0)}')\n",
    "print(f'predict function: {m.predict(X_samp)}')"
   ]
  },
  {
   "cell_type": "markdown",
   "metadata": {
    "hidden": true
   },
   "source": [
    "Since the errors are randomly distributed, in theory, the predictions from the trees should form a normal distribution."
   ]
  },
  {
   "cell_type": "code",
   "execution_count": 93,
   "metadata": {
    "hidden": true
   },
   "outputs": [],
   "source": [
    "m = RandomForestRegressor(n_estimators=1000, bootstrap=True, n_jobs=-1, max_features=0.5)\n",
    "m.fit(X_train, y_train);\n",
    "X_samp = X_valid.sample(1)\n",
    "preds = np.stack([t.predict(X_samp) for t in m.estimators_])"
   ]
  },
  {
   "cell_type": "code",
   "execution_count": 97,
   "metadata": {
    "hidden": true
   },
   "outputs": [
    {
     "data": {
      "image/png": "[encoded data removed]",
      "text/plain": [
       "<Figure size 432x288 with 1 Axes>"
      ]
     },
     "metadata": {},
     "output_type": "display_data"
    }
   ],
   "source": [
    "plt.hist(preds, bins=20);"
   ]
  },
  {
   "cell_type": "markdown",
   "metadata": {
    "hidden": true
   },
   "source": [
    "### Implementing Bagging"
   ]
  },
  {
   "cell_type": "markdown",
   "metadata": {
    "hidden": true
   },
   "source": [
    "Starting with the basic model"
   ]
  },
  {
   "cell_type": "code",
   "execution_count": 51,
   "metadata": {
    "hidden": true,
    "scrolled": false
   },
   "outputs": [
    {
     "name": "stdout",
     "output_type": "stream",
     "text": [
      "Training rmse: 0.11667995856565676\n",
      "Validation rmse: 0.2869778625125253\n",
      "Training Score: 0.9719569844490079\n",
      "Validation Score: 0.8529229985551873\n"
     ]
    }
   ],
   "source": [
    "m = RandomForestRegressor(n_jobs=-1)\n",
    "m.fit(X_train, y_train)\n",
    "print_custom_RFscore()"
   ]
  },
  {
   "cell_type": "code",
   "execution_count": 62,
   "metadata": {
    "hidden": true
   },
   "outputs": [],
   "source": [
    "preds = np.stack([t.predict(X_valid) for t in m.estimators_])"
   ]
  },
  {
   "cell_type": "markdown",
   "metadata": {
    "hidden": true
   },
   "source": [
    "We can demonstrate how the predictive ability of the RF model increases with the number of ensembled decision trees"
   ]
  },
  {
   "cell_type": "code",
   "execution_count": 64,
   "metadata": {
    "hidden": true
   },
   "outputs": [
    {
     "data": {
      "image/png": "[encoded data removed]",
      "text/plain": [
       "<Figure size 432x288 with 1 Axes>"
      ]
     },
     "metadata": {},
     "output_type": "display_data"
    }
   ],
   "source": [
    "plt.plot([metrics.r2_score(y_valid, np.mean(preds[:i+1], axis=0)) for i in range(10)]);"
   ]
  },
  {
   "cell_type": "markdown",
   "metadata": {
    "hidden": true
   },
   "source": [
    "Let's see how the validation score improves as a function of the number of tree"
   ]
  },
  {
   "cell_type": "code",
   "execution_count": 101,
   "metadata": {
    "hidden": true
   },
   "outputs": [
    {
     "name": "stdout",
     "output_type": "stream",
     "text": [
      "Training rmse: 0.11691499918113024\n",
      "Validation rmse: 0.2812932565924041\n",
      "Training Score: 0.9718438907106337\n",
      "Validation Score: 0.8586920434907607\n"
     ]
    }
   ],
   "source": [
    "m = RandomForestRegressor(n_jobs=-1,n_estimators=10)\n",
    "m.fit(X_train, y_train)\n",
    "print_custom_RFscore()"
   ]
  },
  {
   "cell_type": "code",
   "execution_count": 98,
   "metadata": {
    "hidden": true
   },
   "outputs": [
    {
     "name": "stdout",
     "output_type": "stream",
     "text": [
      "Training rmse: 0.1080910718330679\n",
      "Validation rmse: 0.27643686348845103\n",
      "Training Score: 0.9759335614124797\n",
      "Validation Score: 0.8635291528569986\n"
     ]
    }
   ],
   "source": [
    "m = RandomForestRegressor(n_jobs=-1,n_estimators=20)\n",
    "m.fit(X_train, y_train)\n",
    "print_custom_RFscore()"
   ]
  },
  {
   "cell_type": "code",
   "execution_count": 99,
   "metadata": {
    "hidden": true
   },
   "outputs": [
    {
     "name": "stdout",
     "output_type": "stream",
     "text": [
      "Training rmse: 0.10150961937253764\n",
      "Validation rmse: 0.27146211215209665\n",
      "Training Score: 0.9787750547329871\n",
      "Validation Score: 0.8683968084199611\n"
     ]
    }
   ],
   "source": [
    "m = RandomForestRegressor(n_jobs=-1,n_estimators=40)\n",
    "m.fit(X_train, y_train)\n",
    "print_custom_RFscore()"
   ]
  },
  {
   "cell_type": "code",
   "execution_count": 100,
   "metadata": {
    "hidden": true
   },
   "outputs": [
    {
     "name": "stdout",
     "output_type": "stream",
     "text": [
      "Training rmse: 0.09827296154985389\n",
      "Validation rmse: 0.27020073279601015\n",
      "Training Score: 0.980107000641755\n",
      "Validation Score: 0.869616985153063\n"
     ]
    }
   ],
   "source": [
    "m = RandomForestRegressor(n_jobs=-1,n_estimators=80)\n",
    "m.fit(X_train, y_train)\n",
    "print_custom_RFscore()"
   ]
  },
  {
   "cell_type": "markdown",
   "metadata": {
    "hidden": true
   },
   "source": [
    "You can see that the validation score does improve, but there is diminishing returns"
   ]
  },
  {
   "cell_type": "markdown",
   "metadata": {
    "hidden": true
   },
   "source": [
    "### Out-of-Bag (OOB) score "
   ]
  },
  {
   "cell_type": "markdown",
   "metadata": {
    "hidden": true
   },
   "source": [
    "You can see in the cases above that even with the bagging and increasing the number of trees, the validation score is still significantly lower than the training score.  This often means that we are overfitting the model.  But maybe the validation set is just statistically different than the training set, in which case the validation score will always be lower.  To test this possibility we can do something call Out-of-Bagging (OOB).  \n",
    "\n",
    "When using bagging, we are only selecting n-rows for each tree.  For example, if there are 20 trees built, row 1 could be used only in trees 1, 7, 13, and 15.  If that's the case, then tree 2 was not trained using row 1 and so it can be used as a validation set for tree 2.  This is what OOB does, it uses each row as part of the validation set, but only for the trees which did not use it to train.  Since the OOB validation set comes from same data as the training set, any difference is scores is due to overfitting and not statistically distinct sets."
   ]
  },
  {
   "cell_type": "code",
   "execution_count": 110,
   "metadata": {
    "hidden": true
   },
   "outputs": [
    {
     "name": "stdout",
     "output_type": "stream",
     "text": [
      "Training rmse: 0.10155569125594387\n",
      "Validation rmse: 0.26677607867147174\n",
      "Training Score: 0.97851026448116\n",
      "Validation Score: 0.8729011142596962\n",
      "OOB Score: 0.847722291172098\n"
     ]
    }
   ],
   "source": [
    "m = RandomForestRegressor(n_estimators=40, n_jobs=-1, oob_score=True)\n",
    "m.fit(X_train, y_train);\n",
    "print_custom_RFscore()"
   ]
  },
  {
   "cell_type": "markdown",
   "metadata": {
    "hidden": true
   },
   "source": [
    "Practically, the oob score slightly underestimates the generalizability of the model, but this decreases as a function of the number of samples.\n",
    "\n",
    "In this case you can see that the oob score is very similar to the validation score, which confirms that the drop in score is most probably due to overfitting and not different distributions."
   ]
  },
  {
   "cell_type": "markdown",
   "metadata": {},
   "source": [
    "## Reducing Overfitting"
   ]
  },
  {
   "cell_type": "markdown",
   "metadata": {},
   "source": [
    "### Subsampling"
   ]
  },
  {
   "cell_type": "markdown",
   "metadata": {},
   "source": [
    "To make the random forest faster, I subsampled from the original dataset 20,000 rows, and then built all of my decision trees, with boostrapping and oob_score, on those subset of rows.  An alternative is to build each tree from a sample of 20,000 rows, from my entire dataset, for each tree.  This allows you to take advantage of a faster model (less samples) while accessing a larger training and validation set."
   ]
  },
  {
   "cell_type": "code",
   "execution_count": 116,
   "metadata": {},
   "outputs": [],
   "source": [
    "df_trn, y_trn, nas = proc_df(df_raw, 'SalePrice')\n",
    "X_train, X_valid = split_train_val(df_trn, n_trn)\n",
    "y_train, y_valid = split_train_val(y_trn, n_trn)"
   ]
  },
  {
   "cell_type": "code",
   "execution_count": 122,
   "metadata": {},
   "outputs": [],
   "source": [
    "set_rf_samples(20000)"
   ]
  },
  {
   "cell_type": "code",
   "execution_count": 120,
   "metadata": {},
   "outputs": [
    {
     "name": "stdout",
     "output_type": "stream",
     "text": [
      "Training rmse: 0.24126072065343024\n",
      "Validation rmse: 0.2767189887773357\n",
      "Training Score: 0.8783511332334722\n",
      "Validation Score: 0.8632504525146026\n",
      "OOB Score: 0.8656224989110298\n"
     ]
    }
   ],
   "source": [
    "m = RandomForestRegressor(n_jobs=-1, oob_score=True)\n",
    "m.fit(X_train, y_train)\n",
    "print_custom_RFscore()"
   ]
  },
  {
   "cell_type": "code",
   "execution_count": 121,
   "metadata": {},
   "outputs": [
    {
     "name": "stdout",
     "output_type": "stream",
     "text": [
      "Training rmse: 0.22731397154924346\n",
      "Validation rmse: 0.2618011618093503\n",
      "Training Score: 0.8920091185938114\n",
      "Validation Score: 0.8775972675089081\n",
      "OOB Score: 0.8804921832235565\n"
     ]
    }
   ],
   "source": [
    "m = RandomForestRegressor(n_jobs=-1, oob_score=True, n_estimators=40)\n",
    "m.fit(X_train, y_train)\n",
    "print_custom_RFscore()"
   ]
  },
  {
   "cell_type": "markdown",
   "metadata": {},
   "source": [
    "Now you can see that while our validation and oob_scores have not improved, the training score has decreased.  While this might seem like a bad thing, what this implies is that now, we are no longer ovrefitting the model.\n",
    "\n",
    "Be aware that currently, the oob score still only looks at the unused rows of the sample set, not the entire dataset."
   ]
  },
  {
   "cell_type": "markdown",
   "metadata": {},
   "source": [
    "### Tree Building Parameters"
   ]
  },
  {
   "cell_type": "markdown",
   "metadata": {},
   "source": [
    "We revert to using a full bootstrap sample in order to show the impact of other over-fitting avoidance methods."
   ]
  },
  {
   "cell_type": "code",
   "execution_count": 125,
   "metadata": {},
   "outputs": [],
   "source": [
    "reset_rf_samples()"
   ]
  },
  {
   "cell_type": "code",
   "execution_count": 130,
   "metadata": {},
   "outputs": [
    {
     "name": "stdout",
     "output_type": "stream",
     "text": [
      "Training rmse: 0.0783123950644594\n",
      "Validation rmse: 0.23699000175463975\n",
      "Training Score: 0.987182720971379\n",
      "Validation Score: 0.8996983627129161\n",
      "OOB Score: 0.9086158701976964\n"
     ]
    }
   ],
   "source": [
    "m = RandomForestRegressor(n_estimators=40, n_jobs=-1, oob_score=True)\n",
    "m.fit(X_train, y_train)\n",
    "print_custom_RFscore()"
   ]
  },
  {
   "cell_type": "markdown",
   "metadata": {},
   "source": [
    "Another way to reduce over-fitting is to grow our trees less deeply. We do this by specifying (with min_samples_leaf) that we require some minimum number of rows in every leaf node. This has two benefits:\n",
    "\n",
    " - There are less decision rules for each leaf node; simpler models should generalize better\n",
    " - The predictions are made by averaging more rows in the leaf node, resulting in less volatility"
   ]
  },
  {
   "cell_type": "code",
   "execution_count": 132,
   "metadata": {},
   "outputs": [
    {
     "name": "stdout",
     "output_type": "stream",
     "text": [
      "Training rmse: 0.11511535517453375\n",
      "Validation rmse: 0.2360507832161104\n",
      "Training Score: 0.9723050017727247\n",
      "Validation Score: 0.9004918011159826\n",
      "OOB Score: 0.9085097009274974\n"
     ]
    }
   ],
   "source": [
    "m = RandomForestRegressor(n_estimators=40, min_samples_leaf=3, n_jobs=-1, oob_score=True)\n",
    "m.fit(X_train, y_train)\n",
    "print_custom_RFscore()"
   ]
  },
  {
   "cell_type": "markdown",
   "metadata": {},
   "source": [
    "We can also increase the amount of variation amongst the trees by not only use a sample of rows for each tree, but to also using a sample of columns for each split. We do this by specifying max_features, which is the proportion of features to randomly select from at each split.\n",
    "\n",
    " - None\n",
    " - 0.5\n",
    " - 'sqrt'\n",
    " - An integer value, e.g., 1, 3, 5"
   ]
  },
  {
   "cell_type": "code",
   "execution_count": 131,
   "metadata": {},
   "outputs": [
    {
     "name": "stdout",
     "output_type": "stream",
     "text": [
      "Training rmse: 0.11902840748625773\n",
      "Validation rmse: 0.2280451534681458\n",
      "Training Score: 0.9703901592068734\n",
      "Validation Score: 0.9071269586823107\n",
      "OOB Score: 0.9118430414192688\n"
     ]
    }
   ],
   "source": [
    "m = RandomForestRegressor(n_estimators=40, min_samples_leaf=3, max_features=0.5, n_jobs=-1, oob_score=True)\n",
    "m.fit(X_train, y_train)\n",
    "print_custom_RFscore() "
   ]
  }
 ],
 "metadata": {
  "kernelspec": {
   "display_name": "Python 3",
   "language": "python",
   "name": "python3"
  },
  "language_info": {
   "codemirror_mode": {
    "name": "ipython",
    "version": 3
   },
   "file_extension": ".py",
   "mimetype": "text/x-python",
   "name": "python",
   "nbconvert_exporter": "python",
   "pygments_lexer": "ipython3",
   "version": "3.6.4"
  }
 },
 "nbformat": 4,
 "nbformat_minor": 2
}
