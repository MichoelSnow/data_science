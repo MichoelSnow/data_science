{
 "cells": [
  {
   "cell_type": "markdown",
   "metadata": {},
   "source": [
    "# Imports & Paths"
   ]
  },
  {
   "cell_type": "code",
   "execution_count": 1,
   "metadata": {},
   "outputs": [],
   "source": [
    "import os\n",
    "import sys\n",
    "from sklearn.ensemble import *"
   ]
  },
  {
   "cell_type": "code",
   "execution_count": 2,
   "metadata": {},
   "outputs": [],
   "source": [
    "%load_ext autoreload\n",
    "%autoreload 2"
   ]
  },
  {
   "cell_type": "code",
   "execution_count": 3,
   "metadata": {},
   "outputs": [],
   "source": [
    "if os.name == 'nt':\n",
    "    PATH_base = 'E:\\\\GitHub\\\\data_science\\\\'\n",
    "    PATH_bd = 'E:\\\\GitHub\\\\data_science\\\\data\\\\uncompressed\\\\blue_book_for_bulldozers\\\\'\n",
    "    PATH_func = 'E:\\\\GitHub\\\\data_science\\\\src\\\\'\n",
    "    sys.path.append(PATH_func)\n",
    "elif os.name == 'posix':\n",
    "    PATH = '/home/msnow/git/data_science/'\n",
    "    DATA = '/data/msnow/data_science/'\n",
    "    sys.path.append(PATH+'src/')"
   ]
  },
  {
   "cell_type": "code",
   "execution_count": 4,
   "metadata": {},
   "outputs": [
    {
     "name": "stderr",
     "output_type": "stream",
     "text": [
      "/data/msnow/miniconda3/envs/data_sci/lib/python3.6/site-packages/statsmodels/compat/pandas.py:56: FutureWarning: The pandas.core.datetools module is deprecated and will be removed in a future version. Please use the pandas.tseries module instead.\n",
      "  from pandas.core import datetools\n"
     ]
    }
   ],
   "source": [
    "%matplotlib inline\n",
    "\n",
    "from features.imports import *\n",
    "from features.utilities import *\n",
    "from features.fastai import *"
   ]
  },
  {
   "cell_type": "markdown",
   "metadata": {
    "heading_collapsed": true
   },
   "source": [
    "# RF and time series data"
   ]
  },
  {
   "cell_type": "markdown",
   "metadata": {
    "heading_collapsed": true,
    "hidden": true
   },
   "source": [
    "## Create synthetic dataset"
   ]
  },
  {
   "cell_type": "markdown",
   "metadata": {
    "hidden": true
   },
   "source": [
    "Let's create a fake \"time-series\" data set"
   ]
  },
  {
   "cell_type": "code",
   "execution_count": 7,
   "metadata": {
    "hidden": true
   },
   "outputs": [],
   "source": [
    "x = np.linspace(0,1)\n",
    "y = x+np.random.uniform(-0.2,0.2,x.shape)"
   ]
  },
  {
   "cell_type": "code",
   "execution_count": 8,
   "metadata": {
    "hidden": true
   },
   "outputs": [
    {
     "data": {
      "text/plain": [
       "<matplotlib.collections.PathCollection at 0x7feefcbbf630>"
      ]
     },
     "execution_count": 8,
     "metadata": {},
     "output_type": "execute_result"
    },
    {
     "data": {
      "image/png": "[encoded data removed]",
      "text/plain": [
       "<Figure size 432x288 with 1 Axes>"
      ]
     },
     "metadata": {},
     "output_type": "display_data"
    }
   ],
   "source": [
    "plt.scatter(x,y)"
   ]
  },
  {
   "cell_type": "code",
   "execution_count": 9,
   "metadata": {
    "hidden": true
   },
   "outputs": [],
   "source": [
    "x_trn,x_val = x[:40],x[40:]\n",
    "y_trn,y_val = y[:40],y[40:]"
   ]
  },
  {
   "cell_type": "markdown",
   "metadata": {
    "heading_collapsed": true,
    "hidden": true
   },
   "source": [
    "### Slicing arrays"
   ]
  },
  {
   "cell_type": "code",
   "execution_count": 18,
   "metadata": {
    "hidden": true
   },
   "outputs": [
    {
     "name": "stdout",
     "output_type": "stream",
     "text": [
      "(1, 50)\n",
      "(1, 50)\n",
      "(1, 50)\n",
      "(50, 1)\n"
     ]
    }
   ],
   "source": [
    "print(x[None,:].shape)\n",
    "print(x[None].shape)\n",
    "print(x[None,].shape)\n",
    "print(x[:,None].shape)"
   ]
  },
  {
   "cell_type": "code",
   "execution_count": 20,
   "metadata": {
    "hidden": true,
    "scrolled": true
   },
   "outputs": [
    {
     "data": {
      "text/plain": [
       "(5, 3, 4)"
      ]
     },
     "execution_count": 20,
     "metadata": {},
     "output_type": "execute_result"
    }
   ],
   "source": [
    "x2 = np.random.randint(1,10,(5,3,4))\n",
    "x2.shape"
   ]
  },
  {
   "cell_type": "code",
   "execution_count": 21,
   "metadata": {
    "hidden": true
   },
   "outputs": [
    {
     "name": "stdout",
     "output_type": "stream",
     "text": [
      "(5, 3, 4, 1)\n",
      "(1, 5, 3, 4)\n"
     ]
    }
   ],
   "source": [
    "print(x2[...,None].shape)\n",
    "print(x2[None,...].shape)"
   ]
  },
  {
   "cell_type": "markdown",
   "metadata": {
    "heading_collapsed": true,
    "hidden": true
   },
   "source": [
    "## Build RF regressor"
   ]
  },
  {
   "cell_type": "code",
   "execution_count": 22,
   "metadata": {
    "hidden": true
   },
   "outputs": [],
   "source": [
    "x1=x[...,None]\n",
    "x_trn,x_val = x1[:40],x1[40:]\n",
    "y_trn,y_val = y[:40],y[40:]"
   ]
  },
  {
   "cell_type": "code",
   "execution_count": 23,
   "metadata": {
    "hidden": true
   },
   "outputs": [],
   "source": [
    "m = RandomForestRegressor().fit(x_trn,y_trn)"
   ]
  },
  {
   "cell_type": "code",
   "execution_count": 24,
   "metadata": {
    "hidden": true
   },
   "outputs": [
    {
     "data": {
      "text/plain": [
       "<matplotlib.collections.PathCollection at 0x7feef9dc6550>"
      ]
     },
     "execution_count": 24,
     "metadata": {},
     "output_type": "execute_result"
    },
    {
     "data": {
      "image/png": "[encoded data removed]",
      "text/plain": [
       "<Figure size 432x288 with 1 Axes>"
      ]
     },
     "metadata": {},
     "output_type": "display_data"
    }
   ],
   "source": [
    "plt.scatter(y_trn,m.predict(x_trn))"
   ]
  },
  {
   "cell_type": "code",
   "execution_count": 26,
   "metadata": {
    "hidden": true
   },
   "outputs": [
    {
     "data": {
      "text/plain": [
       "<matplotlib.collections.PathCollection at 0x7feef9cf9080>"
      ]
     },
     "execution_count": 26,
     "metadata": {},
     "output_type": "execute_result"
    },
    {
     "data": {
      "image/png": "[encoded data removed]",
      "text/plain": [
       "<Figure size 432x288 with 1 Axes>"
      ]
     },
     "metadata": {},
     "output_type": "display_data"
    }
   ],
   "source": [
    "plt.scatter(y_val,m.predict(x_val))"
   ]
  },
  {
   "cell_type": "markdown",
   "metadata": {
    "hidden": true
   },
   "source": [
    "So why is the RF regressor so bad at predicting the validation data.  The answer is that RF (and all decision trees) approximate an outcome by splitting the data into smaller and smaller subgroups, and then matches your test case to one of the subgroups.  In this case, there is only one value to split by.  As the drawn tree below demonstrates, the RF just keeps progressively splitting the data by `x`.  SO when trying to predict the validation set which is just the last 10 values from the arrays `x` an `y`, it uses the subgroup closest to those values, i.e., the subgroup containing the largest values of `x` "
   ]
  },
  {
   "cell_type": "code",
   "execution_count": 32,
   "metadata": {
    "hidden": true
   },
   "outputs": [
    {
     "data": {
      "image/svg+xml": [
       "<?xml version=\"1.0\" encoding=\"UTF-8\" standalone=\"no\"?>\n",
       "<!DOCTYPE svg PUBLIC \"-//W3C//DTD SVG 1.1//EN\"\n",
       " \"http://www.w3.org/Graphics/SVG/1.1/DTD/svg11.dtd\">\n",
       "<!-- Generated by graphviz version 2.40.1 (20161225.0304)\n",
       " -->\n",
       "<!-- Title: Tree Pages: 1 -->\n",
       "<svg width=\"1080pt\" height=\"650pt\"\n",
       " viewBox=\"0.00 0.00 1080.00 650.03\" xmlns=\"http://www.w3.org/2000/svg\" xmlns:xlink=\"http://www.w3.org/1999/xlink\">\n",
       "<g id=\"graph0\" class=\"graph\" transform=\"scale(.6348 .6348) rotate(0) translate(4 1020)\">\n",
       "<title>Tree</title>\n",
       "<polygon fill=\"#ffffff\" stroke=\"transparent\" points=\"-4,4 -4,-1020 1697.3333,-1020 1697.3333,4 -4,4\"/>\n",
       "<!-- 0 -->\n",
       "<g id=\"node1\" class=\"node\">\n",
       "<title>0</title>\n",
       "<polygon fill=\"#e58139\" fill-opacity=\"0.498039\" stroke=\"#000000\" points=\"115.3333,-534.5 23.3333,-534.5 23.3333,-466.5 115.3333,-466.5 115.3333,-534.5\"/>\n",
       "<text text-anchor=\"start\" x=\"42.3333\" y=\"-519.3\" font-family=\"Times,serif\" font-size=\"14.00\" fill=\"#000000\">x ≤ 0.357</text>\n",
       "<text text-anchor=\"start\" x=\"34.3333\" y=\"-504.3\" font-family=\"Times,serif\" font-size=\"14.00\" fill=\"#000000\">mse = 0.071</text>\n",
       "<text text-anchor=\"start\" x=\"32.3333\" y=\"-489.3\" font-family=\"Times,serif\" font-size=\"14.00\" fill=\"#000000\">samples = 23</text>\n",
       "<text text-anchor=\"start\" x=\"31.3333\" y=\"-474.3\" font-family=\"Times,serif\" font-size=\"14.00\" fill=\"#000000\">value = 0.408</text>\n",
       "</g>\n",
       "<!-- 1 -->\n",
       "<g id=\"node2\" class=\"node\">\n",
       "<title>1</title>\n",
       "<polygon fill=\"#e58139\" fill-opacity=\"0.250980\" stroke=\"#000000\" points=\"309.3333,-663.5 217.3333,-663.5 217.3333,-595.5 309.3333,-595.5 309.3333,-663.5\"/>\n",
       "<text text-anchor=\"start\" x=\"236.3333\" y=\"-648.3\" font-family=\"Times,serif\" font-size=\"14.00\" fill=\"#000000\">x ≤ 0.051</text>\n",
       "<text text-anchor=\"start\" x=\"231.8333\" y=\"-633.3\" font-family=\"Times,serif\" font-size=\"14.00\" fill=\"#000000\">mse = 0.02</text>\n",
       "<text text-anchor=\"start\" x=\"229.8333\" y=\"-618.3\" font-family=\"Times,serif\" font-size=\"14.00\" fill=\"#000000\">samples = 9</text>\n",
       "<text text-anchor=\"start\" x=\"225.3333\" y=\"-603.3\" font-family=\"Times,serif\" font-size=\"14.00\" fill=\"#000000\">value = 0.139</text>\n",
       "</g>\n",
       "<!-- 0&#45;&gt;1 -->\n",
       "<g id=\"edge1\" class=\"edge\">\n",
       "<title>0&#45;&gt;1</title>\n",
       "<path fill=\"none\" stroke=\"#000000\" d=\"M115.8012,-531.3987C143.756,-549.9872 179.4795,-573.7415 208.7718,-593.2194\"/>\n",
       "<polygon fill=\"#000000\" stroke=\"#000000\" points=\"206.9796,-596.2308 217.2447,-598.8534 210.8556,-590.4018 206.9796,-596.2308\"/>\n",
       "<text text-anchor=\"middle\" x=\"192.736\" y=\"-600.0855\" font-family=\"Times,serif\" font-size=\"14.00\" fill=\"#000000\">True</text>\n",
       "</g>\n",
       "<!-- 18 -->\n",
       "<g id=\"node19\" class=\"node\">\n",
       "<title>18</title>\n",
       "<polygon fill=\"#e58139\" fill-opacity=\"0.650980\" stroke=\"#000000\" points=\"309.3333,-435.5 217.3333,-435.5 217.3333,-367.5 309.3333,-367.5 309.3333,-435.5\"/>\n",
       "<text text-anchor=\"start\" x=\"236.3333\" y=\"-420.3\" font-family=\"Times,serif\" font-size=\"14.00\" fill=\"#000000\">x ≤ 0.582</text>\n",
       "<text text-anchor=\"start\" x=\"228.3333\" y=\"-405.3\" font-family=\"Times,serif\" font-size=\"14.00\" fill=\"#000000\">mse = 0.032</text>\n",
       "<text text-anchor=\"start\" x=\"226.3333\" y=\"-390.3\" font-family=\"Times,serif\" font-size=\"14.00\" fill=\"#000000\">samples = 14</text>\n",
       "<text text-anchor=\"start\" x=\"225.3333\" y=\"-375.3\" font-family=\"Times,serif\" font-size=\"14.00\" fill=\"#000000\">value = 0.568</text>\n",
       "</g>\n",
       "<!-- 0&#45;&gt;18 -->\n",
       "<g id=\"edge18\" class=\"edge\">\n",
       "<title>0&#45;&gt;18</title>\n",
       "<path fill=\"none\" stroke=\"#000000\" d=\"M115.8012,-476.787C143.516,-462.6439 178.8668,-444.604 208.0161,-429.7289\"/>\n",
       "<polygon fill=\"#000000\" stroke=\"#000000\" points=\"209.9283,-432.6825 217.2447,-425.0195 206.7465,-426.4474 209.9283,-432.6825\"/>\n",
       "<text text-anchor=\"middle\" x=\"193.4635\" y=\"-413.6088\" font-family=\"Times,serif\" font-size=\"14.00\" fill=\"#000000\">False</text>\n",
       "</g>\n",
       "<!-- 2 -->\n",
       "<g id=\"node3\" class=\"node\">\n",
       "<title>2</title>\n",
       "<polygon fill=\"transparent\" stroke=\"#000000\" points=\"508.8333,-735 411.8333,-735 411.8333,-682 508.8333,-682 508.8333,-735\"/>\n",
       "<text text-anchor=\"start\" x=\"432.3333\" y=\"-719.8\" font-family=\"Times,serif\" font-size=\"14.00\" fill=\"#000000\">mse = 0.0</text>\n",
       "<text text-anchor=\"start\" x=\"426.8333\" y=\"-704.8\" font-family=\"Times,serif\" font-size=\"14.00\" fill=\"#000000\">samples = 1</text>\n",
       "<text text-anchor=\"start\" x=\"419.8333\" y=\"-689.8\" font-family=\"Times,serif\" font-size=\"14.00\" fill=\"#000000\">value = &#45;0.129</text>\n",
       "</g>\n",
       "<!-- 1&#45;&gt;2 -->\n",
       "<g id=\"edge2\" class=\"edge\">\n",
       "<title>1&#45;&gt;2</title>\n",
       "<path fill=\"none\" stroke=\"#000000\" d=\"M309.5211,-648.022C337.2283,-659.133 372.715,-673.3637 402.3039,-685.2293\"/>\n",
       "<polygon fill=\"#000000\" stroke=\"#000000\" points=\"401.1018,-688.5182 411.6861,-688.9917 403.7073,-682.0211 401.1018,-688.5182\"/>\n",
       "</g>\n",
       "<!-- 3 -->\n",
       "<g id=\"node4\" class=\"node\">\n",
       "<title>3</title>\n",
       "<polygon fill=\"#e58139\" fill-opacity=\"0.290196\" stroke=\"#000000\" points=\"506.3333,-663.5 414.3333,-663.5 414.3333,-595.5 506.3333,-595.5 506.3333,-663.5\"/>\n",
       "<text text-anchor=\"start\" x=\"433.3333\" y=\"-648.3\" font-family=\"Times,serif\" font-size=\"14.00\" fill=\"#000000\">x ≤ 0.214</text>\n",
       "<text text-anchor=\"start\" x=\"428.8333\" y=\"-633.3\" font-family=\"Times,serif\" font-size=\"14.00\" fill=\"#000000\">mse = 0.01</text>\n",
       "<text text-anchor=\"start\" x=\"426.8333\" y=\"-618.3\" font-family=\"Times,serif\" font-size=\"14.00\" fill=\"#000000\">samples = 8</text>\n",
       "<text text-anchor=\"start\" x=\"422.3333\" y=\"-603.3\" font-family=\"Times,serif\" font-size=\"14.00\" fill=\"#000000\">value = 0.181</text>\n",
       "</g>\n",
       "<!-- 1&#45;&gt;3 -->\n",
       "<g id=\"edge3\" class=\"edge\">\n",
       "<title>1&#45;&gt;3</title>\n",
       "<path fill=\"none\" stroke=\"#000000\" d=\"M309.5211,-629.5C337.7005,-629.5 373.9269,-629.5 403.8116,-629.5\"/>\n",
       "<polygon fill=\"#000000\" stroke=\"#000000\" points=\"404.0941,-633.0001 414.0941,-629.5 404.094,-626.0001 404.0941,-633.0001\"/>\n",
       "</g>\n",
       "<!-- 4 -->\n",
       "<g id=\"node5\" class=\"node\">\n",
       "<title>4</title>\n",
       "<polygon fill=\"#e58139\" fill-opacity=\"0.239216\" stroke=\"#000000\" points=\"703.3333,-838.5 611.3333,-838.5 611.3333,-770.5 703.3333,-770.5 703.3333,-838.5\"/>\n",
       "<text text-anchor=\"start\" x=\"630.3333\" y=\"-823.3\" font-family=\"Times,serif\" font-size=\"14.00\" fill=\"#000000\">x ≤ 0.112</text>\n",
       "<text text-anchor=\"start\" x=\"625.8333\" y=\"-808.3\" font-family=\"Times,serif\" font-size=\"14.00\" fill=\"#000000\">mse = 0.01</text>\n",
       "<text text-anchor=\"start\" x=\"623.8333\" y=\"-793.3\" font-family=\"Times,serif\" font-size=\"14.00\" fill=\"#000000\">samples = 5</text>\n",
       "<text text-anchor=\"start\" x=\"619.3333\" y=\"-778.3\" font-family=\"Times,serif\" font-size=\"14.00\" fill=\"#000000\">value = 0.126</text>\n",
       "</g>\n",
       "<!-- 3&#45;&gt;4 -->\n",
       "<g id=\"edge4\" class=\"edge\">\n",
       "<title>3&#45;&gt;4</title>\n",
       "<path fill=\"none\" stroke=\"#000000\" d=\"M498.7846,-663.6572C531.0558,-692.3245 577.2329,-733.3448 611.4355,-763.7278\"/>\n",
       "<polygon fill=\"#000000\" stroke=\"#000000\" points=\"609.1784,-766.4043 618.9791,-770.429 613.8273,-761.171 609.1784,-766.4043\"/>\n",
       "</g>\n",
       "<!-- 13 -->\n",
       "<g id=\"node14\" class=\"node\">\n",
       "<title>13</title>\n",
       "<polygon fill=\"#e58139\" fill-opacity=\"0.349020\" stroke=\"#000000\" points=\"703.3333,-663.5 611.3333,-663.5 611.3333,-595.5 703.3333,-595.5 703.3333,-663.5\"/>\n",
       "<text text-anchor=\"start\" x=\"630.3333\" y=\"-648.3\" font-family=\"Times,serif\" font-size=\"14.00\" fill=\"#000000\">x ≤ 0.316</text>\n",
       "<text text-anchor=\"start\" x=\"622.3333\" y=\"-633.3\" font-family=\"Times,serif\" font-size=\"14.00\" fill=\"#000000\">mse = 0.002</text>\n",
       "<text text-anchor=\"start\" x=\"623.8333\" y=\"-618.3\" font-family=\"Times,serif\" font-size=\"14.00\" fill=\"#000000\">samples = 3</text>\n",
       "<text text-anchor=\"start\" x=\"619.3333\" y=\"-603.3\" font-family=\"Times,serif\" font-size=\"14.00\" fill=\"#000000\">value = 0.244</text>\n",
       "</g>\n",
       "<!-- 3&#45;&gt;13 -->\n",
       "<g id=\"edge13\" class=\"edge\">\n",
       "<title>3&#45;&gt;13</title>\n",
       "<path fill=\"none\" stroke=\"#000000\" d=\"M506.5211,-629.5C534.7005,-629.5 570.9269,-629.5 600.8116,-629.5\"/>\n",
       "<polygon fill=\"#000000\" stroke=\"#000000\" points=\"601.0941,-633.0001 611.0941,-629.5 601.094,-626.0001 601.0941,-633.0001\"/>\n",
       "</g>\n",
       "<!-- 5 -->\n",
       "<g id=\"node6\" class=\"node\">\n",
       "<title>5</title>\n",
       "<polygon fill=\"#e58139\" fill-opacity=\"0.188235\" stroke=\"#000000\" points=\"896.3333,-952.5 804.3333,-952.5 804.3333,-884.5 896.3333,-884.5 896.3333,-952.5\"/>\n",
       "<text text-anchor=\"start\" x=\"823.3333\" y=\"-937.3\" font-family=\"Times,serif\" font-size=\"14.00\" fill=\"#000000\">x ≤ 0.092</text>\n",
       "<text text-anchor=\"start\" x=\"815.3333\" y=\"-922.3\" font-family=\"Times,serif\" font-size=\"14.00\" fill=\"#000000\">mse = 0.012</text>\n",
       "<text text-anchor=\"start\" x=\"816.8333\" y=\"-907.3\" font-family=\"Times,serif\" font-size=\"14.00\" fill=\"#000000\">samples = 2</text>\n",
       "<text text-anchor=\"start\" x=\"812.3333\" y=\"-892.3\" font-family=\"Times,serif\" font-size=\"14.00\" fill=\"#000000\">value = 0.073</text>\n",
       "</g>\n",
       "<!-- 4&#45;&gt;5 -->\n",
       "<g id=\"edge5\" class=\"edge\">\n",
       "<title>4&#45;&gt;5</title>\n",
       "<path fill=\"none\" stroke=\"#000000\" d=\"M703.5616,-831.8058C731.152,-848.1027 766.3489,-868.8926 795.3589,-886.0281\"/>\n",
       "<polygon fill=\"#000000\" stroke=\"#000000\" points=\"793.7579,-889.1474 804.1482,-891.2196 797.318,-883.1202 793.7579,-889.1474\"/>\n",
       "</g>\n",
       "<!-- 8 -->\n",
       "<g id=\"node9\" class=\"node\">\n",
       "<title>8</title>\n",
       "<polygon fill=\"#e58139\" fill-opacity=\"0.274510\" stroke=\"#000000\" points=\"896.3333,-838.5 804.3333,-838.5 804.3333,-770.5 896.3333,-770.5 896.3333,-838.5\"/>\n",
       "<text text-anchor=\"start\" x=\"823.3333\" y=\"-823.3\" font-family=\"Times,serif\" font-size=\"14.00\" fill=\"#000000\">x ≤ 0.184</text>\n",
       "<text text-anchor=\"start\" x=\"815.3333\" y=\"-808.3\" font-family=\"Times,serif\" font-size=\"14.00\" fill=\"#000000\">mse = 0.005</text>\n",
       "<text text-anchor=\"start\" x=\"816.8333\" y=\"-793.3\" font-family=\"Times,serif\" font-size=\"14.00\" fill=\"#000000\">samples = 3</text>\n",
       "<text text-anchor=\"start\" x=\"812.3333\" y=\"-778.3\" font-family=\"Times,serif\" font-size=\"14.00\" fill=\"#000000\">value = 0.166</text>\n",
       "</g>\n",
       "<!-- 4&#45;&gt;8 -->\n",
       "<g id=\"edge8\" class=\"edge\">\n",
       "<title>4&#45;&gt;8</title>\n",
       "<path fill=\"none\" stroke=\"#000000\" d=\"M703.5616,-804.5C730.6763,-804.5 765.1375,-804.5 793.853,-804.5\"/>\n",
       "<polygon fill=\"#000000\" stroke=\"#000000\" points=\"794.1482,-808.0001 804.1482,-804.5 794.1481,-801.0001 794.1482,-808.0001\"/>\n",
       "</g>\n",
       "<!-- 6 -->\n",
       "<g id=\"node7\" class=\"node\">\n",
       "<title>6</title>\n",
       "<polygon fill=\"#e58139\" fill-opacity=\"0.258824\" stroke=\"#000000\" points=\"1086.3333,-1016 1000.3333,-1016 1000.3333,-963 1086.3333,-963 1086.3333,-1016\"/>\n",
       "<text text-anchor=\"start\" x=\"1015.3333\" y=\"-1000.8\" font-family=\"Times,serif\" font-size=\"14.00\" fill=\"#000000\">mse = 0.0</text>\n",
       "<text text-anchor=\"start\" x=\"1009.8333\" y=\"-985.8\" font-family=\"Times,serif\" font-size=\"14.00\" fill=\"#000000\">samples = 1</text>\n",
       "<text text-anchor=\"start\" x=\"1008.3333\" y=\"-970.8\" font-family=\"Times,serif\" font-size=\"14.00\" fill=\"#000000\">value = 0.15</text>\n",
       "</g>\n",
       "<!-- 5&#45;&gt;6 -->\n",
       "<g id=\"edge6\" class=\"edge\">\n",
       "<title>5&#45;&gt;6</title>\n",
       "<path fill=\"none\" stroke=\"#000000\" d=\"M896.5616,-935.5063C924.8158,-945.9003 961.0471,-959.2289 990.4421,-970.0426\"/>\n",
       "<polygon fill=\"#000000\" stroke=\"#000000\" points=\"989.5339,-973.4378 1000.1274,-973.6056 991.9507,-966.8682 989.5339,-973.4378\"/>\n",
       "</g>\n",
       "<!-- 7 -->\n",
       "<g id=\"node8\" class=\"node\">\n",
       "<title>7</title>\n",
       "<polygon fill=\"#e58139\" fill-opacity=\"0.047059\" stroke=\"#000000\" points=\"1088.3333,-945 998.3333,-945 998.3333,-892 1088.3333,-892 1088.3333,-945\"/>\n",
       "<text text-anchor=\"start\" x=\"1015.3333\" y=\"-929.8\" font-family=\"Times,serif\" font-size=\"14.00\" fill=\"#000000\">mse = 0.0</text>\n",
       "<text text-anchor=\"start\" x=\"1009.8333\" y=\"-914.8\" font-family=\"Times,serif\" font-size=\"14.00\" fill=\"#000000\">samples = 1</text>\n",
       "<text text-anchor=\"start\" x=\"1006.3333\" y=\"-899.8\" font-family=\"Times,serif\" font-size=\"14.00\" fill=\"#000000\">value = &#45;0.08</text>\n",
       "</g>\n",
       "<!-- 5&#45;&gt;7 -->\n",
       "<g id=\"edge7\" class=\"edge\">\n",
       "<title>5&#45;&gt;7</title>\n",
       "<path fill=\"none\" stroke=\"#000000\" d=\"M896.5616,-918.5C923.9742,-918.5 958.8957,-918.5 987.7975,-918.5\"/>\n",
       "<polygon fill=\"#000000\" stroke=\"#000000\" points=\"988.1482,-922.0001 998.1481,-918.5 988.1481,-915.0001 988.1482,-922.0001\"/>\n",
       "</g>\n",
       "<!-- 9 -->\n",
       "<g id=\"node10\" class=\"node\">\n",
       "<title>9</title>\n",
       "<polygon fill=\"#e58139\" fill-opacity=\"0.345098\" stroke=\"#000000\" points=\"1086.3333,-873.5 1000.3333,-873.5 1000.3333,-805.5 1086.3333,-805.5 1086.3333,-873.5\"/>\n",
       "<text text-anchor=\"start\" x=\"1016.3333\" y=\"-858.3\" font-family=\"Times,serif\" font-size=\"14.00\" fill=\"#000000\">x ≤ 0.143</text>\n",
       "<text text-anchor=\"start\" x=\"1015.3333\" y=\"-843.3\" font-family=\"Times,serif\" font-size=\"14.00\" fill=\"#000000\">mse = 0.0</text>\n",
       "<text text-anchor=\"start\" x=\"1009.8333\" y=\"-828.3\" font-family=\"Times,serif\" font-size=\"14.00\" fill=\"#000000\">samples = 2</text>\n",
       "<text text-anchor=\"start\" x=\"1008.3333\" y=\"-813.3\" font-family=\"Times,serif\" font-size=\"14.00\" fill=\"#000000\">value = 0.24</text>\n",
       "</g>\n",
       "<!-- 8&#45;&gt;9 -->\n",
       "<g id=\"edge9\" class=\"edge\">\n",
       "<title>8&#45;&gt;9</title>\n",
       "<path fill=\"none\" stroke=\"#000000\" d=\"M896.5616,-812.8834C924.693,-817.9849 960.7322,-824.5205 990.0583,-829.8387\"/>\n",
       "<polygon fill=\"#000000\" stroke=\"#000000\" points=\"989.6633,-833.3241 1000.1274,-831.6647 990.9124,-826.4364 989.6633,-833.3241\"/>\n",
       "</g>\n",
       "<!-- 12 -->\n",
       "<g id=\"node13\" class=\"node\">\n",
       "<title>12</title>\n",
       "<polygon fill=\"#e58139\" fill-opacity=\"0.203922\" stroke=\"#000000\" points=\"1089.3333,-787 997.3333,-787 997.3333,-734 1089.3333,-734 1089.3333,-787\"/>\n",
       "<text text-anchor=\"start\" x=\"1012.8333\" y=\"-771.8\" font-family=\"Times,serif\" font-size=\"14.00\" fill=\"#000000\">mse = &#45;0.0</text>\n",
       "<text text-anchor=\"start\" x=\"1009.8333\" y=\"-756.8\" font-family=\"Times,serif\" font-size=\"14.00\" fill=\"#000000\">samples = 1</text>\n",
       "<text text-anchor=\"start\" x=\"1005.3333\" y=\"-741.8\" font-family=\"Times,serif\" font-size=\"14.00\" fill=\"#000000\">value = 0.092</text>\n",
       "</g>\n",
       "<!-- 8&#45;&gt;12 -->\n",
       "<g id=\"edge12\" class=\"edge\">\n",
       "<title>8&#45;&gt;12</title>\n",
       "<path fill=\"none\" stroke=\"#000000\" d=\"M896.5616,-793.9609C923.7952,-787.7522 958.4399,-779.8539 987.2305,-773.2903\"/>\n",
       "<polygon fill=\"#000000\" stroke=\"#000000\" points=\"988.1763,-776.6645 997.1482,-771.0293 986.6203,-769.8397 988.1763,-776.6645\"/>\n",
       "</g>\n",
       "<!-- 10 -->\n",
       "<g id=\"node11\" class=\"node\">\n",
       "<title>10</title>\n",
       "<polygon fill=\"#e58139\" fill-opacity=\"0.352941\" stroke=\"#000000\" points=\"1283.3333,-901 1191.3333,-901 1191.3333,-848 1283.3333,-848 1283.3333,-901\"/>\n",
       "<text text-anchor=\"start\" x=\"1209.3333\" y=\"-885.8\" font-family=\"Times,serif\" font-size=\"14.00\" fill=\"#000000\">mse = 0.0</text>\n",
       "<text text-anchor=\"start\" x=\"1203.8333\" y=\"-870.8\" font-family=\"Times,serif\" font-size=\"14.00\" fill=\"#000000\">samples = 1</text>\n",
       "<text text-anchor=\"start\" x=\"1199.3333\" y=\"-855.8\" font-family=\"Times,serif\" font-size=\"14.00\" fill=\"#000000\">value = 0.248</text>\n",
       "</g>\n",
       "<!-- 9&#45;&gt;10 -->\n",
       "<g id=\"edge10\" class=\"edge\">\n",
       "<title>9&#45;&gt;10</title>\n",
       "<path fill=\"none\" stroke=\"#000000\" d=\"M1086.3882,-847.2676C1114.2693,-852.2977 1150.8689,-858.9008 1181.046,-864.3451\"/>\n",
       "<polygon fill=\"#000000\" stroke=\"#000000\" points=\"1180.5493,-867.8119 1191.0119,-866.143 1181.7922,-860.9231 1180.5493,-867.8119\"/>\n",
       "</g>\n",
       "<!-- 11 -->\n",
       "<g id=\"node12\" class=\"node\">\n",
       "<title>11</title>\n",
       "<polygon fill=\"#e58139\" fill-opacity=\"0.337255\" stroke=\"#000000\" points=\"1283.3333,-830 1191.3333,-830 1191.3333,-777 1283.3333,-777 1283.3333,-830\"/>\n",
       "<text text-anchor=\"start\" x=\"1209.3333\" y=\"-814.8\" font-family=\"Times,serif\" font-size=\"14.00\" fill=\"#000000\">mse = 0.0</text>\n",
       "<text text-anchor=\"start\" x=\"1203.8333\" y=\"-799.8\" font-family=\"Times,serif\" font-size=\"14.00\" fill=\"#000000\">samples = 1</text>\n",
       "<text text-anchor=\"start\" x=\"1199.3333\" y=\"-784.8\" font-family=\"Times,serif\" font-size=\"14.00\" fill=\"#000000\">value = 0.231</text>\n",
       "</g>\n",
       "<!-- 9&#45;&gt;11 -->\n",
       "<g id=\"edge11\" class=\"edge\">\n",
       "<title>9&#45;&gt;11</title>\n",
       "<path fill=\"none\" stroke=\"#000000\" d=\"M1086.3882,-831.5104C1114.2693,-826.3366 1150.8689,-819.5449 1181.046,-813.9451\"/>\n",
       "<polygon fill=\"#000000\" stroke=\"#000000\" points=\"1181.8184,-817.3616 1191.0119,-812.0957 1180.5411,-810.4791 1181.8184,-817.3616\"/>\n",
       "</g>\n",
       "<!-- 14 -->\n",
       "<g id=\"node15\" class=\"node\">\n",
       "<title>14</title>\n",
       "<polygon fill=\"#e58139\" fill-opacity=\"0.376471\" stroke=\"#000000\" points=\"896.3333,-703.5 804.3333,-703.5 804.3333,-635.5 896.3333,-635.5 896.3333,-703.5\"/>\n",
       "<text text-anchor=\"start\" x=\"823.3333\" y=\"-688.3\" font-family=\"Times,serif\" font-size=\"14.00\" fill=\"#000000\">x ≤ 0.255</text>\n",
       "<text text-anchor=\"start\" x=\"815.3333\" y=\"-673.3\" font-family=\"Times,serif\" font-size=\"14.00\" fill=\"#000000\">mse = 0.002</text>\n",
       "<text text-anchor=\"start\" x=\"816.8333\" y=\"-658.3\" font-family=\"Times,serif\" font-size=\"14.00\" fill=\"#000000\">samples = 2</text>\n",
       "<text text-anchor=\"start\" x=\"812.3333\" y=\"-643.3\" font-family=\"Times,serif\" font-size=\"14.00\" fill=\"#000000\">value = 0.276</text>\n",
       "</g>\n",
       "<!-- 13&#45;&gt;14 -->\n",
       "<g id=\"edge14\" class=\"edge\">\n",
       "<title>13&#45;&gt;14</title>\n",
       "<path fill=\"none\" stroke=\"#000000\" d=\"M703.5616,-639.081C730.7952,-644.7253 765.4399,-651.9055 794.2305,-657.8725\"/>\n",
       "<polygon fill=\"#000000\" stroke=\"#000000\" points=\"793.6459,-661.3256 804.1482,-659.9279 795.0666,-654.4713 793.6459,-661.3256\"/>\n",
       "</g>\n",
       "<!-- 17 -->\n",
       "<g id=\"node18\" class=\"node\">\n",
       "<title>17</title>\n",
       "<polygon fill=\"#e58139\" fill-opacity=\"0.317647\" stroke=\"#000000\" points=\"896.3333,-617 804.3333,-617 804.3333,-564 896.3333,-564 896.3333,-617\"/>\n",
       "<text text-anchor=\"start\" x=\"822.3333\" y=\"-601.8\" font-family=\"Times,serif\" font-size=\"14.00\" fill=\"#000000\">mse = 0.0</text>\n",
       "<text text-anchor=\"start\" x=\"816.8333\" y=\"-586.8\" font-family=\"Times,serif\" font-size=\"14.00\" fill=\"#000000\">samples = 1</text>\n",
       "<text text-anchor=\"start\" x=\"812.3333\" y=\"-571.8\" font-family=\"Times,serif\" font-size=\"14.00\" fill=\"#000000\">value = 0.213</text>\n",
       "</g>\n",
       "<!-- 13&#45;&gt;17 -->\n",
       "<g id=\"edge17\" class=\"edge\">\n",
       "<title>13&#45;&gt;17</title>\n",
       "<path fill=\"none\" stroke=\"#000000\" d=\"M703.5616,-620.1585C730.7952,-614.6554 765.4399,-607.6546 794.2305,-601.8368\"/>\n",
       "<polygon fill=\"#000000\" stroke=\"#000000\" points=\"795.0395,-605.2442 804.1482,-599.8328 793.653,-598.3829 795.0395,-605.2442\"/>\n",
       "</g>\n",
       "<!-- 15 -->\n",
       "<g id=\"node16\" class=\"node\">\n",
       "<title>15</title>\n",
       "<polygon fill=\"#e58139\" fill-opacity=\"0.313725\" stroke=\"#000000\" points=\"1089.3333,-716 997.3333,-716 997.3333,-663 1089.3333,-663 1089.3333,-716\"/>\n",
       "<text text-anchor=\"start\" x=\"1015.3333\" y=\"-700.8\" font-family=\"Times,serif\" font-size=\"14.00\" fill=\"#000000\">mse = 0.0</text>\n",
       "<text text-anchor=\"start\" x=\"1009.8333\" y=\"-685.8\" font-family=\"Times,serif\" font-size=\"14.00\" fill=\"#000000\">samples = 1</text>\n",
       "<text text-anchor=\"start\" x=\"1005.3333\" y=\"-670.8\" font-family=\"Times,serif\" font-size=\"14.00\" fill=\"#000000\">value = 0.209</text>\n",
       "</g>\n",
       "<!-- 14&#45;&gt;15 -->\n",
       "<g id=\"edge15\" class=\"edge\">\n",
       "<title>14&#45;&gt;15</title>\n",
       "<path fill=\"none\" stroke=\"#000000\" d=\"M896.5616,-674.2905C923.6763,-677.1003 958.1375,-680.6714 986.853,-683.6471\"/>\n",
       "<polygon fill=\"#000000\" stroke=\"#000000\" points=\"986.8406,-687.1645 997.1482,-684.714 987.5622,-680.2018 986.8406,-687.1645\"/>\n",
       "</g>\n",
       "<!-- 16 -->\n",
       "<g id=\"node17\" class=\"node\">\n",
       "<title>16</title>\n",
       "<polygon fill=\"#e58139\" fill-opacity=\"0.407843\" stroke=\"#000000\" points=\"1086.3333,-645 1000.3333,-645 1000.3333,-592 1086.3333,-592 1086.3333,-645\"/>\n",
       "<text text-anchor=\"start\" x=\"1015.3333\" y=\"-629.8\" font-family=\"Times,serif\" font-size=\"14.00\" fill=\"#000000\">mse = 0.0</text>\n",
       "<text text-anchor=\"start\" x=\"1009.8333\" y=\"-614.8\" font-family=\"Times,serif\" font-size=\"14.00\" fill=\"#000000\">samples = 1</text>\n",
       "<text text-anchor=\"start\" x=\"1008.3333\" y=\"-599.8\" font-family=\"Times,serif\" font-size=\"14.00\" fill=\"#000000\">value = 0.31</text>\n",
       "</g>\n",
       "<!-- 14&#45;&gt;16 -->\n",
       "<g id=\"edge16\" class=\"edge\">\n",
       "<title>14&#45;&gt;16</title>\n",
       "<path fill=\"none\" stroke=\"#000000\" d=\"M896.5616,-657.2842C924.8158,-649.8181 961.0471,-640.244 990.4421,-632.4764\"/>\n",
       "<polygon fill=\"#000000\" stroke=\"#000000\" points=\"991.3534,-635.8558 1000.1274,-629.9171 989.565,-629.0881 991.3534,-635.8558\"/>\n",
       "</g>\n",
       "<!-- 19 -->\n",
       "<g id=\"node20\" class=\"node\">\n",
       "<title>19</title>\n",
       "<polygon fill=\"#e58139\" fill-opacity=\"0.560784\" stroke=\"#000000\" points=\"506.3333,-435.5 414.3333,-435.5 414.3333,-367.5 506.3333,-367.5 506.3333,-435.5\"/>\n",
       "<text text-anchor=\"start\" x=\"433.3333\" y=\"-420.3\" font-family=\"Times,serif\" font-size=\"14.00\" fill=\"#000000\">x ≤ 0.561</text>\n",
       "<text text-anchor=\"start\" x=\"425.3333\" y=\"-405.3\" font-family=\"Times,serif\" font-size=\"14.00\" fill=\"#000000\">mse = 0.005</text>\n",
       "<text text-anchor=\"start\" x=\"426.8333\" y=\"-390.3\" font-family=\"Times,serif\" font-size=\"14.00\" fill=\"#000000\">samples = 8</text>\n",
       "<text text-anchor=\"start\" x=\"422.3333\" y=\"-375.3\" font-family=\"Times,serif\" font-size=\"14.00\" fill=\"#000000\">value = 0.471</text>\n",
       "</g>\n",
       "<!-- 18&#45;&gt;19 -->\n",
       "<g id=\"edge19\" class=\"edge\">\n",
       "<title>18&#45;&gt;19</title>\n",
       "<path fill=\"none\" stroke=\"#000000\" d=\"M309.5211,-401.5C337.7005,-401.5 373.9269,-401.5 403.8116,-401.5\"/>\n",
       "<polygon fill=\"#000000\" stroke=\"#000000\" points=\"404.0941,-405.0001 414.0941,-401.5 404.094,-398.0001 404.0941,-405.0001\"/>\n",
       "</g>\n",
       "<!-- 34 -->\n",
       "<g id=\"node35\" class=\"node\">\n",
       "<title>34</title>\n",
       "<polygon fill=\"#e58139\" fill-opacity=\"0.882353\" stroke=\"#000000\" points=\"506.3333,-249.5 414.3333,-249.5 414.3333,-181.5 506.3333,-181.5 506.3333,-249.5\"/>\n",
       "<text text-anchor=\"start\" x=\"433.3333\" y=\"-234.3\" font-family=\"Times,serif\" font-size=\"14.00\" fill=\"#000000\">x ≤ 0.765</text>\n",
       "<text text-anchor=\"start\" x=\"425.3333\" y=\"-219.3\" font-family=\"Times,serif\" font-size=\"14.00\" fill=\"#000000\">mse = 0.014</text>\n",
       "<text text-anchor=\"start\" x=\"426.8333\" y=\"-204.3\" font-family=\"Times,serif\" font-size=\"14.00\" fill=\"#000000\">samples = 6</text>\n",
       "<text text-anchor=\"start\" x=\"422.3333\" y=\"-189.3\" font-family=\"Times,serif\" font-size=\"14.00\" fill=\"#000000\">value = 0.819</text>\n",
       "</g>\n",
       "<!-- 18&#45;&gt;34 -->\n",
       "<g id=\"edge34\" class=\"edge\">\n",
       "<title>18&#45;&gt;34</title>\n",
       "<path fill=\"none\" stroke=\"#000000\" d=\"M299.4662,-367.3847C332.5472,-336.1509 381.5719,-289.8636 416.7995,-256.603\"/>\n",
       "<polygon fill=\"#000000\" stroke=\"#000000\" points=\"419.2282,-259.1235 424.0965,-249.7134 414.4225,-254.0337 419.2282,-259.1235\"/>\n",
       "</g>\n",
       "<!-- 20 -->\n",
       "<g id=\"node21\" class=\"node\">\n",
       "<title>20</title>\n",
       "<polygon fill=\"#e58139\" fill-opacity=\"0.545098\" stroke=\"#000000\" points=\"703.3333,-475.5 611.3333,-475.5 611.3333,-407.5 703.3333,-407.5 703.3333,-475.5\"/>\n",
       "<text text-anchor=\"start\" x=\"630.3333\" y=\"-460.3\" font-family=\"Times,serif\" font-size=\"14.00\" fill=\"#000000\">x ≤ 0.418</text>\n",
       "<text text-anchor=\"start\" x=\"622.3333\" y=\"-445.3\" font-family=\"Times,serif\" font-size=\"14.00\" fill=\"#000000\">mse = 0.005</text>\n",
       "<text text-anchor=\"start\" x=\"623.8333\" y=\"-430.3\" font-family=\"Times,serif\" font-size=\"14.00\" fill=\"#000000\">samples = 7</text>\n",
       "<text text-anchor=\"start\" x=\"619.3333\" y=\"-415.3\" font-family=\"Times,serif\" font-size=\"14.00\" fill=\"#000000\">value = 0.456</text>\n",
       "</g>\n",
       "<!-- 19&#45;&gt;20 -->\n",
       "<g id=\"edge20\" class=\"edge\">\n",
       "<title>19&#45;&gt;20</title>\n",
       "<path fill=\"none\" stroke=\"#000000\" d=\"M506.5211,-410.8782C534.8235,-416.6249 571.2434,-424.0198 601.2027,-430.1029\"/>\n",
       "<polygon fill=\"#000000\" stroke=\"#000000\" points=\"600.5976,-433.5514 611.0941,-432.1113 601.9905,-426.6914 600.5976,-433.5514\"/>\n",
       "</g>\n",
       "<!-- 33 -->\n",
       "<g id=\"node34\" class=\"node\">\n",
       "<title>33</title>\n",
       "<polygon fill=\"#e58139\" fill-opacity=\"0.627451\" stroke=\"#000000\" points=\"703.3333,-389 611.3333,-389 611.3333,-336 703.3333,-336 703.3333,-389\"/>\n",
       "<text text-anchor=\"start\" x=\"626.8333\" y=\"-373.8\" font-family=\"Times,serif\" font-size=\"14.00\" fill=\"#000000\">mse = &#45;0.0</text>\n",
       "<text text-anchor=\"start\" x=\"623.8333\" y=\"-358.8\" font-family=\"Times,serif\" font-size=\"14.00\" fill=\"#000000\">samples = 1</text>\n",
       "<text text-anchor=\"start\" x=\"619.3333\" y=\"-343.8\" font-family=\"Times,serif\" font-size=\"14.00\" fill=\"#000000\">value = 0.545</text>\n",
       "</g>\n",
       "<!-- 19&#45;&gt;33 -->\n",
       "<g id=\"edge33\" class=\"edge\">\n",
       "<title>19&#45;&gt;33</title>\n",
       "<path fill=\"none\" stroke=\"#000000\" d=\"M506.5211,-392.3562C534.8235,-386.7532 571.2434,-379.5432 601.2027,-373.6122\"/>\n",
       "<polygon fill=\"#000000\" stroke=\"#000000\" points=\"601.9642,-377.0294 611.0941,-371.654 600.6047,-370.1627 601.9642,-377.0294\"/>\n",
       "</g>\n",
       "<!-- 21 -->\n",
       "<g id=\"node22\" class=\"node\">\n",
       "<title>21</title>\n",
       "<polygon fill=\"#e58139\" fill-opacity=\"0.615686\" stroke=\"#000000\" points=\"896.3333,-518.5 804.3333,-518.5 804.3333,-450.5 896.3333,-450.5 896.3333,-518.5\"/>\n",
       "<text text-anchor=\"start\" x=\"823.3333\" y=\"-503.3\" font-family=\"Times,serif\" font-size=\"14.00\" fill=\"#000000\">x ≤ 0.378</text>\n",
       "<text text-anchor=\"start\" x=\"822.3333\" y=\"-488.3\" font-family=\"Times,serif\" font-size=\"14.00\" fill=\"#000000\">mse = 0.0</text>\n",
       "<text text-anchor=\"start\" x=\"816.8333\" y=\"-473.3\" font-family=\"Times,serif\" font-size=\"14.00\" fill=\"#000000\">samples = 2</text>\n",
       "<text text-anchor=\"start\" x=\"812.3333\" y=\"-458.3\" font-family=\"Times,serif\" font-size=\"14.00\" fill=\"#000000\">value = 0.532</text>\n",
       "</g>\n",
       "<!-- 20&#45;&gt;21 -->\n",
       "<g id=\"edge21\" class=\"edge\">\n",
       "<title>20&#45;&gt;21</title>\n",
       "<path fill=\"none\" stroke=\"#000000\" d=\"M703.5616,-451.7996C730.7952,-457.8671 765.4399,-465.5859 794.2305,-472.0004\"/>\n",
       "<polygon fill=\"#000000\" stroke=\"#000000\" points=\"793.6263,-475.4515 804.1482,-474.21 795.1486,-468.6191 793.6263,-475.4515\"/>\n",
       "</g>\n",
       "<!-- 24 -->\n",
       "<g id=\"node25\" class=\"node\">\n",
       "<title>24</title>\n",
       "<polygon fill=\"#e58139\" fill-opacity=\"0.533333\" stroke=\"#000000\" points=\"896.3333,-432.5 804.3333,-432.5 804.3333,-364.5 896.3333,-364.5 896.3333,-432.5\"/>\n",
       "<text text-anchor=\"start\" x=\"823.3333\" y=\"-417.3\" font-family=\"Times,serif\" font-size=\"14.00\" fill=\"#000000\">x ≤ 0.459</text>\n",
       "<text text-anchor=\"start\" x=\"815.3333\" y=\"-402.3\" font-family=\"Times,serif\" font-size=\"14.00\" fill=\"#000000\">mse = 0.005</text>\n",
       "<text text-anchor=\"start\" x=\"816.8333\" y=\"-387.3\" font-family=\"Times,serif\" font-size=\"14.00\" fill=\"#000000\">samples = 5</text>\n",
       "<text text-anchor=\"start\" x=\"812.3333\" y=\"-372.3\" font-family=\"Times,serif\" font-size=\"14.00\" fill=\"#000000\">value = 0.445</text>\n",
       "</g>\n",
       "<!-- 20&#45;&gt;24 -->\n",
       "<g id=\"edge24\" class=\"edge\">\n",
       "<title>20&#45;&gt;24</title>\n",
       "<path fill=\"none\" stroke=\"#000000\" d=\"M703.5616,-431.2004C730.7952,-425.1329 765.4399,-417.4141 794.2305,-410.9996\"/>\n",
       "<polygon fill=\"#000000\" stroke=\"#000000\" points=\"795.1486,-414.3809 804.1482,-408.79 793.6263,-407.5485 795.1486,-414.3809\"/>\n",
       "</g>\n",
       "<!-- 22 -->\n",
       "<g id=\"node23\" class=\"node\">\n",
       "<title>22</title>\n",
       "<polygon fill=\"#e58139\" fill-opacity=\"0.611765\" stroke=\"#000000\" points=\"1089.3333,-574 997.3333,-574 997.3333,-521 1089.3333,-521 1089.3333,-574\"/>\n",
       "<text text-anchor=\"start\" x=\"1015.3333\" y=\"-558.8\" font-family=\"Times,serif\" font-size=\"14.00\" fill=\"#000000\">mse = 0.0</text>\n",
       "<text text-anchor=\"start\" x=\"1009.8333\" y=\"-543.8\" font-family=\"Times,serif\" font-size=\"14.00\" fill=\"#000000\">samples = 1</text>\n",
       "<text text-anchor=\"start\" x=\"1005.3333\" y=\"-528.8\" font-family=\"Times,serif\" font-size=\"14.00\" fill=\"#000000\">value = 0.527</text>\n",
       "</g>\n",
       "<!-- 21&#45;&gt;22 -->\n",
       "<g id=\"edge22\" class=\"edge\">\n",
       "<title>21&#45;&gt;22</title>\n",
       "<path fill=\"none\" stroke=\"#000000\" d=\"M896.5616,-499.5901C923.9141,-508.5186 958.7426,-519.8875 987.6073,-529.3096\"/>\n",
       "<polygon fill=\"#000000\" stroke=\"#000000\" points=\"986.5557,-532.6481 997.1482,-532.424 988.7279,-525.9936 986.5557,-532.6481\"/>\n",
       "</g>\n",
       "<!-- 23 -->\n",
       "<g id=\"node24\" class=\"node\">\n",
       "<title>23</title>\n",
       "<polygon fill=\"#e58139\" fill-opacity=\"0.619608\" stroke=\"#000000\" points=\"1089.3333,-503 997.3333,-503 997.3333,-450 1089.3333,-450 1089.3333,-503\"/>\n",
       "<text text-anchor=\"start\" x=\"1015.3333\" y=\"-487.8\" font-family=\"Times,serif\" font-size=\"14.00\" fill=\"#000000\">mse = 0.0</text>\n",
       "<text text-anchor=\"start\" x=\"1009.8333\" y=\"-472.8\" font-family=\"Times,serif\" font-size=\"14.00\" fill=\"#000000\">samples = 1</text>\n",
       "<text text-anchor=\"start\" x=\"1005.3333\" y=\"-457.8\" font-family=\"Times,serif\" font-size=\"14.00\" fill=\"#000000\">value = 0.536</text>\n",
       "</g>\n",
       "<!-- 21&#45;&gt;23 -->\n",
       "<g id=\"edge23\" class=\"edge\">\n",
       "<title>21&#45;&gt;23</title>\n",
       "<path fill=\"none\" stroke=\"#000000\" d=\"M896.5616,-482.5838C923.6763,-481.4599 958.1375,-480.0314 986.853,-478.8412\"/>\n",
       "<polygon fill=\"#000000\" stroke=\"#000000\" points=\"987.3017,-482.3257 997.1482,-478.4144 987.0117,-475.3317 987.3017,-482.3257\"/>\n",
       "</g>\n",
       "<!-- 25 -->\n",
       "<g id=\"node26\" class=\"node\">\n",
       "<title>25</title>\n",
       "<polygon fill=\"#e58139\" fill-opacity=\"0.400000\" stroke=\"#000000\" points=\"1084.8333,-432 1001.8333,-432 1001.8333,-379 1084.8333,-379 1084.8333,-432\"/>\n",
       "<text text-anchor=\"start\" x=\"1015.3333\" y=\"-416.8\" font-family=\"Times,serif\" font-size=\"14.00\" fill=\"#000000\">mse = 0.0</text>\n",
       "<text text-anchor=\"start\" x=\"1009.8333\" y=\"-401.8\" font-family=\"Times,serif\" font-size=\"14.00\" fill=\"#000000\">samples = 1</text>\n",
       "<text text-anchor=\"start\" x=\"1011.8333\" y=\"-386.8\" font-family=\"Times,serif\" font-size=\"14.00\" fill=\"#000000\">value = 0.3</text>\n",
       "</g>\n",
       "<!-- 24&#45;&gt;25 -->\n",
       "<g id=\"edge25\" class=\"edge\">\n",
       "<title>24&#45;&gt;25</title>\n",
       "<path fill=\"none\" stroke=\"#000000\" d=\"M896.5616,-400.1767C925.1918,-401.2151 962.0127,-402.5505 991.6118,-403.6241\"/>\n",
       "<polygon fill=\"#000000\" stroke=\"#000000\" points=\"991.6346,-407.1271 1001.7549,-403.992 991.8884,-400.1317 991.6346,-407.1271\"/>\n",
       "</g>\n",
       "<!-- 26 -->\n",
       "<g id=\"node27\" class=\"node\">\n",
       "<title>26</title>\n",
       "<polygon fill=\"#e58139\" fill-opacity=\"0.560784\" stroke=\"#000000\" points=\"1089.3333,-360.5 997.3333,-360.5 997.3333,-292.5 1089.3333,-292.5 1089.3333,-360.5\"/>\n",
       "<text text-anchor=\"start\" x=\"1019.8333\" y=\"-345.3\" font-family=\"Times,serif\" font-size=\"14.00\" fill=\"#000000\">x ≤ 0.48</text>\n",
       "<text text-anchor=\"start\" x=\"1008.3333\" y=\"-330.3\" font-family=\"Times,serif\" font-size=\"14.00\" fill=\"#000000\">mse = 0.001</text>\n",
       "<text text-anchor=\"start\" x=\"1009.8333\" y=\"-315.3\" font-family=\"Times,serif\" font-size=\"14.00\" fill=\"#000000\">samples = 4</text>\n",
       "<text text-anchor=\"start\" x=\"1005.3333\" y=\"-300.3\" font-family=\"Times,serif\" font-size=\"14.00\" fill=\"#000000\">value = 0.471</text>\n",
       "</g>\n",
       "<!-- 24&#45;&gt;26 -->\n",
       "<g id=\"edge26\" class=\"edge\">\n",
       "<title>24&#45;&gt;26</title>\n",
       "<path fill=\"none\" stroke=\"#000000\" d=\"M896.5616,-381.2542C923.9141,-371.0502 958.7426,-358.0572 987.6073,-347.289\"/>\n",
       "<polygon fill=\"#000000\" stroke=\"#000000\" points=\"989.0023,-350.5043 997.1482,-343.7297 986.5555,-343.9458 989.0023,-350.5043\"/>\n",
       "</g>\n",
       "<!-- 27 -->\n",
       "<g id=\"node28\" class=\"node\">\n",
       "<title>27</title>\n",
       "<polygon fill=\"#e58139\" fill-opacity=\"0.600000\" stroke=\"#000000\" points=\"1283.3333,-411 1191.3333,-411 1191.3333,-358 1283.3333,-358 1283.3333,-411\"/>\n",
       "<text text-anchor=\"start\" x=\"1209.3333\" y=\"-395.8\" font-family=\"Times,serif\" font-size=\"14.00\" fill=\"#000000\">mse = 0.0</text>\n",
       "<text text-anchor=\"start\" x=\"1203.8333\" y=\"-380.8\" font-family=\"Times,serif\" font-size=\"14.00\" fill=\"#000000\">samples = 1</text>\n",
       "<text text-anchor=\"start\" x=\"1199.3333\" y=\"-365.8\" font-family=\"Times,serif\" font-size=\"14.00\" fill=\"#000000\">value = 0.515</text>\n",
       "</g>\n",
       "<!-- 26&#45;&gt;27 -->\n",
       "<g id=\"edge27\" class=\"edge\">\n",
       "<title>26&#45;&gt;27</title>\n",
       "<path fill=\"none\" stroke=\"#000000\" d=\"M1089.8012,-340.3924C1117.3961,-348.6425 1152.5609,-359.1557 1181.6372,-367.8486\"/>\n",
       "<polygon fill=\"#000000\" stroke=\"#000000\" points=\"1180.6611,-371.2098 1191.2447,-370.7209 1182.6663,-364.5031 1180.6611,-371.2098\"/>\n",
       "</g>\n",
       "<!-- 28 -->\n",
       "<g id=\"node29\" class=\"node\">\n",
       "<title>28</title>\n",
       "<polygon fill=\"#e58139\" fill-opacity=\"0.537255\" stroke=\"#000000\" points=\"1283.3333,-339.5 1191.3333,-339.5 1191.3333,-271.5 1283.3333,-271.5 1283.3333,-339.5\"/>\n",
       "<text text-anchor=\"start\" x=\"1217.3333\" y=\"-324.3\" font-family=\"Times,serif\" font-size=\"14.00\" fill=\"#000000\">x ≤ 0.5</text>\n",
       "<text text-anchor=\"start\" x=\"1209.3333\" y=\"-309.3\" font-family=\"Times,serif\" font-size=\"14.00\" fill=\"#000000\">mse = 0.0</text>\n",
       "<text text-anchor=\"start\" x=\"1203.8333\" y=\"-294.3\" font-family=\"Times,serif\" font-size=\"14.00\" fill=\"#000000\">samples = 3</text>\n",
       "<text text-anchor=\"start\" x=\"1199.3333\" y=\"-279.3\" font-family=\"Times,serif\" font-size=\"14.00\" fill=\"#000000\">value = 0.446</text>\n",
       "</g>\n",
       "<!-- 26&#45;&gt;28 -->\n",
       "<g id=\"edge28\" class=\"edge\">\n",
       "<title>26&#45;&gt;28</title>\n",
       "<path fill=\"none\" stroke=\"#000000\" d=\"M1089.8012,-321.47C1117.2761,-318.4959 1152.2553,-314.7095 1181.2576,-311.5701\"/>\n",
       "<polygon fill=\"#000000\" stroke=\"#000000\" points=\"1181.6794,-315.0449 1191.2447,-310.489 1180.9261,-308.0856 1181.6794,-315.0449\"/>\n",
       "</g>\n",
       "<!-- 29 -->\n",
       "<g id=\"node30\" class=\"node\">\n",
       "<title>29</title>\n",
       "<polygon fill=\"#e58139\" fill-opacity=\"0.505882\" stroke=\"#000000\" points=\"1476.3333,-371 1384.3333,-371 1384.3333,-318 1476.3333,-318 1476.3333,-371\"/>\n",
       "<text text-anchor=\"start\" x=\"1402.3333\" y=\"-355.8\" font-family=\"Times,serif\" font-size=\"14.00\" fill=\"#000000\">mse = 0.0</text>\n",
       "<text text-anchor=\"start\" x=\"1396.8333\" y=\"-340.8\" font-family=\"Times,serif\" font-size=\"14.00\" fill=\"#000000\">samples = 1</text>\n",
       "<text text-anchor=\"start\" x=\"1392.3333\" y=\"-325.8\" font-family=\"Times,serif\" font-size=\"14.00\" fill=\"#000000\">value = 0.412</text>\n",
       "</g>\n",
       "<!-- 28&#45;&gt;29 -->\n",
       "<g id=\"edge29\" class=\"edge\">\n",
       "<title>28&#45;&gt;29</title>\n",
       "<path fill=\"none\" stroke=\"#000000\" d=\"M1283.5616,-314.8415C1310.7952,-320.3446 1345.4399,-327.3454 1374.2305,-333.1632\"/>\n",
       "<polygon fill=\"#000000\" stroke=\"#000000\" points=\"1373.653,-336.6171 1384.1482,-335.1672 1375.0395,-329.7558 1373.653,-336.6171\"/>\n",
       "</g>\n",
       "<!-- 30 -->\n",
       "<g id=\"node31\" class=\"node\">\n",
       "<title>30</title>\n",
       "<polygon fill=\"#e58139\" fill-opacity=\"0.549020\" stroke=\"#000000\" points=\"1476.3333,-299.5 1384.3333,-299.5 1384.3333,-231.5 1476.3333,-231.5 1476.3333,-299.5\"/>\n",
       "<text text-anchor=\"start\" x=\"1403.3333\" y=\"-284.3\" font-family=\"Times,serif\" font-size=\"14.00\" fill=\"#000000\">x ≤ 0.531</text>\n",
       "<text text-anchor=\"start\" x=\"1402.3333\" y=\"-269.3\" font-family=\"Times,serif\" font-size=\"14.00\" fill=\"#000000\">mse = 0.0</text>\n",
       "<text text-anchor=\"start\" x=\"1396.8333\" y=\"-254.3\" font-family=\"Times,serif\" font-size=\"14.00\" fill=\"#000000\">samples = 2</text>\n",
       "<text text-anchor=\"start\" x=\"1392.3333\" y=\"-239.3\" font-family=\"Times,serif\" font-size=\"14.00\" fill=\"#000000\">value = 0.459</text>\n",
       "</g>\n",
       "<!-- 28&#45;&gt;30 -->\n",
       "<g id=\"edge30\" class=\"edge\">\n",
       "<title>28&#45;&gt;30</title>\n",
       "<path fill=\"none\" stroke=\"#000000\" d=\"M1283.5616,-295.919C1310.7952,-290.2747 1345.4399,-283.0945 1374.2305,-277.1275\"/>\n",
       "<polygon fill=\"#000000\" stroke=\"#000000\" points=\"1375.0666,-280.5287 1384.1482,-275.0721 1373.6459,-273.6744 1375.0666,-280.5287\"/>\n",
       "</g>\n",
       "<!-- 31 -->\n",
       "<g id=\"node32\" class=\"node\">\n",
       "<title>31</title>\n",
       "<polygon fill=\"#e58139\" fill-opacity=\"0.545098\" stroke=\"#000000\" points=\"1670.3333,-328 1578.3333,-328 1578.3333,-275 1670.3333,-275 1670.3333,-328\"/>\n",
       "<text text-anchor=\"start\" x=\"1593.8333\" y=\"-312.8\" font-family=\"Times,serif\" font-size=\"14.00\" fill=\"#000000\">mse = &#45;0.0</text>\n",
       "<text text-anchor=\"start\" x=\"1590.8333\" y=\"-297.8\" font-family=\"Times,serif\" font-size=\"14.00\" fill=\"#000000\">samples = 1</text>\n",
       "<text text-anchor=\"start\" x=\"1586.3333\" y=\"-282.8\" font-family=\"Times,serif\" font-size=\"14.00\" fill=\"#000000\">value = 0.457</text>\n",
       "</g>\n",
       "<!-- 30&#45;&gt;31 -->\n",
       "<g id=\"edge31\" class=\"edge\">\n",
       "<title>30&#45;&gt;31</title>\n",
       "<path fill=\"none\" stroke=\"#000000\" d=\"M1476.8012,-274.1229C1504.2761,-279.2213 1539.2553,-285.7123 1568.2576,-291.0942\"/>\n",
       "<polygon fill=\"#000000\" stroke=\"#000000\" points=\"1567.7739,-294.5641 1578.2447,-292.9475 1569.0511,-287.6816 1567.7739,-294.5641\"/>\n",
       "</g>\n",
       "<!-- 32 -->\n",
       "<g id=\"node33\" class=\"node\">\n",
       "<title>32</title>\n",
       "<polygon fill=\"#e58139\" fill-opacity=\"0.552941\" stroke=\"#000000\" points=\"1670.3333,-257 1578.3333,-257 1578.3333,-204 1670.3333,-204 1670.3333,-257\"/>\n",
       "<text text-anchor=\"start\" x=\"1593.8333\" y=\"-241.8\" font-family=\"Times,serif\" font-size=\"14.00\" fill=\"#000000\">mse = &#45;0.0</text>\n",
       "<text text-anchor=\"start\" x=\"1590.8333\" y=\"-226.8\" font-family=\"Times,serif\" font-size=\"14.00\" fill=\"#000000\">samples = 1</text>\n",
       "<text text-anchor=\"start\" x=\"1586.3333\" y=\"-211.8\" font-family=\"Times,serif\" font-size=\"14.00\" fill=\"#000000\">value = 0.462</text>\n",
       "</g>\n",
       "<!-- 30&#45;&gt;32 -->\n",
       "<g id=\"edge32\" class=\"edge\">\n",
       "<title>30&#45;&gt;32</title>\n",
       "<path fill=\"none\" stroke=\"#000000\" d=\"M1476.8012,-257.1166C1504.2761,-252.1598 1539.2553,-245.8491 1568.2576,-240.6168\"/>\n",
       "<polygon fill=\"#000000\" stroke=\"#000000\" points=\"1569.025,-244.0349 1578.2447,-238.815 1567.7821,-237.1461 1569.025,-244.0349\"/>\n",
       "</g>\n",
       "<!-- 35 -->\n",
       "<g id=\"node36\" class=\"node\">\n",
       "<title>35</title>\n",
       "<polygon fill=\"#e58139\" fill-opacity=\"0.807843\" stroke=\"#000000\" points=\"703.3333,-249.5 611.3333,-249.5 611.3333,-181.5 703.3333,-181.5 703.3333,-249.5\"/>\n",
       "<text text-anchor=\"start\" x=\"630.3333\" y=\"-234.3\" font-family=\"Times,serif\" font-size=\"14.00\" fill=\"#000000\">x ≤ 0.745</text>\n",
       "<text text-anchor=\"start\" x=\"625.8333\" y=\"-219.3\" font-family=\"Times,serif\" font-size=\"14.00\" fill=\"#000000\">mse = 0.01</text>\n",
       "<text text-anchor=\"start\" x=\"623.8333\" y=\"-204.3\" font-family=\"Times,serif\" font-size=\"14.00\" fill=\"#000000\">samples = 4</text>\n",
       "<text text-anchor=\"start\" x=\"619.3333\" y=\"-189.3\" font-family=\"Times,serif\" font-size=\"14.00\" fill=\"#000000\">value = 0.739</text>\n",
       "</g>\n",
       "<!-- 34&#45;&gt;35 -->\n",
       "<g id=\"edge35\" class=\"edge\">\n",
       "<title>34&#45;&gt;35</title>\n",
       "<path fill=\"none\" stroke=\"#000000\" d=\"M506.5211,-215.5C534.7005,-215.5 570.9269,-215.5 600.8116,-215.5\"/>\n",
       "<polygon fill=\"#000000\" stroke=\"#000000\" points=\"601.0941,-219.0001 611.0941,-215.5 601.094,-212.0001 601.0941,-219.0001\"/>\n",
       "</g>\n",
       "<!-- 42 -->\n",
       "<g id=\"node43\" class=\"node\">\n",
       "<title>42</title>\n",
       "<polygon fill=\"#e58139\" fill-opacity=\"0.980392\" stroke=\"#000000\" points=\"703.3333,-131.5 611.3333,-131.5 611.3333,-63.5 703.3333,-63.5 703.3333,-131.5\"/>\n",
       "<text text-anchor=\"start\" x=\"630.3333\" y=\"-116.3\" font-family=\"Times,serif\" font-size=\"14.00\" fill=\"#000000\">x ≤ 0.786</text>\n",
       "<text text-anchor=\"start\" x=\"629.3333\" y=\"-101.3\" font-family=\"Times,serif\" font-size=\"14.00\" fill=\"#000000\">mse = 0.0</text>\n",
       "<text text-anchor=\"start\" x=\"623.8333\" y=\"-86.3\" font-family=\"Times,serif\" font-size=\"14.00\" fill=\"#000000\">samples = 2</text>\n",
       "<text text-anchor=\"start\" x=\"619.3333\" y=\"-71.3\" font-family=\"Times,serif\" font-size=\"14.00\" fill=\"#000000\">value = 0.925</text>\n",
       "</g>\n",
       "<!-- 34&#45;&gt;42 -->\n",
       "<g id=\"edge42\" class=\"edge\">\n",
       "<title>34&#45;&gt;42</title>\n",
       "<path fill=\"none\" stroke=\"#000000\" d=\"M506.5211,-187.8342C535.1927,-170.6604 572.1949,-148.4966 602.3717,-130.4212\"/>\n",
       "<polygon fill=\"#000000\" stroke=\"#000000\" points=\"604.3138,-133.3378 611.0941,-125.1966 600.7168,-127.3326 604.3138,-133.3378\"/>\n",
       "</g>\n",
       "<!-- 36 -->\n",
       "<g id=\"node37\" class=\"node\">\n",
       "<title>36</title>\n",
       "<polygon fill=\"#e58139\" fill-opacity=\"0.858824\" stroke=\"#000000\" points=\"896.3333,-281.5 804.3333,-281.5 804.3333,-213.5 896.3333,-213.5 896.3333,-281.5\"/>\n",
       "<text text-anchor=\"start\" x=\"823.3333\" y=\"-266.3\" font-family=\"Times,serif\" font-size=\"14.00\" fill=\"#000000\">x ≤ 0.622</text>\n",
       "<text text-anchor=\"start\" x=\"815.3333\" y=\"-251.3\" font-family=\"Times,serif\" font-size=\"14.00\" fill=\"#000000\">mse = 0.001</text>\n",
       "<text text-anchor=\"start\" x=\"816.8333\" y=\"-236.3\" font-family=\"Times,serif\" font-size=\"14.00\" fill=\"#000000\">samples = 3</text>\n",
       "<text text-anchor=\"start\" x=\"812.3333\" y=\"-221.3\" font-family=\"Times,serif\" font-size=\"14.00\" fill=\"#000000\">value = 0.793</text>\n",
       "</g>\n",
       "<!-- 35&#45;&gt;36 -->\n",
       "<g id=\"edge36\" class=\"edge\">\n",
       "<title>35&#45;&gt;36</title>\n",
       "<path fill=\"none\" stroke=\"#000000\" d=\"M703.5616,-223.1648C730.7952,-227.6802 765.4399,-233.4244 794.2305,-238.198\"/>\n",
       "<polygon fill=\"#000000\" stroke=\"#000000\" points=\"793.7103,-241.6594 804.1482,-239.8424 794.8554,-234.7537 793.7103,-241.6594\"/>\n",
       "</g>\n",
       "<!-- 41 -->\n",
       "<g id=\"node42\" class=\"node\">\n",
       "<title>41</title>\n",
       "<polygon fill=\"#e58139\" fill-opacity=\"0.658824\" stroke=\"#000000\" points=\"896.3333,-195 804.3333,-195 804.3333,-142 896.3333,-142 896.3333,-195\"/>\n",
       "<text text-anchor=\"start\" x=\"822.3333\" y=\"-179.8\" font-family=\"Times,serif\" font-size=\"14.00\" fill=\"#000000\">mse = 0.0</text>\n",
       "<text text-anchor=\"start\" x=\"816.8333\" y=\"-164.8\" font-family=\"Times,serif\" font-size=\"14.00\" fill=\"#000000\">samples = 1</text>\n",
       "<text text-anchor=\"start\" x=\"812.3333\" y=\"-149.8\" font-family=\"Times,serif\" font-size=\"14.00\" fill=\"#000000\">value = 0.578</text>\n",
       "</g>\n",
       "<!-- 35&#45;&gt;41 -->\n",
       "<g id=\"edge41\" class=\"edge\">\n",
       "<title>35&#45;&gt;41</title>\n",
       "<path fill=\"none\" stroke=\"#000000\" d=\"M703.5616,-204.2423C730.7952,-197.6103 765.4399,-189.1735 794.2305,-182.1624\"/>\n",
       "<polygon fill=\"#000000\" stroke=\"#000000\" points=\"795.2603,-185.5139 804.1482,-179.7472 793.6039,-178.7127 795.2603,-185.5139\"/>\n",
       "</g>\n",
       "<!-- 37 -->\n",
       "<g id=\"node38\" class=\"node\">\n",
       "<title>37</title>\n",
       "<polygon fill=\"#e58139\" fill-opacity=\"0.815686\" stroke=\"#000000\" points=\"1089.3333,-274 997.3333,-274 997.3333,-221 1089.3333,-221 1089.3333,-274\"/>\n",
       "<text text-anchor=\"start\" x=\"1015.3333\" y=\"-258.8\" font-family=\"Times,serif\" font-size=\"14.00\" fill=\"#000000\">mse = 0.0</text>\n",
       "<text text-anchor=\"start\" x=\"1009.8333\" y=\"-243.8\" font-family=\"Times,serif\" font-size=\"14.00\" fill=\"#000000\">samples = 1</text>\n",
       "<text text-anchor=\"start\" x=\"1005.3333\" y=\"-228.8\" font-family=\"Times,serif\" font-size=\"14.00\" fill=\"#000000\">value = 0.746</text>\n",
       "</g>\n",
       "<!-- 36&#45;&gt;37 -->\n",
       "<g id=\"edge37\" class=\"edge\">\n",
       "<title>36&#45;&gt;37</title>\n",
       "<path fill=\"none\" stroke=\"#000000\" d=\"M896.5616,-247.5C923.6763,-247.5 958.1375,-247.5 986.853,-247.5\"/>\n",
       "<polygon fill=\"#000000\" stroke=\"#000000\" points=\"987.1482,-251.0001 997.1482,-247.5 987.1481,-244.0001 987.1482,-251.0001\"/>\n",
       "</g>\n",
       "<!-- 38 -->\n",
       "<g id=\"node39\" class=\"node\">\n",
       "<title>38</title>\n",
       "<polygon fill=\"#e58139\" fill-opacity=\"0.882353\" stroke=\"#000000\" points=\"1089.3333,-202.5 997.3333,-202.5 997.3333,-134.5 1089.3333,-134.5 1089.3333,-202.5\"/>\n",
       "<text text-anchor=\"start\" x=\"1016.3333\" y=\"-187.3\" font-family=\"Times,serif\" font-size=\"14.00\" fill=\"#000000\">x ≤ 0.694</text>\n",
       "<text text-anchor=\"start\" x=\"1015.3333\" y=\"-172.3\" font-family=\"Times,serif\" font-size=\"14.00\" fill=\"#000000\">mse = 0.0</text>\n",
       "<text text-anchor=\"start\" x=\"1009.8333\" y=\"-157.3\" font-family=\"Times,serif\" font-size=\"14.00\" fill=\"#000000\">samples = 2</text>\n",
       "<text text-anchor=\"start\" x=\"1005.3333\" y=\"-142.3\" font-family=\"Times,serif\" font-size=\"14.00\" fill=\"#000000\">value = 0.817</text>\n",
       "</g>\n",
       "<!-- 36&#45;&gt;38 -->\n",
       "<g id=\"edge38\" class=\"edge\">\n",
       "<title>36&#45;&gt;38</title>\n",
       "<path fill=\"none\" stroke=\"#000000\" d=\"M896.5616,-228.5775C923.9141,-217.3814 958.7426,-203.1252 987.6073,-191.3101\"/>\n",
       "<polygon fill=\"#000000\" stroke=\"#000000\" points=\"989.2193,-194.4322 997.1482,-187.4048 986.5676,-187.9539 989.2193,-194.4322\"/>\n",
       "</g>\n",
       "<!-- 39 -->\n",
       "<g id=\"node40\" class=\"node\">\n",
       "<title>39</title>\n",
       "<polygon fill=\"#e58139\" fill-opacity=\"0.862745\" stroke=\"#000000\" points=\"1283.3333,-231 1191.3333,-231 1191.3333,-178 1283.3333,-178 1283.3333,-231\"/>\n",
       "<text text-anchor=\"start\" x=\"1209.3333\" y=\"-215.8\" font-family=\"Times,serif\" font-size=\"14.00\" fill=\"#000000\">mse = 0.0</text>\n",
       "<text text-anchor=\"start\" x=\"1203.8333\" y=\"-200.8\" font-family=\"Times,serif\" font-size=\"14.00\" fill=\"#000000\">samples = 1</text>\n",
       "<text text-anchor=\"start\" x=\"1199.3333\" y=\"-185.8\" font-family=\"Times,serif\" font-size=\"14.00\" fill=\"#000000\">value = 0.798</text>\n",
       "</g>\n",
       "<!-- 38&#45;&gt;39 -->\n",
       "<g id=\"edge39\" class=\"edge\">\n",
       "<title>38&#45;&gt;39</title>\n",
       "<path fill=\"none\" stroke=\"#000000\" d=\"M1089.8012,-177.1229C1117.2761,-182.2213 1152.2553,-188.7123 1181.2576,-194.0942\"/>\n",
       "<polygon fill=\"#000000\" stroke=\"#000000\" points=\"1180.7739,-197.5641 1191.2447,-195.9475 1182.0511,-190.6816 1180.7739,-197.5641\"/>\n",
       "</g>\n",
       "<!-- 40 -->\n",
       "<g id=\"node41\" class=\"node\">\n",
       "<title>40</title>\n",
       "<polygon fill=\"#e58139\" fill-opacity=\"0.898039\" stroke=\"#000000\" points=\"1283.3333,-160 1191.3333,-160 1191.3333,-107 1283.3333,-107 1283.3333,-160\"/>\n",
       "<text text-anchor=\"start\" x=\"1209.3333\" y=\"-144.8\" font-family=\"Times,serif\" font-size=\"14.00\" fill=\"#000000\">mse = 0.0</text>\n",
       "<text text-anchor=\"start\" x=\"1203.8333\" y=\"-129.8\" font-family=\"Times,serif\" font-size=\"14.00\" fill=\"#000000\">samples = 1</text>\n",
       "<text text-anchor=\"start\" x=\"1199.3333\" y=\"-114.8\" font-family=\"Times,serif\" font-size=\"14.00\" fill=\"#000000\">value = 0.836</text>\n",
       "</g>\n",
       "<!-- 38&#45;&gt;40 -->\n",
       "<g id=\"edge40\" class=\"edge\">\n",
       "<title>38&#45;&gt;40</title>\n",
       "<path fill=\"none\" stroke=\"#000000\" d=\"M1089.8012,-160.1166C1117.2761,-155.1598 1152.2553,-148.8491 1181.2576,-143.6168\"/>\n",
       "<polygon fill=\"#000000\" stroke=\"#000000\" points=\"1182.025,-147.0349 1191.2447,-141.815 1180.7821,-140.1461 1182.025,-147.0349\"/>\n",
       "</g>\n",
       "<!-- 43 -->\n",
       "<g id=\"node44\" class=\"node\">\n",
       "<title>43</title>\n",
       "<polygon fill=\"#e58139\" fill-opacity=\"0.972549\" stroke=\"#000000\" points=\"896.3333,-124 804.3333,-124 804.3333,-71 896.3333,-71 896.3333,-124\"/>\n",
       "<text text-anchor=\"start\" x=\"822.3333\" y=\"-108.8\" font-family=\"Times,serif\" font-size=\"14.00\" fill=\"#000000\">mse = 0.0</text>\n",
       "<text text-anchor=\"start\" x=\"816.8333\" y=\"-93.8\" font-family=\"Times,serif\" font-size=\"14.00\" fill=\"#000000\">samples = 1</text>\n",
       "<text text-anchor=\"start\" x=\"812.3333\" y=\"-78.8\" font-family=\"Times,serif\" font-size=\"14.00\" fill=\"#000000\">value = 0.916</text>\n",
       "</g>\n",
       "<!-- 42&#45;&gt;43 -->\n",
       "<g id=\"edge43\" class=\"edge\">\n",
       "<title>42&#45;&gt;43</title>\n",
       "<path fill=\"none\" stroke=\"#000000\" d=\"M703.5616,-97.5C730.6763,-97.5 765.1375,-97.5 793.853,-97.5\"/>\n",
       "<polygon fill=\"#000000\" stroke=\"#000000\" points=\"794.1482,-101.0001 804.1482,-97.5 794.1481,-94.0001 794.1482,-101.0001\"/>\n",
       "</g>\n",
       "<!-- 44 -->\n",
       "<g id=\"node45\" class=\"node\">\n",
       "<title>44</title>\n",
       "<polygon fill=\"#e58139\" stroke=\"#000000\" points=\"896.3333,-53 804.3333,-53 804.3333,0 896.3333,0 896.3333,-53\"/>\n",
       "<text text-anchor=\"start\" x=\"819.8333\" y=\"-37.8\" font-family=\"Times,serif\" font-size=\"14.00\" fill=\"#000000\">mse = &#45;0.0</text>\n",
       "<text text-anchor=\"start\" x=\"816.8333\" y=\"-22.8\" font-family=\"Times,serif\" font-size=\"14.00\" fill=\"#000000\">samples = 1</text>\n",
       "<text text-anchor=\"start\" x=\"812.3333\" y=\"-7.8\" font-family=\"Times,serif\" font-size=\"14.00\" fill=\"#000000\">value = 0.944</text>\n",
       "</g>\n",
       "<!-- 42&#45;&gt;44 -->\n",
       "<g id=\"edge44\" class=\"edge\">\n",
       "<title>42&#45;&gt;44</title>\n",
       "<path fill=\"none\" stroke=\"#000000\" d=\"M703.5616,-80.4937C730.9141,-70.4314 765.7426,-57.6189 794.6073,-47.0002\"/>\n",
       "<polygon fill=\"#000000\" stroke=\"#000000\" points=\"795.9715,-50.2278 804.1482,-43.4904 793.5546,-43.6582 795.9715,-50.2278\"/>\n",
       "</g>\n",
       "</g>\n",
       "</svg>\n"
      ],
      "text/plain": [
       "<graphviz.files.Source at 0x7feef9d594e0>"
      ]
     },
     "metadata": {},
     "output_type": "display_data"
    }
   ],
   "source": [
    "draw_tree(m.estimators_[0], pd.DataFrame(x_trn,columns=['x']), precision=3, size=15)"
   ]
  },
  {
   "cell_type": "markdown",
   "metadata": {},
   "source": [
    "# Interactions"
   ]
  },
  {
   "cell_type": "code",
   "execution_count": null,
   "metadata": {},
   "outputs": [],
   "source": []
  }
 ],
 "metadata": {
  "kernelspec": {
   "display_name": "Python 3",
   "language": "python",
   "name": "python3"
  },
  "language_info": {
   "codemirror_mode": {
    "name": "ipython",
    "version": 3
   },
   "file_extension": ".py",
   "mimetype": "text/x-python",
   "name": "python",
   "nbconvert_exporter": "python",
   "pygments_lexer": "ipython3",
   "version": "3.6.4"
  }
 },
 "nbformat": 4,
 "nbformat_minor": 2
}
