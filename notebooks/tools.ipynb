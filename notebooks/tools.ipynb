{
 "cells": [
  {
   "cell_type": "markdown",
   "metadata": {},
   "source": [
    "# Imports and Paths"
   ]
  },
  {
   "cell_type": "code",
   "execution_count": 2,
   "metadata": {},
   "outputs": [],
   "source": [
    "import numpy as np\n",
    "import pandas as pd"
   ]
  },
  {
   "cell_type": "markdown",
   "metadata": {},
   "source": [
    "# Display tools"
   ]
  },
  {
   "cell_type": "markdown",
   "metadata": {},
   "source": [
    "## Pandas tables to markdown"
   ]
  },
  {
   "cell_type": "code",
   "execution_count": 7,
   "metadata": {},
   "outputs": [
    {
     "data": {
      "text/html": [
       "<div>\n",
       "<style scoped>\n",
       "    .dataframe tbody tr th:only-of-type {\n",
       "        vertical-align: middle;\n",
       "    }\n",
       "\n",
       "    .dataframe tbody tr th {\n",
       "        vertical-align: top;\n",
       "    }\n",
       "\n",
       "    .dataframe thead th {\n",
       "        text-align: right;\n",
       "    }\n",
       "</style>\n",
       "<table border=\"1\" class=\"dataframe\">\n",
       "  <thead>\n",
       "    <tr style=\"text-align: right;\">\n",
       "      <th></th>\n",
       "      <th>lion</th>\n",
       "      <th>tiger</th>\n",
       "      <th>bears</th>\n",
       "      <th>dogs</th>\n",
       "      <th>cats</th>\n",
       "    </tr>\n",
       "  </thead>\n",
       "  <tbody>\n",
       "    <tr>\n",
       "      <th>0</th>\n",
       "      <td>8</td>\n",
       "      <td>9</td>\n",
       "      <td>3</td>\n",
       "      <td>13</td>\n",
       "      <td>1</td>\n",
       "    </tr>\n",
       "    <tr>\n",
       "      <th>1</th>\n",
       "      <td>7</td>\n",
       "      <td>10</td>\n",
       "      <td>16</td>\n",
       "      <td>17</td>\n",
       "      <td>9</td>\n",
       "    </tr>\n",
       "    <tr>\n",
       "      <th>2</th>\n",
       "      <td>15</td>\n",
       "      <td>10</td>\n",
       "      <td>10</td>\n",
       "      <td>7</td>\n",
       "      <td>9</td>\n",
       "    </tr>\n",
       "    <tr>\n",
       "      <th>3</th>\n",
       "      <td>2</td>\n",
       "      <td>9</td>\n",
       "      <td>11</td>\n",
       "      <td>16</td>\n",
       "      <td>1</td>\n",
       "    </tr>\n",
       "    <tr>\n",
       "      <th>4</th>\n",
       "      <td>3</td>\n",
       "      <td>19</td>\n",
       "      <td>8</td>\n",
       "      <td>11</td>\n",
       "      <td>9</td>\n",
       "    </tr>\n",
       "    <tr>\n",
       "      <th>5</th>\n",
       "      <td>18</td>\n",
       "      <td>3</td>\n",
       "      <td>17</td>\n",
       "      <td>15</td>\n",
       "      <td>11</td>\n",
       "    </tr>\n",
       "    <tr>\n",
       "      <th>6</th>\n",
       "      <td>14</td>\n",
       "      <td>14</td>\n",
       "      <td>16</td>\n",
       "      <td>15</td>\n",
       "      <td>17</td>\n",
       "    </tr>\n",
       "    <tr>\n",
       "      <th>7</th>\n",
       "      <td>9</td>\n",
       "      <td>10</td>\n",
       "      <td>9</td>\n",
       "      <td>6</td>\n",
       "      <td>12</td>\n",
       "    </tr>\n",
       "    <tr>\n",
       "      <th>8</th>\n",
       "      <td>1</td>\n",
       "      <td>16</td>\n",
       "      <td>12</td>\n",
       "      <td>4</td>\n",
       "      <td>16</td>\n",
       "    </tr>\n",
       "    <tr>\n",
       "      <th>9</th>\n",
       "      <td>1</td>\n",
       "      <td>13</td>\n",
       "      <td>3</td>\n",
       "      <td>4</td>\n",
       "      <td>13</td>\n",
       "    </tr>\n",
       "  </tbody>\n",
       "</table>\n",
       "</div>"
      ],
      "text/plain": [
       "   lion  tiger  bears  dogs  cats\n",
       "0     8      9      3    13     1\n",
       "1     7     10     16    17     9\n",
       "2    15     10     10     7     9\n",
       "3     2      9     11    16     1\n",
       "4     3     19      8    11     9\n",
       "5    18      3     17    15    11\n",
       "6    14     14     16    15    17\n",
       "7     9     10      9     6    12\n",
       "8     1     16     12     4    16\n",
       "9     1     13      3     4    13"
      ]
     },
     "execution_count": 7,
     "metadata": {},
     "output_type": "execute_result"
    }
   ],
   "source": [
    "ray = np.random.randint(1,20,(10,5))\n",
    "cols = ['lion','tiger', 'bears', 'dogs','cats']\n",
    "df = pd.DataFrame(ray,columns = cols)\n",
    "df"
   ]
  },
  {
   "cell_type": "code",
   "execution_count": 8,
   "metadata": {},
   "outputs": [
    {
     "name": "stdout",
     "output_type": "stream",
     "text": [
      "|    |   lion |   tiger |   bears |   dogs |   cats |\n",
      "|---:|-------:|--------:|--------:|-------:|-------:|\n",
      "|  0 |      8 |       9 |       3 |     13 |      1 |\n",
      "|  1 |      7 |      10 |      16 |     17 |      9 |\n",
      "|  2 |     15 |      10 |      10 |      7 |      9 |\n",
      "|  3 |      2 |       9 |      11 |     16 |      1 |\n",
      "|  4 |      3 |      19 |       8 |     11 |      9 |\n",
      "|  5 |     18 |       3 |      17 |     15 |     11 |\n",
      "|  6 |     14 |      14 |      16 |     15 |     17 |\n",
      "|  7 |      9 |      10 |       9 |      6 |     12 |\n",
      "|  8 |      1 |      16 |      12 |      4 |     16 |\n",
      "|  9 |      1 |      13 |       3 |      4 |     13 |\n"
     ]
    }
   ],
   "source": [
    "from tabulate import tabulate\n",
    "print(tabulate(df, headers=df.columns,tablefmt=\"pipe\"))"
   ]
  },
  {
   "cell_type": "markdown",
   "metadata": {},
   "source": [
    "Here is the same dataframe, but now in a markdown cell\n",
    "\n",
    "|    |   lion |   tiger |   bears |   dogs |   cats |\n",
    "|---:|-------:|--------:|--------:|-------:|-------:|\n",
    "|  0 |      8 |       9 |       3 |     13 |      1 |\n",
    "|  1 |      7 |      10 |      16 |     17 |      9 |\n",
    "|  2 |     15 |      10 |      10 |      7 |      9 |\n",
    "|  3 |      2 |       9 |      11 |     16 |      1 |\n",
    "|  4 |      3 |      19 |       8 |     11 |      9 |\n",
    "|  5 |     18 |       3 |      17 |     15 |     11 |\n",
    "|  6 |     14 |      14 |      16 |     15 |     17 |\n",
    "|  7 |      9 |      10 |       9 |      6 |     12 |\n",
    "|  8 |      1 |      16 |      12 |      4 |     16 |\n",
    "|  9 |      1 |      13 |       3 |      4 |     13 |"
   ]
  },
  {
   "cell_type": "markdown",
   "metadata": {},
   "source": [
    "## Next tool"
   ]
  },
  {
   "cell_type": "markdown",
   "metadata": {},
   "source": [
    "# Next category"
   ]
  }
 ],
 "metadata": {
  "kernelspec": {
   "display_name": "Python 3",
   "language": "python",
   "name": "python3"
  },
  "language_info": {
   "codemirror_mode": {
    "name": "ipython",
    "version": 3
   },
   "file_extension": ".py",
   "mimetype": "text/x-python",
   "name": "python",
   "nbconvert_exporter": "python",
   "pygments_lexer": "ipython3",
   "version": "3.6.4"
  }
 },
 "nbformat": 4,
 "nbformat_minor": 2
}
